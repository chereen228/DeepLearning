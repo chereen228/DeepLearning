{
 "cells": [
  {
   "cell_type": "markdown",
   "metadata": {},
   "source": [
    "# 계층적 군집분석\n",
    "- 여러개의 군집 중에서 가장 유사도가 높은, 혹은 거리가 가까운 군집 두 개를 선택하여 하나로 합치면서 군집 개수를 줄여 가는 방법을 말한다. **합체 군집화(agglomerative clustering)**라고도 한다. 가장 처음에는 모든 군집이 하나의 데이터만을 가진다. 따라서 최초에는 데이터 개수만큼 군집이 존재하지만 군집을 합치면서 최종적으로 하나의 군집만 남게 된다."
   ]
  },
  {
   "cell_type": "code",
   "execution_count": 1,
   "metadata": {},
   "outputs": [],
   "source": [
    "import pandas as pd\n",
    "import numpy as np"
   ]
  },
  {
   "cell_type": "code",
   "execution_count": 2,
   "metadata": {},
   "outputs": [],
   "source": [
    "import matplotlib as mpl \n",
    "import matplotlib.pyplot as plt \n",
    "%matplotlib inline\n",
    "# 한글폰트 사용\n",
    "mpl.rc('font', family='Malgun Gothic')\n",
    "mpl.rc('axes', unicode_minus=False)"
   ]
  },
  {
   "cell_type": "code",
   "execution_count": 4,
   "metadata": {},
   "outputs": [
    {
     "name": "stdout",
     "output_type": "stream",
     "text": [
      "<class 'pandas.core.frame.DataFrame'>\n",
      "RangeIndex: 18 entries, 0 to 17\n",
      "Data columns (total 11 columns):\n",
      " #   Column           Non-Null Count  Dtype  \n",
      "---  ------           --------------  -----  \n",
      " 0   소계               18 non-null     object \n",
      " 1   year             18 non-null     int64  \n",
      " 2   silver_hall      18 non-null     int64  \n",
      " 3   welfare_facil_w  18 non-null     float64\n",
      " 4   popu65           18 non-null     object \n",
      " 5   jobforpay        18 non-null     int64  \n",
      " 6   ratio_old        18 non-null     float64\n",
      " 7   stress           18 non-null     float64\n",
      " 8   melancholy       18 non-null     float64\n",
      " 9   poor_60          18 non-null     float64\n",
      " 10  infra            18 non-null     object \n",
      "dtypes: float64(5), int64(3), object(3)\n",
      "memory usage: 1.7+ KB\n"
     ]
    }
   ],
   "source": [
    "df = pd.read_csv('clustering/2022.csv')\n",
    "df.info()"
   ]
  },
  {
   "cell_type": "code",
   "execution_count": 5,
   "metadata": {},
   "outputs": [
    {
     "data": {
      "text/html": [
       "<div>\n",
       "<style scoped>\n",
       "    .dataframe tbody tr th:only-of-type {\n",
       "        vertical-align: middle;\n",
       "    }\n",
       "\n",
       "    .dataframe tbody tr th {\n",
       "        vertical-align: top;\n",
       "    }\n",
       "\n",
       "    .dataframe thead th {\n",
       "        text-align: right;\n",
       "    }\n",
       "</style>\n",
       "<table border=\"1\" class=\"dataframe\">\n",
       "  <thead>\n",
       "    <tr style=\"text-align: right;\">\n",
       "      <th></th>\n",
       "      <th>silver_hall</th>\n",
       "      <th>welfare_facil_w</th>\n",
       "      <th>jobforpay</th>\n",
       "      <th>ratio_old</th>\n",
       "      <th>stress</th>\n",
       "      <th>melancholy</th>\n",
       "      <th>poor_60</th>\n",
       "      <th>infra</th>\n",
       "    </tr>\n",
       "  </thead>\n",
       "  <tbody>\n",
       "    <tr>\n",
       "      <th>0</th>\n",
       "      <td>18</td>\n",
       "      <td>0.874751</td>\n",
       "      <td>23823</td>\n",
       "      <td>18.2</td>\n",
       "      <td>19.6</td>\n",
       "      <td>5.6</td>\n",
       "      <td>30851.0</td>\n",
       "      <td>573</td>\n",
       "    </tr>\n",
       "    <tr>\n",
       "      <th>1</th>\n",
       "      <td>4</td>\n",
       "      <td>0.980119</td>\n",
       "      <td>10201</td>\n",
       "      <td>21.6</td>\n",
       "      <td>19.7</td>\n",
       "      <td>12.0</td>\n",
       "      <td>13210.5</td>\n",
       "      <td>194</td>\n",
       "    </tr>\n",
       "    <tr>\n",
       "      <th>2</th>\n",
       "      <td>7</td>\n",
       "      <td>0.974155</td>\n",
       "      <td>9844</td>\n",
       "      <td>23.7</td>\n",
       "      <td>4.4</td>\n",
       "      <td>7.1</td>\n",
       "      <td>12748.5</td>\n",
       "      <td>162</td>\n",
       "    </tr>\n",
       "    <tr>\n",
       "      <th>3</th>\n",
       "      <td>3</td>\n",
       "      <td>0.787276</td>\n",
       "      <td>25277</td>\n",
       "      <td>12.4</td>\n",
       "      <td>22.8</td>\n",
       "      <td>14.3</td>\n",
       "      <td>32733.5</td>\n",
       "      <td>592</td>\n",
       "    </tr>\n",
       "    <tr>\n",
       "      <th>4</th>\n",
       "      <td>2</td>\n",
       "      <td>0.970179</td>\n",
       "      <td>11961</td>\n",
       "      <td>30.7</td>\n",
       "      <td>14.3</td>\n",
       "      <td>11.6</td>\n",
       "      <td>15490.0</td>\n",
       "      <td>139</td>\n",
       "    </tr>\n",
       "    <tr>\n",
       "      <th>5</th>\n",
       "      <td>7</td>\n",
       "      <td>0.988072</td>\n",
       "      <td>11180</td>\n",
       "      <td>12.1</td>\n",
       "      <td>7.0</td>\n",
       "      <td>9.0</td>\n",
       "      <td>14477.5</td>\n",
       "      <td>247</td>\n",
       "    </tr>\n",
       "    <tr>\n",
       "      <th>6</th>\n",
       "      <td>8</td>\n",
       "      <td>0.880716</td>\n",
       "      <td>20070</td>\n",
       "      <td>15.0</td>\n",
       "      <td>5.0</td>\n",
       "      <td>8.8</td>\n",
       "      <td>25990.0</td>\n",
       "      <td>508</td>\n",
       "    </tr>\n",
       "    <tr>\n",
       "      <th>7</th>\n",
       "      <td>39</td>\n",
       "      <td>0.705765</td>\n",
       "      <td>61995</td>\n",
       "      <td>16.3</td>\n",
       "      <td>18.8</td>\n",
       "      <td>5.7</td>\n",
       "      <td>80283.0</td>\n",
       "      <td>1,429</td>\n",
       "    </tr>\n",
       "    <tr>\n",
       "      <th>8</th>\n",
       "      <td>0</td>\n",
       "      <td>1.000000</td>\n",
       "      <td>3893</td>\n",
       "      <td>38.2</td>\n",
       "      <td>14.9</td>\n",
       "      <td>8.9</td>\n",
       "      <td>5041.5</td>\n",
       "      <td>49</td>\n",
       "    </tr>\n",
       "    <tr>\n",
       "      <th>9</th>\n",
       "      <td>1</td>\n",
       "      <td>1.000000</td>\n",
       "      <td>6468</td>\n",
       "      <td>27.2</td>\n",
       "      <td>15.2</td>\n",
       "      <td>2.2</td>\n",
       "      <td>8375.5</td>\n",
       "      <td>73</td>\n",
       "    </tr>\n",
       "    <tr>\n",
       "      <th>10</th>\n",
       "      <td>2</td>\n",
       "      <td>0.980119</td>\n",
       "      <td>7563</td>\n",
       "      <td>33.1</td>\n",
       "      <td>1.3</td>\n",
       "      <td>1.0</td>\n",
       "      <td>9794.5</td>\n",
       "      <td>108</td>\n",
       "    </tr>\n",
       "    <tr>\n",
       "      <th>11</th>\n",
       "      <td>4</td>\n",
       "      <td>0.992048</td>\n",
       "      <td>6376</td>\n",
       "      <td>33.6</td>\n",
       "      <td>10.3</td>\n",
       "      <td>3.7</td>\n",
       "      <td>8257.5</td>\n",
       "      <td>71</td>\n",
       "    </tr>\n",
       "    <tr>\n",
       "      <th>12</th>\n",
       "      <td>15</td>\n",
       "      <td>0.994036</td>\n",
       "      <td>6362</td>\n",
       "      <td>38.9</td>\n",
       "      <td>9.4</td>\n",
       "      <td>2.0</td>\n",
       "      <td>8239.0</td>\n",
       "      <td>73</td>\n",
       "    </tr>\n",
       "    <tr>\n",
       "      <th>13</th>\n",
       "      <td>4</td>\n",
       "      <td>0.952286</td>\n",
       "      <td>6114</td>\n",
       "      <td>36.9</td>\n",
       "      <td>10.2</td>\n",
       "      <td>1.7</td>\n",
       "      <td>7917.0</td>\n",
       "      <td>80</td>\n",
       "    </tr>\n",
       "    <tr>\n",
       "      <th>14</th>\n",
       "      <td>3</td>\n",
       "      <td>1.000000</td>\n",
       "      <td>5092</td>\n",
       "      <td>38.8</td>\n",
       "      <td>5.4</td>\n",
       "      <td>5.1</td>\n",
       "      <td>6594.5</td>\n",
       "      <td>81</td>\n",
       "    </tr>\n",
       "    <tr>\n",
       "      <th>15</th>\n",
       "      <td>5</td>\n",
       "      <td>0.986083</td>\n",
       "      <td>5236</td>\n",
       "      <td>35.0</td>\n",
       "      <td>22.1</td>\n",
       "      <td>5.9</td>\n",
       "      <td>6780.5</td>\n",
       "      <td>70</td>\n",
       "    </tr>\n",
       "    <tr>\n",
       "      <th>16</th>\n",
       "      <td>2</td>\n",
       "      <td>0.950298</td>\n",
       "      <td>6756</td>\n",
       "      <td>29.0</td>\n",
       "      <td>12.0</td>\n",
       "      <td>2.6</td>\n",
       "      <td>8749.0</td>\n",
       "      <td>99</td>\n",
       "    </tr>\n",
       "    <tr>\n",
       "      <th>17</th>\n",
       "      <td>1</td>\n",
       "      <td>0.984095</td>\n",
       "      <td>6781</td>\n",
       "      <td>41.5</td>\n",
       "      <td>12.4</td>\n",
       "      <td>1.0</td>\n",
       "      <td>8781.0</td>\n",
       "      <td>76</td>\n",
       "    </tr>\n",
       "  </tbody>\n",
       "</table>\n",
       "</div>"
      ],
      "text/plain": [
       "    silver_hall  welfare_facil_w  jobforpay  ratio_old  stress  melancholy  \\\n",
       "0            18         0.874751      23823       18.2    19.6         5.6   \n",
       "1             4         0.980119      10201       21.6    19.7        12.0   \n",
       "2             7         0.974155       9844       23.7     4.4         7.1   \n",
       "3             3         0.787276      25277       12.4    22.8        14.3   \n",
       "4             2         0.970179      11961       30.7    14.3        11.6   \n",
       "5             7         0.988072      11180       12.1     7.0         9.0   \n",
       "6             8         0.880716      20070       15.0     5.0         8.8   \n",
       "7            39         0.705765      61995       16.3    18.8         5.7   \n",
       "8             0         1.000000       3893       38.2    14.9         8.9   \n",
       "9             1         1.000000       6468       27.2    15.2         2.2   \n",
       "10            2         0.980119       7563       33.1     1.3         1.0   \n",
       "11            4         0.992048       6376       33.6    10.3         3.7   \n",
       "12           15         0.994036       6362       38.9     9.4         2.0   \n",
       "13            4         0.952286       6114       36.9    10.2         1.7   \n",
       "14            3         1.000000       5092       38.8     5.4         5.1   \n",
       "15            5         0.986083       5236       35.0    22.1         5.9   \n",
       "16            2         0.950298       6756       29.0    12.0         2.6   \n",
       "17            1         0.984095       6781       41.5    12.4         1.0   \n",
       "\n",
       "    poor_60  infra  \n",
       "0   30851.0    573  \n",
       "1   13210.5    194  \n",
       "2   12748.5    162  \n",
       "3   32733.5    592  \n",
       "4   15490.0    139  \n",
       "5   14477.5    247  \n",
       "6   25990.0    508  \n",
       "7   80283.0  1,429  \n",
       "8    5041.5     49  \n",
       "9    8375.5     73  \n",
       "10   9794.5    108  \n",
       "11   8257.5     71  \n",
       "12   8239.0     73  \n",
       "13   7917.0     80  \n",
       "14   6594.5     81  \n",
       "15   6780.5     70  \n",
       "16   8749.0     99  \n",
       "17   8781.0     76  "
      ]
     },
     "execution_count": 5,
     "metadata": {},
     "output_type": "execute_result"
    }
   ],
   "source": [
    "df = df[['silver_hall', 'welfare_facil_w', 'jobforpay', 'ratio_old', 'stress', 'melancholy', 'poor_60', 'infra']]\n",
    "df"
   ]
  },
  {
   "cell_type": "code",
   "execution_count": 6,
   "metadata": {},
   "outputs": [],
   "source": [
    "df[\"infra\"]=pd.to_numeric(df[\"infra\"].str.replace(\",\",\"\"))"
   ]
  },
  {
   "cell_type": "code",
   "execution_count": 8,
   "metadata": {},
   "outputs": [],
   "source": [
    "# 정규화\n",
    "from sklearn.preprocessing import StandardScaler\n",
    "scaler = StandardScaler()\n",
    "df_std = scaler.fit_transform(df)"
   ]
  },
  {
   "cell_type": "code",
   "execution_count": 9,
   "metadata": {},
   "outputs": [],
   "source": [
    "from sklearn.decomposition import PCA\n",
    "\n",
    "pca = PCA(n_components=2)"
   ]
  },
  {
   "cell_type": "code",
   "execution_count": 10,
   "metadata": {},
   "outputs": [
    {
     "data": {
      "text/plain": [
       "array([[ 2.40114631, -0.0623077 ],\n",
       "       [ 0.09843101,  2.00416235],\n",
       "       [-0.54540576, -0.05494213],\n",
       "       [ 3.00436357,  2.52968584],\n",
       "       [-0.36114663,  1.32437587]])"
      ]
     },
     "execution_count": 10,
     "metadata": {},
     "output_type": "execute_result"
    }
   ],
   "source": [
    "df_pca = pca.fit_transform(df_std)\n",
    "df_pca[:5]"
   ]
  },
  {
   "cell_type": "code",
   "execution_count": 11,
   "metadata": {},
   "outputs": [
    {
     "data": {
      "text/plain": [
       "array([0.6664236 , 0.17202122])"
      ]
     },
     "execution_count": 11,
     "metadata": {},
     "output_type": "execute_result"
    }
   ],
   "source": [
    "pca.explained_variance_ratio_"
   ]
  },
  {
   "cell_type": "code",
   "execution_count": 12,
   "metadata": {},
   "outputs": [
    {
     "data": {
      "text/html": [
       "<div>\n",
       "<style scoped>\n",
       "    .dataframe tbody tr th:only-of-type {\n",
       "        vertical-align: middle;\n",
       "    }\n",
       "\n",
       "    .dataframe tbody tr th {\n",
       "        vertical-align: top;\n",
       "    }\n",
       "\n",
       "    .dataframe thead th {\n",
       "        text-align: right;\n",
       "    }\n",
       "</style>\n",
       "<table border=\"1\" class=\"dataframe\">\n",
       "  <thead>\n",
       "    <tr style=\"text-align: right;\">\n",
       "      <th></th>\n",
       "      <th>PC1</th>\n",
       "      <th>PC2</th>\n",
       "    </tr>\n",
       "  </thead>\n",
       "  <tbody>\n",
       "    <tr>\n",
       "      <th>0</th>\n",
       "      <td>2.401146</td>\n",
       "      <td>-0.062308</td>\n",
       "    </tr>\n",
       "    <tr>\n",
       "      <th>1</th>\n",
       "      <td>0.098431</td>\n",
       "      <td>2.004162</td>\n",
       "    </tr>\n",
       "    <tr>\n",
       "      <th>2</th>\n",
       "      <td>-0.545406</td>\n",
       "      <td>-0.054942</td>\n",
       "    </tr>\n",
       "    <tr>\n",
       "      <th>3</th>\n",
       "      <td>3.004364</td>\n",
       "      <td>2.529686</td>\n",
       "    </tr>\n",
       "    <tr>\n",
       "      <th>4</th>\n",
       "      <td>-0.361147</td>\n",
       "      <td>1.324376</td>\n",
       "    </tr>\n",
       "  </tbody>\n",
       "</table>\n",
       "</div>"
      ],
      "text/plain": [
       "        PC1       PC2\n",
       "0  2.401146 -0.062308\n",
       "1  0.098431  2.004162\n",
       "2 -0.545406 -0.054942\n",
       "3  3.004364  2.529686\n",
       "4 -0.361147  1.324376"
      ]
     },
     "execution_count": 12,
     "metadata": {},
     "output_type": "execute_result"
    }
   ],
   "source": [
    "df2 = pd.DataFrame(df_pca, columns=['PC1', 'PC2'])\n",
    "df2.head()"
   ]
  },
  {
   "cell_type": "code",
   "execution_count": 13,
   "metadata": {},
   "outputs": [
    {
     "data": {
      "image/png": "[encoded data removed]",
      "text/plain": [
       "<Figure size 720x504 with 1 Axes>"
      ]
     },
     "metadata": {
      "needs_background": "light"
     },
     "output_type": "display_data"
    }
   ],
   "source": [
    "plt.figure(figsize=(10, 7))\n",
    "plt.subplots_adjust(bottom=0.1)\n",
    "plt.scatter(df2.iloc[:,0], df2.iloc[:,1])\n",
    "\n",
    "plt.show()"
   ]
  },
  {
   "cell_type": "code",
   "execution_count": 15,
   "metadata": {},
   "outputs": [
    {
     "data": {
      "text/plain": [
       "array([[ 9.        , 16.        ,  0.33236417,  2.        ],\n",
       "       [13.        , 17.        ,  0.35738895,  2.        ],\n",
       "       [11.        , 18.        ,  0.4067581 ,  3.        ],\n",
       "       [10.        , 12.        ,  0.42658917,  2.        ],\n",
       "       [14.        , 19.        ,  0.49878934,  3.        ],\n",
       "       [ 8.        , 15.        ,  0.62998421,  2.        ],\n",
       "       [ 4.        ,  5.        ,  0.67763752,  2.        ],\n",
       "       [ 2.        , 20.        ,  0.85339034,  4.        ],\n",
       "       [21.        , 22.        ,  0.98531649,  5.        ],\n",
       "       [ 0.        ,  6.        ,  1.01112637,  2.        ],\n",
       "       [ 1.        , 24.        ,  1.1013333 ,  3.        ],\n",
       "       [23.        , 25.        ,  1.63118376,  6.        ],\n",
       "       [26.        , 29.        ,  2.96832842, 11.        ],\n",
       "       [ 3.        , 27.        ,  3.08594162,  3.        ],\n",
       "       [28.        , 31.        ,  4.12787617,  6.        ],\n",
       "       [30.        , 32.        ,  8.06700553, 17.        ],\n",
       "       [ 7.        , 33.        , 11.52113172, 18.        ]])"
      ]
     },
     "execution_count": 15,
     "metadata": {},
     "output_type": "execute_result"
    }
   ],
   "source": [
    "from scipy.cluster.hierarchy import linkage, dendrogram\n",
    "\n",
    "Z = linkage(df2, 'ward')\n",
    "Z"
   ]
  },
  {
   "cell_type": "code",
   "execution_count": 16,
   "metadata": {},
   "outputs": [
    {
     "data": {
      "image/png": "[encoded data removed]",
      "text/plain": [
       "<Figure size 720x288 with 1 Axes>"
      ]
     },
     "metadata": {
      "needs_background": "light"
     },
     "output_type": "display_data"
    }
   ],
   "source": [
    "from matplotlib.offsetbox import OffsetImage, AnnotationBbox\n",
    "\n",
    "plt.figure(figsize=(10, 4))\n",
    "ax = plt.subplot()\n",
    "\n",
    "ddata = dendrogram(Z)\n",
    "\n",
    "dcoord = np.array(ddata[\"dcoord\"])\n",
    "icoord = np.array(ddata[\"icoord\"])\n",
    "leaves = np.array(ddata[\"leaves\"])\n",
    "idx = np.argsort(dcoord[:, 2])\n",
    "dcoord = dcoord[idx, :]\n",
    "icoord = icoord[idx, :]\n",
    "idx = np.argsort(Z[:, :2].ravel())\n",
    "label_pos = icoord[:, 1:3].ravel()[idx][:20]\n",
    "\n",
    "plt.show()"
   ]
  },
  {
   "cell_type": "code",
   "execution_count": null,
   "metadata": {},
   "outputs": [],
   "source": [
    "# Cluster 1 : 10, 12, 14, 13, 17    => 창녕군, 남해군, 산청군, 하동군, 합천군\n",
    "# Cluster 2 : 8, 15, 2, 11, 9, 16   => 의령군, 함양군, 사천시, 고성군, 함안군, 거창군\n",
    "# Cluster 3 : 1, 4, 5, 3, 0, 6      => 통영시, 밀양시, 거제시, 김해시, 진주시, 양산시"
   ]
  },
  {
   "cell_type": "code",
   "execution_count": null,
   "metadata": {},
   "outputs": [],
   "source": [
    "# Cluster 1 : 10, 12, 14, 13, 17,  8, 15, 2, 11, 9, 16    => 창녕군, 남해군, 산청군, 하동군, 합천군, 의령군, 함양군, 사천시, 고성군, 함안군, 거창군\n",
    "# Cluster 2 : 1, 4, 5, 3, 0, 6      => 통영시, 밀양시, 거제시, 김해시, 진주시, 양산시\n",
    "# Cluster 3 : 7     => 창원시"
   ]
  }
 ],
 "metadata": {
  "interpreter": {
   "hash": "8c1eae21719a0790335dcb83aad72b63b602cfe5cdb2bda0f60bc11d4f154e4b"
  },
  "kernelspec": {
   "display_name": "Python 3.8.5 64-bit ('base': conda)",
   "name": "python3"
  },
  "language_info": {
   "codemirror_mode": {
    "name": "ipython",
    "version": 3
   },
   "file_extension": ".py",
   "mimetype": "text/x-python",
   "name": "python",
   "nbconvert_exporter": "python",
   "pygments_lexer": "ipython3",
   "version": "3.8.5"
  },
  "orig_nbformat": 4
 },
 "nbformat": 4,
 "nbformat_minor": 2
}
