{
  "nbformat": 4,
  "nbformat_minor": 0,
  "metadata": {
    "colab": {
      "name": "MNIST_CNN.ipynb",
      "provenance": [],
      "collapsed_sections": []
    },
    "kernelspec": {
      "name": "python3",
      "display_name": "Python 3"
    },
    "language_info": {
      "name": "python"
    },
    "accelerator": "GPU"
  },
  "cells": [
    {
      "cell_type": "markdown",
      "metadata": {
        "id": "_GLVnmiJnpmu"
      },
      "source": [
        "# MNIST 손글씨 - CNN 2\n",
        "- 2 Conv2D layers\n",
        "- 1 MaxPooling2D layer\n",
        "- 1 Fully Connected Network layer\n",
        "- 1 Output layer"
      ]
    },
    {
      "cell_type": "code",
      "metadata": {
        "id": "yBlc0IyAnszT"
      },
      "source": [
        "import numpy as np \n",
        "import tensorflow as tf\n",
        "seed = 2021\n",
        "np.random.seed(seed)\n",
        "tf.random.set_seed(seed)"
      ],
      "execution_count": 1,
      "outputs": []
    },
    {
      "cell_type": "markdown",
      "metadata": {
        "id": "J_wBX4b3n-Ap"
      },
      "source": [
        "### 데이터 전처리"
      ]
    },
    {
      "cell_type": "code",
      "metadata": {
        "colab": {
          "base_uri": "https://localhost:8080/"
        },
        "id": "WUSC0Ananxyo",
        "outputId": "f5c34b9b-33fa-4a2e-c81d-467c1c1ad196"
      },
      "source": [
        "from tensorflow.keras.datasets import mnist\n",
        "(X_train, y_train), (X_test, y_test) = mnist.load_data()"
      ],
      "execution_count": 2,
      "outputs": [
        {
          "output_type": "stream",
          "text": [
            "Downloading data from https://storage.googleapis.com/tensorflow/tf-keras-datasets/mnist.npz\n",
            "11493376/11490434 [==============================] - 0s 0us/step\n"
          ],
          "name": "stdout"
        }
      ]
    },
    {
      "cell_type": "code",
      "metadata": {
        "id": "c-bg9chmn3nB"
      },
      "source": [
        "# 0 ~ 1 사이의 값으로 정규화\n",
        "X_train = X_train / 255.0\n",
        "X_test = X_test / 255.0"
      ],
      "execution_count": 3,
      "outputs": []
    },
    {
      "cell_type": "code",
      "metadata": {
        "colab": {
          "base_uri": "https://localhost:8080/"
        },
        "id": "hlWrgSb5n5lq",
        "outputId": "1f209018-08bb-4c46-aa3d-adcfa6243a3e"
      },
      "source": [
        "# 3차원 데이터를 4차원으로 (데이터는 2차원을 3차원으로)\n",
        "X_train = X_train.reshape(-1, 28, 28, 1)\n",
        "X_test = X_test.reshape(-1, 28, 28, 1)\n",
        "X_train.shape, X_test.shape"
      ],
      "execution_count": 4,
      "outputs": [
        {
          "output_type": "execute_result",
          "data": {
            "text/plain": [
              "((60000, 28, 28, 1), (10000, 28, 28, 1))"
            ]
          },
          "metadata": {
            "tags": []
          },
          "execution_count": 4
        }
      ]
    },
    {
      "cell_type": "code",
      "metadata": {
        "id": "0n0ILh0Rn7qz"
      },
      "source": [
        "# One hot encoding\n",
        "from tensorflow.keras.utils import to_categorical\n",
        "Y_train = to_categorical(y_train)\n",
        "Y_test = to_categorical(y_test)"
      ],
      "execution_count": 5,
      "outputs": []
    },
    {
      "cell_type": "markdown",
      "metadata": {
        "id": "xE8k-2r1oHgn"
      },
      "source": [
        "### 모델 정의, 설정, 학습, 평가"
      ]
    },
    {
      "cell_type": "code",
      "metadata": {
        "id": "TuZVHYcloDZU"
      },
      "source": [
        "from tensorflow.keras.models import Sequential\n",
        "from tensorflow.keras.layers import Dense, Conv2D, Flatten,  MaxPooling2D\n",
        "from tensorflow.keras.callbacks import ModelCheckpoint, EarlyStopping"
      ],
      "execution_count": 7,
      "outputs": []
    },
    {
      "cell_type": "code",
      "metadata": {
        "colab": {
          "base_uri": "https://localhost:8080/"
        },
        "id": "n8EvCfGBoGOr",
        "outputId": "2dc79617-cf05-43a8-ed04-3f53fd6861a6"
      },
      "source": [
        "model = Sequential([\n",
        "    Conv2D(32, (3,3), input_shape=(28,28,1), activation='relu'),\n",
        "    Conv2D(64, (3,3), activation='relu'),\n",
        "    MaxPooling2D(pool_size=2),\n",
        "    Flatten(),                              # n차원을 1차원으로 변환\n",
        "    Dense(512, activation='relu'),\n",
        "    Dense(10, activation='softmax')\n",
        "])\n",
        "model.summary()"
      ],
      "execution_count": 8,
      "outputs": [
        {
          "output_type": "stream",
          "text": [
            "Model: \"sequential\"\n",
            "_________________________________________________________________\n",
            "Layer (type)                 Output Shape              Param #   \n",
            "=================================================================\n",
            "conv2d (Conv2D)              (None, 26, 26, 32)        320       \n",
            "_________________________________________________________________\n",
            "conv2d_1 (Conv2D)            (None, 24, 24, 64)        18496     \n",
            "_________________________________________________________________\n",
            "max_pooling2d (MaxPooling2D) (None, 12, 12, 64)        0         \n",
            "_________________________________________________________________\n",
            "flatten (Flatten)            (None, 9216)              0         \n",
            "_________________________________________________________________\n",
            "dense (Dense)                (None, 512)               4719104   \n",
            "_________________________________________________________________\n",
            "dense_1 (Dense)              (None, 10)                5130      \n",
            "=================================================================\n",
            "Total params: 4,743,050\n",
            "Trainable params: 4,743,050\n",
            "Non-trainable params: 0\n",
            "_________________________________________________________________\n"
          ],
          "name": "stdout"
        }
      ]
    },
    {
      "cell_type": "code",
      "metadata": {
        "id": "eiCjTiHaoIJ4"
      },
      "source": [
        "model.compile(\n",
        "    optimizer='adam', loss='categorical_crossentropy', metrics=['accuracy']\n",
        ")"
      ],
      "execution_count": 9,
      "outputs": []
    },
    {
      "cell_type": "code",
      "metadata": {
        "id": "NHwx3nTaoSem"
      },
      "source": [
        "# 모델 최적화를 위한 설정\n",
        "modelpath = 'best_mnist_cnn_2.h5'\n",
        "checkpoint = ModelCheckpoint(modelpath, verbose=1, save_best_only=True)\n",
        "early_stopping = EarlyStopping(patience=10)"
      ],
      "execution_count": 10,
      "outputs": []
    },
    {
      "cell_type": "code",
      "metadata": {
        "colab": {
          "base_uri": "https://localhost:8080/"
        },
        "id": "hmjZ4yZcoYBd",
        "outputId": "72579acb-f177-4dbe-bb0c-57f4ee7ac7e2"
      },
      "source": [
        "# 모델 학습\n",
        "history = model.fit(\n",
        "    X_train, Y_train, validation_split=0.2,\n",
        "    epochs=50, batch_size=200, verbose=0,\n",
        "    callbacks=[checkpoint, early_stopping]\n",
        ")"
      ],
      "execution_count": 12,
      "outputs": [
        {
          "output_type": "stream",
          "text": [
            "\n",
            "Epoch 00001: val_loss did not improve from 0.03972\n",
            "\n",
            "Epoch 00002: val_loss did not improve from 0.03972\n",
            "\n",
            "Epoch 00003: val_loss did not improve from 0.03972\n",
            "\n",
            "Epoch 00004: val_loss did not improve from 0.03972\n",
            "\n",
            "Epoch 00005: val_loss did not improve from 0.03972\n",
            "\n",
            "Epoch 00006: val_loss did not improve from 0.03972\n",
            "\n",
            "Epoch 00007: val_loss did not improve from 0.03972\n",
            "\n",
            "Epoch 00008: val_loss did not improve from 0.03972\n",
            "\n",
            "Epoch 00009: val_loss did not improve from 0.03972\n",
            "\n",
            "Epoch 00010: val_loss did not improve from 0.03972\n",
            "\n",
            "Epoch 00011: val_loss did not improve from 0.03972\n",
            "\n",
            "Epoch 00012: val_loss did not improve from 0.03972\n"
          ],
          "name": "stdout"
        }
      ]
    },
    {
      "cell_type": "code",
      "metadata": {
        "id": "9_zW_tusoaTn",
        "colab": {
          "base_uri": "https://localhost:8080/"
        },
        "outputId": "d81b2688-f6aa-4b09-a2f7-869fd736e0b8"
      },
      "source": [
        "from tensorflow.keras.models import load_model\n",
        "best_model = load_model(modelpath)\n",
        "best_model.evaluate(X_test, Y_test)"
      ],
      "execution_count": 13,
      "outputs": [
        {
          "output_type": "stream",
          "text": [
            "313/313 [==============================] - 1s 3ms/step - loss: 0.0385 - accuracy: 0.9876\n"
          ],
          "name": "stdout"
        },
        {
          "output_type": "execute_result",
          "data": {
            "text/plain": [
              "[0.03850199654698372, 0.9876000285148621]"
            ]
          },
          "metadata": {
            "tags": []
          },
          "execution_count": 13
        }
      ]
    }
  ]
}