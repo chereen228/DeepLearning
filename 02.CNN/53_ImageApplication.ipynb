{
 "metadata": {
  "language_info": {
   "codemirror_mode": {
    "name": "ipython",
    "version": 3
   },
   "file_extension": ".py",
   "mimetype": "text/x-python",
   "name": "python",
   "nbconvert_exporter": "python",
   "pygments_lexer": "ipython3",
   "version": "3.8.5"
  },
  "orig_nbformat": 4,
  "kernelspec": {
   "name": "python3",
   "display_name": "Python 3.8.5 64-bit ('base': conda)"
  },
  "interpreter": {
   "hash": "8c1eae21719a0790335dcb83aad72b63b602cfe5cdb2bda0f60bc11d4f154e4b"
  }
 },
 "nbformat": 4,
 "nbformat_minor": 2,
 "cells": [
  {
   "source": [
    "# Keras Application 응용\n",
    "- VGG16 / VGG19 / ResNet50 / ResNet 101 각각 예측결과 데이터프레임"
   ],
   "cell_type": "markdown",
   "metadata": {}
  },
  {
   "cell_type": "code",
   "execution_count": 4,
   "metadata": {},
   "outputs": [
    {
     "output_type": "execute_result",
     "data": {
      "text/plain": [
       "['animals\\\\bear.jpg',\n",
       " 'animals\\\\dolphin.jpg',\n",
       " 'animals\\\\eagle.jpg',\n",
       " 'animals\\\\giraffe.jpg',\n",
       " 'animals\\\\lion.jpg',\n",
       " 'animals\\\\owl.jpg',\n",
       " 'animals\\\\panda.jpg',\n",
       " 'animals\\\\penguin.jpg',\n",
       " 'animals\\\\swan.jpg',\n",
       " 'animals\\\\wolf.jpeg']"
      ]
     },
     "metadata": {},
     "execution_count": 4
    }
   ],
   "source": [
    "from glob import glob \n",
    "glob('animals/*')"
   ]
  },
  {
   "cell_type": "code",
   "execution_count": 6,
   "metadata": {},
   "outputs": [
    {
     "output_type": "stream",
     "name": "stdout",
     "text": [
      "['bear', 'dolphin', 'eagle', 'giraffe', 'lion', 'owl', 'panda', 'penguin', 'swan', 'wolf']\n"
     ]
    }
   ],
   "source": [
    "name_list = []\n",
    "for file in glob('animals/*'):\n",
    "    name = file.split('\\\\')[1]\n",
    "    name = name.split('.')[0]\n",
    "    name_list.append(name)\n",
    "print(name_list)"
   ]
  },
  {
   "cell_type": "code",
   "execution_count": 7,
   "metadata": {},
   "outputs": [],
   "source": [
    "from tensorflow.keras.applications.vgg16 import VGG16, decode_predictions\n",
    "import numpy as np\n",
    "from PIL import Image"
   ]
  },
  {
   "source": [
    "### VGG16"
   ],
   "cell_type": "markdown",
   "metadata": {}
  },
  {
   "cell_type": "code",
   "execution_count": 9,
   "metadata": {},
   "outputs": [
    {
     "output_type": "stream",
     "name": "stdout",
     "text": [
      "['brown_bear', 'conch', 'bald_eagle', 'hook', 'lion', 'great_grey_owl', 'giant_panda', 'king_penguin', 'American_egret', 'timber_wolf']\n"
     ]
    }
   ],
   "source": [
    "vgg16 = VGG16()\n",
    "vgg16_list = []\n",
    "\n",
    "for file in glob('animals/*'):\n",
    "    img = np.array(Image.open(file).resize((224,224)))\n",
    "    yhat = vgg16.predict(img.reshape(-1, 224, 224, 3))\n",
    "    label = decode_predictions(yhat)\n",
    "    vgg16_list.append(label[0][0][1])\n",
    "print(vgg16_list)"
   ]
  },
  {
   "source": [
    "VGG19"
   ],
   "cell_type": "markdown",
   "metadata": {}
  },
  {
   "cell_type": "code",
   "execution_count": 11,
   "metadata": {},
   "outputs": [
    {
     "output_type": "stream",
     "name": "stdout",
     "text": [
      "Downloading data from https://storage.googleapis.com/tensorflow/keras-applications/vgg19/vgg19_weights_tf_dim_ordering_tf_kernels.h5\n",
      "574717952/574710816 [==============================] - 145s 0us/step\n"
     ]
    }
   ],
   "source": [
    "from tensorflow.keras.applications.vgg19 import VGG19, decode_predictions\n",
    "import cv2\n",
    "vgg19 = VGG19()"
   ]
  },
  {
   "cell_type": "code",
   "execution_count": 12,
   "metadata": {},
   "outputs": [
    {
     "output_type": "stream",
     "name": "stdout",
     "text": [
      "['wombat', 'grey_whale', 'kite', 'ibex', 'lion', 'great_grey_owl', 'giant_panda', 'king_penguin', 'American_egret', 'timber_wolf']\n"
     ]
    }
   ],
   "source": [
    "vgg19 = VGG19()\n",
    "vgg19_list = []\n",
    "\n",
    "for file in glob('animals/*'):\n",
    "    img = cv2.imread(file)\n",
    "    img = cv2.resize(img, (224,224))\n",
    "    img = cv2.cvtColor(img, cv2.COLOR_BGR2RGB)\n",
    "\n",
    "    yhat = vgg19.predict(img.reshape(-1, 224, 224, 3))\n",
    "    label = decode_predictions(yhat)\n",
    "    vgg19_list.append(label[0][0][1])\n",
    "print(vgg19_list)"
   ]
  },
  {
   "source": [
    "### ResNet50"
   ],
   "cell_type": "markdown",
   "metadata": {}
  },
  {
   "cell_type": "code",
   "execution_count": 13,
   "metadata": {},
   "outputs": [],
   "source": [
    "from tensorflow.keras.applications.resnet50 import ResNet50, decode_predictions\n",
    "resnet50 = ResNet50()"
   ]
  },
  {
   "cell_type": "code",
   "execution_count": 14,
   "metadata": {},
   "outputs": [
    {
     "output_type": "stream",
     "name": "stdout",
     "text": [
      "['brown_bear', 'piggy_bank', 'vulture', 'electric_guitar', 'lion', 'jay', 'giant_panda', 'king_penguin', 'American_egret', 'timber_wolf']\n"
     ]
    }
   ],
   "source": [
    "resnet50_list = []\n",
    "\n",
    "for file in glob('animals/*'):\n",
    "    img = np.array(Image.open(file).resize((224,224)))\n",
    "    yhat = resnet50.predict(img.reshape(-1, 224, 224, 3))\n",
    "    label = decode_predictions(yhat)\n",
    "    resnet50_list.append(label[0][0][1])\n",
    "print(resnet50_list)"
   ]
  },
  {
   "cell_type": "code",
   "execution_count": 16,
   "metadata": {},
   "outputs": [
    {
     "output_type": "stream",
     "name": "stdout",
     "text": [
      "Downloading data from https://storage.googleapis.com/tensorflow/keras-applications/resnet/resnet101_weights_tf_dim_ordering_tf_kernels.h5\n",
      "179650560/179648224 [==============================] - 17s 0us/step\n"
     ]
    }
   ],
   "source": [
    "from tensorflow.keras.applications.resnet import ResNet101\n",
    "resnet101 = ResNet101()"
   ]
  },
  {
   "cell_type": "code",
   "execution_count": 18,
   "metadata": {},
   "outputs": [
    {
     "output_type": "stream",
     "name": "stdout",
     "text": [
      "['brown_bear', 'killer_whale', 'kite', 'gazelle', 'tiger', 'jay', 'giant_panda', 'king_penguin', 'American_egret', 'timber_wolf']\n"
     ]
    }
   ],
   "source": [
    "resnet101_list = []\n",
    "\n",
    "for file in glob('animals/*'):\n",
    "    img = np.array(Image.open(file).resize((224,224)))\n",
    "    yhat = resnet101.predict(img.reshape(-1, 224, 224, 3))\n",
    "    label = decode_predictions(yhat)\n",
    "    resnet101_list.append(label[0][0][1])\n",
    "print(resnet101_list)"
   ]
  },
  {
   "source": [
    "### 데이터 프레임으로 합치기"
   ],
   "cell_type": "markdown",
   "metadata": {}
  },
  {
   "cell_type": "code",
   "execution_count": 19,
   "metadata": {},
   "outputs": [
    {
     "output_type": "execute_result",
     "data": {
      "text/plain": [
       "  Original           VGG16           VGG19         ResNet50       ResNet101\n",
       "0     bear      brown_bear          wombat       brown_bear      brown_bear\n",
       "1  dolphin           conch      grey_whale       piggy_bank    killer_whale\n",
       "2    eagle      bald_eagle            kite          vulture            kite\n",
       "3  giraffe            hook            ibex  electric_guitar         gazelle\n",
       "4     lion            lion            lion             lion           tiger\n",
       "5      owl  great_grey_owl  great_grey_owl              jay             jay\n",
       "6    panda     giant_panda     giant_panda      giant_panda     giant_panda\n",
       "7  penguin    king_penguin    king_penguin     king_penguin    king_penguin\n",
       "8     swan  American_egret  American_egret   American_egret  American_egret\n",
       "9     wolf     timber_wolf     timber_wolf      timber_wolf     timber_wolf"
      ],
      "text/html": "<div>\n<style scoped>\n    .dataframe tbody tr th:only-of-type {\n        vertical-align: middle;\n    }\n\n    .dataframe tbody tr th {\n        vertical-align: top;\n    }\n\n    .dataframe thead th {\n        text-align: right;\n    }\n</style>\n<table border=\"1\" class=\"dataframe\">\n  <thead>\n    <tr style=\"text-align: right;\">\n      <th></th>\n      <th>Original</th>\n      <th>VGG16</th>\n      <th>VGG19</th>\n      <th>ResNet50</th>\n      <th>ResNet101</th>\n    </tr>\n  </thead>\n  <tbody>\n    <tr>\n      <th>0</th>\n      <td>bear</td>\n      <td>brown_bear</td>\n      <td>wombat</td>\n      <td>brown_bear</td>\n      <td>brown_bear</td>\n    </tr>\n    <tr>\n      <th>1</th>\n      <td>dolphin</td>\n      <td>conch</td>\n      <td>grey_whale</td>\n      <td>piggy_bank</td>\n      <td>killer_whale</td>\n    </tr>\n    <tr>\n      <th>2</th>\n      <td>eagle</td>\n      <td>bald_eagle</td>\n      <td>kite</td>\n      <td>vulture</td>\n      <td>kite</td>\n    </tr>\n    <tr>\n      <th>3</th>\n      <td>giraffe</td>\n      <td>hook</td>\n      <td>ibex</td>\n      <td>electric_guitar</td>\n      <td>gazelle</td>\n    </tr>\n    <tr>\n      <th>4</th>\n      <td>lion</td>\n      <td>lion</td>\n      <td>lion</td>\n      <td>lion</td>\n      <td>tiger</td>\n    </tr>\n    <tr>\n      <th>5</th>\n      <td>owl</td>\n      <td>great_grey_owl</td>\n      <td>great_grey_owl</td>\n      <td>jay</td>\n      <td>jay</td>\n    </tr>\n    <tr>\n      <th>6</th>\n      <td>panda</td>\n      <td>giant_panda</td>\n      <td>giant_panda</td>\n      <td>giant_panda</td>\n      <td>giant_panda</td>\n    </tr>\n    <tr>\n      <th>7</th>\n      <td>penguin</td>\n      <td>king_penguin</td>\n      <td>king_penguin</td>\n      <td>king_penguin</td>\n      <td>king_penguin</td>\n    </tr>\n    <tr>\n      <th>8</th>\n      <td>swan</td>\n      <td>American_egret</td>\n      <td>American_egret</td>\n      <td>American_egret</td>\n      <td>American_egret</td>\n    </tr>\n    <tr>\n      <th>9</th>\n      <td>wolf</td>\n      <td>timber_wolf</td>\n      <td>timber_wolf</td>\n      <td>timber_wolf</td>\n      <td>timber_wolf</td>\n    </tr>\n  </tbody>\n</table>\n</div>"
     },
     "metadata": {},
     "execution_count": 19
    }
   ],
   "source": [
    "import pandas as pd \n",
    "df = pd.DataFrame({\n",
    "    'Original': name_list, 'VGG16': vgg16_list, 'VGG19': vgg19_list,\n",
    "    'ResNet50': resnet50_list, 'ResNet101': resnet101_list\n",
    "})\n",
    "df"
   ]
  },
  {
   "cell_type": "code",
   "execution_count": null,
   "metadata": {},
   "outputs": [],
   "source": []
  }
 ]
}