{
 "metadata": {
  "language_info": {
   "codemirror_mode": {
    "name": "ipython",
    "version": 3
   },
   "file_extension": ".py",
   "mimetype": "text/x-python",
   "name": "python",
   "nbconvert_exporter": "python",
   "pygments_lexer": "ipython3",
   "version": "3.8.5"
  },
  "orig_nbformat": 4,
  "kernelspec": {
   "name": "python3",
   "display_name": "Python 3.8.5 64-bit ('base': conda)"
  },
  "interpreter": {
   "hash": "8c1eae21719a0790335dcb83aad72b63b602cfe5cdb2bda0f60bc11d4f154e4b"
  }
 },
 "nbformat": 4,
 "nbformat_minor": 2,
 "cells": [
  {
   "cell_type": "code",
   "execution_count": 35,
   "metadata": {},
   "outputs": [],
   "source": [
    "from selenium import webdriver\n",
    "import requests\n",
    "from bs4 import BeautifulSoup\n",
    "from selenium.webdriver import ActionChains as ac\n",
    "import pandas as pd\n",
    "import numpy as np\n",
    "import time\n",
    "from selenium.webdriver.support.select import Select"
   ]
  },
  {
   "cell_type": "code",
   "execution_count": 36,
   "metadata": {},
   "outputs": [],
   "source": [
    "# 크롬드라이버\n",
    "path = 'C:/Temp/chromedriver.exe'\n",
    "driver = webdriver.Chrome(path)\n",
    "\n",
    "# 페이지 로딩 대기 5초\n",
    "driver.implicitly_wait(5)\n",
    "\n",
    "# 페이지 가져오기 & 파싱(검색 결과 페이지)\n",
    "driver.get('https://www.agoda.com/ko-kr/search?city=14690&checkIn=2021-07-09&los=1&rooms=1&adults=2&children=0&cid=1891463&locale=ko-kr&ckuid=85bd8e58-3e28-4b77-bbc9-220d4005678d&prid=0&gclid=CjwKCAjw55-HBhAHEiwARMCszoroLzDr2KNPxdOrRpG1jrDfw5qtnBEBQsQazkpq_cwGrMbw21GpUxoCPqkQAvD_BwE&currency=KRW&correlationId=f0e93994-ed03-4bd2-b473-efa117224d6b&pageTypeId=1&realLanguageId=9&languageId=9&origin=KR&tag=45b17d1d-e0b0-fe2a-ce90-5513829d856b&userId=85bd8e58-3e28-4b77-bbc9-220d4005678d&whitelabelid=1&loginLvl=0&storefrontId=3&currencyId=26&currencyCode=KRW&htmlLanguage=ko-kr&cultureInfoName=ko-kr&machineName=hk-crweb-2008&trafficGroupId=5&sessionId=drvvmjtwdjm2hkf3yrxzom51&trafficSubGroupId=122&aid=82361&useFullPageLogin=true&cttp=4&isRealUser=true&mode=production&checkOut=2021-07-10&priceCur=KRW&textToSearch=%EC%84%9C%EC%9A%B8&travellerType=1&familyMode=off&hotelAccom=34&productType=-1')"
   ]
  },
  {
   "cell_type": "code",
   "execution_count": 4,
   "metadata": {
    "tags": [
     "outputPrepend"
    ]
   },
   "outputs": [
    {
     "output_type": "stream",
     "name": "stdout",
     "text": [
      "eoul-kr.html?finalPriceView=1&isShowMobileAppPrice=false&cid=1891463&numberOfBedrooms=&familyMode=false&adults=2&children=0&rooms=1&maxRooms=0&checkIn=2021-07-9&isCalendarCallout=false&childAges=&numberOfGuest=0&missingChildAges=false&travellerType=1&showReviewSubmissionEntry=false&currencyCode=KRW&isFreeOccSearch=false&tag=45b17d1d-e0b0-fe2a-ce90-5513829d856b&los=1&searchrequestid=e4d4ca91-8528-45aa-b061-362d355362a1', 'https://www.agoda.com/ko-kr/hotel-skypark-kingstown-dongdaemun/hotel/seoul-kr.html?finalPriceView=1&isShowMobileAppPrice=false&cid=1891463&numberOfBedrooms=&familyMode=false&adults=2&children=0&rooms=1&maxRooms=0&checkIn=2021-07-9&isCalendarCallout=false&childAges=&numberOfGuest=0&missingChildAges=false&travellerType=1&showReviewSubmissionEntry=false&currencyCode=KRW&isFreeOccSearch=false&tag=45b17d1d-e0b0-fe2a-ce90-5513829d856b&tspTypes=2&los=1&searchrequestid=e4d4ca91-8528-45aa-b061-362d355362a1', 'https://www.agoda.com/ko-kr/novotel-ambassador-seoul-yongsan/hotel/seoul-kr.html?finalPriceView=1&isShowMobileAppPrice=false&cid=1891463&numberOfBedrooms=&familyMode=false&adults=2&children=0&rooms=1&maxRooms=0&checkIn=2021-07-9&isCalendarCallout=false&childAges=&numberOfGuest=0&missingChildAges=false&travellerType=1&showReviewSubmissionEntry=false&currencyCode=KRW&isFreeOccSearch=false&tag=45b17d1d-e0b0-fe2a-ce90-5513829d856b&los=1&searchrequestid=e4d4ca91-8528-45aa-b061-362d355362a1', 'https://www.agoda.com/ko-kr/mercure-ambassador-seoul-gangnam-sodowe/hotel/seoul-kr.html?finalPriceView=1&isShowMobileAppPrice=false&cid=1891463&numberOfBedrooms=&familyMode=false&adults=2&children=0&rooms=1&maxRooms=0&checkIn=2021-07-9&isCalendarCallout=false&childAges=&numberOfGuest=0&missingChildAges=false&travellerType=1&showReviewSubmissionEntry=false&currencyCode=KRW&isFreeOccSearch=false&tag=45b17d1d-e0b0-fe2a-ce90-5513829d856b&los=1&searchrequestid=e4d4ca91-8528-45aa-b061-362d355362a1', 'https://www.agoda.com/ko-kr/ocloud-hotel-gangnam/hotel/seoul-kr.html?finalPriceView=1&isShowMobileAppPrice=false&cid=1891463&numberOfBedrooms=&familyMode=false&adults=2&children=0&rooms=1&maxRooms=0&checkIn=2021-07-9&isCalendarCallout=false&childAges=&numberOfGuest=0&missingChildAges=false&travellerType=1&showReviewSubmissionEntry=false&currencyCode=KRW&isFreeOccSearch=false&tag=45b17d1d-e0b0-fe2a-ce90-5513829d856b&tspTypes=2&los=1&searchrequestid=e4d4ca91-8528-45aa-b061-362d355362a1', 'https://www.agoda.com/ko-kr/Agoda-Secret-Deals/south-korea/seoul/3e97a37.secret?finalPriceView=1&isShowMobileAppPrice=false&cid=1891463&numberOfBedrooms=&familyMode=false&adults=2&children=0&rooms=1&maxRooms=0&checkIn=2021-07-9&isCalendarCallout=false&childAges=&numberOfGuest=0&missingChildAges=false&travellerType=1&showReviewSubmissionEntry=false&currencyCode=KRW&isFreeOccSearch=false&tag=45b17d1d-e0b0-fe2a-ce90-5513829d856b&los=1&searchrequestid=e4d4ca91-8528-45aa-b061-362d355362a1', 'https://www.agoda.com/ko-kr/lotte-city-hotel-myeongdong/hotel/seoul-kr.html?finalPriceView=1&isShowMobileAppPrice=false&cid=1891463&numberOfBedrooms=&familyMode=false&adults=2&children=0&rooms=1&maxRooms=0&checkIn=2021-07-9&isCalendarCallout=false&childAges=&numberOfGuest=0&missingChildAges=false&travellerType=1&showReviewSubmissionEntry=false&currencyCode=KRW&isFreeOccSearch=false&tag=45b17d1d-e0b0-fe2a-ce90-5513829d856b&los=1&searchrequestid=e4d4ca91-8528-45aa-b061-362d355362a1', 'https://www.agoda.com/ko-kr/hotel-aventree-jongno/hotel/seoul-kr.html?finalPriceView=1&isShowMobileAppPrice=false&cid=1891463&numberOfBedrooms=&familyMode=false&adults=2&children=0&rooms=1&maxRooms=0&checkIn=2021-07-9&isCalendarCallout=false&childAges=&numberOfGuest=0&missingChildAges=false&travellerType=1&showReviewSubmissionEntry=false&currencyCode=KRW&isFreeOccSearch=false&tag=45b17d1d-e0b0-fe2a-ce90-5513829d856b&tspTypes=6&los=1&searchrequestid=e4d4ca91-8528-45aa-b061-362d355362a1', 'https://www.agoda.com/ko-kr/nine-tree-hotel-myeong-dong/hotel/seoul-kr.html?finalPriceView=1&isShowMobileAppPrice=false&cid=1891463&numberOfBedrooms=&familyMode=false&adults=2&children=0&rooms=1&maxRooms=0&checkIn=2021-07-9&isCalendarCallout=false&childAges=&numberOfGuest=0&missingChildAges=false&travellerType=1&showReviewSubmissionEntry=false&currencyCode=KRW&isFreeOccSearch=false&tag=45b17d1d-e0b0-fe2a-ce90-5513829d856b&tspTypes=3&los=1&searchrequestid=e4d4ca91-8528-45aa-b061-362d355362a1', 'https://www.agoda.com/ko-kr/shilla-stay-guro/hotel/seoul-kr.html?finalPriceView=1&isShowMobileAppPrice=false&cid=1891463&numberOfBedrooms=&familyMode=false&adults=2&children=0&rooms=1&maxRooms=0&checkIn=2021-07-9&isCalendarCallout=false&childAges=&numberOfGuest=0&missingChildAges=false&travellerType=1&showReviewSubmissionEntry=false&currencyCode=KRW&isFreeOccSearch=false&tag=45b17d1d-e0b0-fe2a-ce90-5513829d856b&tspTypes=9&los=1&searchrequestid=e4d4ca91-8528-45aa-b061-362d355362a1', 'https://www.agoda.com/ko-kr/luce-bridge-hotel/hotel/seoul-kr.html?finalPriceView=1&isShowMobileAppPrice=false&cid=1891463&numberOfBedrooms=&familyMode=false&adults=2&children=0&rooms=1&maxRooms=0&checkIn=2021-07-9&isCalendarCallout=false&childAges=&numberOfGuest=0&missingChildAges=false&travellerType=1&showReviewSubmissionEntry=false&currencyCode=KRW&isFreeOccSearch=false&tag=45b17d1d-e0b0-fe2a-ce90-5513829d856b&tspTypes=9&los=1&searchrequestid=e4d4ca91-8528-45aa-b061-362d355362a1', 'https://www.agoda.com/ko-kr/millennium-seoul-hilton-hotel/hotel/seoul-kr.html?finalPriceView=1&isShowMobileAppPrice=false&cid=1891463&numberOfBedrooms=&familyMode=false&adults=2&children=0&rooms=1&maxRooms=0&checkIn=2021-07-9&isCalendarCallout=false&childAges=&numberOfGuest=0&missingChildAges=false&travellerType=1&showReviewSubmissionEntry=false&currencyCode=KRW&isFreeOccSearch=false&tag=45b17d1d-e0b0-fe2a-ce90-5513829d856b&tspTypes=15&los=1&searchrequestid=e4d4ca91-8528-45aa-b061-362d355362a1', 'https://www.agoda.com/ko-kr/conrad-seoul_14/hotel/seoul-kr.html?finalPriceView=1&isShowMobileAppPrice=false&cid=1891463&numberOfBedrooms=&familyMode=false&adults=2&children=0&rooms=1&maxRooms=0&checkIn=2021-07-9&isCalendarCallout=false&childAges=&numberOfGuest=0&missingChildAges=false&travellerType=1&showReviewSubmissionEntry=false&currencyCode=KRW&isFreeOccSearch=false&tag=45b17d1d-e0b0-fe2a-ce90-5513829d856b&los=1&searchrequestid=e4d4ca91-8528-45aa-b061-362d355362a1', 'https://www.agoda.com/ko-kr/boree-hotel-gangnam/hotel/seoul-kr.html?finalPriceView=1&isShowMobileAppPrice=false&cid=1891463&numberOfBedrooms=&familyMode=false&adults=2&children=0&rooms=1&maxRooms=0&checkIn=2021-07-9&isCalendarCallout=false&childAges=&numberOfGuest=0&missingChildAges=false&travellerType=1&showReviewSubmissionEntry=false&currencyCode=KRW&isFreeOccSearch=false&tag=45b17d1d-e0b0-fe2a-ce90-5513829d856b&los=1&searchrequestid=e4d4ca91-8528-45aa-b061-362d355362a1', 'https://www.agoda.com/ko-kr/lotte-city-hotel-guro/hotel/seoul-kr.html?finalPriceView=1&isShowMobileAppPrice=false&cid=1891463&numberOfBedrooms=&familyMode=false&adults=2&children=0&rooms=1&maxRooms=0&checkIn=2021-07-9&isCalendarCallout=false&childAges=&numberOfGuest=0&missingChildAges=false&travellerType=1&showReviewSubmissionEntry=false&currencyCode=KRW&isFreeOccSearch=false&tag=45b17d1d-e0b0-fe2a-ce90-5513829d856b&los=1&searchrequestid=e4d4ca91-8528-45aa-b061-362d355362a1', 'https://www.agoda.com/ko-kr/riviera-hotel/hotel/seoul-kr.html?finalPriceView=1&isShowMobileAppPrice=false&cid=1891463&numberOfBedrooms=&familyMode=false&adults=2&children=0&rooms=1&maxRooms=0&checkIn=2021-07-9&isCalendarCallout=false&childAges=&numberOfGuest=0&missingChildAges=false&travellerType=1&showReviewSubmissionEntry=false&currencyCode=KRW&isFreeOccSearch=false&tag=45b17d1d-e0b0-fe2a-ce90-5513829d856b&tspTypes=9&los=1&searchrequestid=e4d4ca91-8528-45aa-b061-362d355362a1', 'https://www.agoda.com/ko-kr/best-western-arirang-hill-dongdaemun/hotel/seoul-kr.html?finalPriceView=1&isShowMobileAppPrice=false&cid=1891463&numberOfBedrooms=&familyMode=false&adults=2&children=0&rooms=1&maxRooms=0&checkIn=2021-07-9&isCalendarCallout=false&childAges=&numberOfGuest=0&missingChildAges=false&travellerType=1&showReviewSubmissionEntry=false&currencyCode=KRW&isFreeOccSearch=false&tag=45b17d1d-e0b0-fe2a-ce90-5513829d856b&los=1&searchrequestid=e4d4ca91-8528-45aa-b061-362d355362a1', 'https://www.agoda.com/ko-kr/orakai-cheonggyesan-hotel_2/hotel/seoul-kr.html?finalPriceView=1&isShowMobileAppPrice=false&cid=1891463&numberOfBedrooms=&familyMode=false&adults=2&children=0&rooms=1&maxRooms=0&checkIn=2021-07-9&isCalendarCallout=false&childAges=&numberOfGuest=0&missingChildAges=false&travellerType=1&showReviewSubmissionEntry=false&currencyCode=KRW&isFreeOccSearch=false&tag=45b17d1d-e0b0-fe2a-ce90-5513829d856b&los=1&searchrequestid=e4d4ca91-8528-45aa-b061-362d355362a1', 'https://www.agoda.com/ko-kr/intercontinental-seoul-coex/hotel/seoul-kr.html?finalPriceView=1&isShowMobileAppPrice=false&cid=1891463&numberOfBedrooms=&familyMode=false&adults=2&children=0&rooms=1&maxRooms=0&checkIn=2021-07-9&isCalendarCallout=false&childAges=&numberOfGuest=0&missingChildAges=false&travellerType=1&showReviewSubmissionEntry=false&currencyCode=KRW&isFreeOccSearch=false&tag=45b17d1d-e0b0-fe2a-ce90-5513829d856b&tspTypes=5,-1&los=1&searchrequestid=e4d4ca91-8528-45aa-b061-362d355362a1', 'https://www.agoda.com/ko-kr/tmark-grand-hotel-myeongdong/hotel/seoul-kr.html?finalPriceView=1&isShowMobileAppPrice=false&cid=1891463&numberOfBedrooms=&familyMode=false&adults=2&children=0&rooms=1&maxRooms=0&checkIn=2021-07-9&isCalendarCallout=false&childAges=&numberOfGuest=0&missingChildAges=false&travellerType=1&showReviewSubmissionEntry=false&currencyCode=KRW&isFreeOccSearch=false&tag=45b17d1d-e0b0-fe2a-ce90-5513829d856b&tspTypes=9&los=1&searchrequestid=e4d4ca91-8528-45aa-b061-362d355362a1', 'https://www.agoda.com/ko-kr/hotel-gracery-seoul/hotel/seoul-kr.html?finalPriceView=1&isShowMobileAppPrice=false&cid=1891463&numberOfBedrooms=&familyMode=false&adults=2&children=0&rooms=1&maxRooms=0&checkIn=2021-07-9&isCalendarCallout=false&childAges=&numberOfGuest=0&missingChildAges=false&travellerType=1&showReviewSubmissionEntry=false&currencyCode=KRW&isFreeOccSearch=false&tag=45b17d1d-e0b0-fe2a-ce90-5513829d856b&tspTypes=9&los=1&searchrequestid=e4d4ca91-8528-45aa-b061-362d355362a1', 'https://www.agoda.com/ko-kr/ena-suite-hotel-namdaemun/hotel/seoul-kr.html?finalPriceView=1&isShowMobileAppPrice=false&cid=1891463&numberOfBedrooms=&familyMode=false&adults=2&children=0&rooms=1&maxRooms=0&checkIn=2021-07-9&isCalendarCallout=false&childAges=&numberOfGuest=0&missingChildAges=false&travellerType=1&showReviewSubmissionEntry=false&currencyCode=KRW&isFreeOccSearch=false&tag=45b17d1d-e0b0-fe2a-ce90-5513829d856b&los=1&searchrequestid=e4d4ca91-8528-45aa-b061-362d355362a1', 'https://www.agoda.com/ko-kr/itaewon-crown-hotel/hotel/seoul-kr.html?finalPriceView=1&isShowMobileAppPrice=false&cid=1891463&numberOfBedrooms=&familyMode=false&adults=2&children=0&rooms=1&maxRooms=0&checkIn=2021-07-9&isCalendarCallout=false&childAges=&numberOfGuest=0&missingChildAges=false&travellerType=1&showReviewSubmissionEntry=false&currencyCode=KRW&isFreeOccSearch=false&tag=45b17d1d-e0b0-fe2a-ce90-5513829d856b&tspTypes=9&los=1&searchrequestid=e4d4ca91-8528-45aa-b061-362d355362a1', 'https://www.agoda.com/ko-kr/hotel-the-designers-yeouido/hotel/seoul-kr.html?finalPriceView=1&isShowMobileAppPrice=false&cid=1891463&numberOfBedrooms=&familyMode=false&adults=2&children=0&rooms=1&maxRooms=0&checkIn=2021-07-9&isCalendarCallout=false&childAges=&numberOfGuest=0&missingChildAges=false&travellerType=1&showReviewSubmissionEntry=false&currencyCode=KRW&isFreeOccSearch=false&tag=45b17d1d-e0b0-fe2a-ce90-5513829d856b&los=1&searchrequestid=e4d4ca91-8528-45aa-b061-362d355362a1', 'https://www.agoda.com/ko-kr/hotel-the-designers-seoul-station_3/hotel/seoul-kr.html?finalPriceView=1&isShowMobileAppPrice=false&cid=1891463&numberOfBedrooms=&familyMode=false&adults=2&children=0&rooms=1&maxRooms=0&checkIn=2021-07-9&isCalendarCallout=false&childAges=&numberOfGuest=0&missingChildAges=false&travellerType=1&showReviewSubmissionEntry=false&currencyCode=KRW&isFreeOccSearch=false&tag=45b17d1d-e0b0-fe2a-ce90-5513829d856b&los=1&searchrequestid=e4d4ca91-8528-45aa-b061-362d355362a1', 'https://www.agoda.com/ko-kr/stay-hotel-gangnam/hotel/seoul-kr.html?finalPriceView=1&isShowMobileAppPrice=false&cid=1891463&numberOfBedrooms=&familyMode=false&adults=2&children=0&rooms=1&maxRooms=0&checkIn=2021-07-9&isCalendarCallout=false&childAges=&numberOfGuest=0&missingChildAges=false&travellerType=1&showReviewSubmissionEntry=false&currencyCode=KRW&isFreeOccSearch=false&tag=45b17d1d-e0b0-fe2a-ce90-5513829d856b&los=1&searchrequestid=e4d4ca91-8528-45aa-b061-362d355362a1', 'https://www.agoda.com/ko-kr/mercure-ambassador-seoul-hongdae/hotel/seoul-kr.html?finalPriceView=1&isShowMobileAppPrice=false&cid=1891463&numberOfBedrooms=&familyMode=false&adults=2&children=0&rooms=1&maxRooms=0&checkIn=2021-07-9&isCalendarCallout=false&childAges=&numberOfGuest=0&missingChildAges=false&travellerType=1&showReviewSubmissionEntry=false&currencyCode=KRW&isFreeOccSearch=false&tag=45b17d1d-e0b0-fe2a-ce90-5513829d856b&los=1&searchrequestid=e4d4ca91-8528-45aa-b061-362d355362a1', 'https://www.agoda.com/ko-kr/hotel-in-9-gangnam/hotel/seoul-kr.html?finalPriceView=1&isShowMobileAppPrice=false&cid=1891463&numberOfBedrooms=&familyMode=false&adults=2&children=0&rooms=1&maxRooms=0&checkIn=2021-07-9&isCalendarCallout=false&childAges=&numberOfGuest=0&missingChildAges=false&travellerType=1&showReviewSubmissionEntry=false&currencyCode=KRW&isFreeOccSearch=false&tag=45b17d1d-e0b0-fe2a-ce90-5513829d856b&los=1&searchrequestid=e4d4ca91-8528-45aa-b061-362d355362a1', 'https://www.agoda.com/ko-kr/fairfield-by-marriott-seoul/hotel/seoul-kr.html?finalPriceView=1&isShowMobileAppPrice=false&cid=1891463&numberOfBedrooms=&familyMode=false&adults=2&children=0&rooms=1&maxRooms=0&checkIn=2021-07-9&isCalendarCallout=false&childAges=&numberOfGuest=0&missingChildAges=false&travellerType=1&showReviewSubmissionEntry=false&currencyCode=KRW&isFreeOccSearch=false&tag=45b17d1d-e0b0-fe2a-ce90-5513829d856b&tspTypes=9&los=1&searchrequestid=e4d4ca91-8528-45aa-b061-362d355362a1', 'https://www.agoda.com/ko-kr/glad-hotel-yeouido-seoul-design-hotels/hotel/seoul-kr.html?finalPriceView=1&isShowMobileAppPrice=false&cid=1891463&numberOfBedrooms=&familyMode=false&adults=2&children=0&rooms=1&maxRooms=0&checkIn=2021-07-9&isCalendarCallout=false&childAges=&numberOfGuest=0&missingChildAges=false&travellerType=1&showReviewSubmissionEntry=false&currencyCode=KRW&isFreeOccSearch=false&tag=45b17d1d-e0b0-fe2a-ce90-5513829d856b&los=1&searchrequestid=e4d4ca91-8528-45aa-b061-362d355362a1', 'https://www.agoda.com/ko-kr/grand-walkerhill-seoul/hotel/seoul-kr.html?finalPriceView=1&isShowMobileAppPrice=false&cid=1891463&numberOfBedrooms=&familyMode=false&adults=2&children=0&rooms=1&maxRooms=0&checkIn=2021-07-9&isCalendarCallout=false&childAges=&numberOfGuest=0&missingChildAges=false&travellerType=1&showReviewSubmissionEntry=false&currencyCode=KRW&isFreeOccSearch=false&tag=45b17d1d-e0b0-fe2a-ce90-5513829d856b&los=1&searchrequestid=e4d4ca91-8528-45aa-b061-362d355362a1', 'https://www.agoda.com/ko-kr/urban-place-residence-gangnam/hotel/seoul-kr.html?finalPriceView=1&isShowMobileAppPrice=false&cid=1891463&numberOfBedrooms=&familyMode=false&adults=2&children=0&rooms=1&maxRooms=0&checkIn=2021-07-9&isCalendarCallout=false&childAges=&numberOfGuest=0&missingChildAges=false&travellerType=1&showReviewSubmissionEntry=false&currencyCode=KRW&isFreeOccSearch=false&tag=45b17d1d-e0b0-fe2a-ce90-5513829d856b&los=1&searchrequestid=e4d4ca91-8528-45aa-b061-362d355362a1', 'https://www.agoda.com/ko-kr/glue-hotel/hotel/seoul-kr.html?finalPriceView=1&isShowMobileAppPrice=false&cid=1891463&numberOfBedrooms=&familyMode=false&adults=2&children=0&rooms=1&maxRooms=0&checkIn=2021-07-9&isCalendarCallout=false&childAges=&numberOfGuest=0&missingChildAges=false&travellerType=1&showReviewSubmissionEntry=false&currencyCode=KRW&isFreeOccSearch=false&tag=45b17d1d-e0b0-fe2a-ce90-5513829d856b&los=1&searchrequestid=e4d4ca91-8528-45aa-b061-362d355362a1', 'https://www.agoda.com/ko-kr/lotte-city-hotel-mapo/hotel/seoul-kr.html?finalPriceView=1&isShowMobileAppPrice=false&cid=1891463&numberOfBedrooms=&familyMode=false&adults=2&children=0&rooms=1&maxRooms=0&checkIn=2021-07-9&isCalendarCallout=false&childAges=&numberOfGuest=0&missingChildAges=false&travellerType=1&showReviewSubmissionEntry=false&currencyCode=KRW&isFreeOccSearch=false&tag=45b17d1d-e0b0-fe2a-ce90-5513829d856b&los=1&searchrequestid=e4d4ca91-8528-45aa-b061-362d355362a1', 'https://www.agoda.com/ko-kr/l7-hongdae-by-lotte/hotel/seoul-kr.html?finalPriceView=1&isShowMobileAppPrice=false&cid=1891463&numberOfBedrooms=&familyMode=false&adults=2&children=0&rooms=1&maxRooms=0&checkIn=2021-07-9&isCalendarCallout=false&childAges=&numberOfGuest=0&missingChildAges=false&travellerType=1&showReviewSubmissionEntry=false&currencyCode=KRW&isFreeOccSearch=false&tag=45b17d1d-e0b0-fe2a-ce90-5513829d856b&los=1&searchrequestid=e4d4ca91-8528-45aa-b061-362d355362a1', 'https://www.agoda.com/ko-kr/koreana-hotel/hotel/seoul-kr.html?finalPriceView=1&isShowMobileAppPrice=false&cid=1891463&numberOfBedrooms=&familyMode=false&adults=2&children=0&rooms=1&maxRooms=0&checkIn=2021-07-9&isCalendarCallout=false&childAges=&numberOfGuest=0&missingChildAges=false&travellerType=1&showReviewSubmissionEntry=false&currencyCode=KRW&isFreeOccSearch=false&tag=45b17d1d-e0b0-fe2a-ce90-5513829d856b&tspTypes=9&los=1&searchrequestid=e4d4ca91-8528-45aa-b061-362d355362a1', 'https://www.agoda.com/ko-kr/orakai-daehakro-hotel-h9386778/hotel/seoul-kr.html?finalPriceView=1&isShowMobileAppPrice=false&cid=1891463&numberOfBedrooms=&familyMode=false&adults=2&children=0&rooms=1&maxRooms=0&checkIn=2021-07-9&isCalendarCallout=false&childAges=&numberOfGuest=0&missingChildAges=false&travellerType=1&showReviewSubmissionEntry=false&currencyCode=KRW&isFreeOccSearch=false&tag=45b17d1d-e0b0-fe2a-ce90-5513829d856b&tspTypes=1&los=1&searchrequestid=e4d4ca91-8528-45aa-b061-362d355362a1', 'https://www.agoda.com/ko-kr/shilla-stay-seocho/hotel/seoul-kr.html?finalPriceView=1&isShowMobileAppPrice=false&cid=1891463&numberOfBedrooms=&familyMode=false&adults=2&children=0&rooms=1&maxRooms=0&checkIn=2021-07-9&isCalendarCallout=false&childAges=&numberOfGuest=0&missingChildAges=false&travellerType=1&showReviewSubmissionEntry=false&currencyCode=KRW&isFreeOccSearch=false&tag=45b17d1d-e0b0-fe2a-ce90-5513829d856b&los=1&searchrequestid=e4d4ca91-8528-45aa-b061-362d355362a1', 'https://www.agoda.com/ko-kr/shilla-stay-samsung/hotel/seoul-kr.html?finalPriceView=1&isShowMobileAppPrice=false&cid=1891463&numberOfBedrooms=&familyMode=false&adults=2&children=0&rooms=1&maxRooms=0&checkIn=2021-07-9&isCalendarCallout=false&childAges=&numberOfGuest=0&missingChildAges=false&travellerType=1&showReviewSubmissionEntry=false&currencyCode=KRW&isFreeOccSearch=false&tag=45b17d1d-e0b0-fe2a-ce90-5513829d856b&los=1&searchrequestid=e4d4ca91-8528-45aa-b061-362d355362a1', 'https://www.agoda.com/ko-kr/hotel-foreheal/hotel/seoul-kr.html?finalPriceView=1&isShowMobileAppPrice=false&cid=1891463&numberOfBedrooms=&familyMode=false&adults=2&children=0&rooms=1&maxRooms=0&checkIn=2021-07-9&isCalendarCallout=false&childAges=&numberOfGuest=0&missingChildAges=false&travellerType=1&showReviewSubmissionEntry=false&currencyCode=KRW&isFreeOccSearch=false&tag=45b17d1d-e0b0-fe2a-ce90-5513829d856b&tspTypes=9&los=1&searchrequestid=e4d4ca91-8528-45aa-b061-362d355362a1', 'https://www.agoda.com/ko-kr/toyoko-inn-gangnam-seoul/hotel/seoul-kr.html?finalPriceView=1&isShowMobileAppPrice=false&cid=1891463&numberOfBedrooms=&familyMode=false&adults=2&children=0&rooms=1&maxRooms=0&checkIn=2021-07-9&isCalendarCallout=false&childAges=&numberOfGuest=0&missingChildAges=false&travellerType=1&showReviewSubmissionEntry=false&currencyCode=KRW&isFreeOccSearch=false&tag=45b17d1d-e0b0-fe2a-ce90-5513829d856b&los=1&searchrequestid=e4d4ca91-8528-45aa-b061-362d355362a1']\n"
     ]
    }
   ],
   "source": [
    "links = []\n",
    "SCROLL_PAUSE_TIME = 1\n",
    "last_height = 0\n",
    "\n",
    "while True:\n",
    "        # Scroll down to bottom\n",
    "        driver.execute_script(\"window.scrollTo(0, document.body.scrollHeight);\")\n",
    "\n",
    "        # Wait to load page\n",
    "        time.sleep(SCROLL_PAUSE_TIME)\n",
    "        driver.execute_script(\"window.scrollTo(0, document.body.scrollHeight-50);\")\n",
    "        time.sleep(SCROLL_PAUSE_TIME)\n",
    "\n",
    "        # Calculate new scroll height and compare with last scroll height\n",
    "        new_height = driver.execute_script(\"return document.body.scrollHeight\")\n",
    "\n",
    "        if new_height == last_height:\n",
    "            break\n",
    "\n",
    "        last_height = new_height\n",
    "\n",
    "\n",
    "    # 스크롤 끝나고 페이지 elements 가져오기\n",
    "raw = driver.page_source\n",
    "html = BeautifulSoup(raw, \"html.parser\")\n",
    "\n",
    "for v in range(4,10):\n",
    "    for i in range(101):\n",
    "        try:\n",
    "            a = driver.find_element_by_css_selector(f\"#contentContainer > div:nth-child({v}) > ol > li:nth-child({i}) > div > a\")\n",
    "            link = a.get_attribute('href')\n",
    "            links.append(link)\n",
    "            print(f'{v} - {i} 완료')\n",
    "        except:\n",
    "            pass\n",
    "\n",
    "print(links)"
   ]
  },
  {
   "cell_type": "code",
   "execution_count": 10,
   "metadata": {},
   "outputs": [
    {
     "output_type": "execute_result",
     "data": {
      "text/plain": [
       "51"
      ]
     },
     "metadata": {},
     "execution_count": 10
    }
   ],
   "source": [
    "len(links)"
   ]
  },
  {
   "cell_type": "code",
   "execution_count": 12,
   "metadata": {},
   "outputs": [
    {
     "output_type": "execute_result",
     "data": {
      "text/plain": [
       "'https://www.agoda.com/ko-kr/josun-palace-a-luxury-collection-hotel-seoul-gangnam/hotel/seoul-kr.html?finalPriceView=1&isShowMobileAppPrice=false&cid=1891463&numberOfBedrooms=&familyMode=false&adults=2&children=0&rooms=1&maxRooms=0&checkIn=2021-07-9&isCalendarCallout=false&childAges=&numberOfGuest=0&missingChildAges=false&travellerType=1&showReviewSubmissionEntry=false&currencyCode=KRW&isFreeOccSearch=false&tag=45b17d1d-e0b0-fe2a-ce90-5513829d856b&los=1&searchrequestid=e4d4ca91-8528-45aa-b061-362d355362a1'"
      ]
     },
     "metadata": {},
     "execution_count": 12
    }
   ],
   "source": [
    "links[0]"
   ]
  },
  {
   "cell_type": "code",
   "execution_count": 16,
   "metadata": {},
   "outputs": [],
   "source": [
    "# 결측치 삭제\n",
    "del links[5]"
   ]
  },
  {
   "cell_type": "code",
   "execution_count": 22,
   "metadata": {},
   "outputs": [],
   "source": [
    "del links[14]"
   ]
  },
  {
   "cell_type": "code",
   "execution_count": 23,
   "metadata": {},
   "outputs": [],
   "source": [
    "link_df = pd.DataFrame({\n",
    "    '1페이지링크' : links\n",
    "})"
   ]
  },
  {
   "cell_type": "code",
   "execution_count": 24,
   "metadata": {},
   "outputs": [],
   "source": [
    "link_df.to_csv('agoda_link.csv', index=False)"
   ]
  },
  {
   "cell_type": "code",
   "execution_count": 28,
   "metadata": {},
   "outputs": [
    {
     "output_type": "stream",
     "name": "stdout",
     "text": [
      "['모', '1042', '1372', '629', '2851', '1676', '417', '647', '749', '1163', '1704', '339', '1611', '1566', '832', '2802', '5580', '1116', '521', '460', '633', '241', '721', '1125', '514', '777', '514', '2104', '848', '1000', '870', '527', '1097', '606', '114', '150', '138', '1011', '449', '496', '89', '1918', '1192', '1068', '226', '872', '187', '411', '408']\n"
     ]
    }
   ],
   "source": [
    "review_sum_list = []\n",
    "for link in links:\n",
    "    driver.get(link)\n",
    "    # 총 리뷰 개수 찾기: for문을 몇 번 돌릴지 구하기위함 (버튼을 몇 번 눌러야 할지) \n",
    "    review_sum = driver.find_element_by_css_selector(\"#reviewFilterSection > div.Review__SummaryContainer > span\").text\n",
    "    time.sleep(1)\n",
    "    try : \n",
    "        review_sum = review_sum.split(' ')[3][:-1]\n",
    "    except:\n",
    "        review_sum = review_sum.split(' ')[1][:-1] \n",
    "    review_sum_list.append(review_sum)\n",
    "\n",
    "print(review_sum_list)"
   ]
  },
  {
   "cell_type": "code",
   "execution_count": 29,
   "metadata": {},
   "outputs": [
    {
     "output_type": "execute_result",
     "data": {
      "text/plain": [
       "['1042',\n",
       " '1372',\n",
       " '629',\n",
       " '2851',\n",
       " '1676',\n",
       " '417',\n",
       " '647',\n",
       " '749',\n",
       " '1163',\n",
       " '1704',\n",
       " '339',\n",
       " '1611',\n",
       " '1566',\n",
       " '832',\n",
       " '2802',\n",
       " '5580',\n",
       " '1116',\n",
       " '521',\n",
       " '460',\n",
       " '633',\n",
       " '241',\n",
       " '721',\n",
       " '1125',\n",
       " '514',\n",
       " '777',\n",
       " '514',\n",
       " '2104',\n",
       " '848',\n",
       " '1000',\n",
       " '870',\n",
       " '527',\n",
       " '1097',\n",
       " '606',\n",
       " '114',\n",
       " '150',\n",
       " '138',\n",
       " '1011',\n",
       " '449',\n",
       " '496',\n",
       " '89',\n",
       " '1918',\n",
       " '1192',\n",
       " '1068',\n",
       " '226',\n",
       " '872',\n",
       " '187',\n",
       " '411',\n",
       " '408']"
      ]
     },
     "metadata": {},
     "execution_count": 29
    }
   ],
   "source": [
    "del review_sum_list[0]\n",
    "review_sum_list"
   ]
  },
  {
   "cell_type": "code",
   "execution_count": 41,
   "metadata": {},
   "outputs": [
    {
     "output_type": "execute_result",
     "data": {
      "text/plain": [
       "48"
      ]
     },
     "metadata": {},
     "execution_count": 41
    }
   ],
   "source": [
    "del links[0]        # 후기 1개 밖에 없음\n",
    "len(links)"
   ]
  },
  {
   "cell_type": "code",
   "execution_count": 45,
   "metadata": {},
   "outputs": [
    {
     "output_type": "execute_result",
     "data": {
      "text/plain": [
       "'https://www.agoda.com/ko-kr/shilla-stay-mapo/hotel/seoul-kr.html?finalPriceView=1&isShowMobileAppPrice=false&cid=1891463&numberOfBedrooms=&familyMode=false&adults=2&children=0&rooms=1&maxRooms=0&checkIn=2021-07-9&isCalendarCallout=false&childAges=&numberOfGuest=0&missingChildAges=false&travellerType=1&showReviewSubmissionEntry=false&currencyCode=KRW&isFreeOccSearch=false&tag=45b17d1d-e0b0-fe2a-ce90-5513829d856b&los=1&searchrequestid=e4d4ca91-8528-45aa-b061-362d355362a1'"
      ]
     },
     "metadata": {},
     "execution_count": 45
    }
   ],
   "source": [
    "links[0]"
   ]
  },
  {
   "cell_type": "code",
   "execution_count": 46,
   "metadata": {},
   "outputs": [
    {
     "output_type": "stream",
     "name": "stdout",
     "text": [
      "[53, 69, 32, 143, 84, 21, 33, 38, 59, 86, 17, 81, 79, 42, 141, 280, 56, 27, 24, 32, 13, 37, 57, 26, 39, 26, 106, 43, 51, 44, 27, 55, 31, 6, 8, 7, 51, 23, 25, 5, 96, 60, 54, 12, 44, 10, 21, 21]\n"
     ]
    }
   ],
   "source": [
    "pages = []\n",
    "\n",
    "for num in review_sum_list:\n",
    "    page = int(num)//20 + 1\n",
    "    pages.append(page)\n",
    "\n",
    "print(pages)"
   ]
  },
  {
   "cell_type": "code",
   "execution_count": 47,
   "metadata": {},
   "outputs": [
    {
     "output_type": "execute_result",
     "data": {
      "text/plain": [
       "21"
      ]
     },
     "metadata": {},
     "execution_count": 47
    }
   ],
   "source": [
    "pages[47]"
   ]
  },
  {
   "cell_type": "code",
   "execution_count": null,
   "metadata": {},
   "outputs": [],
   "source": [
    "# 텍스트        '#review-0 > div.Review-comment-right > div.Review-comment-bubble > div.Review-comment-body > p.Review-comment-bodyText'\n",
    "# 호텔 이름     '#property-critical-root > div > div.Northstar > div.sc-bdfBwQ.cXTIvA > div.NorthstarMainContent > div:nth-child(2) > div.HeaderCerebrum > div:nth-child(1) > h1'\n",
    "# 페이지 이동   '#reviewSection > div:nth-child(4) > div > span:nth-child(3) > i'"
   ]
  },
  {
   "cell_type": "code",
   "execution_count": 51,
   "metadata": {},
   "outputs": [
    {
     "output_type": "execute_result",
     "data": {
      "text/plain": [
       "53"
      ]
     },
     "metadata": {},
     "execution_count": 51
    }
   ],
   "source": [
    "pages[0]"
   ]
  },
  {
   "cell_type": "code",
   "execution_count": null,
   "metadata": {},
   "outputs": [],
   "source": [
    "texts = []\n",
    "hotels = []\n",
    "\n",
    "#path = 'C:/Temp/chromedriver.exe'\n",
    "#driver = webdriver.Chrome(path)\n",
    "\n",
    "# 1)링크 접속\n",
    "for i in range(0,49):\n",
    "    driver.get(links[i])\n",
    "    time.sleep(2)\n",
    "    #for v in range(1, pages[i]+1):\n",
    "    \n",
    "    # 2)리뷰, 호텔명 긁어서 리스트에 append (20개)\n",
    "    for j in range(1,20):\n",
    "        text = driver.find_element_by_css_selector(f'#review-{j} > div.Review-comment-right > div.Review-comment-bubble > div.Review-comment-body > p.Review-comment-bodyText').text\n",
    "        texts.append(text)\n",
    "        hotel = driver.find_element_by_css_selector('#property-critical-root > div > div.Northstar > div.sc-bdfBwQ.cXTIvA > div.NorthstarMainContent > div:nth-child(2) > div.HeaderCerebrum > div:nth-child(1) > h1').text\n",
    "        time.sleep(2)\n",
    "        hotels.append(hotel)\n",
    "\n",
    "        # 3) 페이지 넘기기 -> 긁어오기\n",
    "        for v in range(0, pages[i]+1):\n",
    "            button = driver.find_element_by_xpath('//*[@id=\"reviewSection\"]/div[4]/div/span[3]')\n",
    "            ac(driver).move_to_element(button).click().perform()\n",
    "\n",
    "            \n",
    "            \n",
    "            print(f'{i}번째 호텔, {v}번째 페이지')\n",
    "\n",
    "\n",
    "\n",
    "            #try : \n",
    "                #text = driver.find_element_by_css_selector(f'#review-{j} > div.Review-comment-right > div.Review-comment-bubble > div.Review-comment-body > p.Review-comment-bodyText').text\n",
    "                #time.sleep(1)\n",
    "                #texts.append(text)\n",
    "                #hotel = driver.find_element_by_css_selector('#property-critical-root > div > div.Northstar > div.sc-bdfBwQ.cXTIvA > div.NorthstarMainContent > div:nth-child(2) > div.HeaderCerebrum > div:nth-child(1) > h1').text\n",
    "                #time.sleep(1)\n",
    "                #hotels.append(hotel)\n",
    "            #except:\n",
    "                #pass\n",
    "\n",
    "        #driver.find_element_by_css_selector('#reviewSection > div:nth-child(4) > div > span:nth-child(3) > i').click()\n",
    "\n",
    "        #print(f'{i}번째 호텔, {v}번째 페이지')\n",
    "\n",
    "    hotel_r = pd.DataFrame({'호텔 이름' : hotels, '리뷰': texts})\n",
    "    hotel_r.to_csv(f'agoda_review_{i}까지 완료.csv', index=False, encoding='utf-8-sig')"
   ]
  },
  {
   "cell_type": "code",
   "execution_count": null,
   "metadata": {},
   "outputs": [],
   "source": [
    "texts = []\n",
    "hotels = []\n",
    "\n",
    "for i in range(0,50):\n",
    "    driver.get(links[i])\n",
    "    time.sleep(2)\n",
    "    for v in range(1, pages[i]+1) :\n",
    "        \n",
    "        for j in range(0,20):\n",
    "            try : \n",
    "                text = driver.find_element_by_css_selector(f'#review-{j} > div.Review-comment-right > div.Review-comment-bubble > div.Review-comment-body > p.Review-comment-bodyText').text\n",
    "                #time.sleep(3)\n",
    "                texts.append(text)\n",
    "                hotel = driver.find_element_by_css_selector('#property-critical-root > div > div.Northstar > div.sc-bdfBwQ.cXTIvA > div.NorthstarMainContent > div:nth-child(2) > div.HeaderCerebrum > div:nth-child(1) > h1').text\n",
    "                #time.sleep(3)\n",
    "                hotels.append(hotel)\n",
    "            except:\n",
    "                pass\n",
    "        button = driver.find_element_by_xpath('//*[@id=\"reviewSection\"]/div[4]/div/span[3]')\n",
    "        ac(driver).move_to_element(button).click().perform()\n",
    "\n",
    "        print(f'{i}번째 호텔, {v}번째 페이지')\n",
    "\n",
    "    hotel_r = pd.DataFrame({'호텔 이름' : hotels, '리뷰': texts})\n",
    "    hotel_r.to_csv(f'agoda_review_{i}까지 완료.csv', index=False, encoding='utf-8-sig')"
   ]
  },
  {
   "cell_type": "code",
   "execution_count": null,
   "metadata": {},
   "outputs": [],
   "source": [
    "for i in range(0,49):\n",
    "    driver.get(links[i])\n",
    "    time.sleep(2)\n",
    "    for k in range(1, pages[i]+1):\n",
    "        html = driver.page_source\n",
    "        soup = bs(html, 'html.parser')\n",
    "\n",
    "        scroll_point = driver.find_element_by_id('review-0')\n",
    "        ac(driver).move_to_element(scroll_point).perform()\n",
    "\n",
    "        html = driver.page_source\n",
    "        soup = bs(html, 'html.parser')\n",
    "\n",
    "        for v in range(0,20):\n",
    "            text = driver.find_element_by_css_selector(f'#review-{j} > div.Review-comment-right > div.Review-comment-bubble > div.Review-comment-body > p.Review-comment-bodyText').text\n",
    "            texts.append(text)\n",
    "            hotel = driver.find_element_by_css_selector('#property-critical-root > div > div.Northstar > div.sc-bdfBwQ.cXTIvA > div.NorthstarMainContent > div:nth-child(2) > div.HeaderCerebrum > div:nth-child(1) > h1').text\n",
    "            hotels.append(hotel)\n",
    "\n",
    "        button = driver.find_element_by_xpath('//*[@id=\"reviewSection\"]/div[4]/div/span[3]')\n",
    "        ac(driver).move_to_element(button).click().perform()\n",
    "        time.sleep(1)\n",
    "        print(f'{i}번째 호텔, {v}번째 페이지')\n",
    "\n",
    "    hotel_r = pd.DataFrame({'호텔 이름' : hotels, '리뷰': texts})\n",
    "    hotel_r.to_csv(f'agoda_review_{i}까지 완료.csv', index=False, encoding='utf-8-sig')"
   ]
  },
  {
   "cell_type": "code",
   "execution_count": null,
   "metadata": {},
   "outputs": [],
   "source": []
  }
 ]
}