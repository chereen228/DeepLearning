{
 "metadata": {
  "language_info": {
   "codemirror_mode": {
    "name": "ipython",
    "version": 3
   },
   "file_extension": ".py",
   "mimetype": "text/x-python",
   "name": "python",
   "nbconvert_exporter": "python",
   "pygments_lexer": "ipython3",
   "version": "3.8.5"
  },
  "orig_nbformat": 4,
  "kernelspec": {
   "name": "python3",
   "display_name": "Python 3.8.5 64-bit ('base': conda)"
  },
  "interpreter": {
   "hash": "a9304dfccfc2803363eba81e94316a7fbb7230839deefde8043067d034843f70"
  }
 },
 "nbformat": 4,
 "nbformat_minor": 2,
 "cells": [
  {
   "cell_type": "code",
   "execution_count": 1,
   "metadata": {},
   "outputs": [],
   "source": [
    "import pandas as pd \n",
    "import numpy as np"
   ]
  },
  {
   "cell_type": "code",
   "execution_count": 2,
   "metadata": {},
   "outputs": [
    {
     "output_type": "execute_result",
     "data": {
      "text/plain": [
       "        hotel  star                                             review\n",
       "0  호텔 8 Hours     5  깨끗하고 위치도 좋고 구성비 좋았습니다 다만 비품이 거의 없다고 보면 돼서 챙겨가야...\n",
       "1  호텔 8 Hours     4                                   너무 좋아요 잘 머물다 갑니다\n",
       "2  호텔 8 Hours     5                                        적당히 잘 쉬다 가요\n",
       "3  호텔 8 Hours     5                             매번 요때마다 매우 만족합니다 번창하세요\n",
       "4  호텔 8 Hours     5                                        너무 편하고 좋았어요"
      ],
      "text/html": "<div>\n<style scoped>\n    .dataframe tbody tr th:only-of-type {\n        vertical-align: middle;\n    }\n\n    .dataframe tbody tr th {\n        vertical-align: top;\n    }\n\n    .dataframe thead th {\n        text-align: right;\n    }\n</style>\n<table border=\"1\" class=\"dataframe\">\n  <thead>\n    <tr style=\"text-align: right;\">\n      <th></th>\n      <th>hotel</th>\n      <th>star</th>\n      <th>review</th>\n    </tr>\n  </thead>\n  <tbody>\n    <tr>\n      <th>0</th>\n      <td>호텔 8 Hours</td>\n      <td>5</td>\n      <td>깨끗하고 위치도 좋고 구성비 좋았습니다 다만 비품이 거의 없다고 보면 돼서 챙겨가야...</td>\n    </tr>\n    <tr>\n      <th>1</th>\n      <td>호텔 8 Hours</td>\n      <td>4</td>\n      <td>너무 좋아요 잘 머물다 갑니다</td>\n    </tr>\n    <tr>\n      <th>2</th>\n      <td>호텔 8 Hours</td>\n      <td>5</td>\n      <td>적당히 잘 쉬다 가요</td>\n    </tr>\n    <tr>\n      <th>3</th>\n      <td>호텔 8 Hours</td>\n      <td>5</td>\n      <td>매번 요때마다 매우 만족합니다 번창하세요</td>\n    </tr>\n    <tr>\n      <th>4</th>\n      <td>호텔 8 Hours</td>\n      <td>5</td>\n      <td>너무 편하고 좋았어요</td>\n    </tr>\n  </tbody>\n</table>\n</div>"
     },
     "metadata": {},
     "execution_count": 2
    }
   ],
   "source": [
    "df = pd.read_csv('data/리뷰크롤링최종합본.csv')\n",
    "df.head()"
   ]
  },
  {
   "cell_type": "code",
   "execution_count": 3,
   "metadata": {},
   "outputs": [
    {
     "output_type": "stream",
     "name": "stdout",
     "text": [
      "<class 'pandas.core.frame.DataFrame'>\nRangeIndex: 171670 entries, 0 to 171669\nData columns (total 3 columns):\n #   Column  Non-Null Count   Dtype \n---  ------  --------------   ----- \n 0   hotel   171670 non-null  object\n 1   star    171670 non-null  int64 \n 2   review  171328 non-null  object\ndtypes: int64(1), object(2)\nmemory usage: 3.9+ MB\n"
     ]
    }
   ],
   "source": [
    "df.info()"
   ]
  },
  {
   "cell_type": "code",
   "execution_count": 4,
   "metadata": {},
   "outputs": [
    {
     "output_type": "stream",
     "name": "stdout",
     "text": [
      "<class 'pandas.core.frame.DataFrame'>\nInt64Index: 171328 entries, 0 to 171669\nData columns (total 3 columns):\n #   Column  Non-Null Count   Dtype \n---  ------  --------------   ----- \n 0   hotel   171328 non-null  object\n 1   star    171328 non-null  int64 \n 2   review  171328 non-null  object\ndtypes: int64(1), object(2)\nmemory usage: 5.2+ MB\n"
     ]
    }
   ],
   "source": [
    "df.dropna(axis=0,inplace=True)\n",
    "df.info()"
   ]
  },
  {
   "cell_type": "code",
   "execution_count": 5,
   "metadata": {},
   "outputs": [],
   "source": [
    "df['추천'] = 0\n",
    "df['힐링'] = 0\n",
    "df['뷰'] = 0\n",
    "df['주차'] = 0\n",
    "df['위치'] = 0\n",
    "df['깨끗'] = 0\n",
    "df['시설'] = 0\n",
    "df['친절'] = 0"
   ]
  },
  {
   "cell_type": "code",
   "execution_count": 6,
   "metadata": {},
   "outputs": [],
   "source": [
    "# 인덱스 재배열\n",
    "df.reset_index(inplace=True)"
   ]
  },
  {
   "cell_type": "code",
   "execution_count": 7,
   "metadata": {},
   "outputs": [
    {
     "output_type": "stream",
     "name": "stderr",
     "text": [
      "<ipython-input-7-d8dfce58a9bf>:5: SettingWithCopyWarning: \nA value is trying to be set on a copy of a slice from a DataFrame\n\nSee the caveats in the documentation: https://pandas.pydata.org/pandas-docs/stable/user_guide/indexing.html#returning-a-view-versus-a-copy\n  df[eval][i] = eval in df.review[i]\nC:\\Users\\Sumin\\anaconda3\\lib\\site-packages\\pandas\\core\\indexing.py:1732: SettingWithCopyWarning: \nA value is trying to be set on a copy of a slice from a DataFrame\n\nSee the caveats in the documentation: https://pandas.pydata.org/pandas-docs/stable/user_guide/indexing.html#returning-a-view-versus-a-copy\n  self._setitem_single_block(indexer, value, name)\n"
     ]
    }
   ],
   "source": [
    "eval_list = ['추천','힐링','뷰','주차','위치','깨끗','시설','친절']\n",
    "\n",
    "for eval in eval_list:\n",
    "    for i in range(0,len(df)):\n",
    "        df[eval][i] = eval in df.review[i]"
   ]
  },
  {
   "cell_type": "code",
   "execution_count": 8,
   "metadata": {},
   "outputs": [
    {
     "output_type": "execute_result",
     "data": {
      "text/plain": [
       "171328"
      ]
     },
     "metadata": {},
     "execution_count": 8
    }
   ],
   "source": [
    "len(df)"
   ]
  },
  {
   "cell_type": "code",
   "execution_count": 9,
   "metadata": {},
   "outputs": [
    {
     "output_type": "execute_result",
     "data": {
      "text/plain": [
       "'깨끗하고 위치도 좋고 구성비 좋았습니다 다만 비품이 거의 없다고 보면 돼서 챙겨가야 합니다'"
      ]
     },
     "metadata": {},
     "execution_count": 9
    }
   ],
   "source": [
    "df.review[0]"
   ]
  },
  {
   "cell_type": "code",
   "execution_count": 10,
   "metadata": {},
   "outputs": [
    {
     "output_type": "execute_result",
     "data": {
      "text/plain": [
       "   index       hotel  star                                             review  \\\n",
       "0      0  호텔 8 Hours     5  깨끗하고 위치도 좋고 구성비 좋았습니다 다만 비품이 거의 없다고 보면 돼서 챙겨가야...   \n",
       "1      1  호텔 8 Hours     4                                   너무 좋아요 잘 머물다 갑니다   \n",
       "2      2  호텔 8 Hours     5                                        적당히 잘 쉬다 가요   \n",
       "3      3  호텔 8 Hours     5                             매번 요때마다 매우 만족합니다 번창하세요   \n",
       "4      4  호텔 8 Hours     5                                        너무 편하고 좋았어요   \n",
       "\n",
       "      추천     힐링      뷰     주차     위치     깨끗     시설     친절  \n",
       "0  False  False  False  False   True   True  False  False  \n",
       "1  False  False  False  False  False  False  False  False  \n",
       "2  False  False  False  False  False  False  False  False  \n",
       "3  False  False  False  False  False  False  False  False  \n",
       "4  False  False  False  False  False  False  False  False  "
      ],
      "text/html": "<div>\n<style scoped>\n    .dataframe tbody tr th:only-of-type {\n        vertical-align: middle;\n    }\n\n    .dataframe tbody tr th {\n        vertical-align: top;\n    }\n\n    .dataframe thead th {\n        text-align: right;\n    }\n</style>\n<table border=\"1\" class=\"dataframe\">\n  <thead>\n    <tr style=\"text-align: right;\">\n      <th></th>\n      <th>index</th>\n      <th>hotel</th>\n      <th>star</th>\n      <th>review</th>\n      <th>추천</th>\n      <th>힐링</th>\n      <th>뷰</th>\n      <th>주차</th>\n      <th>위치</th>\n      <th>깨끗</th>\n      <th>시설</th>\n      <th>친절</th>\n    </tr>\n  </thead>\n  <tbody>\n    <tr>\n      <th>0</th>\n      <td>0</td>\n      <td>호텔 8 Hours</td>\n      <td>5</td>\n      <td>깨끗하고 위치도 좋고 구성비 좋았습니다 다만 비품이 거의 없다고 보면 돼서 챙겨가야...</td>\n      <td>False</td>\n      <td>False</td>\n      <td>False</td>\n      <td>False</td>\n      <td>True</td>\n      <td>True</td>\n      <td>False</td>\n      <td>False</td>\n    </tr>\n    <tr>\n      <th>1</th>\n      <td>1</td>\n      <td>호텔 8 Hours</td>\n      <td>4</td>\n      <td>너무 좋아요 잘 머물다 갑니다</td>\n      <td>False</td>\n      <td>False</td>\n      <td>False</td>\n      <td>False</td>\n      <td>False</td>\n      <td>False</td>\n      <td>False</td>\n      <td>False</td>\n    </tr>\n    <tr>\n      <th>2</th>\n      <td>2</td>\n      <td>호텔 8 Hours</td>\n      <td>5</td>\n      <td>적당히 잘 쉬다 가요</td>\n      <td>False</td>\n      <td>False</td>\n      <td>False</td>\n      <td>False</td>\n      <td>False</td>\n      <td>False</td>\n      <td>False</td>\n      <td>False</td>\n    </tr>\n    <tr>\n      <th>3</th>\n      <td>3</td>\n      <td>호텔 8 Hours</td>\n      <td>5</td>\n      <td>매번 요때마다 매우 만족합니다 번창하세요</td>\n      <td>False</td>\n      <td>False</td>\n      <td>False</td>\n      <td>False</td>\n      <td>False</td>\n      <td>False</td>\n      <td>False</td>\n      <td>False</td>\n    </tr>\n    <tr>\n      <th>4</th>\n      <td>4</td>\n      <td>호텔 8 Hours</td>\n      <td>5</td>\n      <td>너무 편하고 좋았어요</td>\n      <td>False</td>\n      <td>False</td>\n      <td>False</td>\n      <td>False</td>\n      <td>False</td>\n      <td>False</td>\n      <td>False</td>\n      <td>False</td>\n    </tr>\n  </tbody>\n</table>\n</div>"
     },
     "metadata": {},
     "execution_count": 10
    }
   ],
   "source": [
    "df.head()"
   ]
  },
  {
   "cell_type": "code",
   "execution_count": 11,
   "metadata": {},
   "outputs": [],
   "source": [
    "df['attitude'] = 0"
   ]
  },
  {
   "cell_type": "code",
   "execution_count": 12,
   "metadata": {},
   "outputs": [
    {
     "output_type": "execute_result",
     "data": {
      "text/plain": [
       "   index       hotel  star                                             review  \\\n",
       "0      0  호텔 8 Hours     5  깨끗하고 위치도 좋고 구성비 좋았습니다 다만 비품이 거의 없다고 보면 돼서 챙겨가야...   \n",
       "1      1  호텔 8 Hours     4                                   너무 좋아요 잘 머물다 갑니다   \n",
       "2      2  호텔 8 Hours     5                                        적당히 잘 쉬다 가요   \n",
       "3      3  호텔 8 Hours     5                             매번 요때마다 매우 만족합니다 번창하세요   \n",
       "4      4  호텔 8 Hours     5                                        너무 편하고 좋았어요   \n",
       "\n",
       "      추천     힐링      뷰     주차     위치     깨끗     시설     친절  attitude sum  \n",
       "0  False  False  False  False   True   True  False  False         0   2  \n",
       "1  False  False  False  False  False  False  False  False         0   0  \n",
       "2  False  False  False  False  False  False  False  False         0   0  \n",
       "3  False  False  False  False  False  False  False  False         0   0  \n",
       "4  False  False  False  False  False  False  False  False         0   0  "
      ],
      "text/html": "<div>\n<style scoped>\n    .dataframe tbody tr th:only-of-type {\n        vertical-align: middle;\n    }\n\n    .dataframe tbody tr th {\n        vertical-align: top;\n    }\n\n    .dataframe thead th {\n        text-align: right;\n    }\n</style>\n<table border=\"1\" class=\"dataframe\">\n  <thead>\n    <tr style=\"text-align: right;\">\n      <th></th>\n      <th>index</th>\n      <th>hotel</th>\n      <th>star</th>\n      <th>review</th>\n      <th>추천</th>\n      <th>힐링</th>\n      <th>뷰</th>\n      <th>주차</th>\n      <th>위치</th>\n      <th>깨끗</th>\n      <th>시설</th>\n      <th>친절</th>\n      <th>attitude</th>\n      <th>sum</th>\n    </tr>\n  </thead>\n  <tbody>\n    <tr>\n      <th>0</th>\n      <td>0</td>\n      <td>호텔 8 Hours</td>\n      <td>5</td>\n      <td>깨끗하고 위치도 좋고 구성비 좋았습니다 다만 비품이 거의 없다고 보면 돼서 챙겨가야...</td>\n      <td>False</td>\n      <td>False</td>\n      <td>False</td>\n      <td>False</td>\n      <td>True</td>\n      <td>True</td>\n      <td>False</td>\n      <td>False</td>\n      <td>0</td>\n      <td>2</td>\n    </tr>\n    <tr>\n      <th>1</th>\n      <td>1</td>\n      <td>호텔 8 Hours</td>\n      <td>4</td>\n      <td>너무 좋아요 잘 머물다 갑니다</td>\n      <td>False</td>\n      <td>False</td>\n      <td>False</td>\n      <td>False</td>\n      <td>False</td>\n      <td>False</td>\n      <td>False</td>\n      <td>False</td>\n      <td>0</td>\n      <td>0</td>\n    </tr>\n    <tr>\n      <th>2</th>\n      <td>2</td>\n      <td>호텔 8 Hours</td>\n      <td>5</td>\n      <td>적당히 잘 쉬다 가요</td>\n      <td>False</td>\n      <td>False</td>\n      <td>False</td>\n      <td>False</td>\n      <td>False</td>\n      <td>False</td>\n      <td>False</td>\n      <td>False</td>\n      <td>0</td>\n      <td>0</td>\n    </tr>\n    <tr>\n      <th>3</th>\n      <td>3</td>\n      <td>호텔 8 Hours</td>\n      <td>5</td>\n      <td>매번 요때마다 매우 만족합니다 번창하세요</td>\n      <td>False</td>\n      <td>False</td>\n      <td>False</td>\n      <td>False</td>\n      <td>False</td>\n      <td>False</td>\n      <td>False</td>\n      <td>False</td>\n      <td>0</td>\n      <td>0</td>\n    </tr>\n    <tr>\n      <th>4</th>\n      <td>4</td>\n      <td>호텔 8 Hours</td>\n      <td>5</td>\n      <td>너무 편하고 좋았어요</td>\n      <td>False</td>\n      <td>False</td>\n      <td>False</td>\n      <td>False</td>\n      <td>False</td>\n      <td>False</td>\n      <td>False</td>\n      <td>False</td>\n      <td>0</td>\n      <td>0</td>\n    </tr>\n  </tbody>\n</table>\n</div>"
     },
     "metadata": {},
     "execution_count": 12
    }
   ],
   "source": [
    "df['sum'] = df['추천'] + df['힐링'] + df['뷰'] + df['주차'] + df['위치']  + df['깨끗'] + df['시설'] + df['친절']\n",
    "df.head()"
   ]
  },
  {
   "cell_type": "code",
   "execution_count": 13,
   "metadata": {},
   "outputs": [
    {
     "output_type": "stream",
     "name": "stderr",
     "text": [
      "<ipython-input-13-37cbaeee275b>:4: SettingWithCopyWarning: \nA value is trying to be set on a copy of a slice from a DataFrame\n\nSee the caveats in the documentation: https://pandas.pydata.org/pandas-docs/stable/user_guide/indexing.html#returning-a-view-versus-a-copy\n  df['attitude'][i] = 2\n<ipython-input-13-37cbaeee275b>:6: SettingWithCopyWarning: \nA value is trying to be set on a copy of a slice from a DataFrame\n\nSee the caveats in the documentation: https://pandas.pydata.org/pandas-docs/stable/user_guide/indexing.html#returning-a-view-versus-a-copy\n  df['attitude'][i] = 1\n<ipython-input-13-37cbaeee275b>:8: SettingWithCopyWarning: \nA value is trying to be set on a copy of a slice from a DataFrame\n\nSee the caveats in the documentation: https://pandas.pydata.org/pandas-docs/stable/user_guide/indexing.html#returning-a-view-versus-a-copy\n  df['attitude'][i] = 0\n"
     ]
    }
   ],
   "source": [
    "# 감정라벨링\n",
    "for i in range(0,len(df)):\n",
    "    if df.star[i] >= 4:\n",
    "        df['attitude'][i] = 2\n",
    "    elif df.star[i] == 3:\n",
    "        df['attitude'][i] = 1\n",
    "    else : \n",
    "        df['attitude'][i] = 0"
   ]
  },
  {
   "cell_type": "code",
   "execution_count": null,
   "metadata": {},
   "outputs": [],
   "source": [
    "df.head()"
   ]
  },
  {
   "cell_type": "code",
   "execution_count": 19,
   "metadata": {},
   "outputs": [],
   "source": [
    "df.to_csv('data/키워드_호텔_라벨링.csv',index=False, encoding='utf-8-sig')"
   ]
  },
  {
   "source": [],
   "cell_type": "markdown",
   "metadata": {}
  },
  {
   "cell_type": "code",
   "execution_count": 18,
   "metadata": {},
   "outputs": [
    {
     "output_type": "execute_result",
     "data": {
      "text/plain": [
       "     index  hotel   star  review     추천     힐링      뷰     주차     위치     깨끗  \\\n",
       "sum                                                                          \n",
       "0    96607  96607  96607   96607  96607  96607  96607  96607  96607  96607   \n",
       "1    48886  48886  48886   48886  48886  48886  48886  48886  48886  48886   \n",
       "2    19568  19568  19568   19568  19568  19568  19568  19568  19568  19568   \n",
       "3     5133   5133   5133    5133   5133   5133   5133   5133   5133   5133   \n",
       "4      981    981    981     981    981    981    981    981    981    981   \n",
       "5      144    144    144     144    144    144    144    144    144    144   \n",
       "6        9      9      9       9      9      9      9      9      9      9   \n",
       "\n",
       "        시설     친절  attitude  \n",
       "sum                          \n",
       "0    96607  96607     96607  \n",
       "1    48886  48886     48886  \n",
       "2    19568  19568     19568  \n",
       "3     5133   5133      5133  \n",
       "4      981    981       981  \n",
       "5      144    144       144  \n",
       "6        9      9         9  "
      ],
      "text/html": "<div>\n<style scoped>\n    .dataframe tbody tr th:only-of-type {\n        vertical-align: middle;\n    }\n\n    .dataframe tbody tr th {\n        vertical-align: top;\n    }\n\n    .dataframe thead th {\n        text-align: right;\n    }\n</style>\n<table border=\"1\" class=\"dataframe\">\n  <thead>\n    <tr style=\"text-align: right;\">\n      <th></th>\n      <th>index</th>\n      <th>hotel</th>\n      <th>star</th>\n      <th>review</th>\n      <th>추천</th>\n      <th>힐링</th>\n      <th>뷰</th>\n      <th>주차</th>\n      <th>위치</th>\n      <th>깨끗</th>\n      <th>시설</th>\n      <th>친절</th>\n      <th>attitude</th>\n    </tr>\n    <tr>\n      <th>sum</th>\n      <th></th>\n      <th></th>\n      <th></th>\n      <th></th>\n      <th></th>\n      <th></th>\n      <th></th>\n      <th></th>\n      <th></th>\n      <th></th>\n      <th></th>\n      <th></th>\n      <th></th>\n    </tr>\n  </thead>\n  <tbody>\n    <tr>\n      <th>0</th>\n      <td>96607</td>\n      <td>96607</td>\n      <td>96607</td>\n      <td>96607</td>\n      <td>96607</td>\n      <td>96607</td>\n      <td>96607</td>\n      <td>96607</td>\n      <td>96607</td>\n      <td>96607</td>\n      <td>96607</td>\n      <td>96607</td>\n      <td>96607</td>\n    </tr>\n    <tr>\n      <th>1</th>\n      <td>48886</td>\n      <td>48886</td>\n      <td>48886</td>\n      <td>48886</td>\n      <td>48886</td>\n      <td>48886</td>\n      <td>48886</td>\n      <td>48886</td>\n      <td>48886</td>\n      <td>48886</td>\n      <td>48886</td>\n      <td>48886</td>\n      <td>48886</td>\n    </tr>\n    <tr>\n      <th>2</th>\n      <td>19568</td>\n      <td>19568</td>\n      <td>19568</td>\n      <td>19568</td>\n      <td>19568</td>\n      <td>19568</td>\n      <td>19568</td>\n      <td>19568</td>\n      <td>19568</td>\n      <td>19568</td>\n      <td>19568</td>\n      <td>19568</td>\n      <td>19568</td>\n    </tr>\n    <tr>\n      <th>3</th>\n      <td>5133</td>\n      <td>5133</td>\n      <td>5133</td>\n      <td>5133</td>\n      <td>5133</td>\n      <td>5133</td>\n      <td>5133</td>\n      <td>5133</td>\n      <td>5133</td>\n      <td>5133</td>\n      <td>5133</td>\n      <td>5133</td>\n      <td>5133</td>\n    </tr>\n    <tr>\n      <th>4</th>\n      <td>981</td>\n      <td>981</td>\n      <td>981</td>\n      <td>981</td>\n      <td>981</td>\n      <td>981</td>\n      <td>981</td>\n      <td>981</td>\n      <td>981</td>\n      <td>981</td>\n      <td>981</td>\n      <td>981</td>\n      <td>981</td>\n    </tr>\n    <tr>\n      <th>5</th>\n      <td>144</td>\n      <td>144</td>\n      <td>144</td>\n      <td>144</td>\n      <td>144</td>\n      <td>144</td>\n      <td>144</td>\n      <td>144</td>\n      <td>144</td>\n      <td>144</td>\n      <td>144</td>\n      <td>144</td>\n      <td>144</td>\n    </tr>\n    <tr>\n      <th>6</th>\n      <td>9</td>\n      <td>9</td>\n      <td>9</td>\n      <td>9</td>\n      <td>9</td>\n      <td>9</td>\n      <td>9</td>\n      <td>9</td>\n      <td>9</td>\n      <td>9</td>\n      <td>9</td>\n      <td>9</td>\n      <td>9</td>\n    </tr>\n  </tbody>\n</table>\n</div>"
     },
     "metadata": {},
     "execution_count": 18
    }
   ],
   "source": [
    "df.groupby(['sum']).count()"
   ]
  },
  {
   "cell_type": "code",
   "execution_count": null,
   "metadata": {},
   "outputs": [],
   "source": []
  }
 ]
}