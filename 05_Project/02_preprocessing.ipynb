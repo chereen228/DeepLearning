{
 "metadata": {
  "language_info": {
   "codemirror_mode": {
    "name": "ipython",
    "version": 3
   },
   "file_extension": ".py",
   "mimetype": "text/x-python",
   "name": "python",
   "nbconvert_exporter": "python",
   "pygments_lexer": "ipython3",
   "version": "3.8.5"
  },
  "orig_nbformat": 4,
  "kernelspec": {
   "name": "python3",
   "display_name": "Python 3.8.5 64-bit ('base': conda)"
  },
  "interpreter": {
   "hash": "8c1eae21719a0790335dcb83aad72b63b602cfe5cdb2bda0f60bc11d4f154e4b"
  }
 },
 "nbformat": 4,
 "nbformat_minor": 2,
 "cells": [
  {
   "source": [
    "## 아고다 전처리\n",
    "- re, hanspell, konlpy, gensim\n",
    "- 한글만 뽑기, 중복 제거\n",
    "- 특수문자 제거\n",
    "- 의미 없는 자음, 모음 제거\n",
    "- 이모티콘 제거\n",
    "- 맞춤법 고치기 (띄어쓰기, 맞춤법 등)"
   ],
   "cell_type": "markdown",
   "metadata": {}
  },
  {
   "source": [
    "### 파일 import "
   ],
   "cell_type": "markdown",
   "metadata": {}
  },
  {
   "cell_type": "code",
   "execution_count": 1,
   "metadata": {},
   "outputs": [],
   "source": [
    "import numpy as np \n",
    "import tensorflow as tf \n",
    "seed = 2021\n",
    "np.random.seed(seed)\n",
    "tf.random.set_seed(seed)"
   ]
  },
  {
   "cell_type": "code",
   "execution_count": 2,
   "metadata": {},
   "outputs": [],
   "source": [
    "import pandas as pd \n",
    "import matplotlib.pyplot as plt \n",
    "%matplotlib inline"
   ]
  },
  {
   "cell_type": "code",
   "execution_count": 3,
   "metadata": {},
   "outputs": [],
   "source": [
    "from tensorflow.keras.preprocessing.text import Tokenizer\n",
    "from tensorflow.keras.preprocessing.sequence import pad_sequences"
   ]
  },
  {
   "cell_type": "code",
   "execution_count": 4,
   "metadata": {},
   "outputs": [],
   "source": [
    "agoda1 = pd.read_csv('data/agoda_review_4.csv')\n",
    "agoda2 = pd.read_csv('data/agoda_review_10.csv')\n",
    "agoda3 = pd.read_csv('data/agoda_review_12.csv')"
   ]
  },
  {
   "cell_type": "code",
   "execution_count": 5,
   "metadata": {},
   "outputs": [
    {
     "output_type": "execute_result",
     "data": {
      "text/plain": [
       "                                               호텔 이름  \\\n",
       "0  조선 팰리스 서울 강남 럭셔리 컬렉션 호텔 (Josun Palace, a Luxur...   \n",
       "\n",
       "                                         리뷰  \n",
       "0  대만족스러운 호텔입니다! 호캉스홀릭 카페 추천으로 다녀왔는데 넘 좋아써요  "
      ],
      "text/html": "<div>\n<style scoped>\n    .dataframe tbody tr th:only-of-type {\n        vertical-align: middle;\n    }\n\n    .dataframe tbody tr th {\n        vertical-align: top;\n    }\n\n    .dataframe thead th {\n        text-align: right;\n    }\n</style>\n<table border=\"1\" class=\"dataframe\">\n  <thead>\n    <tr style=\"text-align: right;\">\n      <th></th>\n      <th>호텔 이름</th>\n      <th>리뷰</th>\n    </tr>\n  </thead>\n  <tbody>\n    <tr>\n      <th>0</th>\n      <td>조선 팰리스 서울 강남 럭셔리 컬렉션 호텔 (Josun Palace, a Luxur...</td>\n      <td>대만족스러운 호텔입니다! 호캉스홀릭 카페 추천으로 다녀왔는데 넘 좋아써요</td>\n    </tr>\n  </tbody>\n</table>\n</div>"
     },
     "metadata": {},
     "execution_count": 5
    }
   ],
   "source": [
    "agoda1.head(1)"
   ]
  },
  {
   "cell_type": "code",
   "execution_count": 6,
   "metadata": {},
   "outputs": [
    {
     "output_type": "execute_result",
     "data": {
      "text/plain": [
       "                                               호텔 이름  \\\n",
       "0  나인트리 프리미어 호텔 명동 2 (Nine Tree Premier Hotel Mye...   \n",
       "\n",
       "                                                  리뷰  \n",
       "0  해외거주중 아이 방학에 맞춰 한국에 갔습니다. 한달 가량 머물 숙소를 찾다가 나인트...  "
      ],
      "text/html": "<div>\n<style scoped>\n    .dataframe tbody tr th:only-of-type {\n        vertical-align: middle;\n    }\n\n    .dataframe tbody tr th {\n        vertical-align: top;\n    }\n\n    .dataframe thead th {\n        text-align: right;\n    }\n</style>\n<table border=\"1\" class=\"dataframe\">\n  <thead>\n    <tr style=\"text-align: right;\">\n      <th></th>\n      <th>호텔 이름</th>\n      <th>리뷰</th>\n    </tr>\n  </thead>\n  <tbody>\n    <tr>\n      <th>0</th>\n      <td>나인트리 프리미어 호텔 명동 2 (Nine Tree Premier Hotel Mye...</td>\n      <td>해외거주중 아이 방학에 맞춰 한국에 갔습니다. 한달 가량 머물 숙소를 찾다가 나인트...</td>\n    </tr>\n  </tbody>\n</table>\n</div>"
     },
     "metadata": {},
     "execution_count": 6
    }
   ],
   "source": [
    "agoda2.head(1)"
   ]
  },
  {
   "cell_type": "code",
   "execution_count": 7,
   "metadata": {},
   "outputs": [
    {
     "output_type": "execute_result",
     "data": {
      "text/plain": [
       "                                               호텔 이름  \\\n",
       "0  머큐어 앰배서더 서울 강남 쏘도베 (Mercure Ambassador Seoul G...   \n",
       "\n",
       "                                                  리뷰  \n",
       "0  침대 시트에 검은 자국이 좀 있었지만 그래도 위치,가격, 룸 분위기 , 직원 태도,...  "
      ],
      "text/html": "<div>\n<style scoped>\n    .dataframe tbody tr th:only-of-type {\n        vertical-align: middle;\n    }\n\n    .dataframe tbody tr th {\n        vertical-align: top;\n    }\n\n    .dataframe thead th {\n        text-align: right;\n    }\n</style>\n<table border=\"1\" class=\"dataframe\">\n  <thead>\n    <tr style=\"text-align: right;\">\n      <th></th>\n      <th>호텔 이름</th>\n      <th>리뷰</th>\n    </tr>\n  </thead>\n  <tbody>\n    <tr>\n      <th>0</th>\n      <td>머큐어 앰배서더 서울 강남 쏘도베 (Mercure Ambassador Seoul G...</td>\n      <td>침대 시트에 검은 자국이 좀 있었지만 그래도 위치,가격, 룸 분위기 , 직원 태도,...</td>\n    </tr>\n  </tbody>\n</table>\n</div>"
     },
     "metadata": {},
     "execution_count": 7
    }
   ],
   "source": [
    "agoda3.head(1)"
   ]
  },
  {
   "source": [
    "### 데이터 전처리"
   ],
   "cell_type": "markdown",
   "metadata": {}
  },
  {
   "cell_type": "code",
   "execution_count": 8,
   "metadata": {},
   "outputs": [],
   "source": [
    "# 데이터 합치기\n",
    "agoda1.columns = ['hotel', 'review']\n",
    "agoda2.columns = ['hotel', 'review']\n",
    "agoda3.columns = ['hotel', 'review']"
   ]
  },
  {
   "cell_type": "code",
   "execution_count": 9,
   "metadata": {},
   "outputs": [
    {
     "output_type": "execute_result",
     "data": {
      "text/plain": [
       "                                               hotel  \\\n",
       "0  조선 팰리스 서울 강남 럭셔리 컬렉션 호텔 (Josun Palace, a Luxur...   \n",
       "1                        신라스테이 마포 (Shilla Stay Mapo)   \n",
       "2                        신라스테이 마포 (Shilla Stay Mapo)   \n",
       "\n",
       "                                              review  \n",
       "0           대만족스러운 호텔입니다! 호캉스홀릭 카페 추천으로 다녀왔는데 넘 좋아써요  \n",
       "1                                      모난곳 없는 좋은 숙소!  \n",
       "2  아고다를 통해 예약을 했습니다. 아주 저렴하게 이용할 수 있었습니다. 모든게 만족스...  "
      ],
      "text/html": "<div>\n<style scoped>\n    .dataframe tbody tr th:only-of-type {\n        vertical-align: middle;\n    }\n\n    .dataframe tbody tr th {\n        vertical-align: top;\n    }\n\n    .dataframe thead th {\n        text-align: right;\n    }\n</style>\n<table border=\"1\" class=\"dataframe\">\n  <thead>\n    <tr style=\"text-align: right;\">\n      <th></th>\n      <th>hotel</th>\n      <th>review</th>\n    </tr>\n  </thead>\n  <tbody>\n    <tr>\n      <th>0</th>\n      <td>조선 팰리스 서울 강남 럭셔리 컬렉션 호텔 (Josun Palace, a Luxur...</td>\n      <td>대만족스러운 호텔입니다! 호캉스홀릭 카페 추천으로 다녀왔는데 넘 좋아써요</td>\n    </tr>\n    <tr>\n      <th>1</th>\n      <td>신라스테이 마포 (Shilla Stay Mapo)</td>\n      <td>모난곳 없는 좋은 숙소!</td>\n    </tr>\n    <tr>\n      <th>2</th>\n      <td>신라스테이 마포 (Shilla Stay Mapo)</td>\n      <td>아고다를 통해 예약을 했습니다. 아주 저렴하게 이용할 수 있었습니다. 모든게 만족스...</td>\n    </tr>\n  </tbody>\n</table>\n</div>"
     },
     "metadata": {},
     "execution_count": 9
    }
   ],
   "source": [
    "agoda = pd.concat([agoda1, agoda2, agoda3])\n",
    "agoda.head(3)"
   ]
  },
  {
   "cell_type": "code",
   "execution_count": 10,
   "metadata": {},
   "outputs": [
    {
     "output_type": "execute_result",
     "data": {
      "text/plain": [
       "<bound method DataFrame.info of                                                   hotel  \\\n",
       "0     조선 팰리스 서울 강남 럭셔리 컬렉션 호텔 (Josun Palace, a Luxur...   \n",
       "1                           신라스테이 마포 (Shilla Stay Mapo)   \n",
       "2                           신라스테이 마포 (Shilla Stay Mapo)   \n",
       "3                           신라스테이 마포 (Shilla Stay Mapo)   \n",
       "4                           신라스테이 마포 (Shilla Stay Mapo)   \n",
       "...                                                 ...   \n",
       "1387  머큐어 앰배서더 서울 강남 쏘도베 (Mercure Ambassador Seoul G...   \n",
       "1388  머큐어 앰배서더 서울 강남 쏘도베 (Mercure Ambassador Seoul G...   \n",
       "1389  머큐어 앰배서더 서울 강남 쏘도베 (Mercure Ambassador Seoul G...   \n",
       "1390  머큐어 앰배서더 서울 강남 쏘도베 (Mercure Ambassador Seoul G...   \n",
       "1391  머큐어 앰배서더 서울 강남 쏘도베 (Mercure Ambassador Seoul G...   \n",
       "\n",
       "                                                 review  \n",
       "0              대만족스러운 호텔입니다! 호캉스홀릭 카페 추천으로 다녀왔는데 넘 좋아써요  \n",
       "1                                         모난곳 없는 좋은 숙소!  \n",
       "2     아고다를 통해 예약을 했습니다. 아주 저렴하게 이용할 수 있었습니다. 모든게 만족스...  \n",
       "3     옷장 위 쪽엔 먼지와 누군가의 양말이 그대로 있었어요. 쇼파엔 다른 투숙객이 만든 ...  \n",
       "4                      신라스테이 가격도 좋고, 편안함도 좋고 푹 쉬다가기 좋아요  \n",
       "...                                                 ...  \n",
       "1387  離江南站一個站的地方，雖然沒有很熱鬧，但交通便利，距離地鐵站走路只要3分鐘。附近也有許多餐廳...  \n",
       "1388  出差的關係住在江南區 仁川機場可以直接撘乘6020 bus (KWR ) 直接到到驛三地鐵站...  \n",
       "1389                                       近地鐵,到機場交通方便.  \n",
       "1390                                                  .  \n",
       "1391  飯店人員服務佳，位置優越，離地鐵很近，且附近餐廳不少，對面有便利商店，但飯店的居住環境及舒適...  \n",
       "\n",
       "[9777 rows x 2 columns]>"
      ]
     },
     "metadata": {},
     "execution_count": 10
    }
   ],
   "source": [
    "agoda.info"
   ]
  },
  {
   "cell_type": "code",
   "execution_count": 11,
   "metadata": {},
   "outputs": [
    {
     "output_type": "execute_result",
     "data": {
      "text/plain": [
       "hotel     0\n",
       "review    7\n",
       "dtype: int64"
      ]
     },
     "metadata": {},
     "execution_count": 11
    }
   ],
   "source": [
    "# 결측치 확인\n",
    "agoda.isnull().sum()"
   ]
  },
  {
   "cell_type": "code",
   "execution_count": 12,
   "metadata": {},
   "outputs": [],
   "source": [
    "# 결측치 삭제\n",
    "agoda = agoda.dropna(axis=0)"
   ]
  },
  {
   "cell_type": "code",
   "execution_count": 13,
   "metadata": {},
   "outputs": [
    {
     "output_type": "execute_result",
     "data": {
      "text/plain": [
       "9770"
      ]
     },
     "metadata": {},
     "execution_count": 13
    }
   ],
   "source": [
    "len(agoda)"
   ]
  },
  {
   "cell_type": "code",
   "execution_count": 14,
   "metadata": {},
   "outputs": [
    {
     "output_type": "execute_result",
     "data": {
      "text/plain": [
       "hotel     0\n",
       "review    0\n",
       "dtype: int64"
      ]
     },
     "metadata": {},
     "execution_count": 14
    }
   ],
   "source": [
    "agoda.isnull().sum()"
   ]
  },
  {
   "cell_type": "code",
   "execution_count": 15,
   "metadata": {},
   "outputs": [
    {
     "output_type": "execute_result",
     "data": {
      "text/plain": [
       "9556"
      ]
     },
     "metadata": {},
     "execution_count": 15
    }
   ],
   "source": [
    "# 데이터 중복 여부 확인\n",
    "agoda.review.nunique()"
   ]
  },
  {
   "cell_type": "code",
   "execution_count": 16,
   "metadata": {},
   "outputs": [],
   "source": [
    "# 중복 데이터 제거\n",
    "agoda = agoda.drop_duplicates('review', keep='first')"
   ]
  },
  {
   "cell_type": "code",
   "execution_count": 17,
   "metadata": {},
   "outputs": [
    {
     "output_type": "execute_result",
     "data": {
      "text/plain": [
       "9556"
      ]
     },
     "metadata": {},
     "execution_count": 17
    }
   ],
   "source": [
    "len(agoda.review.values)"
   ]
  },
  {
   "cell_type": "code",
   "execution_count": 18,
   "metadata": {},
   "outputs": [
    {
     "output_type": "execute_result",
     "data": {
      "text/plain": [
       "                                                  hotel  \\\n",
       "1386  머큐어 앰배서더 서울 강남 쏘도베 (Mercure Ambassador Seoul G...   \n",
       "1387  머큐어 앰배서더 서울 강남 쏘도베 (Mercure Ambassador Seoul G...   \n",
       "1388  머큐어 앰배서더 서울 강남 쏘도베 (Mercure Ambassador Seoul G...   \n",
       "1389  머큐어 앰배서더 서울 강남 쏘도베 (Mercure Ambassador Seoul G...   \n",
       "1391  머큐어 앰배서더 서울 강남 쏘도베 (Mercure Ambassador Seoul G...   \n",
       "\n",
       "                                                 review  \n",
       "1386  整體感覺不錯。房間仍然不大，但比明洞大的多。出巷口就是地鐵站和機場大巴。比較沒想到酒店竟沒有...  \n",
       "1387  離江南站一個站的地方，雖然沒有很熱鬧，但交通便利，距離地鐵站走路只要3分鐘。附近也有許多餐廳...  \n",
       "1388  出差的關係住在江南區 仁川機場可以直接撘乘6020 bus (KWR ) 直接到到驛三地鐵站...  \n",
       "1389                                       近地鐵,到機場交通方便.  \n",
       "1391  飯店人員服務佳，位置優越，離地鐵很近，且附近餐廳不少，對面有便利商店，但飯店的居住環境及舒適...  "
      ],
      "text/html": "<div>\n<style scoped>\n    .dataframe tbody tr th:only-of-type {\n        vertical-align: middle;\n    }\n\n    .dataframe tbody tr th {\n        vertical-align: top;\n    }\n\n    .dataframe thead th {\n        text-align: right;\n    }\n</style>\n<table border=\"1\" class=\"dataframe\">\n  <thead>\n    <tr style=\"text-align: right;\">\n      <th></th>\n      <th>hotel</th>\n      <th>review</th>\n    </tr>\n  </thead>\n  <tbody>\n    <tr>\n      <th>1386</th>\n      <td>머큐어 앰배서더 서울 강남 쏘도베 (Mercure Ambassador Seoul G...</td>\n      <td>整體感覺不錯。房間仍然不大，但比明洞大的多。出巷口就是地鐵站和機場大巴。比較沒想到酒店竟沒有...</td>\n    </tr>\n    <tr>\n      <th>1387</th>\n      <td>머큐어 앰배서더 서울 강남 쏘도베 (Mercure Ambassador Seoul G...</td>\n      <td>離江南站一個站的地方，雖然沒有很熱鬧，但交通便利，距離地鐵站走路只要3分鐘。附近也有許多餐廳...</td>\n    </tr>\n    <tr>\n      <th>1388</th>\n      <td>머큐어 앰배서더 서울 강남 쏘도베 (Mercure Ambassador Seoul G...</td>\n      <td>出差的關係住在江南區 仁川機場可以直接撘乘6020 bus (KWR ) 直接到到驛三地鐵站...</td>\n    </tr>\n    <tr>\n      <th>1389</th>\n      <td>머큐어 앰배서더 서울 강남 쏘도베 (Mercure Ambassador Seoul G...</td>\n      <td>近地鐵,到機場交通方便.</td>\n    </tr>\n    <tr>\n      <th>1391</th>\n      <td>머큐어 앰배서더 서울 강남 쏘도베 (Mercure Ambassador Seoul G...</td>\n      <td>飯店人員服務佳，位置優越，離地鐵很近，且附近餐廳不少，對面有便利商店，但飯店的居住環境及舒適...</td>\n    </tr>\n  </tbody>\n</table>\n</div>"
     },
     "metadata": {},
     "execution_count": 18
    }
   ],
   "source": [
    "agoda.tail(5)"
   ]
  },
  {
   "source": [
    "### 텍스트 전처리"
   ],
   "cell_type": "markdown",
   "metadata": {}
  },
  {
   "cell_type": "code",
   "execution_count": 19,
   "metadata": {},
   "outputs": [
    {
     "output_type": "stream",
     "name": "stderr",
     "text": [
      "<ipython-input-19-ee439f4431e2>:2: FutureWarning: The default value of regex will change from True to False in a future version.\n  agoda['review'] = agoda.review.str.replace('[^ㄱ-ㅎㅏ-ㅣ가-힣 ]', '')\n"
     ]
    },
    {
     "output_type": "execute_result",
     "data": {
      "text/plain": [
       "                                                  hotel        review\n",
       "1386  머큐어 앰배서더 서울 강남 쏘도베 (Mercure Ambassador Seoul G...              \n",
       "1387  머큐어 앰배서더 서울 강남 쏘도베 (Mercure Ambassador Seoul G...              \n",
       "1388  머큐어 앰배서더 서울 강남 쏘도베 (Mercure Ambassador Seoul G...              \n",
       "1389  머큐어 앰배서더 서울 강남 쏘도베 (Mercure Ambassador Seoul G...              \n",
       "1391  머큐어 앰배서더 서울 강남 쏘도베 (Mercure Ambassador Seoul G...              "
      ],
      "text/html": "<div>\n<style scoped>\n    .dataframe tbody tr th:only-of-type {\n        vertical-align: middle;\n    }\n\n    .dataframe tbody tr th {\n        vertical-align: top;\n    }\n\n    .dataframe thead th {\n        text-align: right;\n    }\n</style>\n<table border=\"1\" class=\"dataframe\">\n  <thead>\n    <tr style=\"text-align: right;\">\n      <th></th>\n      <th>hotel</th>\n      <th>review</th>\n    </tr>\n  </thead>\n  <tbody>\n    <tr>\n      <th>1386</th>\n      <td>머큐어 앰배서더 서울 강남 쏘도베 (Mercure Ambassador Seoul G...</td>\n      <td></td>\n    </tr>\n    <tr>\n      <th>1387</th>\n      <td>머큐어 앰배서더 서울 강남 쏘도베 (Mercure Ambassador Seoul G...</td>\n      <td></td>\n    </tr>\n    <tr>\n      <th>1388</th>\n      <td>머큐어 앰배서더 서울 강남 쏘도베 (Mercure Ambassador Seoul G...</td>\n      <td></td>\n    </tr>\n    <tr>\n      <th>1389</th>\n      <td>머큐어 앰배서더 서울 강남 쏘도베 (Mercure Ambassador Seoul G...</td>\n      <td></td>\n    </tr>\n    <tr>\n      <th>1391</th>\n      <td>머큐어 앰배서더 서울 강남 쏘도베 (Mercure Ambassador Seoul G...</td>\n      <td></td>\n    </tr>\n  </tbody>\n</table>\n</div>"
     },
     "metadata": {},
     "execution_count": 19
    }
   ],
   "source": [
    "# 한글과 공백 이외는 제거\n",
    "agoda['review'] = agoda.review.str.replace('[^ㄱ-ㅎㅏ-ㅣ가-힣 ]', '')\n",
    "agoda.tail(5)"
   ]
  },
  {
   "cell_type": "code",
   "execution_count": 20,
   "metadata": {},
   "outputs": [
    {
     "output_type": "execute_result",
     "data": {
      "text/plain": [
       "943"
      ]
     },
     "metadata": {},
     "execution_count": 20
    }
   ],
   "source": [
    "agoda['review'].replace('', np.nan, inplace=True)\n",
    "agoda.review.isnull().sum()"
   ]
  },
  {
   "cell_type": "code",
   "execution_count": 21,
   "metadata": {},
   "outputs": [
    {
     "output_type": "execute_result",
     "data": {
      "text/plain": [
       "(8613, 2)"
      ]
     },
     "metadata": {},
     "execution_count": 21
    }
   ],
   "source": [
    "agoda = agoda.dropna(how='any')\n",
    "agoda.shape"
   ]
  },
  {
   "cell_type": "code",
   "execution_count": 22,
   "metadata": {},
   "outputs": [
    {
     "output_type": "execute_result",
     "data": {
      "text/plain": [
       "(8613, 2)"
      ]
     },
     "metadata": {},
     "execution_count": 22
    }
   ],
   "source": [
    "agoda.shape()"
   ]
  },
  {
   "cell_type": "code",
   "execution_count": 29,
   "metadata": {},
   "outputs": [],
   "source": [
    "# 공백만 있는 행 제거\n",
    "agoda['review'] = agoda.review.str.replace(' ', '')"
   ]
  },
  {
   "cell_type": "code",
   "execution_count": 31,
   "metadata": {},
   "outputs": [
    {
     "output_type": "execute_result",
     "data": {
      "text/plain": [
       "2939"
      ]
     },
     "metadata": {},
     "execution_count": 31
    }
   ],
   "source": [
    "agoda['review'].replace('', np.nan, inplace=True)\n",
    "agoda.review.isnull().sum()"
   ]
  },
  {
   "cell_type": "code",
   "execution_count": 32,
   "metadata": {},
   "outputs": [
    {
     "output_type": "execute_result",
     "data": {
      "text/plain": [
       "(5674, 3)"
      ]
     },
     "metadata": {},
     "execution_count": 32
    }
   ],
   "source": [
    "agoda = agoda.dropna(how='any')\n",
    "agoda.shape"
   ]
  },
  {
   "cell_type": "code",
   "execution_count": 33,
   "metadata": {},
   "outputs": [
    {
     "output_type": "stream",
     "name": "stderr",
     "text": [
      "<ipython-input-33-535affc35b55>:2: SettingWithCopyWarning: \nA value is trying to be set on a copy of a slice from a DataFrame.\nTry using .loc[row_indexer,col_indexer] = value instead\n\nSee the caveats in the documentation: https://pandas.pydata.org/pandas-docs/stable/user_guide/indexing.html#returning-a-view-versus-a-copy\n  agoda['length'] = agoda['review'].apply(lambda x: len(str(x)))\n<ipython-input-33-535affc35b55>:3: SettingWithCopyWarning: \nA value is trying to be set on a copy of a slice from a DataFrame.\nTry using .loc[row_indexer,col_indexer] = value instead\n\nSee the caveats in the documentation: https://pandas.pydata.org/pandas-docs/stable/user_guide/indexing.html#returning-a-view-versus-a-copy\n  agoda['review'] = agoda['review'].astype('str')\n"
     ]
    },
    {
     "output_type": "execute_result",
     "data": {
      "text/plain": [
       "                                                  hotel  \\\n",
       "0     조선 팰리스 서울 강남 럭셔리 컬렉션 호텔 (Josun Palace, a Luxur...   \n",
       "1                           신라스테이 마포 (Shilla Stay Mapo)   \n",
       "2                           신라스테이 마포 (Shilla Stay Mapo)   \n",
       "3                           신라스테이 마포 (Shilla Stay Mapo)   \n",
       "4                           신라스테이 마포 (Shilla Stay Mapo)   \n",
       "...                                                 ...   \n",
       "327   머큐어 앰배서더 서울 강남 쏘도베 (Mercure Ambassador Seoul G...   \n",
       "328   머큐어 앰배서더 서울 강남 쏘도베 (Mercure Ambassador Seoul G...   \n",
       "329   머큐어 앰배서더 서울 강남 쏘도베 (Mercure Ambassador Seoul G...   \n",
       "574   머큐어 앰배서더 서울 강남 쏘도베 (Mercure Ambassador Seoul G...   \n",
       "1347  머큐어 앰배서더 서울 강남 쏘도베 (Mercure Ambassador Seoul G...   \n",
       "\n",
       "                                                 review  length  \n",
       "0                      대만족스러운호텔입니다호캉스홀릭카페추천으로다녀왔는데넘좋아써요      32  \n",
       "1                                             모난곳없는좋은숙소       9  \n",
       "2     아고다를통해예약을했습니다아주저렴하게이용할수있었습니다모든게만족스러웠죠친절과청결은최상이...      69  \n",
       "3            옷장위쪽엔먼지와누군가의양말이그대로있었어요쇼파엔다른투숙객이만든얼룩이그대로있구요      42  \n",
       "4                              신라스테이가격도좋고편안함도좋고푹쉬다가기좋아요      24  \n",
       "...                                                 ...     ...  \n",
       "327   그냥일반인이라면특히연세가있으신분께는비추입니다방과욕실모두협소합니다그냥잠만잘수있는정도이...      84  \n",
       "328   아쉬웠던점은특히모닝커피를룸에서도마실수있도록했으면시이후에룸서비스가되니커피도팟으로서비스...      56  \n",
       "329                      새로지어깨끗함화장실이너무좁음여는데문제가있음나머지는적당함      30  \n",
       "574                                                 역삼역       3  \n",
       "1347                                                 역삼       2  \n",
       "\n",
       "[5674 rows x 3 columns]"
      ],
      "text/html": "<div>\n<style scoped>\n    .dataframe tbody tr th:only-of-type {\n        vertical-align: middle;\n    }\n\n    .dataframe tbody tr th {\n        vertical-align: top;\n    }\n\n    .dataframe thead th {\n        text-align: right;\n    }\n</style>\n<table border=\"1\" class=\"dataframe\">\n  <thead>\n    <tr style=\"text-align: right;\">\n      <th></th>\n      <th>hotel</th>\n      <th>review</th>\n      <th>length</th>\n    </tr>\n  </thead>\n  <tbody>\n    <tr>\n      <th>0</th>\n      <td>조선 팰리스 서울 강남 럭셔리 컬렉션 호텔 (Josun Palace, a Luxur...</td>\n      <td>대만족스러운호텔입니다호캉스홀릭카페추천으로다녀왔는데넘좋아써요</td>\n      <td>32</td>\n    </tr>\n    <tr>\n      <th>1</th>\n      <td>신라스테이 마포 (Shilla Stay Mapo)</td>\n      <td>모난곳없는좋은숙소</td>\n      <td>9</td>\n    </tr>\n    <tr>\n      <th>2</th>\n      <td>신라스테이 마포 (Shilla Stay Mapo)</td>\n      <td>아고다를통해예약을했습니다아주저렴하게이용할수있었습니다모든게만족스러웠죠친절과청결은최상이...</td>\n      <td>69</td>\n    </tr>\n    <tr>\n      <th>3</th>\n      <td>신라스테이 마포 (Shilla Stay Mapo)</td>\n      <td>옷장위쪽엔먼지와누군가의양말이그대로있었어요쇼파엔다른투숙객이만든얼룩이그대로있구요</td>\n      <td>42</td>\n    </tr>\n    <tr>\n      <th>4</th>\n      <td>신라스테이 마포 (Shilla Stay Mapo)</td>\n      <td>신라스테이가격도좋고편안함도좋고푹쉬다가기좋아요</td>\n      <td>24</td>\n    </tr>\n    <tr>\n      <th>...</th>\n      <td>...</td>\n      <td>...</td>\n      <td>...</td>\n    </tr>\n    <tr>\n      <th>327</th>\n      <td>머큐어 앰배서더 서울 강남 쏘도베 (Mercure Ambassador Seoul G...</td>\n      <td>그냥일반인이라면특히연세가있으신분께는비추입니다방과욕실모두협소합니다그냥잠만잘수있는정도이...</td>\n      <td>84</td>\n    </tr>\n    <tr>\n      <th>328</th>\n      <td>머큐어 앰배서더 서울 강남 쏘도베 (Mercure Ambassador Seoul G...</td>\n      <td>아쉬웠던점은특히모닝커피를룸에서도마실수있도록했으면시이후에룸서비스가되니커피도팟으로서비스...</td>\n      <td>56</td>\n    </tr>\n    <tr>\n      <th>329</th>\n      <td>머큐어 앰배서더 서울 강남 쏘도베 (Mercure Ambassador Seoul G...</td>\n      <td>새로지어깨끗함화장실이너무좁음여는데문제가있음나머지는적당함</td>\n      <td>30</td>\n    </tr>\n    <tr>\n      <th>574</th>\n      <td>머큐어 앰배서더 서울 강남 쏘도베 (Mercure Ambassador Seoul G...</td>\n      <td>역삼역</td>\n      <td>3</td>\n    </tr>\n    <tr>\n      <th>1347</th>\n      <td>머큐어 앰배서더 서울 강남 쏘도베 (Mercure Ambassador Seoul G...</td>\n      <td>역삼</td>\n      <td>2</td>\n    </tr>\n  </tbody>\n</table>\n<p>5674 rows × 3 columns</p>\n</div>"
     },
     "metadata": {},
     "execution_count": 33
    }
   ],
   "source": [
    "# 문장길이 컬럼 추가\n",
    "agoda['length'] = agoda['review'].apply(lambda x: len(str(x)))\n",
    "agoda['review'] = agoda['review'].astype('str')\n",
    "agoda"
   ]
  },
  {
   "cell_type": "code",
   "execution_count": 37,
   "metadata": {},
   "outputs": [],
   "source": [
    "# 문장 길이순으로 정렬, 인덱스 리셋\n",
    "agoda = agoda.sort_values(by=['length'], axis=0)\n",
    "agoda = agoda.reset_index(drop=True)"
   ]
  },
  {
   "cell_type": "code",
   "execution_count": 39,
   "metadata": {},
   "outputs": [],
   "source": [
    "agoda.to_csv('아고다_띄어쓰기없음_글자개수순정렬.csv', index=False)"
   ]
  },
  {
   "cell_type": "code",
   "execution_count": 38,
   "metadata": {},
   "outputs": [
    {
     "output_type": "execute_result",
     "data": {
      "text/plain": [
       "hotel     루체브릿지 호텔 (Luce Bridge Hotel)\n",
       "review                               ㅁ\n",
       "length                               1\n",
       "Name: 0, dtype: object"
      ]
     },
     "metadata": {},
     "execution_count": 38
    }
   ],
   "source": [
    "agoda."
   ]
  },
  {
   "cell_type": "code",
   "execution_count": null,
   "metadata": {},
   "outputs": [],
   "source": []
  }
 ]
}