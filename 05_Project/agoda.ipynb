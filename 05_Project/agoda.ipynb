{
 "metadata": {
  "language_info": {
   "codemirror_mode": {
    "name": "ipython",
    "version": 3
   },
   "file_extension": ".py",
   "mimetype": "text/x-python",
   "name": "python",
   "nbconvert_exporter": "python",
   "pygments_lexer": "ipython3",
   "version": "3.8.5"
  },
  "orig_nbformat": 4,
  "kernelspec": {
   "name": "python3",
   "display_name": "Python 3.8.5 64-bit ('base': conda)"
  },
  "interpreter": {
   "hash": "8c1eae21719a0790335dcb83aad72b63b602cfe5cdb2bda0f60bc11d4f154e4b"
  }
 },
 "nbformat": 4,
 "nbformat_minor": 2,
 "cells": [
  {
   "cell_type": "code",
   "execution_count": 1,
   "metadata": {},
   "outputs": [],
   "source": [
    "from selenium import webdriver\n",
    "import requests\n",
    "from bs4 import BeautifulSoup as bs\n",
    "from selenium.webdriver import ActionChains as ac\n",
    "import pandas as pd\n",
    "import time\n",
    "from selenium.webdriver.support.select import Select"
   ]
  },
  {
   "cell_type": "code",
   "execution_count": null,
   "metadata": {},
   "outputs": [],
   "source": [
    "s"
   ]
  },
  {
   "cell_type": "code",
   "execution_count": 3,
   "metadata": {},
   "outputs": [],
   "source": [
    "# 크롬드라이버\n",
    "path = 'C:/Temp/chromedriver.exe'\n",
    "driver = webdriver.Chrome(path)\n",
    "\n",
    "\n",
    "# 페이지 로딩 대기 5초\n",
    "driver.implicitly_wait(5)\n",
    "\n",
    "# 페이지 가져오기 & 파싱\n",
    "driver.get('https://www.agoda.com/ko-kr/glad-live-gangnam_2/hotel/seoul-kr.html?finalPriceView=1&isShowMobileAppPrice=false&cid=1829971&numberOfBedrooms=&familyMode=false&adults=2&children=0&rooms=1&maxRooms=0&checkIn=2020-12-11&isCalendarCallout=false&childAges=&numberOfGuest=0&missingChildAges=false&travellerType=1&showReviewSubmissionEntry=false&currencyCode=KRW&isFreeOccSearch=false&tag=747e9723-83df-6f99-853a-8505c70753f7&los=1&searchrequestid=509f890e-e014-4df7-a231-a744ecd2194c')\n",
    "html = driver.page_source\n",
    "soup = bs(html, 'html.parser')\n"
   ]
  },
  {
   "cell_type": "code",
   "execution_count": null,
   "metadata": {},
   "outputs": [],
   "source": []
  },
  {
   "cell_type": "code",
   "execution_count": null,
   "metadata": {},
   "outputs": [],
   "source": [
    "\n",
    "# 리뷰 영역까지 스크롤\n",
    "scroll_point = driver.find_element_by_id('reviewFilterSection')\n",
    "ac(driver).move_to_element(scroll_point).perform()\n",
    "\n",
    "html = driver.page_source\n",
    "soup = bs(html, 'html.parser')\n",
    "\n",
    "button = driver.find_element_by_xpath('//*[@id=\"reviewFilterSection\"]/div[3]/div[1]')\n",
    "                                      \n",
    "ac(driver).move_to_element(button).click().perform\n",
    "time.sleep(2)\n",
    "button = driver.find_element_by_xpath('//*[@id=\"reviewFilterSection\"]/div[3]/div[1]')\n",
    "ac(driver).move_to_element(button).click().perform\n",
    "time.sleep(2)\n",
    "button = driver.find_element_by_xpath('//*[@id=\"reviewFilterSection\"]/div[1]/div[3]')\n",
    "ac(driver).move_to_element(button).click().perform()\n",
    "time.sleep(2)\n",
    "\n",
    "#한국어클릭\n",
    "button = driver.find_element_by_xpath('//*[@id=\"reviewFilterSection\"]/div[1]/div[3]/div/ul/li[2]')\n",
    "ac(driver).move_to_element(button).click().perform()\n",
    "time.sleep(2)\n",
    "\n",
    "driver.implicitly_wait(5)\n",
    "\n",
    "# 다시 파싱\n",
    "html = driver.page_source\n",
    "soup = bs(html, 'html.parser')"
   ]
  }
 ]
}