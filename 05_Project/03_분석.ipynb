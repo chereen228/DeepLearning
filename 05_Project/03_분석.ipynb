{
 "cells": [
  {
   "cell_type": "markdown",
   "metadata": {},
   "source": [
    "### import"
   ]
  },
  {
   "cell_type": "code",
   "execution_count": 1,
   "metadata": {},
   "outputs": [],
   "source": [
    "import pandas as pd\n",
    "import plotly"
   ]
  },
  {
   "cell_type": "code",
   "execution_count": 2,
   "metadata": {},
   "outputs": [
    {
     "data": {
      "text/html": [
       "<div>\n",
       "<style scoped>\n",
       "    .dataframe tbody tr th:only-of-type {\n",
       "        vertical-align: middle;\n",
       "    }\n",
       "\n",
       "    .dataframe tbody tr th {\n",
       "        vertical-align: top;\n",
       "    }\n",
       "\n",
       "    .dataframe thead th {\n",
       "        text-align: right;\n",
       "    }\n",
       "</style>\n",
       "<table border=\"1\" class=\"dataframe\">\n",
       "  <thead>\n",
       "    <tr style=\"text-align: right;\">\n",
       "      <th></th>\n",
       "      <th>hotel</th>\n",
       "      <th>star</th>\n",
       "      <th>review</th>\n",
       "    </tr>\n",
       "  </thead>\n",
       "  <tbody>\n",
       "    <tr>\n",
       "      <th>0</th>\n",
       "      <td>호텔 8 Hours</td>\n",
       "      <td>5</td>\n",
       "      <td>깨끗하고 위치도 좋고 구성비 좋았습니다 다만 비품이 거의 없다고 보면 돼서 챙겨가야...</td>\n",
       "    </tr>\n",
       "    <tr>\n",
       "      <th>1</th>\n",
       "      <td>호텔 8 Hours</td>\n",
       "      <td>4</td>\n",
       "      <td>너무 좋아요 잘 머물다 갑니다</td>\n",
       "    </tr>\n",
       "    <tr>\n",
       "      <th>2</th>\n",
       "      <td>호텔 8 Hours</td>\n",
       "      <td>5</td>\n",
       "      <td>적당히 잘 쉬다 가요</td>\n",
       "    </tr>\n",
       "    <tr>\n",
       "      <th>3</th>\n",
       "      <td>호텔 8 Hours</td>\n",
       "      <td>5</td>\n",
       "      <td>매번 요때마다 매우 만족합니다 번창하세요</td>\n",
       "    </tr>\n",
       "    <tr>\n",
       "      <th>4</th>\n",
       "      <td>호텔 8 Hours</td>\n",
       "      <td>5</td>\n",
       "      <td>너무 편하고 좋았어요</td>\n",
       "    </tr>\n",
       "  </tbody>\n",
       "</table>\n",
       "</div>"
      ],
      "text/plain": [
       "        hotel  star                                             review\n",
       "0  호텔 8 Hours     5  깨끗하고 위치도 좋고 구성비 좋았습니다 다만 비품이 거의 없다고 보면 돼서 챙겨가야...\n",
       "1  호텔 8 Hours     4                                   너무 좋아요 잘 머물다 갑니다\n",
       "2  호텔 8 Hours     5                                        적당히 잘 쉬다 가요\n",
       "3  호텔 8 Hours     5                             매번 요때마다 매우 만족합니다 번창하세요\n",
       "4  호텔 8 Hours     5                                        너무 편하고 좋았어요"
      ]
     },
     "execution_count": 2,
     "metadata": {},
     "output_type": "execute_result"
    }
   ],
   "source": [
    "df = pd.read_csv('data/리뷰크롤링최종합본.csv')\n",
    "df.head()"
   ]
  },
  {
   "cell_type": "code",
   "execution_count": 3,
   "metadata": {},
   "outputs": [
    {
     "name": "stdout",
     "output_type": "stream",
     "text": [
      "<class 'pandas.core.frame.DataFrame'>\n",
      "RangeIndex: 171670 entries, 0 to 171669\n",
      "Data columns (total 3 columns):\n",
      " #   Column  Non-Null Count   Dtype \n",
      "---  ------  --------------   ----- \n",
      " 0   hotel   171670 non-null  object\n",
      " 1   star    171670 non-null  int64 \n",
      " 2   review  171328 non-null  object\n",
      "dtypes: int64(1), object(2)\n",
      "memory usage: 3.9+ MB\n"
     ]
    }
   ],
   "source": [
    "df.info()"
   ]
  },
  {
   "cell_type": "code",
   "execution_count": 4,
   "metadata": {},
   "outputs": [
    {
     "name": "stdout",
     "output_type": "stream",
     "text": [
      "<class 'pandas.core.frame.DataFrame'>\n",
      "Int64Index: 171328 entries, 0 to 171669\n",
      "Data columns (total 3 columns):\n",
      " #   Column  Non-Null Count   Dtype \n",
      "---  ------  --------------   ----- \n",
      " 0   hotel   171328 non-null  object\n",
      " 1   star    171328 non-null  int64 \n",
      " 2   review  171328 non-null  object\n",
      "dtypes: int64(1), object(2)\n",
      "memory usage: 5.2+ MB\n"
     ]
    }
   ],
   "source": [
    "df = df.dropna(how='any')\n",
    "df.info()"
   ]
  },
  {
   "cell_type": "markdown",
   "metadata": {},
   "source": [
    "### 키워드 포함 여부 확인"
   ]
  },
  {
   "cell_type": "code",
   "execution_count": 5,
   "metadata": {},
   "outputs": [
    {
     "data": {
      "text/plain": [
       "False    169137\n",
       "True       2191\n",
       "Name: 가성비, dtype: int64"
      ]
     },
     "execution_count": 5,
     "metadata": {},
     "output_type": "execute_result"
    }
   ],
   "source": [
    "# '가성비' 확인\n",
    "df['가성비'] = df.review.str.contains('가성비')\n",
    "df.가성비.value_counts()"
   ]
  },
  {
   "cell_type": "code",
   "execution_count": 6,
   "metadata": {},
   "outputs": [
    {
     "data": {
      "text/plain": [
       "False    167976\n",
       "True       3352\n",
       "Name: 추천, dtype: int64"
      ]
     },
     "execution_count": 6,
     "metadata": {},
     "output_type": "execute_result"
    }
   ],
   "source": [
    "# '추천' 확인\n",
    "df['추천'] = df.review.str.contains('추천')\n",
    "df.추천.value_counts()"
   ]
  },
  {
   "cell_type": "code",
   "execution_count": 7,
   "metadata": {},
   "outputs": [
    {
     "data": {
      "text/plain": [
       "False    169554\n",
       "True       1774\n",
       "Name: 출장, dtype: int64"
      ]
     },
     "execution_count": 7,
     "metadata": {},
     "output_type": "execute_result"
    }
   ],
   "source": [
    "# '출장' 확인\n",
    "df['출장'] = df.review.str.contains('출장')\n",
    "df.출장.value_counts()"
   ]
  },
  {
   "cell_type": "code",
   "execution_count": 8,
   "metadata": {},
   "outputs": [
    {
     "data": {
      "text/plain": [
       "False    163733\n",
       "True       7595\n",
       "Name: 조식, dtype: int64"
      ]
     },
     "execution_count": 8,
     "metadata": {},
     "output_type": "execute_result"
    }
   ],
   "source": [
    "# '조식' 확인\n",
    "df['조식'] = df.review.str.contains('조식')\n",
    "df.조식.value_counts()"
   ]
  },
  {
   "cell_type": "code",
   "execution_count": 9,
   "metadata": {},
   "outputs": [
    {
     "data": {
      "text/plain": [
       "False    170003\n",
       "True       1325\n",
       "Name: 무료, dtype: int64"
      ]
     },
     "execution_count": 9,
     "metadata": {},
     "output_type": "execute_result"
    }
   ],
   "source": [
    "# '무료' 확인\n",
    "df['무료'] = df.review.str.contains('무료')\n",
    "df.무료.value_counts()"
   ]
  },
  {
   "cell_type": "code",
   "execution_count": 10,
   "metadata": {},
   "outputs": [
    {
     "data": {
      "text/plain": [
       "False    167630\n",
       "True       3698\n",
       "Name: 저렴, dtype: int64"
      ]
     },
     "execution_count": 10,
     "metadata": {},
     "output_type": "execute_result"
    }
   ],
   "source": [
    "# '저렴' 확인\n",
    "df['저렴'] = df.review.str.contains('저렴')\n",
    "df.저렴.value_counts()"
   ]
  },
  {
   "cell_type": "code",
   "execution_count": 11,
   "metadata": {},
   "outputs": [
    {
     "data": {
      "text/html": [
       "<div>\n",
       "<style scoped>\n",
       "    .dataframe tbody tr th:only-of-type {\n",
       "        vertical-align: middle;\n",
       "    }\n",
       "\n",
       "    .dataframe tbody tr th {\n",
       "        vertical-align: top;\n",
       "    }\n",
       "\n",
       "    .dataframe thead th {\n",
       "        text-align: right;\n",
       "    }\n",
       "</style>\n",
       "<table border=\"1\" class=\"dataframe\">\n",
       "  <thead>\n",
       "    <tr style=\"text-align: right;\">\n",
       "      <th></th>\n",
       "      <th>hotel</th>\n",
       "      <th>star</th>\n",
       "      <th>review</th>\n",
       "      <th>가성비</th>\n",
       "      <th>추천</th>\n",
       "      <th>출장</th>\n",
       "      <th>조식</th>\n",
       "      <th>무료</th>\n",
       "      <th>저렴</th>\n",
       "    </tr>\n",
       "  </thead>\n",
       "  <tbody>\n",
       "    <tr>\n",
       "      <th>171665</th>\n",
       "      <td>WD호텔</td>\n",
       "      <td>5</td>\n",
       "      <td>저번 주에 예약해서 잘 지내고 이번 주에도 하려고 했는데 가격이 올라버렸네요 만원 ...</td>\n",
       "      <td>False</td>\n",
       "      <td>False</td>\n",
       "      <td>False</td>\n",
       "      <td>False</td>\n",
       "      <td>False</td>\n",
       "      <td>False</td>\n",
       "    </tr>\n",
       "    <tr>\n",
       "      <th>171666</th>\n",
       "      <td>WD호텔</td>\n",
       "      <td>4</td>\n",
       "      <td>가격으로 봐서 모텔 수준이라 생각했는데 청결하고 괜찮네요</td>\n",
       "      <td>False</td>\n",
       "      <td>False</td>\n",
       "      <td>False</td>\n",
       "      <td>False</td>\n",
       "      <td>False</td>\n",
       "      <td>False</td>\n",
       "    </tr>\n",
       "    <tr>\n",
       "      <th>171667</th>\n",
       "      <td>WD호텔</td>\n",
       "      <td>5</td>\n",
       "      <td>굿 짱입니다 룸도 생각 외로 크고 깨끗하고 좋아요</td>\n",
       "      <td>False</td>\n",
       "      <td>False</td>\n",
       "      <td>False</td>\n",
       "      <td>False</td>\n",
       "      <td>False</td>\n",
       "      <td>False</td>\n",
       "    </tr>\n",
       "    <tr>\n",
       "      <th>171668</th>\n",
       "      <td>WD호텔</td>\n",
       "      <td>5</td>\n",
       "      <td>지방민인데 신림동에 일이 있어 가족동반으로  숙박하게 됐어요 일보는 곳과 불과 걸어...</td>\n",
       "      <td>False</td>\n",
       "      <td>False</td>\n",
       "      <td>False</td>\n",
       "      <td>True</td>\n",
       "      <td>False</td>\n",
       "      <td>False</td>\n",
       "    </tr>\n",
       "    <tr>\n",
       "      <th>171669</th>\n",
       "      <td>WD호텔</td>\n",
       "      <td>5</td>\n",
       "      <td>너무 훌륭합니다 하지만 전반적인 시설 분위기에 비해 조식 식사 식당은 구내식당 같은...</td>\n",
       "      <td>False</td>\n",
       "      <td>False</td>\n",
       "      <td>False</td>\n",
       "      <td>True</td>\n",
       "      <td>False</td>\n",
       "      <td>False</td>\n",
       "    </tr>\n",
       "  </tbody>\n",
       "</table>\n",
       "</div>"
      ],
      "text/plain": [
       "       hotel  star                                             review    가성비  \\\n",
       "171665  WD호텔     5  저번 주에 예약해서 잘 지내고 이번 주에도 하려고 했는데 가격이 올라버렸네요 만원 ...  False   \n",
       "171666  WD호텔     4                    가격으로 봐서 모텔 수준이라 생각했는데 청결하고 괜찮네요  False   \n",
       "171667  WD호텔     5                        굿 짱입니다 룸도 생각 외로 크고 깨끗하고 좋아요  False   \n",
       "171668  WD호텔     5  지방민인데 신림동에 일이 있어 가족동반으로  숙박하게 됐어요 일보는 곳과 불과 걸어...  False   \n",
       "171669  WD호텔     5  너무 훌륭합니다 하지만 전반적인 시설 분위기에 비해 조식 식사 식당은 구내식당 같은...  False   \n",
       "\n",
       "           추천     출장     조식     무료     저렴  \n",
       "171665  False  False  False  False  False  \n",
       "171666  False  False  False  False  False  \n",
       "171667  False  False  False  False  False  \n",
       "171668  False  False   True  False  False  \n",
       "171669  False  False   True  False  False  "
      ]
     },
     "execution_count": 11,
     "metadata": {},
     "output_type": "execute_result"
    }
   ],
   "source": [
    "df.tail()"
   ]
  },
  {
   "cell_type": "markdown",
   "metadata": {},
   "source": [
    "### 감정 라벨링"
   ]
  },
  {
   "cell_type": "code",
   "execution_count": 12,
   "metadata": {},
   "outputs": [
    {
     "data": {
      "text/plain": [
       "0    338\n",
       "1      0\n",
       "2      0\n",
       "Name: 감정, dtype: int64"
      ]
     },
     "execution_count": 12,
     "metadata": {},
     "output_type": "execute_result"
    }
   ],
   "source": [
    "df['감정'] = pd.cut(df.star, bins=[-1,2,3,5], labels=[0,1,2])\n",
    "df[df['star'] == 0].감정.value_counts()"
   ]
  },
  {
   "cell_type": "code",
   "execution_count": 17,
   "metadata": {},
   "outputs": [
    {
     "data": {
      "text/plain": [
       "2    121317\n",
       "0         0\n",
       "1         0\n",
       "Name: 감정, dtype: int64"
      ]
     },
     "execution_count": 17,
     "metadata": {},
     "output_type": "execute_result"
    }
   ],
   "source": [
    "df[df['star'] == 5].감정.value_counts()"
   ]
  },
  {
   "cell_type": "code",
   "execution_count": 18,
   "metadata": {},
   "outputs": [
    {
     "data": {
      "text/html": [
       "<div>\n",
       "<style scoped>\n",
       "    .dataframe tbody tr th:only-of-type {\n",
       "        vertical-align: middle;\n",
       "    }\n",
       "\n",
       "    .dataframe tbody tr th {\n",
       "        vertical-align: top;\n",
       "    }\n",
       "\n",
       "    .dataframe thead th {\n",
       "        text-align: right;\n",
       "    }\n",
       "</style>\n",
       "<table border=\"1\" class=\"dataframe\">\n",
       "  <thead>\n",
       "    <tr style=\"text-align: right;\">\n",
       "      <th></th>\n",
       "      <th>hotel</th>\n",
       "      <th>star</th>\n",
       "      <th>review</th>\n",
       "      <th>가성비</th>\n",
       "      <th>추천</th>\n",
       "      <th>출장</th>\n",
       "      <th>조식</th>\n",
       "      <th>무료</th>\n",
       "      <th>저렴</th>\n",
       "      <th>감정</th>\n",
       "    </tr>\n",
       "  </thead>\n",
       "  <tbody>\n",
       "    <tr>\n",
       "      <th>171665</th>\n",
       "      <td>WD호텔</td>\n",
       "      <td>5</td>\n",
       "      <td>저번 주에 예약해서 잘 지내고 이번 주에도 하려고 했는데 가격이 올라버렸네요 만원 ...</td>\n",
       "      <td>False</td>\n",
       "      <td>False</td>\n",
       "      <td>False</td>\n",
       "      <td>False</td>\n",
       "      <td>False</td>\n",
       "      <td>False</td>\n",
       "      <td>2</td>\n",
       "    </tr>\n",
       "    <tr>\n",
       "      <th>171666</th>\n",
       "      <td>WD호텔</td>\n",
       "      <td>4</td>\n",
       "      <td>가격으로 봐서 모텔 수준이라 생각했는데 청결하고 괜찮네요</td>\n",
       "      <td>False</td>\n",
       "      <td>False</td>\n",
       "      <td>False</td>\n",
       "      <td>False</td>\n",
       "      <td>False</td>\n",
       "      <td>False</td>\n",
       "      <td>2</td>\n",
       "    </tr>\n",
       "    <tr>\n",
       "      <th>171667</th>\n",
       "      <td>WD호텔</td>\n",
       "      <td>5</td>\n",
       "      <td>굿 짱입니다 룸도 생각 외로 크고 깨끗하고 좋아요</td>\n",
       "      <td>False</td>\n",
       "      <td>False</td>\n",
       "      <td>False</td>\n",
       "      <td>False</td>\n",
       "      <td>False</td>\n",
       "      <td>False</td>\n",
       "      <td>2</td>\n",
       "    </tr>\n",
       "    <tr>\n",
       "      <th>171668</th>\n",
       "      <td>WD호텔</td>\n",
       "      <td>5</td>\n",
       "      <td>지방민인데 신림동에 일이 있어 가족동반으로  숙박하게 됐어요 일보는 곳과 불과 걸어...</td>\n",
       "      <td>False</td>\n",
       "      <td>False</td>\n",
       "      <td>False</td>\n",
       "      <td>True</td>\n",
       "      <td>False</td>\n",
       "      <td>False</td>\n",
       "      <td>2</td>\n",
       "    </tr>\n",
       "    <tr>\n",
       "      <th>171669</th>\n",
       "      <td>WD호텔</td>\n",
       "      <td>5</td>\n",
       "      <td>너무 훌륭합니다 하지만 전반적인 시설 분위기에 비해 조식 식사 식당은 구내식당 같은...</td>\n",
       "      <td>False</td>\n",
       "      <td>False</td>\n",
       "      <td>False</td>\n",
       "      <td>True</td>\n",
       "      <td>False</td>\n",
       "      <td>False</td>\n",
       "      <td>2</td>\n",
       "    </tr>\n",
       "  </tbody>\n",
       "</table>\n",
       "</div>"
      ],
      "text/plain": [
       "       hotel  star                                             review    가성비  \\\n",
       "171665  WD호텔     5  저번 주에 예약해서 잘 지내고 이번 주에도 하려고 했는데 가격이 올라버렸네요 만원 ...  False   \n",
       "171666  WD호텔     4                    가격으로 봐서 모텔 수준이라 생각했는데 청결하고 괜찮네요  False   \n",
       "171667  WD호텔     5                        굿 짱입니다 룸도 생각 외로 크고 깨끗하고 좋아요  False   \n",
       "171668  WD호텔     5  지방민인데 신림동에 일이 있어 가족동반으로  숙박하게 됐어요 일보는 곳과 불과 걸어...  False   \n",
       "171669  WD호텔     5  너무 훌륭합니다 하지만 전반적인 시설 분위기에 비해 조식 식사 식당은 구내식당 같은...  False   \n",
       "\n",
       "           추천     출장     조식     무료     저렴 감정  \n",
       "171665  False  False  False  False  False  2  \n",
       "171666  False  False  False  False  False  2  \n",
       "171667  False  False  False  False  False  2  \n",
       "171668  False  False   True  False  False  2  \n",
       "171669  False  False   True  False  False  2  "
      ]
     },
     "execution_count": 18,
     "metadata": {},
     "output_type": "execute_result"
    }
   ],
   "source": [
    "df.tail()"
   ]
  },
  {
   "cell_type": "code",
   "execution_count": 20,
   "metadata": {},
   "outputs": [],
   "source": [
    "df.to_csv('data/리뷰_키워드_가성비호텔.csv', index=False, encoding='utf-8-sig')"
   ]
  },
  {
   "cell_type": "markdown",
   "metadata": {},
   "source": [
    "### 각 키워드의 합계 컬럼 생성"
   ]
  },
  {
   "cell_type": "code",
   "execution_count": 3,
   "metadata": {},
   "outputs": [
    {
     "data": {
      "text/html": [
       "<div>\n",
       "<style scoped>\n",
       "    .dataframe tbody tr th:only-of-type {\n",
       "        vertical-align: middle;\n",
       "    }\n",
       "\n",
       "    .dataframe tbody tr th {\n",
       "        vertical-align: top;\n",
       "    }\n",
       "\n",
       "    .dataframe thead th {\n",
       "        text-align: right;\n",
       "    }\n",
       "</style>\n",
       "<table border=\"1\" class=\"dataframe\">\n",
       "  <thead>\n",
       "    <tr style=\"text-align: right;\">\n",
       "      <th></th>\n",
       "      <th>hotel</th>\n",
       "      <th>star</th>\n",
       "      <th>review</th>\n",
       "      <th>가성비</th>\n",
       "      <th>추천</th>\n",
       "      <th>출장</th>\n",
       "      <th>조식</th>\n",
       "      <th>무료</th>\n",
       "      <th>저렴</th>\n",
       "      <th>감정</th>\n",
       "    </tr>\n",
       "  </thead>\n",
       "  <tbody>\n",
       "    <tr>\n",
       "      <th>0</th>\n",
       "      <td>호텔 8 Hours</td>\n",
       "      <td>5</td>\n",
       "      <td>깨끗하고 위치도 좋고 구성비 좋았습니다 다만 비품이 거의 없다고 보면 돼서 챙겨가야...</td>\n",
       "      <td>False</td>\n",
       "      <td>False</td>\n",
       "      <td>False</td>\n",
       "      <td>False</td>\n",
       "      <td>False</td>\n",
       "      <td>False</td>\n",
       "      <td>2</td>\n",
       "    </tr>\n",
       "    <tr>\n",
       "      <th>1</th>\n",
       "      <td>호텔 8 Hours</td>\n",
       "      <td>4</td>\n",
       "      <td>너무 좋아요 잘 머물다 갑니다</td>\n",
       "      <td>False</td>\n",
       "      <td>False</td>\n",
       "      <td>False</td>\n",
       "      <td>False</td>\n",
       "      <td>False</td>\n",
       "      <td>False</td>\n",
       "      <td>2</td>\n",
       "    </tr>\n",
       "    <tr>\n",
       "      <th>2</th>\n",
       "      <td>호텔 8 Hours</td>\n",
       "      <td>5</td>\n",
       "      <td>적당히 잘 쉬다 가요</td>\n",
       "      <td>False</td>\n",
       "      <td>False</td>\n",
       "      <td>False</td>\n",
       "      <td>False</td>\n",
       "      <td>False</td>\n",
       "      <td>False</td>\n",
       "      <td>2</td>\n",
       "    </tr>\n",
       "  </tbody>\n",
       "</table>\n",
       "</div>"
      ],
      "text/plain": [
       "        hotel  star                                             review    가성비  \\\n",
       "0  호텔 8 Hours     5  깨끗하고 위치도 좋고 구성비 좋았습니다 다만 비품이 거의 없다고 보면 돼서 챙겨가야...  False   \n",
       "1  호텔 8 Hours     4                                   너무 좋아요 잘 머물다 갑니다  False   \n",
       "2  호텔 8 Hours     5                                        적당히 잘 쉬다 가요  False   \n",
       "\n",
       "      추천     출장     조식     무료     저렴  감정  \n",
       "0  False  False  False  False  False   2  \n",
       "1  False  False  False  False  False   2  \n",
       "2  False  False  False  False  False   2  "
      ]
     },
     "execution_count": 3,
     "metadata": {},
     "output_type": "execute_result"
    }
   ],
   "source": [
    "df = pd.read_csv('data/리뷰_키워드_가성비호텔.csv')\n",
    "df.head(3)"
   ]
  },
  {
   "cell_type": "code",
   "execution_count": 4,
   "metadata": {},
   "outputs": [
    {
     "data": {
      "text/plain": [
       "0    169137\n",
       "1      2191\n",
       "Name: 가성비, dtype: int64"
      ]
     },
     "execution_count": 4,
     "metadata": {},
     "output_type": "execute_result"
    }
   ],
   "source": [
    "df['가성비'] = df['가성비'].map(lambda x : 1 if x else 0)\n",
    "df.가성비.value_counts()"
   ]
  },
  {
   "cell_type": "code",
   "execution_count": 5,
   "metadata": {},
   "outputs": [
    {
     "data": {
      "text/plain": [
       "0    167976\n",
       "1      3352\n",
       "Name: 추천, dtype: int64"
      ]
     },
     "execution_count": 5,
     "metadata": {},
     "output_type": "execute_result"
    }
   ],
   "source": [
    "df['추천'] = df['추천'].map(lambda x : 1 if x else 0)\n",
    "df.추천.value_counts()"
   ]
  },
  {
   "cell_type": "code",
   "execution_count": 6,
   "metadata": {},
   "outputs": [
    {
     "data": {
      "text/plain": [
       "0    169554\n",
       "1      1774\n",
       "Name: 출장, dtype: int64"
      ]
     },
     "execution_count": 6,
     "metadata": {},
     "output_type": "execute_result"
    }
   ],
   "source": [
    "df['출장'] = df['출장'].map(lambda x : 1 if x else 0)\n",
    "df.출장.value_counts()"
   ]
  },
  {
   "cell_type": "code",
   "execution_count": 7,
   "metadata": {},
   "outputs": [
    {
     "data": {
      "text/plain": [
       "0    163733\n",
       "1      7595\n",
       "Name: 조식, dtype: int64"
      ]
     },
     "execution_count": 7,
     "metadata": {},
     "output_type": "execute_result"
    }
   ],
   "source": [
    "df['조식'] = df['조식'].map(lambda x : 1 if x else 0)\n",
    "df.조식.value_counts()"
   ]
  },
  {
   "cell_type": "code",
   "execution_count": 8,
   "metadata": {},
   "outputs": [
    {
     "data": {
      "text/plain": [
       "0    170003\n",
       "1      1325\n",
       "Name: 무료, dtype: int64"
      ]
     },
     "execution_count": 8,
     "metadata": {},
     "output_type": "execute_result"
    }
   ],
   "source": [
    "df['무료'] = df['무료'].map(lambda x : 1 if x else 0)\n",
    "df.무료.value_counts()"
   ]
  },
  {
   "cell_type": "code",
   "execution_count": 9,
   "metadata": {},
   "outputs": [
    {
     "data": {
      "text/plain": [
       "0    167630\n",
       "1      3698\n",
       "Name: 저렴, dtype: int64"
      ]
     },
     "execution_count": 9,
     "metadata": {},
     "output_type": "execute_result"
    }
   ],
   "source": [
    "df['저렴'] = df['저렴'].map(lambda x : 1 if x else 0)\n",
    "df.저렴.value_counts()"
   ]
  },
  {
   "cell_type": "code",
   "execution_count": 10,
   "metadata": {},
   "outputs": [],
   "source": [
    "df['sum'] = df[['가성비', '추천', '출장',\n",
    "       '조식', '무료', '저렴']].sum(axis=1)"
   ]
  },
  {
   "cell_type": "code",
   "execution_count": 11,
   "metadata": {},
   "outputs": [
    {
     "data": {
      "text/plain": [
       "0    153173\n",
       "1     16527\n",
       "2      1483\n",
       "3       139\n",
       "4         5\n",
       "5         1\n",
       "Name: sum, dtype: int64"
      ]
     },
     "execution_count": 11,
     "metadata": {},
     "output_type": "execute_result"
    }
   ],
   "source": [
    "df['sum'].value_counts()"
   ]
  },
  {
   "cell_type": "code",
   "execution_count": 30,
   "metadata": {},
   "outputs": [
    {
     "data": {
      "text/html": [
       "<div>\n",
       "<style scoped>\n",
       "    .dataframe tbody tr th:only-of-type {\n",
       "        vertical-align: middle;\n",
       "    }\n",
       "\n",
       "    .dataframe tbody tr th {\n",
       "        vertical-align: top;\n",
       "    }\n",
       "\n",
       "    .dataframe thead th {\n",
       "        text-align: right;\n",
       "    }\n",
       "</style>\n",
       "<table border=\"1\" class=\"dataframe\">\n",
       "  <thead>\n",
       "    <tr style=\"text-align: right;\">\n",
       "      <th></th>\n",
       "      <th>hotel</th>\n",
       "      <th>star</th>\n",
       "      <th>review</th>\n",
       "      <th>가성비</th>\n",
       "      <th>추천</th>\n",
       "      <th>출장</th>\n",
       "      <th>조식</th>\n",
       "      <th>무료</th>\n",
       "      <th>저렴</th>\n",
       "      <th>감정</th>\n",
       "      <th>sum</th>\n",
       "      <th>helpful</th>\n",
       "    </tr>\n",
       "  </thead>\n",
       "  <tbody>\n",
       "    <tr>\n",
       "      <th>0</th>\n",
       "      <td>호텔 8 Hours</td>\n",
       "      <td>5</td>\n",
       "      <td>깨끗하고 위치도 좋고 구성비 좋았습니다 다만 비품이 거의 없다고 보면 돼서 챙겨가야...</td>\n",
       "      <td>0</td>\n",
       "      <td>0</td>\n",
       "      <td>0</td>\n",
       "      <td>0</td>\n",
       "      <td>0</td>\n",
       "      <td>0</td>\n",
       "      <td>2</td>\n",
       "      <td>0</td>\n",
       "      <td>0</td>\n",
       "    </tr>\n",
       "    <tr>\n",
       "      <th>1</th>\n",
       "      <td>호텔 8 Hours</td>\n",
       "      <td>4</td>\n",
       "      <td>너무 좋아요 잘 머물다 갑니다</td>\n",
       "      <td>0</td>\n",
       "      <td>0</td>\n",
       "      <td>0</td>\n",
       "      <td>0</td>\n",
       "      <td>0</td>\n",
       "      <td>0</td>\n",
       "      <td>2</td>\n",
       "      <td>0</td>\n",
       "      <td>0</td>\n",
       "    </tr>\n",
       "    <tr>\n",
       "      <th>2</th>\n",
       "      <td>호텔 8 Hours</td>\n",
       "      <td>5</td>\n",
       "      <td>적당히 잘 쉬다 가요</td>\n",
       "      <td>0</td>\n",
       "      <td>0</td>\n",
       "      <td>0</td>\n",
       "      <td>0</td>\n",
       "      <td>0</td>\n",
       "      <td>0</td>\n",
       "      <td>2</td>\n",
       "      <td>0</td>\n",
       "      <td>0</td>\n",
       "    </tr>\n",
       "    <tr>\n",
       "      <th>3</th>\n",
       "      <td>호텔 8 Hours</td>\n",
       "      <td>5</td>\n",
       "      <td>매번 요때마다 매우 만족합니다 번창하세요</td>\n",
       "      <td>0</td>\n",
       "      <td>0</td>\n",
       "      <td>0</td>\n",
       "      <td>0</td>\n",
       "      <td>0</td>\n",
       "      <td>0</td>\n",
       "      <td>2</td>\n",
       "      <td>0</td>\n",
       "      <td>0</td>\n",
       "    </tr>\n",
       "    <tr>\n",
       "      <th>4</th>\n",
       "      <td>호텔 8 Hours</td>\n",
       "      <td>5</td>\n",
       "      <td>너무 편하고 좋았어요</td>\n",
       "      <td>0</td>\n",
       "      <td>0</td>\n",
       "      <td>0</td>\n",
       "      <td>0</td>\n",
       "      <td>0</td>\n",
       "      <td>0</td>\n",
       "      <td>2</td>\n",
       "      <td>0</td>\n",
       "      <td>0</td>\n",
       "    </tr>\n",
       "  </tbody>\n",
       "</table>\n",
       "</div>"
      ],
      "text/plain": [
       "        hotel  star                                             review  가성비  \\\n",
       "0  호텔 8 Hours     5  깨끗하고 위치도 좋고 구성비 좋았습니다 다만 비품이 거의 없다고 보면 돼서 챙겨가야...    0   \n",
       "1  호텔 8 Hours     4                                   너무 좋아요 잘 머물다 갑니다    0   \n",
       "2  호텔 8 Hours     5                                        적당히 잘 쉬다 가요    0   \n",
       "3  호텔 8 Hours     5                             매번 요때마다 매우 만족합니다 번창하세요    0   \n",
       "4  호텔 8 Hours     5                                        너무 편하고 좋았어요    0   \n",
       "\n",
       "   추천  출장  조식  무료  저렴  감정  sum  helpful  \n",
       "0   0   0   0   0   0   2    0        0  \n",
       "1   0   0   0   0   0   2    0        0  \n",
       "2   0   0   0   0   0   2    0        0  \n",
       "3   0   0   0   0   0   2    0        0  \n",
       "4   0   0   0   0   0   2    0        0  "
      ]
     },
     "execution_count": 30,
     "metadata": {},
     "output_type": "execute_result"
    }
   ],
   "source": [
    "df.head()"
   ]
  },
  {
   "cell_type": "code",
   "execution_count": 13,
   "metadata": {},
   "outputs": [
    {
     "data": {
      "text/html": [
       "<div>\n",
       "<style scoped>\n",
       "    .dataframe tbody tr th:only-of-type {\n",
       "        vertical-align: middle;\n",
       "    }\n",
       "\n",
       "    .dataframe tbody tr th {\n",
       "        vertical-align: top;\n",
       "    }\n",
       "\n",
       "    .dataframe thead th {\n",
       "        text-align: right;\n",
       "    }\n",
       "</style>\n",
       "<table border=\"1\" class=\"dataframe\">\n",
       "  <thead>\n",
       "    <tr style=\"text-align: right;\">\n",
       "      <th></th>\n",
       "      <th>hotel</th>\n",
       "      <th>star</th>\n",
       "      <th>review</th>\n",
       "      <th>가성비</th>\n",
       "      <th>추천</th>\n",
       "      <th>출장</th>\n",
       "      <th>조식</th>\n",
       "      <th>무료</th>\n",
       "      <th>저렴</th>\n",
       "      <th>감정</th>\n",
       "    </tr>\n",
       "    <tr>\n",
       "      <th>sum</th>\n",
       "      <th></th>\n",
       "      <th></th>\n",
       "      <th></th>\n",
       "      <th></th>\n",
       "      <th></th>\n",
       "      <th></th>\n",
       "      <th></th>\n",
       "      <th></th>\n",
       "      <th></th>\n",
       "      <th></th>\n",
       "    </tr>\n",
       "  </thead>\n",
       "  <tbody>\n",
       "    <tr>\n",
       "      <th>0</th>\n",
       "      <td>153173</td>\n",
       "      <td>153173</td>\n",
       "      <td>153173</td>\n",
       "      <td>153173</td>\n",
       "      <td>153173</td>\n",
       "      <td>153173</td>\n",
       "      <td>153173</td>\n",
       "      <td>153173</td>\n",
       "      <td>153173</td>\n",
       "      <td>153173</td>\n",
       "    </tr>\n",
       "    <tr>\n",
       "      <th>1</th>\n",
       "      <td>16527</td>\n",
       "      <td>16527</td>\n",
       "      <td>16527</td>\n",
       "      <td>16527</td>\n",
       "      <td>16527</td>\n",
       "      <td>16527</td>\n",
       "      <td>16527</td>\n",
       "      <td>16527</td>\n",
       "      <td>16527</td>\n",
       "      <td>16527</td>\n",
       "    </tr>\n",
       "    <tr>\n",
       "      <th>2</th>\n",
       "      <td>1483</td>\n",
       "      <td>1483</td>\n",
       "      <td>1483</td>\n",
       "      <td>1483</td>\n",
       "      <td>1483</td>\n",
       "      <td>1483</td>\n",
       "      <td>1483</td>\n",
       "      <td>1483</td>\n",
       "      <td>1483</td>\n",
       "      <td>1483</td>\n",
       "    </tr>\n",
       "    <tr>\n",
       "      <th>3</th>\n",
       "      <td>139</td>\n",
       "      <td>139</td>\n",
       "      <td>139</td>\n",
       "      <td>139</td>\n",
       "      <td>139</td>\n",
       "      <td>139</td>\n",
       "      <td>139</td>\n",
       "      <td>139</td>\n",
       "      <td>139</td>\n",
       "      <td>139</td>\n",
       "    </tr>\n",
       "    <tr>\n",
       "      <th>4</th>\n",
       "      <td>5</td>\n",
       "      <td>5</td>\n",
       "      <td>5</td>\n",
       "      <td>5</td>\n",
       "      <td>5</td>\n",
       "      <td>5</td>\n",
       "      <td>5</td>\n",
       "      <td>5</td>\n",
       "      <td>5</td>\n",
       "      <td>5</td>\n",
       "    </tr>\n",
       "    <tr>\n",
       "      <th>5</th>\n",
       "      <td>1</td>\n",
       "      <td>1</td>\n",
       "      <td>1</td>\n",
       "      <td>1</td>\n",
       "      <td>1</td>\n",
       "      <td>1</td>\n",
       "      <td>1</td>\n",
       "      <td>1</td>\n",
       "      <td>1</td>\n",
       "      <td>1</td>\n",
       "    </tr>\n",
       "  </tbody>\n",
       "</table>\n",
       "</div>"
      ],
      "text/plain": [
       "      hotel    star  review     가성비      추천      출장      조식      무료      저렴  \\\n",
       "sum                                                                           \n",
       "0    153173  153173  153173  153173  153173  153173  153173  153173  153173   \n",
       "1     16527   16527   16527   16527   16527   16527   16527   16527   16527   \n",
       "2      1483    1483    1483    1483    1483    1483    1483    1483    1483   \n",
       "3       139     139     139     139     139     139     139     139     139   \n",
       "4         5       5       5       5       5       5       5       5       5   \n",
       "5         1       1       1       1       1       1       1       1       1   \n",
       "\n",
       "         감정  \n",
       "sum          \n",
       "0    153173  \n",
       "1     16527  \n",
       "2      1483  \n",
       "3       139  \n",
       "4         5  \n",
       "5         1  "
      ]
     },
     "execution_count": 13,
     "metadata": {},
     "output_type": "execute_result"
    }
   ],
   "source": [
    "df.groupby(['sum']).count()"
   ]
  },
  {
   "cell_type": "markdown",
   "metadata": {},
   "source": [
    "### helpful 컬럼 라벨링"
   ]
  },
  {
   "cell_type": "code",
   "execution_count": 22,
   "metadata": {},
   "outputs": [],
   "source": [
    "df['helpful'] = 0"
   ]
  },
  {
   "cell_type": "code",
   "execution_count": 33,
   "metadata": {},
   "outputs": [
    {
     "name": "stderr",
     "output_type": "stream",
     "text": [
      "<ipython-input-33-62ed37abf107>:5: SettingWithCopyWarning: \n",
      "A value is trying to be set on a copy of a slice from a DataFrame\n",
      "\n",
      "See the caveats in the documentation: https://pandas.pydata.org/pandas-docs/stable/user_guide/indexing.html#returning-a-view-versus-a-copy\n",
      "  df['helpful'][i] = 0\n",
      "<ipython-input-33-62ed37abf107>:3: SettingWithCopyWarning: \n",
      "A value is trying to be set on a copy of a slice from a DataFrame\n",
      "\n",
      "See the caveats in the documentation: https://pandas.pydata.org/pandas-docs/stable/user_guide/indexing.html#returning-a-view-versus-a-copy\n",
      "  df['helpful'][i] = 1\n"
     ]
    }
   ],
   "source": [
    "for i in range(0,len(df)):\n",
    "    if df['sum'][i] >= 1:\n",
    "        df['helpful'][i] = 1\n",
    "    else:\n",
    "        df['helpful'][i] = 0"
   ]
  },
  {
   "cell_type": "code",
   "execution_count": 34,
   "metadata": {},
   "outputs": [
    {
     "data": {
      "text/plain": [
       "0    153173\n",
       "1     18155\n",
       "Name: helpful, dtype: int64"
      ]
     },
     "execution_count": 34,
     "metadata": {},
     "output_type": "execute_result"
    }
   ],
   "source": [
    "df.helpful.value_counts()"
   ]
  },
  {
   "cell_type": "code",
   "execution_count": 37,
   "metadata": {},
   "outputs": [
    {
     "data": {
      "text/html": [
       "<div>\n",
       "<style scoped>\n",
       "    .dataframe tbody tr th:only-of-type {\n",
       "        vertical-align: middle;\n",
       "    }\n",
       "\n",
       "    .dataframe tbody tr th {\n",
       "        vertical-align: top;\n",
       "    }\n",
       "\n",
       "    .dataframe thead th {\n",
       "        text-align: right;\n",
       "    }\n",
       "</style>\n",
       "<table border=\"1\" class=\"dataframe\">\n",
       "  <thead>\n",
       "    <tr style=\"text-align: right;\">\n",
       "      <th></th>\n",
       "      <th>hotel</th>\n",
       "      <th>star</th>\n",
       "      <th>review</th>\n",
       "      <th>가성비</th>\n",
       "      <th>추천</th>\n",
       "      <th>출장</th>\n",
       "      <th>조식</th>\n",
       "      <th>무료</th>\n",
       "      <th>저렴</th>\n",
       "      <th>감정</th>\n",
       "      <th>sum</th>\n",
       "      <th>helpful</th>\n",
       "    </tr>\n",
       "  </thead>\n",
       "  <tbody>\n",
       "    <tr>\n",
       "      <th>171323</th>\n",
       "      <td>WD호텔</td>\n",
       "      <td>5</td>\n",
       "      <td>저번 주에 예약해서 잘 지내고 이번 주에도 하려고 했는데 가격이 올라버렸네요 만원 ...</td>\n",
       "      <td>0</td>\n",
       "      <td>0</td>\n",
       "      <td>0</td>\n",
       "      <td>0</td>\n",
       "      <td>0</td>\n",
       "      <td>0</td>\n",
       "      <td>2</td>\n",
       "      <td>0</td>\n",
       "      <td>0</td>\n",
       "    </tr>\n",
       "    <tr>\n",
       "      <th>171324</th>\n",
       "      <td>WD호텔</td>\n",
       "      <td>4</td>\n",
       "      <td>가격으로 봐서 모텔 수준이라 생각했는데 청결하고 괜찮네요</td>\n",
       "      <td>0</td>\n",
       "      <td>0</td>\n",
       "      <td>0</td>\n",
       "      <td>0</td>\n",
       "      <td>0</td>\n",
       "      <td>0</td>\n",
       "      <td>2</td>\n",
       "      <td>0</td>\n",
       "      <td>0</td>\n",
       "    </tr>\n",
       "    <tr>\n",
       "      <th>171325</th>\n",
       "      <td>WD호텔</td>\n",
       "      <td>5</td>\n",
       "      <td>굿 짱입니다 룸도 생각 외로 크고 깨끗하고 좋아요</td>\n",
       "      <td>0</td>\n",
       "      <td>0</td>\n",
       "      <td>0</td>\n",
       "      <td>0</td>\n",
       "      <td>0</td>\n",
       "      <td>0</td>\n",
       "      <td>2</td>\n",
       "      <td>0</td>\n",
       "      <td>0</td>\n",
       "    </tr>\n",
       "    <tr>\n",
       "      <th>171326</th>\n",
       "      <td>WD호텔</td>\n",
       "      <td>5</td>\n",
       "      <td>지방민인데 신림동에 일이 있어 가족동반으로  숙박하게 됐어요 일보는 곳과 불과 걸어...</td>\n",
       "      <td>0</td>\n",
       "      <td>0</td>\n",
       "      <td>0</td>\n",
       "      <td>1</td>\n",
       "      <td>0</td>\n",
       "      <td>0</td>\n",
       "      <td>2</td>\n",
       "      <td>1</td>\n",
       "      <td>1</td>\n",
       "    </tr>\n",
       "    <tr>\n",
       "      <th>171327</th>\n",
       "      <td>WD호텔</td>\n",
       "      <td>5</td>\n",
       "      <td>너무 훌륭합니다 하지만 전반적인 시설 분위기에 비해 조식 식사 식당은 구내식당 같은...</td>\n",
       "      <td>0</td>\n",
       "      <td>0</td>\n",
       "      <td>0</td>\n",
       "      <td>1</td>\n",
       "      <td>0</td>\n",
       "      <td>0</td>\n",
       "      <td>2</td>\n",
       "      <td>1</td>\n",
       "      <td>1</td>\n",
       "    </tr>\n",
       "  </tbody>\n",
       "</table>\n",
       "</div>"
      ],
      "text/plain": [
       "       hotel  star                                             review  가성비  \\\n",
       "171323  WD호텔     5  저번 주에 예약해서 잘 지내고 이번 주에도 하려고 했는데 가격이 올라버렸네요 만원 ...    0   \n",
       "171324  WD호텔     4                    가격으로 봐서 모텔 수준이라 생각했는데 청결하고 괜찮네요    0   \n",
       "171325  WD호텔     5                        굿 짱입니다 룸도 생각 외로 크고 깨끗하고 좋아요    0   \n",
       "171326  WD호텔     5  지방민인데 신림동에 일이 있어 가족동반으로  숙박하게 됐어요 일보는 곳과 불과 걸어...    0   \n",
       "171327  WD호텔     5  너무 훌륭합니다 하지만 전반적인 시설 분위기에 비해 조식 식사 식당은 구내식당 같은...    0   \n",
       "\n",
       "        추천  출장  조식  무료  저렴  감정  sum  helpful  \n",
       "171323   0   0   0   0   0   2    0        0  \n",
       "171324   0   0   0   0   0   2    0        0  \n",
       "171325   0   0   0   0   0   2    0        0  \n",
       "171326   0   0   1   0   0   2    1        1  \n",
       "171327   0   0   1   0   0   2    1        1  "
      ]
     },
     "execution_count": 37,
     "metadata": {},
     "output_type": "execute_result"
    }
   ],
   "source": [
    "df.tail()"
   ]
  },
  {
   "cell_type": "code",
   "execution_count": 38,
   "metadata": {},
   "outputs": [],
   "source": [
    "df.to_csv('data/가성비호텔_도움_라벨링.csv', encoding='utf-8-sig', index=False)"
   ]
  },
  {
   "cell_type": "markdown",
   "metadata": {},
   "source": [
    "### 리뷰 텍스트 분석\n",
    "- Okt, CountVectorize, LSTM"
   ]
  },
  {
   "cell_type": "code",
   "execution_count": 39,
   "metadata": {},
   "outputs": [
    {
     "data": {
      "text/plain": [
       "False    169137\n",
       "True       2191\n",
       "Name: 가성비, dtype: int64"
      ]
     },
     "execution_count": 39,
     "metadata": {},
     "output_type": "execute_result"
    }
   ],
   "source": [
    "df['가성비'] = df['가성비'].map(lambda x : True if x else False)\n",
    "df.가성비.value_counts()"
   ]
  },
  {
   "cell_type": "code",
   "execution_count": 40,
   "metadata": {},
   "outputs": [
    {
     "data": {
      "text/plain": [
       "False    167976\n",
       "True       3352\n",
       "Name: 추천, dtype: int64"
      ]
     },
     "execution_count": 40,
     "metadata": {},
     "output_type": "execute_result"
    }
   ],
   "source": [
    "df['추천'] = df['추천'].map(lambda x : True if x else False)\n",
    "df.추천.value_counts()"
   ]
  },
  {
   "cell_type": "code",
   "execution_count": 44,
   "metadata": {},
   "outputs": [
    {
     "data": {
      "text/plain": [
       "False    169554\n",
       "True       1774\n",
       "Name: 출장, dtype: int64"
      ]
     },
     "execution_count": 44,
     "metadata": {},
     "output_type": "execute_result"
    }
   ],
   "source": [
    "df['출장'] = df['출장'].map(lambda x : True if x else False)\n",
    "df.출장.value_counts()"
   ]
  },
  {
   "cell_type": "code",
   "execution_count": 47,
   "metadata": {},
   "outputs": [
    {
     "data": {
      "text/plain": [
       "False    163733\n",
       "True       7595\n",
       "Name: 조식, dtype: int64"
      ]
     },
     "execution_count": 47,
     "metadata": {},
     "output_type": "execute_result"
    }
   ],
   "source": [
    "df['조식'] = df['조식'].map(lambda x : True if x else False)\n",
    "df.조식.value_counts()"
   ]
  },
  {
   "cell_type": "code",
   "execution_count": 48,
   "metadata": {},
   "outputs": [
    {
     "data": {
      "text/plain": [
       "False    170003\n",
       "True       1325\n",
       "Name: 무료, dtype: int64"
      ]
     },
     "execution_count": 48,
     "metadata": {},
     "output_type": "execute_result"
    }
   ],
   "source": [
    "df['무료'] = df['무료'].map(lambda x : True if x else False)\n",
    "df.무료.value_counts()"
   ]
  },
  {
   "cell_type": "code",
   "execution_count": 49,
   "metadata": {},
   "outputs": [
    {
     "data": {
      "text/plain": [
       "False    167630\n",
       "True       3698\n",
       "Name: 저렴, dtype: int64"
      ]
     },
     "execution_count": 49,
     "metadata": {},
     "output_type": "execute_result"
    }
   ],
   "source": [
    "df['저렴'] = df['저렴'].map(lambda x : True if x else False)\n",
    "df.저렴.value_counts()"
   ]
  },
  {
   "cell_type": "code",
   "execution_count": 50,
   "metadata": {},
   "outputs": [
    {
     "data": {
      "text/html": [
       "<div>\n",
       "<style scoped>\n",
       "    .dataframe tbody tr th:only-of-type {\n",
       "        vertical-align: middle;\n",
       "    }\n",
       "\n",
       "    .dataframe tbody tr th {\n",
       "        vertical-align: top;\n",
       "    }\n",
       "\n",
       "    .dataframe thead th {\n",
       "        text-align: right;\n",
       "    }\n",
       "</style>\n",
       "<table border=\"1\" class=\"dataframe\">\n",
       "  <thead>\n",
       "    <tr style=\"text-align: right;\">\n",
       "      <th></th>\n",
       "      <th>hotel</th>\n",
       "      <th>star</th>\n",
       "      <th>review</th>\n",
       "      <th>가성비</th>\n",
       "      <th>추천</th>\n",
       "      <th>출장</th>\n",
       "      <th>조식</th>\n",
       "      <th>무료</th>\n",
       "      <th>저렴</th>\n",
       "      <th>감정</th>\n",
       "      <th>sum</th>\n",
       "      <th>helpful</th>\n",
       "    </tr>\n",
       "  </thead>\n",
       "  <tbody>\n",
       "    <tr>\n",
       "      <th>0</th>\n",
       "      <td>호텔 8 Hours</td>\n",
       "      <td>5</td>\n",
       "      <td>깨끗하고 위치도 좋고 구성비 좋았습니다 다만 비품이 거의 없다고 보면 돼서 챙겨가야...</td>\n",
       "      <td>False</td>\n",
       "      <td>False</td>\n",
       "      <td>False</td>\n",
       "      <td>False</td>\n",
       "      <td>False</td>\n",
       "      <td>False</td>\n",
       "      <td>2</td>\n",
       "      <td>0</td>\n",
       "      <td>0</td>\n",
       "    </tr>\n",
       "    <tr>\n",
       "      <th>1</th>\n",
       "      <td>호텔 8 Hours</td>\n",
       "      <td>4</td>\n",
       "      <td>너무 좋아요 잘 머물다 갑니다</td>\n",
       "      <td>False</td>\n",
       "      <td>False</td>\n",
       "      <td>False</td>\n",
       "      <td>False</td>\n",
       "      <td>False</td>\n",
       "      <td>False</td>\n",
       "      <td>2</td>\n",
       "      <td>0</td>\n",
       "      <td>0</td>\n",
       "    </tr>\n",
       "    <tr>\n",
       "      <th>2</th>\n",
       "      <td>호텔 8 Hours</td>\n",
       "      <td>5</td>\n",
       "      <td>적당히 잘 쉬다 가요</td>\n",
       "      <td>False</td>\n",
       "      <td>False</td>\n",
       "      <td>False</td>\n",
       "      <td>False</td>\n",
       "      <td>False</td>\n",
       "      <td>False</td>\n",
       "      <td>2</td>\n",
       "      <td>0</td>\n",
       "      <td>0</td>\n",
       "    </tr>\n",
       "  </tbody>\n",
       "</table>\n",
       "</div>"
      ],
      "text/plain": [
       "        hotel  star                                             review    가성비  \\\n",
       "0  호텔 8 Hours     5  깨끗하고 위치도 좋고 구성비 좋았습니다 다만 비품이 거의 없다고 보면 돼서 챙겨가야...  False   \n",
       "1  호텔 8 Hours     4                                   너무 좋아요 잘 머물다 갑니다  False   \n",
       "2  호텔 8 Hours     5                                        적당히 잘 쉬다 가요  False   \n",
       "\n",
       "      추천     출장     조식     무료     저렴  감정  sum  helpful  \n",
       "0  False  False  False  False  False   2    0        0  \n",
       "1  False  False  False  False  False   2    0        0  \n",
       "2  False  False  False  False  False   2    0        0  "
      ]
     },
     "execution_count": 50,
     "metadata": {},
     "output_type": "execute_result"
    }
   ],
   "source": [
    "df.head(3)"
   ]
  },
  {
   "cell_type": "code",
   "execution_count": 51,
   "metadata": {},
   "outputs": [
    {
     "data": {
      "text/html": [
       "<div>\n",
       "<style scoped>\n",
       "    .dataframe tbody tr th:only-of-type {\n",
       "        vertical-align: middle;\n",
       "    }\n",
       "\n",
       "    .dataframe tbody tr th {\n",
       "        vertical-align: top;\n",
       "    }\n",
       "\n",
       "    .dataframe thead th {\n",
       "        text-align: right;\n",
       "    }\n",
       "</style>\n",
       "<table border=\"1\" class=\"dataframe\">\n",
       "  <thead>\n",
       "    <tr style=\"text-align: right;\">\n",
       "      <th></th>\n",
       "      <th>hotel</th>\n",
       "      <th>star</th>\n",
       "      <th>review</th>\n",
       "      <th>가성비</th>\n",
       "      <th>추천</th>\n",
       "      <th>출장</th>\n",
       "      <th>조식</th>\n",
       "      <th>무료</th>\n",
       "      <th>저렴</th>\n",
       "      <th>attitude</th>\n",
       "      <th>sum</th>\n",
       "      <th>helpful</th>\n",
       "    </tr>\n",
       "  </thead>\n",
       "  <tbody>\n",
       "    <tr>\n",
       "      <th>0</th>\n",
       "      <td>호텔 8 Hours</td>\n",
       "      <td>5</td>\n",
       "      <td>깨끗하고 위치도 좋고 구성비 좋았습니다 다만 비품이 거의 없다고 보면 돼서 챙겨가야...</td>\n",
       "      <td>False</td>\n",
       "      <td>False</td>\n",
       "      <td>False</td>\n",
       "      <td>False</td>\n",
       "      <td>False</td>\n",
       "      <td>False</td>\n",
       "      <td>2</td>\n",
       "      <td>0</td>\n",
       "      <td>0</td>\n",
       "    </tr>\n",
       "    <tr>\n",
       "      <th>1</th>\n",
       "      <td>호텔 8 Hours</td>\n",
       "      <td>4</td>\n",
       "      <td>너무 좋아요 잘 머물다 갑니다</td>\n",
       "      <td>False</td>\n",
       "      <td>False</td>\n",
       "      <td>False</td>\n",
       "      <td>False</td>\n",
       "      <td>False</td>\n",
       "      <td>False</td>\n",
       "      <td>2</td>\n",
       "      <td>0</td>\n",
       "      <td>0</td>\n",
       "    </tr>\n",
       "    <tr>\n",
       "      <th>2</th>\n",
       "      <td>호텔 8 Hours</td>\n",
       "      <td>5</td>\n",
       "      <td>적당히 잘 쉬다 가요</td>\n",
       "      <td>False</td>\n",
       "      <td>False</td>\n",
       "      <td>False</td>\n",
       "      <td>False</td>\n",
       "      <td>False</td>\n",
       "      <td>False</td>\n",
       "      <td>2</td>\n",
       "      <td>0</td>\n",
       "      <td>0</td>\n",
       "    </tr>\n",
       "  </tbody>\n",
       "</table>\n",
       "</div>"
      ],
      "text/plain": [
       "        hotel  star                                             review    가성비  \\\n",
       "0  호텔 8 Hours     5  깨끗하고 위치도 좋고 구성비 좋았습니다 다만 비품이 거의 없다고 보면 돼서 챙겨가야...  False   \n",
       "1  호텔 8 Hours     4                                   너무 좋아요 잘 머물다 갑니다  False   \n",
       "2  호텔 8 Hours     5                                        적당히 잘 쉬다 가요  False   \n",
       "\n",
       "      추천     출장     조식     무료     저렴  attitude  sum  helpful  \n",
       "0  False  False  False  False  False         2    0        0  \n",
       "1  False  False  False  False  False         2    0        0  \n",
       "2  False  False  False  False  False         2    0        0  "
      ]
     },
     "execution_count": 51,
     "metadata": {},
     "output_type": "execute_result"
    }
   ],
   "source": [
    "df.rename(columns = {'감정' : 'attitude'}, inplace = True)\n",
    "df.head(3)"
   ]
  },
  {
   "cell_type": "code",
   "execution_count": 52,
   "metadata": {},
   "outputs": [],
   "source": [
    "df.to_csv('data/가성비호텔_도움_라벨링.csv', encoding='utf-8-sig')"
   ]
  },
  {
   "cell_type": "code",
   "execution_count": 1,
   "metadata": {},
   "outputs": [],
   "source": [
    "import pandas as pd"
   ]
  },
  {
   "cell_type": "code",
   "execution_count": 30,
   "metadata": {},
   "outputs": [
    {
     "data": {
      "text/html": [
       "<div>\n",
       "<style scoped>\n",
       "    .dataframe tbody tr th:only-of-type {\n",
       "        vertical-align: middle;\n",
       "    }\n",
       "\n",
       "    .dataframe tbody tr th {\n",
       "        vertical-align: top;\n",
       "    }\n",
       "\n",
       "    .dataframe thead th {\n",
       "        text-align: right;\n",
       "    }\n",
       "</style>\n",
       "<table border=\"1\" class=\"dataframe\">\n",
       "  <thead>\n",
       "    <tr style=\"text-align: right;\">\n",
       "      <th></th>\n",
       "      <th>index</th>\n",
       "      <th>hotel</th>\n",
       "      <th>star</th>\n",
       "      <th>review</th>\n",
       "      <th>가성비</th>\n",
       "      <th>추천</th>\n",
       "      <th>출장</th>\n",
       "      <th>조식</th>\n",
       "      <th>무료</th>\n",
       "      <th>저렴</th>\n",
       "      <th>attitude</th>\n",
       "      <th>sum</th>\n",
       "      <th>helpful</th>\n",
       "    </tr>\n",
       "  </thead>\n",
       "  <tbody>\n",
       "    <tr>\n",
       "      <th>0</th>\n",
       "      <td>0</td>\n",
       "      <td>호텔 8 Hours</td>\n",
       "      <td>5</td>\n",
       "      <td>깨끗하고 위치도 좋고 구성비 좋았습니다 다만 비품이 거의 없다고 보면 돼서 챙겨가야...</td>\n",
       "      <td>False</td>\n",
       "      <td>False</td>\n",
       "      <td>False</td>\n",
       "      <td>False</td>\n",
       "      <td>False</td>\n",
       "      <td>False</td>\n",
       "      <td>2</td>\n",
       "      <td>0</td>\n",
       "      <td>0</td>\n",
       "    </tr>\n",
       "    <tr>\n",
       "      <th>1</th>\n",
       "      <td>1</td>\n",
       "      <td>호텔 8 Hours</td>\n",
       "      <td>4</td>\n",
       "      <td>너무 좋아요 잘 머물다 갑니다</td>\n",
       "      <td>False</td>\n",
       "      <td>False</td>\n",
       "      <td>False</td>\n",
       "      <td>False</td>\n",
       "      <td>False</td>\n",
       "      <td>False</td>\n",
       "      <td>2</td>\n",
       "      <td>0</td>\n",
       "      <td>0</td>\n",
       "    </tr>\n",
       "    <tr>\n",
       "      <th>2</th>\n",
       "      <td>2</td>\n",
       "      <td>호텔 8 Hours</td>\n",
       "      <td>5</td>\n",
       "      <td>적당히 잘 쉬다 가요</td>\n",
       "      <td>False</td>\n",
       "      <td>False</td>\n",
       "      <td>False</td>\n",
       "      <td>False</td>\n",
       "      <td>False</td>\n",
       "      <td>False</td>\n",
       "      <td>2</td>\n",
       "      <td>0</td>\n",
       "      <td>0</td>\n",
       "    </tr>\n",
       "    <tr>\n",
       "      <th>3</th>\n",
       "      <td>3</td>\n",
       "      <td>호텔 8 Hours</td>\n",
       "      <td>5</td>\n",
       "      <td>매번 요때마다 매우 만족합니다 번창하세요</td>\n",
       "      <td>False</td>\n",
       "      <td>False</td>\n",
       "      <td>False</td>\n",
       "      <td>False</td>\n",
       "      <td>False</td>\n",
       "      <td>False</td>\n",
       "      <td>2</td>\n",
       "      <td>0</td>\n",
       "      <td>0</td>\n",
       "    </tr>\n",
       "    <tr>\n",
       "      <th>4</th>\n",
       "      <td>4</td>\n",
       "      <td>호텔 8 Hours</td>\n",
       "      <td>5</td>\n",
       "      <td>너무 편하고 좋았어요</td>\n",
       "      <td>False</td>\n",
       "      <td>False</td>\n",
       "      <td>False</td>\n",
       "      <td>False</td>\n",
       "      <td>False</td>\n",
       "      <td>False</td>\n",
       "      <td>2</td>\n",
       "      <td>0</td>\n",
       "      <td>0</td>\n",
       "    </tr>\n",
       "  </tbody>\n",
       "</table>\n",
       "</div>"
      ],
      "text/plain": [
       "   index       hotel  star                                             review  \\\n",
       "0      0  호텔 8 Hours     5  깨끗하고 위치도 좋고 구성비 좋았습니다 다만 비품이 거의 없다고 보면 돼서 챙겨가야...   \n",
       "1      1  호텔 8 Hours     4                                   너무 좋아요 잘 머물다 갑니다   \n",
       "2      2  호텔 8 Hours     5                                        적당히 잘 쉬다 가요   \n",
       "3      3  호텔 8 Hours     5                             매번 요때마다 매우 만족합니다 번창하세요   \n",
       "4      4  호텔 8 Hours     5                                        너무 편하고 좋았어요   \n",
       "\n",
       "     가성비     추천     출장     조식     무료     저렴  attitude  sum  helpful  \n",
       "0  False  False  False  False  False  False         2    0        0  \n",
       "1  False  False  False  False  False  False         2    0        0  \n",
       "2  False  False  False  False  False  False         2    0        0  \n",
       "3  False  False  False  False  False  False         2    0        0  \n",
       "4  False  False  False  False  False  False         2    0        0  "
      ]
     },
     "execution_count": 30,
     "metadata": {},
     "output_type": "execute_result"
    }
   ],
   "source": [
    "df = pd.read_csv('data/가성비호텔_도움_라벨링.csv')\n",
    "df.head()"
   ]
  },
  {
   "cell_type": "code",
   "execution_count": 32,
   "metadata": {},
   "outputs": [],
   "source": [
    "import numpy as np"
   ]
  },
  {
   "cell_type": "code",
   "execution_count": 33,
   "metadata": {},
   "outputs": [],
   "source": [
    "positive = df[np.logical_and(df.attitude == 2,df.helpful == 1)]"
   ]
  },
  {
   "cell_type": "code",
   "execution_count": 34,
   "metadata": {},
   "outputs": [
    {
     "data": {
      "text/html": [
       "<div>\n",
       "<style scoped>\n",
       "    .dataframe tbody tr th:only-of-type {\n",
       "        vertical-align: middle;\n",
       "    }\n",
       "\n",
       "    .dataframe tbody tr th {\n",
       "        vertical-align: top;\n",
       "    }\n",
       "\n",
       "    .dataframe thead th {\n",
       "        text-align: right;\n",
       "    }\n",
       "</style>\n",
       "<table border=\"1\" class=\"dataframe\">\n",
       "  <thead>\n",
       "    <tr style=\"text-align: right;\">\n",
       "      <th></th>\n",
       "      <th>index</th>\n",
       "      <th>hotel</th>\n",
       "      <th>star</th>\n",
       "      <th>review</th>\n",
       "      <th>가성비</th>\n",
       "      <th>추천</th>\n",
       "      <th>출장</th>\n",
       "      <th>조식</th>\n",
       "      <th>무료</th>\n",
       "      <th>저렴</th>\n",
       "      <th>attitude</th>\n",
       "      <th>sum</th>\n",
       "      <th>helpful</th>\n",
       "    </tr>\n",
       "  </thead>\n",
       "  <tbody>\n",
       "    <tr>\n",
       "      <th>9</th>\n",
       "      <td>9</td>\n",
       "      <td>호텔 8 Hours</td>\n",
       "      <td>5</td>\n",
       "      <td>좋아요 추천합니아 깔끔해요 오 오 오오오 로션 없어요</td>\n",
       "      <td>False</td>\n",
       "      <td>True</td>\n",
       "      <td>False</td>\n",
       "      <td>False</td>\n",
       "      <td>False</td>\n",
       "      <td>False</td>\n",
       "      <td>2</td>\n",
       "      <td>1</td>\n",
       "      <td>1</td>\n",
       "    </tr>\n",
       "    <tr>\n",
       "      <th>27</th>\n",
       "      <td>27</td>\n",
       "      <td>호텔 8 Hours</td>\n",
       "      <td>5</td>\n",
       "      <td>들어가는 골목만 잘 선택하면 저렴한 가격에 좋아요</td>\n",
       "      <td>False</td>\n",
       "      <td>False</td>\n",
       "      <td>False</td>\n",
       "      <td>False</td>\n",
       "      <td>False</td>\n",
       "      <td>True</td>\n",
       "      <td>2</td>\n",
       "      <td>1</td>\n",
       "      <td>1</td>\n",
       "    </tr>\n",
       "    <tr>\n",
       "      <th>34</th>\n",
       "      <td>34</td>\n",
       "      <td>호텔 8 Hours</td>\n",
       "      <td>4</td>\n",
       "      <td>서울역 가기 전에 간단하게 머물고 가기 좋아요 굽이굽이 골목길 안에 있어서 좀 걱정...</td>\n",
       "      <td>False</td>\n",
       "      <td>False</td>\n",
       "      <td>False</td>\n",
       "      <td>False</td>\n",
       "      <td>False</td>\n",
       "      <td>True</td>\n",
       "      <td>2</td>\n",
       "      <td>1</td>\n",
       "      <td>1</td>\n",
       "    </tr>\n",
       "    <tr>\n",
       "      <th>43</th>\n",
       "      <td>43</td>\n",
       "      <td>호텔 8 Hours</td>\n",
       "      <td>5</td>\n",
       "      <td>저렴하고 친절하시고 좋아요</td>\n",
       "      <td>False</td>\n",
       "      <td>False</td>\n",
       "      <td>False</td>\n",
       "      <td>False</td>\n",
       "      <td>False</td>\n",
       "      <td>True</td>\n",
       "      <td>2</td>\n",
       "      <td>1</td>\n",
       "      <td>1</td>\n",
       "    </tr>\n",
       "    <tr>\n",
       "      <th>48</th>\n",
       "      <td>48</td>\n",
       "      <td>호텔 8 Hours</td>\n",
       "      <td>5</td>\n",
       "      <td>주인분께서 굉장히 친절하시고 숙소 전체적인 분위기가 밝아서 편안히 쉬다 갈 수 있었...</td>\n",
       "      <td>False</td>\n",
       "      <td>False</td>\n",
       "      <td>False</td>\n",
       "      <td>False</td>\n",
       "      <td>True</td>\n",
       "      <td>False</td>\n",
       "      <td>2</td>\n",
       "      <td>1</td>\n",
       "      <td>1</td>\n",
       "    </tr>\n",
       "  </tbody>\n",
       "</table>\n",
       "</div>"
      ],
      "text/plain": [
       "    index       hotel  star  \\\n",
       "9       9  호텔 8 Hours     5   \n",
       "27     27  호텔 8 Hours     5   \n",
       "34     34  호텔 8 Hours     4   \n",
       "43     43  호텔 8 Hours     5   \n",
       "48     48  호텔 8 Hours     5   \n",
       "\n",
       "                                               review    가성비     추천     출장  \\\n",
       "9                       좋아요 추천합니아 깔끔해요 오 오 오오오 로션 없어요  False   True  False   \n",
       "27                        들어가는 골목만 잘 선택하면 저렴한 가격에 좋아요  False  False  False   \n",
       "34  서울역 가기 전에 간단하게 머물고 가기 좋아요 굽이굽이 골목길 안에 있어서 좀 걱정...  False  False  False   \n",
       "43                                    저렴하고 친절하시고 좋아요   False  False  False   \n",
       "48  주인분께서 굉장히 친절하시고 숙소 전체적인 분위기가 밝아서 편안히 쉬다 갈 수 있었...  False  False  False   \n",
       "\n",
       "       조식     무료     저렴  attitude  sum  helpful  \n",
       "9   False  False  False         2    1        1  \n",
       "27  False  False   True         2    1        1  \n",
       "34  False  False   True         2    1        1  \n",
       "43  False  False   True         2    1        1  \n",
       "48  False   True  False         2    1        1  "
      ]
     },
     "execution_count": 34,
     "metadata": {},
     "output_type": "execute_result"
    }
   ],
   "source": [
    "positive.head()"
   ]
  },
  {
   "cell_type": "code",
   "execution_count": 35,
   "metadata": {},
   "outputs": [
    {
     "data": {
      "text/plain": [
       "hotel\n",
       "페어필드 바이 메리어트 서울         827\n",
       "신라스테이 구로                447\n",
       "도미인 서울강남                368\n",
       "[반짝특가] 신라스테이 구로         357\n",
       "호텔 피제이 명동               305\n",
       "골드리버 호텔                 268\n",
       "영등포 GMS 호텔              254\n",
       "노보텔 앰배서더 동대문 호텔&레지던스    218\n",
       "인터컨티넨탈 서울 코엑스           217\n",
       "더 스테이트 선유 호텔            211\n",
       "Name: index, dtype: int64"
      ]
     },
     "execution_count": 35,
     "metadata": {},
     "output_type": "execute_result"
    }
   ],
   "source": [
    "positive['index'].groupby(positive['hotel']).count().sort_values(ascending=False)[:10]"
   ]
  },
  {
   "cell_type": "code",
   "execution_count": 41,
   "metadata": {},
   "outputs": [
    {
     "data": {
      "text/plain": [
       "hotel\n",
       "페어필드 바이 메리어트 서울    12944\n",
       "영등포 GMS 호텔          5960\n",
       "신라스테이 구로            5031\n",
       "[반짝특가] 신라스테이 구로     2348\n",
       "스탠포드 호텔 서울          2329\n",
       "Name: index, dtype: int64"
      ]
     },
     "execution_count": 41,
     "metadata": {},
     "output_type": "execute_result"
    }
   ],
   "source": [
    "df_top = df['index'].groupby(df['hotel']).count().sort_values(ascending=False)[:101]\n",
    "df_top.head()"
   ]
  },
  {
   "cell_type": "code",
   "execution_count": 42,
   "metadata": {},
   "outputs": [],
   "source": [
    "df_top.to_csv('data/가성비호텔_top100.csv', encoding='utf-8-sig')"
   ]
  },
  {
   "cell_type": "code",
   "execution_count": null,
   "metadata": {},
   "outputs": [],
   "source": []
  }
 ],
 "metadata": {
  "interpreter": {
   "hash": "8c1eae21719a0790335dcb83aad72b63b602cfe5cdb2bda0f60bc11d4f154e4b"
  },
  "kernelspec": {
   "display_name": "Python 3.8.5 64-bit ('base': conda)",
   "name": "python3"
  },
  "language_info": {
   "codemirror_mode": {
    "name": "ipython",
    "version": 3
   },
   "file_extension": ".py",
   "mimetype": "text/x-python",
   "name": "python",
   "nbconvert_exporter": "python",
   "pygments_lexer": "ipython3",
   "version": "3.8.5"
  },
  "orig_nbformat": 4
 },
 "nbformat": 4,
 "nbformat_minor": 2
}
