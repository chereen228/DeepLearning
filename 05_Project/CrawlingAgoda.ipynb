{
 "metadata": {
  "language_info": {
   "codemirror_mode": {
    "name": "ipython",
    "version": 3
   },
   "file_extension": ".py",
   "mimetype": "text/x-python",
   "name": "python",
   "nbconvert_exporter": "python",
   "pygments_lexer": "ipython3",
   "version": "3.8.5"
  },
  "orig_nbformat": 4,
  "kernelspec": {
   "name": "python3",
   "display_name": "Python 3.8.5 64-bit ('base': conda)"
  },
  "interpreter": {
   "hash": "8c1eae21719a0790335dcb83aad72b63b602cfe5cdb2bda0f60bc11d4f154e4b"
  }
 },
 "nbformat": 4,
 "nbformat_minor": 2,
 "cells": [
  {
   "cell_type": "code",
   "execution_count": 1,
   "metadata": {},
   "outputs": [],
   "source": [
    "from selenium import webdriver\n",
    "import requests\n",
    "from bs4 import BeautifulSoup as bs\n",
    "from selenium.webdriver import ActionChains as ac\n",
    "import pandas as pd\n",
    "import time\n",
    "from selenium.webdriver.support.select import Select"
   ]
  },
  {
   "cell_type": "code",
   "execution_count": 2,
   "metadata": {},
   "outputs": [],
   "source": [
    "driver = webdriver.Chrome('./chromedriver')\n",
    "driver.implicitly_wait(5)\n",
    "driver.get('https://www.agoda.com/ko-kr/search?city=14690&locale=ko-kr&ckuid=85bd8e58-3e28-4b77-bbc9-220d4005678d&prid=0&currency=KRW&correlationId=53d841b7-667a-46d2-9254-9f50dbb613d6&pageTypeId=103&realLanguageId=9&languageId=9&origin=KR&cid=1829971&tag=747e9723-83df-6f99-853a-8505c70753f7&userId=85bd8e58-3e28-4b77-bbc9-220d4005678d&whitelabelid=1&loginLvl=0&storefrontId=3&currencyId=26&currencyCode=KRW&htmlLanguage=ko-kr&cultureInfoName=ko-kr&machineName=hk-crweb-2011&trafficGroupId=5&sessionId=zhcjc1dv5s1tlmr15vkzg1xv&trafficSubGroupId=122&aid=82361&useFullPageLogin=true&cttp=4&isRealUser=true&mode=production&checkIn=2021-07-08&checkOut=2021-07-09&rooms=1&adults=2&children=0&priceCur=KRW&los=1&textToSearch=%EC%84%9C%EC%9A%B8&productType=-1&travellerType=1&familyMode=off')\n",
    "html = driver.page_source\n",
    "soup = bs(html, 'html.parser')"
   ]
  },
  {
   "cell_type": "code",
   "execution_count": 6,
   "metadata": {},
   "outputs": [],
   "source": [
    "driver.find_element_by_css_selector('h3.PropertyCard__HotelName').click()\n"
   ]
  },
  {
   "cell_type": "code",
   "execution_count": 14,
   "metadata": {},
   "outputs": [
    {
     "output_type": "error",
     "ename": "NoSuchElementException",
     "evalue": "Message: no such element: Unable to locate element: {\"method\":\"xpath\",\"selector\":\"//*[@id=\"reviewFilterSection\"]/div[3]/div[1]\"}\n  (Session info: chrome=91.0.4472.124)\n",
     "traceback": [
      "\u001b[1;31m---------------------------------------------------------------------------\u001b[0m",
      "\u001b[1;31mNoSuchElementException\u001b[0m                    Traceback (most recent call last)",
      "\u001b[1;32m<ipython-input-14-fa2d1a97d288>\u001b[0m in \u001b[0;36m<module>\u001b[1;34m\u001b[0m\n\u001b[0;32m      1\u001b[0m \u001b[1;31m# 리뷰 필터 선택\u001b[0m\u001b[1;33m\u001b[0m\u001b[1;33m\u001b[0m\u001b[1;33m\u001b[0m\u001b[0m\n\u001b[1;32m----> 2\u001b[1;33m \u001b[0mbutton\u001b[0m \u001b[1;33m=\u001b[0m \u001b[0mdriver\u001b[0m\u001b[1;33m.\u001b[0m\u001b[0mfind_element_by_xpath\u001b[0m\u001b[1;33m(\u001b[0m\u001b[1;34m'//*[@id=\"reviewFilterSection\"]/div[3]/div[1]'\u001b[0m\u001b[1;33m)\u001b[0m\u001b[1;33m\u001b[0m\u001b[1;33m\u001b[0m\u001b[0m\n\u001b[0m\u001b[0;32m      3\u001b[0m \u001b[1;33m\u001b[0m\u001b[0m\n\u001b[0;32m      4\u001b[0m \u001b[0mac\u001b[0m\u001b[1;33m(\u001b[0m\u001b[0mdriver\u001b[0m\u001b[1;33m)\u001b[0m\u001b[1;33m.\u001b[0m\u001b[0mmove_to_element\u001b[0m\u001b[1;33m(\u001b[0m\u001b[0mbutton\u001b[0m\u001b[1;33m)\u001b[0m\u001b[1;33m.\u001b[0m\u001b[0mclick\u001b[0m\u001b[1;33m(\u001b[0m\u001b[1;33m)\u001b[0m\u001b[1;33m.\u001b[0m\u001b[0mperform\u001b[0m\u001b[1;33m\u001b[0m\u001b[1;33m\u001b[0m\u001b[0m\n\u001b[0;32m      5\u001b[0m \u001b[0mtime\u001b[0m\u001b[1;33m.\u001b[0m\u001b[0msleep\u001b[0m\u001b[1;33m(\u001b[0m\u001b[1;36m2\u001b[0m\u001b[1;33m)\u001b[0m\u001b[1;33m\u001b[0m\u001b[1;33m\u001b[0m\u001b[0m\n",
      "\u001b[1;32m~\\miniconda3\\lib\\site-packages\\selenium\\webdriver\\remote\\webdriver.py\u001b[0m in \u001b[0;36mfind_element_by_xpath\u001b[1;34m(self, xpath)\u001b[0m\n\u001b[0;32m    392\u001b[0m             \u001b[0melement\u001b[0m \u001b[1;33m=\u001b[0m \u001b[0mdriver\u001b[0m\u001b[1;33m.\u001b[0m\u001b[0mfind_element_by_xpath\u001b[0m\u001b[1;33m(\u001b[0m\u001b[1;34m'//div/td[1]'\u001b[0m\u001b[1;33m)\u001b[0m\u001b[1;33m\u001b[0m\u001b[1;33m\u001b[0m\u001b[0m\n\u001b[0;32m    393\u001b[0m         \"\"\"\n\u001b[1;32m--> 394\u001b[1;33m         \u001b[1;32mreturn\u001b[0m \u001b[0mself\u001b[0m\u001b[1;33m.\u001b[0m\u001b[0mfind_element\u001b[0m\u001b[1;33m(\u001b[0m\u001b[0mby\u001b[0m\u001b[1;33m=\u001b[0m\u001b[0mBy\u001b[0m\u001b[1;33m.\u001b[0m\u001b[0mXPATH\u001b[0m\u001b[1;33m,\u001b[0m \u001b[0mvalue\u001b[0m\u001b[1;33m=\u001b[0m\u001b[0mxpath\u001b[0m\u001b[1;33m)\u001b[0m\u001b[1;33m\u001b[0m\u001b[1;33m\u001b[0m\u001b[0m\n\u001b[0m\u001b[0;32m    395\u001b[0m \u001b[1;33m\u001b[0m\u001b[0m\n\u001b[0;32m    396\u001b[0m     \u001b[1;32mdef\u001b[0m \u001b[0mfind_elements_by_xpath\u001b[0m\u001b[1;33m(\u001b[0m\u001b[0mself\u001b[0m\u001b[1;33m,\u001b[0m \u001b[0mxpath\u001b[0m\u001b[1;33m)\u001b[0m\u001b[1;33m:\u001b[0m\u001b[1;33m\u001b[0m\u001b[1;33m\u001b[0m\u001b[0m\n",
      "\u001b[1;32m~\\miniconda3\\lib\\site-packages\\selenium\\webdriver\\remote\\webdriver.py\u001b[0m in \u001b[0;36mfind_element\u001b[1;34m(self, by, value)\u001b[0m\n\u001b[0;32m    974\u001b[0m                 \u001b[0mby\u001b[0m \u001b[1;33m=\u001b[0m \u001b[0mBy\u001b[0m\u001b[1;33m.\u001b[0m\u001b[0mCSS_SELECTOR\u001b[0m\u001b[1;33m\u001b[0m\u001b[1;33m\u001b[0m\u001b[0m\n\u001b[0;32m    975\u001b[0m                 \u001b[0mvalue\u001b[0m \u001b[1;33m=\u001b[0m \u001b[1;34m'[name=\"%s\"]'\u001b[0m \u001b[1;33m%\u001b[0m \u001b[0mvalue\u001b[0m\u001b[1;33m\u001b[0m\u001b[1;33m\u001b[0m\u001b[0m\n\u001b[1;32m--> 976\u001b[1;33m         return self.execute(Command.FIND_ELEMENT, {\n\u001b[0m\u001b[0;32m    977\u001b[0m             \u001b[1;34m'using'\u001b[0m\u001b[1;33m:\u001b[0m \u001b[0mby\u001b[0m\u001b[1;33m,\u001b[0m\u001b[1;33m\u001b[0m\u001b[1;33m\u001b[0m\u001b[0m\n\u001b[0;32m    978\u001b[0m             'value': value})['value']\n",
      "\u001b[1;32m~\\miniconda3\\lib\\site-packages\\selenium\\webdriver\\remote\\webdriver.py\u001b[0m in \u001b[0;36mexecute\u001b[1;34m(self, driver_command, params)\u001b[0m\n\u001b[0;32m    319\u001b[0m         \u001b[0mresponse\u001b[0m \u001b[1;33m=\u001b[0m \u001b[0mself\u001b[0m\u001b[1;33m.\u001b[0m\u001b[0mcommand_executor\u001b[0m\u001b[1;33m.\u001b[0m\u001b[0mexecute\u001b[0m\u001b[1;33m(\u001b[0m\u001b[0mdriver_command\u001b[0m\u001b[1;33m,\u001b[0m \u001b[0mparams\u001b[0m\u001b[1;33m)\u001b[0m\u001b[1;33m\u001b[0m\u001b[1;33m\u001b[0m\u001b[0m\n\u001b[0;32m    320\u001b[0m         \u001b[1;32mif\u001b[0m \u001b[0mresponse\u001b[0m\u001b[1;33m:\u001b[0m\u001b[1;33m\u001b[0m\u001b[1;33m\u001b[0m\u001b[0m\n\u001b[1;32m--> 321\u001b[1;33m             \u001b[0mself\u001b[0m\u001b[1;33m.\u001b[0m\u001b[0merror_handler\u001b[0m\u001b[1;33m.\u001b[0m\u001b[0mcheck_response\u001b[0m\u001b[1;33m(\u001b[0m\u001b[0mresponse\u001b[0m\u001b[1;33m)\u001b[0m\u001b[1;33m\u001b[0m\u001b[1;33m\u001b[0m\u001b[0m\n\u001b[0m\u001b[0;32m    322\u001b[0m             response['value'] = self._unwrap_value(\n\u001b[0;32m    323\u001b[0m                 response.get('value', None))\n",
      "\u001b[1;32m~\\miniconda3\\lib\\site-packages\\selenium\\webdriver\\remote\\errorhandler.py\u001b[0m in \u001b[0;36mcheck_response\u001b[1;34m(self, response)\u001b[0m\n\u001b[0;32m    240\u001b[0m                 \u001b[0malert_text\u001b[0m \u001b[1;33m=\u001b[0m \u001b[0mvalue\u001b[0m\u001b[1;33m[\u001b[0m\u001b[1;34m'alert'\u001b[0m\u001b[1;33m]\u001b[0m\u001b[1;33m.\u001b[0m\u001b[0mget\u001b[0m\u001b[1;33m(\u001b[0m\u001b[1;34m'text'\u001b[0m\u001b[1;33m)\u001b[0m\u001b[1;33m\u001b[0m\u001b[1;33m\u001b[0m\u001b[0m\n\u001b[0;32m    241\u001b[0m             \u001b[1;32mraise\u001b[0m \u001b[0mexception_class\u001b[0m\u001b[1;33m(\u001b[0m\u001b[0mmessage\u001b[0m\u001b[1;33m,\u001b[0m \u001b[0mscreen\u001b[0m\u001b[1;33m,\u001b[0m \u001b[0mstacktrace\u001b[0m\u001b[1;33m,\u001b[0m \u001b[0malert_text\u001b[0m\u001b[1;33m)\u001b[0m\u001b[1;33m\u001b[0m\u001b[1;33m\u001b[0m\u001b[0m\n\u001b[1;32m--> 242\u001b[1;33m         \u001b[1;32mraise\u001b[0m \u001b[0mexception_class\u001b[0m\u001b[1;33m(\u001b[0m\u001b[0mmessage\u001b[0m\u001b[1;33m,\u001b[0m \u001b[0mscreen\u001b[0m\u001b[1;33m,\u001b[0m \u001b[0mstacktrace\u001b[0m\u001b[1;33m)\u001b[0m\u001b[1;33m\u001b[0m\u001b[1;33m\u001b[0m\u001b[0m\n\u001b[0m\u001b[0;32m    243\u001b[0m \u001b[1;33m\u001b[0m\u001b[0m\n\u001b[0;32m    244\u001b[0m     \u001b[1;32mdef\u001b[0m \u001b[0m_value_or_default\u001b[0m\u001b[1;33m(\u001b[0m\u001b[0mself\u001b[0m\u001b[1;33m,\u001b[0m \u001b[0mobj\u001b[0m\u001b[1;33m,\u001b[0m \u001b[0mkey\u001b[0m\u001b[1;33m,\u001b[0m \u001b[0mdefault\u001b[0m\u001b[1;33m)\u001b[0m\u001b[1;33m:\u001b[0m\u001b[1;33m\u001b[0m\u001b[1;33m\u001b[0m\u001b[0m\n",
      "\u001b[1;31mNoSuchElementException\u001b[0m: Message: no such element: Unable to locate element: {\"method\":\"xpath\",\"selector\":\"//*[@id=\"reviewFilterSection\"]/div[3]/div[1]\"}\n  (Session info: chrome=91.0.4472.124)\n"
     ]
    }
   ],
   "source": [
    "# 리뷰 필터 선택\n",
    "button = driver.find_element_by_xpath('//*[@id=\"reviewFilterSection\"]/div[3]/div[1]')\n",
    "                                      \n",
    "ac(driver).move_to_element(button).click().perform\n",
    "time.sleep(2)"
   ]
  },
  {
   "cell_type": "code",
   "execution_count": null,
   "metadata": {},
   "outputs": [],
   "source": [
    "ac(driver).move_to_element(scroll_point).perform()\n"
   ]
  },
  {
   "cell_type": "code",
   "execution_count": null,
   "metadata": {},
   "outputs": [],
   "source": [
    "\n",
    "html = driver.page_source\n",
    "soup = bs(html, 'html.parser')\n",
    "\n",
    "button = driver.find_element_by_xpath('//*[@id=\"reviewFilterSection\"]/div[3]/div[1]')\n",
    "                                      \n",
    "ac(driver).move_to_element(button).click().perform\n",
    "time.sleep(2)\n",
    "button = driver.find_element_by_xpath('//*[@id=\"reviewFilterSection\"]/div[3]/div[1]')\n",
    "ac(driver).move_to_element(button).click().perform\n",
    "time.sleep(2)\n",
    "button = driver.find_element_by_xpath('//*[@id=\"reviewFilterSection\"]/div[1]/div[3]')\n",
    "ac(driver).move_to_element(button).click().perform()\n",
    "time.sleep(2)"
   ]
  },
  {
   "cell_type": "code",
   "execution_count": 4,
   "metadata": {},
   "outputs": [],
   "source": [
    "#한국어클릭\n",
    "button = driver.find_element_by_class_name('//*[@id=\"revi\"]/div[1]/div[3]/div')\n",
    "ac(driver).move_to_element(button).click().perform()\n",
    "time.sleep(2)\n",
    "\n",
    "driver.implicitly_wait(5)"
   ]
  },
  {
   "cell_type": "code",
   "execution_count": 5,
   "metadata": {},
   "outputs": [],
   "source": [
    "# 다시 파싱\n",
    "html = driver.page_source\n",
    "soup = bs(html, 'html.parser')"
   ]
  },
  {
   "cell_type": "code",
   "execution_count": 6,
   "metadata": {},
   "outputs": [],
   "source": [
    "#총 리뷰 개수 찾기 : for문을 몇 번 돌릴지 구하기위함 (버튼을 몇 번 눌러야 할지) \n",
    "html = driver.page_source\n",
    "soup = bs(html, 'html.parser')\n",
    "review_sum0 =  soup.select('.Review__FilterContainer__Dropbox > span') #이게 아니었네용\n",
    "review_sum0 = review_sum0[0].text.split(\"(\")[1][:-1]\n",
    "\n",
    "#실제 이용후기 개수\n",
    "review_sum = soup.select('span.Review__SummaryContainer--left.Review__SummaryContainer__Text')[0].text\n",
    "review_sum = review_sum.split(\" \")[3][:-1]\n",
    "\n",
    "\n",
    "pages = int(review_sum)//20 + 1"
   ]
  },
  {
   "cell_type": "code",
   "execution_count": 7,
   "metadata": {},
   "outputs": [],
   "source": [
    "# 데이터프레임으로 만들 딕셔너리 정의\n",
    "reviews = {'text':[]}"
   ]
  },
  {
   "cell_type": "code",
   "execution_count": 8,
   "metadata": {},
   "outputs": [],
   "source": [
    "#page 넘어가기\n",
    "for k in range(1,pages+1):\n",
    "    html = driver.page_source\n",
    "    soup = bs(html, 'html.parser')\n",
    "    \n",
    "    # 리뷰 영역까지 스크롤\n",
    "    scroll_point = driver.find_element_by_id('review-0')\n",
    "    ac(driver).move_to_element(scroll_point).perform()\n",
    "    \n",
    "    # 다시 파싱\n",
    "    html = driver.page_source\n",
    "    soup = bs(html, 'html.parser')\n",
    "    \n",
    "    for k in range(0,9):\n",
    "        date_ = soup.select(f'#review-{k} > div.Review-comment-right > div.Review-comment-bubble > div.Review-statusBar > div > div > span')\n",
    "     \n",
    "        year = date_[0].text.split(\" \")[1][:-1]\n",
    "        if int(year) >= 2018:\n",
    "            text = soup.select(f'#review-{k} > div.Review-comment-right > div.Review-comment-bubble > div.Review-comment-body > p.Review-comment-bodyText')\n",
    "            \n",
    "            reviews['text'].append(text[0].text)\n",
    "        else:\n",
    "            break\n",
    "            \n",
    "\n",
    "    #버튼누르기\n",
    "    button = driver.find_element_by_xpath('//*[@id=\"reviewSection\"]/div[4]/div/span[3]')\n",
    "    ac(driver).move_to_element(button).click().perform()\n",
    "    time.sleep(2)"
   ]
  },
  {
   "cell_type": "code",
   "execution_count": 9,
   "metadata": {},
   "outputs": [
    {
     "output_type": "execute_result",
     "data": {
      "text/plain": [
       "[<h1 class=\"HeaderCerebrum__Name\" data-selenium=\"hotel-header-name\">글래드라이브 호텔 (Glad Live Gangnam)</h1>]"
      ]
     },
     "metadata": {},
     "execution_count": 9
    }
   ],
   "source": [
    "#호텔명\n",
    "hotel = soup.select('.HeaderCerebrum__Name')\n",
    "hotel"
   ]
  },
  {
   "cell_type": "code",
   "execution_count": 10,
   "metadata": {},
   "outputs": [],
   "source": [
    "#호텔명\n",
    "reviews['title'] = hotel[0].text"
   ]
  },
  {
   "cell_type": "code",
   "execution_count": 11,
   "metadata": {},
   "outputs": [
    {
     "output_type": "execute_result",
     "data": {
      "text/plain": [
       "{'text': ['ㅇ',\n",
       "  '글래드 계열 호텔 침구은 언제나 편안하고, 룸 청결 상태는 항상 좋습니다~',\n",
       "  '오랜전부터 출장 때문에 자주 투숙하고 있습니다. 침대도 편안하고 모든게 좋은데 가격은 동일함에도 불구하고 점점 방문할수록 어매니티가 하나씩 사라져서 방문할 때마다 당황스럽네요^^',\n",
       "  '지하철 역이랑 가까워서 좋아요',\n",
       "  '넓은 침대와 긴 쇼파 2개로 5명까지 우리는 편하게 잤다.',\n",
       "  '방이 깔끔하고 분위기도 좋고 주변에 맛집도 많아서 좋았습니다. 특히 블루투스스피커도 있어서 더욱 호캉스기분 났습니다~',\n",
       "  '역에서 가깝고 좋아요',\n",
       "  '위치도 좋고 숙소 상태도 깨끗해서 또 오고 싶네요\\n고층 요청했더니 19층 주셨어요 감동~\\n다음에는 파티룸을 이용할까해요 ',\n",
       "  '강남에서 이 가격에 \\n작은 파티할 만한 크기와 무드 \\n분리된 거실을 가진 호텔은 여기뿐임.\\n부대시설은 이용할 만한 것이 없지만\\n주변 맛집 많고, 배달 안 되는 음식이 없다.',\n",
       "  '너무좋아요! ',\n",
       "  '서울에서의 시험을 위해 묵었던 호텔이였던만큼 밤에 시끄럽지는 않을까 라는 우려가 있었습니다만 우려와는 달리 너무 조용하고 좋았습니다 방도 깔끔하고 직원분들의대응도 좋았습니다 덕분에 컨디션조절도 잘되어 시험도 잘봤습니다:) 감사합니다~',\n",
       "  '저렴하게 잘 이용하다 갑니다',\n",
       "  '트윈룸예약! 룸컨디션좋고 침구좋고 디자인좋고 특히 샤워가운 재질이 너무마음에듬! 밤에 밖에 길거리나 호텔 내에 소음? 다른방 사람소리? 좀 시끄럽다 생각했고 잠자는데는 문제없을정도였음 체크아웃시간맞춰 체크아웃했는데 주차타워점검중이라고 20분정도 기다림 레스토랑 런치예약땜에 시간맞춰나왔는데 생각지도못한 딜레이에.. 레스토랑에 양해구하고 예약변경함 굳이 체크아웃시간에 점검했어야하는지의문 호텔투숙객인데 일찍가서 주차해놓는것도 추가요금내야되서 그점이 좀 별로였음 나머진매우만족! ',\n",
       "  '룸 컨디션은 좋았지만, 추워서 온도를 올리는데 전체적으로 방이 따뜻해지는 느낌은 없고 춥게 잤네요 천장에 있는 난방시스템의 필터가 오래된건지 아침에 목만 아프고, 여전히 방은 추웠습니다. \\n체크인날 조식떄문에 모닝콜 부탁했는데 전화를 안해 주시더라고요\\n느즈막히 일어나서 조식을 먹었는데 조식또한 돈내고 먹기 아까운 정도 였어요...\\n일단 돈이 아깝다는 생각이 많이 들어서 조식은 추천하지 않겟습니다. ',\n",
       "  '가격대비 룸 컨디션 아주좋습니다\\n공간도 넉넉하니 잘 쉬다왔습니다\\n다만 밤에 위쪽에 라운지에서 나는 소리인지 음악소리가 쿵쿵대는데 꽤 거슬리더라구요 12시쯤되니 꺼지긴 했지만 상당히 크게 들렸어요 베이스\\n쿵쿵대는 소리요\\n그리고 발렛 직원 아주 불친절하네요\\n체크아웃할때 기분 팍 상해서 나왔네요 ..쩝',\n",
       "  '어메니티 (칫솔 치약은 없음) 나머지는 괜찮음, 나이트가운이 너무 좋아서 가지구오고 싶음\\n침구류 좋음\\n조명 좋음! 주왕색으로 적절한 밝기라서 좋음\\n기타 하만 블루투스 스피커가 있음 노래틀어놓고있기 너무 좋음!\\n     수압, 핫워터 다 잘 나오고 좋음\\n     바로옆 편의점이 있어서 편함.\\n',\n",
       "  '일단 위치는 별로예요,,ㅠ 강남까지 걸어가기 좀 애매하긴 한데 호텔 근처에는 편의점 등등 있을거 다 있어서 좋았어요~ 위생은,, 이불에 까만 먼지?같은게 묻어있어서 별두개 뺐어요. 지난번에 묵었을 때 깔끔해서 다시 찾은거였는데😢 그리고 트리플룸은 통창이 아니고 옆건물이랑 붙어 있어서 뷰라는게 전혀 없었어요 참고하세용',\n",
       "  '모든 직원분들 서비스는  최고라고 할수 있습니다 물론 호텔상태도 깨끗하고 분위기 좋아요 위치도 너무 좋습니다          그래서 전 한국에 올때 마다 이 호텔에서만 지냅니다\\n그리고 Harry 라는 직원 정말 친절 합니다\\n개인적인 어떤일도 잘 도와주시고 감동 이었어요\\n그리고 침대 매트리스 너무 편해요 잠 정말 편하게 잘수있어요 \\n',\n",
       "  '업무때문에 서울왔다가 이용했습니다.\\n역이랑도 가깝고 혼자 쉬고가기에 좋네요.\\n칫솔치약 제공안되지만 천원에 판매합니다.',\n",
       "  '-',\n",
       "  '접근성이 조금 아쉬워서 주변에 뭔가 많지는 않지만, 가격대비 룸 퀄리티가 너무 좋아요!\\nㅎㅎㅎ호캉스로 최고!\\n다만 넷플릭스나 vod 서비스가 아예 안되서 이 점은 좀 아쉬워요 ㅠㅠ',\n",
       "  '가격 대비해서는 매우 좋으나 조금 아쉬운 점이 있습니다. 좁은 편이고 럭셔리한 느낌은 별로 없지만 가격이 좋으므로 오케이',\n",
       "  '좋아요ㅋㅋㅋ가격이살짝 더저렴하면 좋겠어여',\n",
       "  '룸컨디션도 너무 좋았고 서비스도 너무 좋았어요 애용 하는 호텔입니다',\n",
       "  '다좋은데 너무시끄러워요\\n잠도 제대로못잤습니다',\n",
       "  '밝고 침구도 좋습니다 \\n적당한 가격에 일층 커피숍 커피도 맛있어요',\n",
       "  '깨끗하고 조용하고 좋았어요, 근데 주변에 딱히 먹을게없는데 호텔 내의 식당들도 일찍 닫아서 아쉬웠어요. 고층이라 클럽소음은 그닥없었고, 입실 하자마자는 좀 이상한 냄새가 났는데 금방 빠지긴했어요.',\n",
       "  '역 바로 앞이고 바로옆에 편의점있고 객실깨끗하고 좋아요 그런데 사진에는 탁자가 있었는데 가보니까 없었어요',\n",
       "  '코로나로 어디 가지도 못하고 그냥 혼자 쉬다 왔는데 아주 좋았어요. 티비 채널이 많지 않고 수압이 조금 약해서 아쉬웠지만 넷플릭스랑 왓챠 보려고 아이패드도 챙겨간데다 침구가 워낙 좋아서 괜찮았습니다. 일회용품 줄이고자 어매니티가 그리  많지는 않았지만 최소한의 것들은 다 있었고, 글래드하우스엔 커피머신도 있어 좋았어요. 다음에 또 묵을거예요 ㅎㅎ',\n",
       "  '중앙 시스템이라 냉방 조절이 따로 안되서 불편함. 심지어 모니터 상 온도와 실제 냉방 온도가 달라서 더웠음(기사님 확인). 해결방안은 선풍기 1대 가져다주셨어요. 최선의 방안이었는지는 모르겠지만.. 좀 아쉽더라구요. 그 외에는 만족하였습니다. ',\n",
       "  '위치가 강남이라 차가 너무 많이 막힘. \\n여러 곳에서 머리카락 보이고 위생상태 별로. \\n전반적으로 직원분들은 친절하셨지만, 에어컨 고장과 함께 너무 불편했던 숙박이었음. (결국 방 교체하고 시원하게 쉴 수 있었음.)',\n",
       "  '클럽은 좀.. 얼마나 시끄럽길래 이어캡을 준다는건가 했는데.. 뭐 쿵쿵 진동은 계속 남. 엄청 예민하지 않는 이상 괜찮은 듯 합니다..\\n근데 화장실 물이 새어나옴..\\n연박하면서 방 정리 요청했는데 가운은 다시 안 챙겨주시더라구요..? \\n글래드 계열 호텔 넷플릭스 되게 해주세요..',\n",
       "  '새벽까지 클럽 소리에 온 방은 웅웅거리고 에어컨 소리도 너무 커서 시끄러웠네요 그래도 공기청정기 부탁드려서 미리 준비해주신것 감사합니다. ',\n",
       "  '위치, 컨디션, 편의시설, 가격 등등 \\n나쁘지 않았어요 전반적으로 만족해요\\n재방문 의사 있어요 ',\n",
       "  '일회용품 칫솔 치약 없는건 이해하는 부분 그런데 스위트룸에 와인 오프너 요즘 흔하게 있는 와인잔 등등 없는게 많아요\\n컵도 머그컵 두개 투명컵은 세면대 위에 양치컵용 2개있더군요 오프너는 내려가서 받아왔고 나무젓가락은 부탁하니 방으로 갖다 주셨어요 시설은 괜찮은데 뭔가 엉성한 느낌. 체크인시 그외 직원들은 친절합니다 그리고 온라인공연 관람하려고 거실이 있는 호텔 투숙한거였는데 스마트티비가 아니라서 결국 노트북으로 봤어요 비슷한 목적으로 가시는 분들은 미리 확인 하시길 바랍니다',\n",
       "  '비지니스호텔 많이 가봤지만\\n여기가 최고입니다. \\n서울 언주역근처여서 가깝고 좋아요 무엇보다 이불 엄청 푹신함',\n",
       "  '역이랑 가까워서 좋았구요! \\n시설도 깔끔한 편이었습니다.',\n",
       "  '욕실 넓고 욕조에 거품풀고 푸~~욱 쉬기 좋은 곳\\n블루투스 연결해서 음악도 빵빵\\n혼자 호캉스하기 괜찮음 하지만 뷰는 별기대마세요ㅋ',\n",
       "  '호캉스 하려고 강남에서 적당한 가격대의 숙소를 알아보다가 예약하게 되었는데, 방크기는 그닥 기대하지 않는게 좋아요ㅎㅎ 그냥 잠만 자기 좋은 호텔이었어요! 대신 조식이 정말 정말 맛있어서 만족했어요~ 간단한 휴식 원하시는 분들에게 추천해요! 대신 접근성이 그닥 좋지는 않습니다! 자가용 이용하신다면 괜찮을 듯 한데, 대중교통 이용해서 불편했어요ㅜㅜ 지하철역이랑 너무 멀더라구요ㅜ 그리고 주변에 저녁으로 먹을 식당이 1도 없어요ㅠㅠㅠ 저녁 다른 곳에서 드시고 호텔 방문하시는 편이 좋아요!',\n",
       "  '다만 베개가 1인당 1개씩이어서 아쉬웠어요',\n",
       "  '처음 간 객실 화장실 변기에 이상한 털이 놓여져있고...\\n세면대에도 머리카락이 있고 침대에도 먼지가 너무 많아서 \\n참다참다 결국 룸체인지 요청했습니다. \\n그래도 직원분이 친절하게 응대해주시긴 했는데\\n그 다음 바뀐 방 매트리스 커버에는 구멍이 나있고....\\n다시는 안가고 싶네요',\n",
       "  '체크인 도와주신 에일리 황 님께 깊은 감사 보냅니다. 강남에서 예끼치못하게 일정이 1,2박씩 늘어나는 바람에 글래드 라이브, 노보텔 등 여러군데에서 숙박을 나눠서 했는데. 글래드라이브가 만족도 젤 높았어요. 가격은 젤 저렴했는데말이죠.. 체크인 시간 미처 확인도 못하고 뒤뚱뒤뚱 리셉션 간 세쌍둥이 임산부에요. 컨디션이 너무 안좋아서 혹 추가비용 지불하고 얼리체크인 가능한지 확인 부탁드렸는데, 흔쾌히 여러가지 편의를 봐주셔서.. 정말 정말 진짜 너무 감사했어요. 507호! 엘리베이터 앞 객실 배정해주신 센스도 너무 감사드립니다. 노보텔에선 방값 더블 지불하고 연박해도 열받은 기억뿐이었는데, 예쁜 비즈니스 호텔이라 생각한 글래드에서 너무 편하게 잘 쉬었어요. 2시부터 체크인해서 늦은 저녁까지 푹 쉰 덕분에, 남은 일정 편히 마무리할 수 있었어요. 그리고 객관적으로 룸 정비 상태 및 위생 상태도 매우 준수했어요. 머리카락 같은 거 잘 발견하는 사람인데, 글래드에서 1박씩 총 2박하면서 머리카락과 먼지 발견 한 적 없어요. 그러고보니 먼지도 다른 호텔에 비해 적었어요. 그리고 침대를 특이하게 평상같은 데 위에 올려두셨던데, 아주 편안했어요. 트윈베드라 침대끼리 이동하기도 수월했고, 보호자가 수시로 저 케어봐줄 수 있어서 편했네요. 감사합니다. 꼭 재방문할거에요. ',\n",
       "  '크리스마스이지만 3달전에 미리 예약을 해서 아주 저렴하게 묵었습니다.\\n그러나 아래의 클럽에서 새벽까지 쿵쾅대드라 그 진동이 방까지 느껴지더군요.\\n상당히 높은 층임에도 불구하고 시끄러웠습니다.',\n",
       "  '깔끔하고 친절하고 차분했어요. 룸도 저렴한 가격대에 쾌적한 난방, 먼지도 거의 없었어요. 침구도 깨끗. 접근성도 좋고 뭐 흠잡을 게 없어요. 재방문 할거에요.',\n",
       "  '복도 쪽 방음이 잘됨. 방과 샤워실이 넓은 편이고 이동식 테이블과 하만카돈 스피커가 매우 맘에 들었음. 침대 푹신하고 베개도 매우 편함.',\n",
       "  '업무차 머무르는데 문제없는 컨디션입니다.\\n깔끔, 위치 좋음',\n",
       "  '대체적으로 룸컨디션은 좋았지만\\n침대 구석에 머리카락이 발견되어서 좀 그랬어요\\n그래도 화장실도 넓고 분리되어 있어서 좋았습니당',\n",
       "  '직원분들도 친절하시고 객실도 넓고 깨끗해서 좋아요! 근데 물이 정말 졸졸 흐르는 정도고 난방을 켜 있으면 배선함에서 달그락 거리는 소리가 끊ㅇㅣㅁ없이 들려서 좀 불편했어요. 여름, 겨울엔 비추고 봄 가을엔 괜찮을 거 같아요!',\n",
       "  '호텔 자체는 만족, 클럽 너무 무서움',\n",
       "  '분위기도 좋고 아늑하고 좋아요',\n",
       "  '걍 너무 좋음 ',\n",
       "  '강남이랑도 가깝고 깔끔하니 만족합니다~^^',\n",
       "  '강남까지 걸어가기는 무리가 없을듯한데 그래도 추운날에 걸어가는좀... 그래도 깨끗하고 괜찮아요',\n",
       "  '친구들이랑 이른 연말 파티 하려고 글래드 하우스로 예약했는데, 방이 우선 넓고 깨끗하고 주변에 편의점 등등 부대시설이 가까워서 편안했어요 ',\n",
       "  '침구류 푹신하고 좋긴했는데 먼지가 다소 많이 나고 깔끔하단 느낌을 못받았습니다.\\n흰 침구류인데 볼펜자국과 구멍이 나있더라구요.\\n외출하고 들어와서 발견한터라 귀찮아서 그냥 잤는데 청결상태가 엄청 좋은건 아니라 다소 실망했습니다.\\n객실에 있는 스피커는 사운드가 좋아 만족스러웠습니다.\\n칫솔이 없어서 챙겨가야하는것도 좀 의아했습니다.',\n",
       "  '만족',\n",
       "  '1박 하는 동안 쾌적하게 잘 묵었습니다. 대체로 위생은 우수했고, 침구도 편안했어요.\\n침대에서 가족모두 편안하게 잘 잤습니다.\\n\\n다만......오후시간에는...룸 안에서 에어컨 룸 컨트롤이 제대로 안돼서 열이 많은 저희 가족은 다소 더웠어요. \\n짐 가방에서 이것 저것 챙기느라 왔다갔다하니 땀이 맺히는데도 열 식히기엔 온도가 너무 높아서 땀 닦고 부채질 하면서 가만히 있으니 좀 버틸만 하더라구요.\\n\\n룸 온도 컨트롤이 힘드시다면 방마다 레트로 디자인의 선풍기 한 대씩 비치해놓고, 필요 시 켜서 조절할 수 있도록 하는 것은 어떠실런지....\\n앞으로는 날씨가 추워져서 별 문제 없을 지 몰라도....여름, 초가을에는 필요할 거 같아요. \\n\\n암튼 보통 이상으로 괜찮았습니다..^^',\n",
       "  '최악입니다! 밤새 시끄러워서 잠을 잘수가 없습니다. 지하 클럽에서 아침까지 쿵쾅거리는 소리, 대로변에 있는 사람들 소리가 새벽까지 그대로 들립니다. 낮은층으로 배정받으면 무조건 높은층으로 요청하거나 가급적이면 다른 호텔을 추천드립니다!!! ',\n",
       "  '조금 큰 방에 묵고 싶어서 디럭스 선택했는데 편했어요 방 구조가 조금 쓸데 없는 공간이 많았지만 트렁크가 많고 짐이 많아서 좋았어요 ',\n",
       "  '역 도보5분이내 위치하고 주변골목골목에 맛집 카페들도 많아서 좋았음. 신논현까지 도보15분이면 걸어서도 이동가능. 방음은 조금 아쉬움 양옆방은 조용했으나 윗방 음악 비트소리가 새벽까지 들림',\n",
       "  '장점 : 베딩이 좋고 청소상태가 매우 청결했음\\n\\n단점 : 조식이 부실함(굳이 조식을 포함할 필요는 없을 듯)\\n          에어컨 방향조절 불가함\\n\\n특징 : 얼리체크인 불가, \\n          그러나 30분 전인 2:30부터는 요청시 입실 가능\\n          와인잔, 와인오프너 등 요청시 객실로 딜리버리해줌',\n",
       "  '서울에서 위치 좋고 깔끔한 좋은 호텔입니다.',\n",
       "  '무난하고 여전히 좋다. 하지만 복도에 불쾌한 냄새가 남 그것 빼고는 직원도 친절하고 매우 좋다'],\n",
       " 'title': '글래드라이브 호텔 (Glad Live Gangnam)'}"
      ]
     },
     "metadata": {},
     "execution_count": 11
    }
   ],
   "source": [
    "reviews"
   ]
  },
  {
   "cell_type": "code",
   "execution_count": null,
   "metadata": {},
   "outputs": [],
   "source": [
    "url = 'https://www.mangoplate.com/restaurants/fvA4SbtNcpuV'\n",
    "header = {'User-Agent': \"Mozilla/5.0 (Windows NT 10.0; Win64; x64) AppleWebKit/537.36 (KHTML, like Gecko) Chrome/91.0.4472.77 Safari/537.36\"}\n",
    "req = requests.get(url, headers=header)\n",
    "html2 = req.text"
   ]
  },
  {
   "cell_type": "code",
   "execution_count": 15,
   "metadata": {},
   "outputs": [],
   "source": [
    "driver.close()"
   ]
  },
  {
   "cell_type": "code",
   "execution_count": null,
   "metadata": {},
   "outputs": [],
   "source": []
  }
 ]
}