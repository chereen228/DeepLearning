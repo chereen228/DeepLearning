{
 "metadata": {
  "language_info": {
   "codemirror_mode": {
    "name": "ipython",
    "version": 3
   },
   "file_extension": ".py",
   "mimetype": "text/x-python",
   "name": "python",
   "nbconvert_exporter": "python",
   "pygments_lexer": "ipython3",
   "version": "3.8.5"
  },
  "orig_nbformat": 4,
  "kernelspec": {
   "name": "python3",
   "display_name": "Python 3.8.5 64-bit ('base': conda)"
  },
  "interpreter": {
   "hash": "8c1eae21719a0790335dcb83aad72b63b602cfe5cdb2bda0f60bc11d4f154e4b"
  }
 },
 "nbformat": 4,
 "nbformat_minor": 2,
 "cells": [
  {
   "cell_type": "code",
   "execution_count": 64,
   "metadata": {},
   "outputs": [],
   "source": [
    "from selenium import webdriver\n",
    "import requests\n",
    "from bs4 import BeautifulSoup as bs\n",
    "from selenium.webdriver import ActionChains as ac\n",
    "import pandas as pd\n",
    "import time\n",
    "from selenium.webdriver.support.select import Select"
   ]
  },
  {
   "cell_type": "code",
   "execution_count": 6,
   "metadata": {},
   "outputs": [
    {
     "output_type": "stream",
     "name": "stdout",
     "text": [
      "['https://www.agoda.com/ko-kr/josun-palace-a-luxury-collection-hotel-seoul-gangnam/hotel/seoul-kr.html?finalPriceView=1&isShowMobileAppPrice=false&cid=1891463&numberOfBedrooms=&familyMode=false&adults=2&children=0&rooms=1&maxRooms=0&checkIn=2021-07-8&isCalendarCallout=false&childAges=&numberOfGuest=0&missingChildAges=false&travellerType=1&showReviewSubmissionEntry=false&currencyCode=KRW&isFreeOccSearch=false&tag=45b17d1d-e0b0-fe2a-ce90-5513829d856b&los=1&searchrequestid=e407d083-f0d1-47c7-a492-50caedf31399', 'https://www.agoda.com/ko-kr/shilla-stay-mapo/hotel/seoul-kr.html?finalPriceView=1&isShowMobileAppPrice=false&cid=1891463&numberOfBedrooms=&familyMode=false&adults=2&children=0&rooms=1&maxRooms=0&checkIn=2021-07-8&isCalendarCallout=false&childAges=&numberOfGuest=0&missingChildAges=false&travellerType=1&showReviewSubmissionEntry=false&currencyCode=KRW&isFreeOccSearch=false&tag=45b17d1d-e0b0-fe2a-ce90-5513829d856b&tspTypes=7&los=1&searchrequestid=e407d083-f0d1-47c7-a492-50caedf31399', 'https://www.agoda.com/ko-kr/nine-tree-hotel-dongdaemun/hotel/seoul-kr.html?finalPriceView=1&isShowMobileAppPrice=false&cid=1891463&numberOfBedrooms=&familyMode=false&adults=2&children=0&rooms=1&maxRooms=0&checkIn=2021-07-8&isCalendarCallout=false&childAges=&numberOfGuest=0&missingChildAges=false&travellerType=1&showReviewSubmissionEntry=false&currencyCode=KRW&isFreeOccSearch=false&tag=45b17d1d-e0b0-fe2a-ce90-5513829d856b&tspTypes=4&los=1&searchrequestid=e407d083-f0d1-47c7-a492-50caedf31399', 'https://www.agoda.com/ko-kr/hotel-the-designers-samseong/hotel/seoul-kr.html?finalPriceView=1&isShowMobileAppPrice=false&cid=1891463&numberOfBedrooms=&familyMode=false&adults=2&children=0&rooms=1&maxRooms=0&checkIn=2021-07-8&isCalendarCallout=false&childAges=&numberOfGuest=0&missingChildAges=false&travellerType=1&showReviewSubmissionEntry=false&currencyCode=KRW&isFreeOccSearch=false&tag=45b17d1d-e0b0-fe2a-ce90-5513829d856b&los=1&searchrequestid=e407d083-f0d1-47c7-a492-50caedf31399', 'https://www.agoda.com/ko-kr/nine-tree-premier-hotel-insadong/hotel/seoul-kr.html?finalPriceView=1&isShowMobileAppPrice=false&cid=1891463&numberOfBedrooms=&familyMode=false&adults=2&children=0&rooms=1&maxRooms=0&checkIn=2021-07-8&isCalendarCallout=false&childAges=&numberOfGuest=0&missingChildAges=false&travellerType=1&showReviewSubmissionEntry=false&currencyCode=KRW&isFreeOccSearch=false&tag=45b17d1d-e0b0-fe2a-ce90-5513829d856b&tspTypes=1&los=1&searchrequestid=e407d083-f0d1-47c7-a492-50caedf31399', 'https://www.agoda.com/ko-kr/glad-mapo/hotel/seoul-kr.html?finalPriceView=1&isShowMobileAppPrice=false&cid=1891463&numberOfBedrooms=&familyMode=false&adults=2&children=0&rooms=1&maxRooms=0&checkIn=2021-07-8&isCalendarCallout=false&childAges=&numberOfGuest=0&missingChildAges=false&travellerType=1&showReviewSubmissionEntry=false&currencyCode=KRW&isFreeOccSearch=false&tag=45b17d1d-e0b0-fe2a-ce90-5513829d856b&tspTypes=1&los=1&searchrequestid=e407d083-f0d1-47c7-a492-50caedf31399', 'https://www.agoda.com/ko-kr/shilla-stay-gwanghwamun/hotel/seoul-kr.html?finalPriceView=1&isShowMobileAppPrice=false&cid=1891463&numberOfBedrooms=&familyMode=false&adults=2&children=0&rooms=1&maxRooms=0&checkIn=2021-07-8&isCalendarCallout=false&childAges=&numberOfGuest=0&missingChildAges=false&travellerType=1&showReviewSubmissionEntry=false&currencyCode=KRW&isFreeOccSearch=false&tag=45b17d1d-e0b0-fe2a-ce90-5513829d856b&los=1&searchrequestid=e407d083-f0d1-47c7-a492-50caedf31399', 'https://www.agoda.com/ko-kr/dormy-inn-seoul-gangnam/hotel/seoul-kr.html?finalPriceView=1&isShowMobileAppPrice=false&cid=1891463&numberOfBedrooms=&familyMode=false&adults=2&children=0&rooms=1&maxRooms=0&checkIn=2021-07-8&isCalendarCallout=false&childAges=&numberOfGuest=0&missingChildAges=false&travellerType=1&showReviewSubmissionEntry=false&currencyCode=KRW&isFreeOccSearch=false&tag=45b17d1d-e0b0-fe2a-ce90-5513829d856b&tspTypes=9&los=1&searchrequestid=e407d083-f0d1-47c7-a492-50caedf31399', 'https://www.agoda.com/ko-kr/shilla-stay-seodaemun/hotel/seoul-kr.html?finalPriceView=1&isShowMobileAppPrice=false&cid=1891463&numberOfBedrooms=&familyMode=false&adults=2&children=0&rooms=1&maxRooms=0&checkIn=2021-07-8&isCalendarCallout=false&childAges=&numberOfGuest=0&missingChildAges=false&travellerType=1&showReviewSubmissionEntry=false&currencyCode=KRW&isFreeOccSearch=false&tag=45b17d1d-e0b0-fe2a-ce90-5513829d856b&los=1&searchrequestid=e407d083-f0d1-47c7-a492-50caedf31399']\n"
     ]
    }
   ],
   "source": [
    "# 크롬드라이버\n",
    "path = 'C:/Temp/chromedriver.exe'\n",
    "driver = webdriver.Chrome(path)\n",
    "\n",
    "# 페이지 로딩 대기 5초\n",
    "driver.implicitly_wait(5)\n",
    "\n",
    "# 페이지 가져오기 & 파싱(검색 결과 페이지)\n",
    "driver.get('https://www.agoda.com/ko-kr/search?city=14690&checkIn=2021-07-08&los=1&rooms=1&adults=2&children=0&cid=1891463&locale=ko-kr&ckuid=85bd8e58-3e28-4b77-bbc9-220d4005678d&prid=0&gclid=CjwKCAjwoZWHBhBgEiwAiMN66QWxQzzFPNxnGhz3QsHpiHw3ZvtSbq2u4GQ2907AGGPOCuGOTBd-HxoCQeYQAvD_BwE&currency=KRW&correlationId=14b23c96-512d-4c2a-9a83-b38088c46b9f&pageTypeId=1&realLanguageId=9&languageId=9&origin=KR&tag=45b17d1d-e0b0-fe2a-ce90-5513829d856b&userId=85bd8e58-3e28-4b77-bbc9-220d4005678d&whitelabelid=1&loginLvl=0&storefrontId=3&currencyId=26&currencyCode=KRW&htmlLanguage=ko-kr&cultureInfoName=ko-kr&machineName=website-cronos-7765b8f947-jdjq9&trafficGroupId=5&sessionId=zhcjc1dv5s1tlmr15vkzg1xv&trafficSubGroupId=122&aid=82361&useFullPageLogin=true&cttp=4&isRealUser=true&mode=production&checkOut=2021-07-09&priceCur=KRW&textToSearch=%EC%84%9C%EC%9A%B8&productType=-1&travellerType=1&familyMode=off')\n",
    "html = driver.page_source\n",
    "soup = bs(html, 'html.parser')"
   ]
  },
  {
   "cell_type": "code",
   "execution_count": 66,
   "metadata": {},
   "outputs": [
    {
     "output_type": "execute_result",
     "data": {
      "text/plain": [
       "9"
      ]
     },
     "metadata": {},
     "execution_count": 66
    }
   ],
   "source": [
    "links = []\n",
    "\n",
    "for i in range(110):\n",
    "    try:\n",
    "        a = driver.find_element_by_css_selector(f\"#contentContainer > div:nth-child(4) > ol > li:nth-child({i}) > div > a\")\n",
    "        link = a.get_attribute('href')\n",
    "        links.append(link)\n",
    "    except:\n",
    "        pass\n",
    "\n",
    "print(links)"
   ]
  },
  {
   "cell_type": "code",
   "execution_count": 105,
   "metadata": {},
   "outputs": [
    {
     "output_type": "execute_result",
     "data": {
      "text/plain": [
       "'이용후기 1건 보기 모든 검색 조건 해제하기'"
      ]
     },
     "metadata": {},
     "execution_count": 105
    }
   ],
   "source": [
    "len(links)"
   ]
  },
  {
   "cell_type": "code",
   "execution_count": 106,
   "metadata": {},
   "outputs": [
    {
     "output_type": "execute_result",
     "data": {
      "text/plain": [
       "'1'"
      ]
     },
     "metadata": {},
     "execution_count": 106
    }
   ],
   "source": [
    "driver = webdriver.Chrome('./chromedriver')\n",
    "driver.get('https://www.agoda.com/ko-kr/josun-palace-a-luxury-collection-hotel-seoul-gangnam/hotel/seoul-kr.html?finalPriceView=1&isShowMobileAppPrice=false&cid=1891463&numberOfBedrooms=&familyMode=false&adults=2&children=0&rooms=1&maxRooms=0&checkIn=2021-07-8&isCalendarCallout=false&childAges=&numberOfGuest=0&missingChildAges=false&travellerType=1&showReviewSubmissionEntry=false&currencyCode=KRW&isFreeOccSearch=false&tag=45b17d1d-e0b0-fe2a-ce90-5513829d856b&los=1&searchrequestid=e407d083-f0d1-47c7-a492-50caedf31399')\n",
    "time.sleep(2)\n",
    "name = driver.find_element_by_css_selector(\"#reviewFilterSection > div.Review__SummaryContainer > span\").text\n",
    "\n",
    "name"
   ]
  },
  {
   "cell_type": "code",
   "execution_count": null,
   "metadata": {},
   "outputs": [],
   "source": [
    "name.split(' ')[1][:-1]"
   ]
  },
  {
   "cell_type": "code",
   "execution_count": null,
   "metadata": {},
   "outputs": [],
   "source": [
    "    #html = driver.page_source\n",
    "    #soup = bs(html, 'html.parser')\n",
    "\n",
    "    #총 리뷰 개수 찾기 : for문을 몇 번 돌릴지 구하기위함 (버튼을 몇 번 눌러야 할지) \n",
    "    #review_sum0 =  soup.select('.select-dropdown-wrapper Review__FilterContainer__Dropbox > span')\n",
    "    #review_sum0 = review_sum0[0].text.split(\"(\")[1][:-1]\n",
    "    \n",
    "    #실제 이용후기 개수"
   ]
  },
  {
   "cell_type": "code",
   "execution_count": 110,
   "metadata": {},
   "outputs": [
    {
     "output_type": "stream",
     "name": "stdout",
     "text": [
      "['1', '1041', '417', '629', '748', '1676', '1371', '1869', '1163']\n"
     ]
    }
   ],
   "source": [
    "#총 리뷰 개수 찾기 : for문을 몇 번 돌릴지 구하기위함 (버튼을 몇 번 눌러야 할지) \n",
    "\n",
    "#실제 이용후기 개수\n",
    "review_sum = soup.select('span.Review__SummaryContainer--left.Review__SummaryContainer__Text')[0].text\n",
    "review_sum = review_sum.split(\" \")[3][:-1]\n",
    "\n",
    "\n",
    "pages = int(review_sum)//20 + 1"
   ]
  },
  {
   "cell_type": "code",
   "execution_count": 65,
   "metadata": {},
   "outputs": [],
   "source": [
    "review_sum_list=[]\n",
    "#options = webdriver.ChromeOptions()\n",
    "#options.add_argument(\"headless\")\n",
    "driver = webdriver.Chrome('./chromedriver')\n",
    "\n",
    "for i in links:\n",
    "    driver.get(i)\n",
    "    time.sleep(5)\n",
    "    # 총 리뷰 개수 찾기: for문을 몇 번 돌릴지 구하기위함 (버튼을 몇 번 눌러야 할지) \n",
    "    review_sum = driver.find_element_by_css_selector(\"#reviewFilterSection > div.Review__SummaryContainer > span\").text\n",
    "    try : \n",
    "        review_sum = review_sum.split(' ')[3][:-1]\n",
    "    except:\n",
    "        review_sum = review_sum.split(' ')[1][:-1] \n",
    "    review_sum_list.append(review_sum)\n",
    "\n",
    "print(review_sum_list)"
   ]
  },
  {
   "cell_type": "code",
   "execution_count": 111,
   "metadata": {},
   "outputs": [
    {
     "output_type": "stream",
     "name": "stdout",
     "text": [
      "[1, 53, 21, 32, 38, 84, 69, 94, 59]\n"
     ]
    }
   ],
   "source": [
    "pages_list = []\n",
    "\n",
    "for num in review_sum_list:\n",
    "    pages = int(num)//20 + 1\n",
    "    pages_list.append(pages)\n",
    "\n",
    "print(pages_list)"
   ]
  },
  {
   "cell_type": "code",
   "execution_count": 112,
   "metadata": {},
   "outputs": [],
   "source": [
    "# 데이터 프레임으로 만들 딕셔너리 정의\n",
    "reviews = {'name':[], 'text':[]}"
   ]
  },
  {
   "cell_type": "code",
   "execution_count": 114,
   "metadata": {},
   "outputs": [
    {
     "output_type": "execute_result",
     "data": {
      "text/plain": [
       "81"
      ]
     },
     "metadata": {},
     "execution_count": 114
    }
   ],
   "source": [
    "# 리뷰 긁어오기\n",
    "texts=[]\n",
    "\n",
    "for i in links:\n",
    "    driver.get(i)\n",
    "    time.sleep(5)\n",
    "\n",
    "    for k in pages_list:\n",
    "        text = driver.find_element_by_css_selector('#review-0 > div.Review-comment-right > div.Review-comment-bubble > div.Review-comment-body > p.Review-comment-bodyText').text\n",
    "        texts.append(text)\n",
    "\n",
    "len(texts)"
   ]
  },
  {
   "cell_type": "code",
   "execution_count": null,
   "metadata": {},
   "outputs": [],
   "source": [
    "for i in range(6):\n",
    "    n1 = i + 1\n",
    "    for j in range(6):\n",
    "        n2 = j + 1\n",
    "        print(n1, n2)"
   ]
  },
  {
   "cell_type": "code",
   "execution_count": 113,
   "metadata": {},
   "outputs": [
    {
     "output_type": "execute_result",
     "data": {
      "text/plain": [
       "'강북 여러 관광지와의 접근성은 좋았습니다.서울역의 공항철도도 매우 가까웠어요. 직원분들 매우 친절했고, 새벽에 체크아웃할때 택시도 불러주시고... 아쉬운점은 처음 방에 들어갔을때부터 음식냄새가 배어있어서 창문을 거의 열어놓고 지냈어요. 요새 투숙객들 호캉스라며 외부음식반입하던데, 환기가 잘안된느낌이었어요. 특히 신라스테이 욕실은 누가 디자인한건지, 아마도 욕실청소 한번도 안해본 사람일거란 생각이드네요. 작은 타일로 모두 마감해서 타일의 사이사이에 물때가 정말 너무 심합니다. 특히 세면대주변이랑 변기주변요. 전반적으로 청소상태도 많이 아쉬웠어요.'"
      ]
     },
     "metadata": {},
     "execution_count": 113
    }
   ],
   "source": [
    "driver.get('https://www.agoda.com/ko-kr/shilla-stay-seodaemun/hotel/seoul-kr.html?finalPriceView=1&isShowMobileAppPrice=false&cid=1891463&numberOfBedrooms=&familyMode=false&adults=2&children=0&rooms=1&maxRooms=0&checkIn=2021-07-8&isCalendarCallout=false&childAges=&numberOfGuest=0&missingChildAges=false&travellerType=1&showReviewSubmissionEntry=false&currencyCode=KRW&isFreeOccSearch=false&tag=45b17d1d-e0b0-fe2a-ce90-5513829d856b&los=1&searchrequestid=e407d083-f0d1-47c7-a492-50caedf31399')\n",
    "time.sleep(5)\n",
    "\n",
    "\n",
    "text = driver.find_element_by_css_selector('#review-0 > div.Review-comment-right > div.Review-comment-bubble > div.Review-comment-body > p.Review-comment-bodyText').text\n",
    "text"
   ]
  },
  {
   "cell_type": "code",
   "execution_count": 97,
   "metadata": {},
   "outputs": [
    {
     "output_type": "error",
     "ename": "NoSuchElementException",
     "evalue": "Message: no such element: Unable to locate element: {\"method\":\"css selector\",\"selector\":\"[id=\"review-0\"]\"}\n  (Session info: chrome=91.0.4472.124)\n",
     "traceback": [
      "\u001b[1;31m---------------------------------------------------------------------------\u001b[0m",
      "\u001b[1;31mNoSuchElementException\u001b[0m                    Traceback (most recent call last)",
      "\u001b[1;32m<ipython-input-97-c93244c1009a>\u001b[0m in \u001b[0;36m<module>\u001b[1;34m\u001b[0m\n\u001b[0;32m      4\u001b[0m \u001b[1;33m\u001b[0m\u001b[0m\n\u001b[0;32m      5\u001b[0m     \u001b[1;31m# 리뷰 영역까지 스크롤\u001b[0m\u001b[1;33m\u001b[0m\u001b[1;33m\u001b[0m\u001b[1;33m\u001b[0m\u001b[0m\n\u001b[1;32m----> 6\u001b[1;33m     \u001b[0mscroll_point\u001b[0m \u001b[1;33m=\u001b[0m \u001b[0mdriver\u001b[0m\u001b[1;33m.\u001b[0m\u001b[0mfind_element_by_id\u001b[0m\u001b[1;33m(\u001b[0m\u001b[1;34m'review-0'\u001b[0m\u001b[1;33m)\u001b[0m\u001b[1;33m\u001b[0m\u001b[1;33m\u001b[0m\u001b[0m\n\u001b[0m\u001b[0;32m      7\u001b[0m     \u001b[0mtime\u001b[0m\u001b[1;33m.\u001b[0m\u001b[0msleep\u001b[0m\u001b[1;33m(\u001b[0m\u001b[1;36m5\u001b[0m\u001b[1;33m)\u001b[0m\u001b[1;33m\u001b[0m\u001b[1;33m\u001b[0m\u001b[0m\n\u001b[0;32m      8\u001b[0m     \u001b[0mac\u001b[0m\u001b[1;33m(\u001b[0m\u001b[0mdriver\u001b[0m\u001b[1;33m)\u001b[0m\u001b[1;33m.\u001b[0m\u001b[0mmove_to_element\u001b[0m\u001b[1;33m(\u001b[0m\u001b[0mscroll_point\u001b[0m\u001b[1;33m)\u001b[0m\u001b[1;33m.\u001b[0m\u001b[0mperform\u001b[0m\u001b[1;33m(\u001b[0m\u001b[1;33m)\u001b[0m\u001b[1;33m\u001b[0m\u001b[1;33m\u001b[0m\u001b[0m\n",
      "\u001b[1;32m~\\miniconda3\\lib\\site-packages\\selenium\\webdriver\\remote\\webdriver.py\u001b[0m in \u001b[0;36mfind_element_by_id\u001b[1;34m(self, id_)\u001b[0m\n\u001b[0;32m    358\u001b[0m             \u001b[0melement\u001b[0m \u001b[1;33m=\u001b[0m \u001b[0mdriver\u001b[0m\u001b[1;33m.\u001b[0m\u001b[0mfind_element_by_id\u001b[0m\u001b[1;33m(\u001b[0m\u001b[1;34m'foo'\u001b[0m\u001b[1;33m)\u001b[0m\u001b[1;33m\u001b[0m\u001b[1;33m\u001b[0m\u001b[0m\n\u001b[0;32m    359\u001b[0m         \"\"\"\n\u001b[1;32m--> 360\u001b[1;33m         \u001b[1;32mreturn\u001b[0m \u001b[0mself\u001b[0m\u001b[1;33m.\u001b[0m\u001b[0mfind_element\u001b[0m\u001b[1;33m(\u001b[0m\u001b[0mby\u001b[0m\u001b[1;33m=\u001b[0m\u001b[0mBy\u001b[0m\u001b[1;33m.\u001b[0m\u001b[0mID\u001b[0m\u001b[1;33m,\u001b[0m \u001b[0mvalue\u001b[0m\u001b[1;33m=\u001b[0m\u001b[0mid_\u001b[0m\u001b[1;33m)\u001b[0m\u001b[1;33m\u001b[0m\u001b[1;33m\u001b[0m\u001b[0m\n\u001b[0m\u001b[0;32m    361\u001b[0m \u001b[1;33m\u001b[0m\u001b[0m\n\u001b[0;32m    362\u001b[0m     \u001b[1;32mdef\u001b[0m \u001b[0mfind_elements_by_id\u001b[0m\u001b[1;33m(\u001b[0m\u001b[0mself\u001b[0m\u001b[1;33m,\u001b[0m \u001b[0mid_\u001b[0m\u001b[1;33m)\u001b[0m\u001b[1;33m:\u001b[0m\u001b[1;33m\u001b[0m\u001b[1;33m\u001b[0m\u001b[0m\n",
      "\u001b[1;32m~\\miniconda3\\lib\\site-packages\\selenium\\webdriver\\remote\\webdriver.py\u001b[0m in \u001b[0;36mfind_element\u001b[1;34m(self, by, value)\u001b[0m\n\u001b[0;32m    974\u001b[0m                 \u001b[0mby\u001b[0m \u001b[1;33m=\u001b[0m \u001b[0mBy\u001b[0m\u001b[1;33m.\u001b[0m\u001b[0mCSS_SELECTOR\u001b[0m\u001b[1;33m\u001b[0m\u001b[1;33m\u001b[0m\u001b[0m\n\u001b[0;32m    975\u001b[0m                 \u001b[0mvalue\u001b[0m \u001b[1;33m=\u001b[0m \u001b[1;34m'[name=\"%s\"]'\u001b[0m \u001b[1;33m%\u001b[0m \u001b[0mvalue\u001b[0m\u001b[1;33m\u001b[0m\u001b[1;33m\u001b[0m\u001b[0m\n\u001b[1;32m--> 976\u001b[1;33m         return self.execute(Command.FIND_ELEMENT, {\n\u001b[0m\u001b[0;32m    977\u001b[0m             \u001b[1;34m'using'\u001b[0m\u001b[1;33m:\u001b[0m \u001b[0mby\u001b[0m\u001b[1;33m,\u001b[0m\u001b[1;33m\u001b[0m\u001b[1;33m\u001b[0m\u001b[0m\n\u001b[0;32m    978\u001b[0m             'value': value})['value']\n",
      "\u001b[1;32m~\\miniconda3\\lib\\site-packages\\selenium\\webdriver\\remote\\webdriver.py\u001b[0m in \u001b[0;36mexecute\u001b[1;34m(self, driver_command, params)\u001b[0m\n\u001b[0;32m    319\u001b[0m         \u001b[0mresponse\u001b[0m \u001b[1;33m=\u001b[0m \u001b[0mself\u001b[0m\u001b[1;33m.\u001b[0m\u001b[0mcommand_executor\u001b[0m\u001b[1;33m.\u001b[0m\u001b[0mexecute\u001b[0m\u001b[1;33m(\u001b[0m\u001b[0mdriver_command\u001b[0m\u001b[1;33m,\u001b[0m \u001b[0mparams\u001b[0m\u001b[1;33m)\u001b[0m\u001b[1;33m\u001b[0m\u001b[1;33m\u001b[0m\u001b[0m\n\u001b[0;32m    320\u001b[0m         \u001b[1;32mif\u001b[0m \u001b[0mresponse\u001b[0m\u001b[1;33m:\u001b[0m\u001b[1;33m\u001b[0m\u001b[1;33m\u001b[0m\u001b[0m\n\u001b[1;32m--> 321\u001b[1;33m             \u001b[0mself\u001b[0m\u001b[1;33m.\u001b[0m\u001b[0merror_handler\u001b[0m\u001b[1;33m.\u001b[0m\u001b[0mcheck_response\u001b[0m\u001b[1;33m(\u001b[0m\u001b[0mresponse\u001b[0m\u001b[1;33m)\u001b[0m\u001b[1;33m\u001b[0m\u001b[1;33m\u001b[0m\u001b[0m\n\u001b[0m\u001b[0;32m    322\u001b[0m             response['value'] = self._unwrap_value(\n\u001b[0;32m    323\u001b[0m                 response.get('value', None))\n",
      "\u001b[1;32m~\\miniconda3\\lib\\site-packages\\selenium\\webdriver\\remote\\errorhandler.py\u001b[0m in \u001b[0;36mcheck_response\u001b[1;34m(self, response)\u001b[0m\n\u001b[0;32m    240\u001b[0m                 \u001b[0malert_text\u001b[0m \u001b[1;33m=\u001b[0m \u001b[0mvalue\u001b[0m\u001b[1;33m[\u001b[0m\u001b[1;34m'alert'\u001b[0m\u001b[1;33m]\u001b[0m\u001b[1;33m.\u001b[0m\u001b[0mget\u001b[0m\u001b[1;33m(\u001b[0m\u001b[1;34m'text'\u001b[0m\u001b[1;33m)\u001b[0m\u001b[1;33m\u001b[0m\u001b[1;33m\u001b[0m\u001b[0m\n\u001b[0;32m    241\u001b[0m             \u001b[1;32mraise\u001b[0m \u001b[0mexception_class\u001b[0m\u001b[1;33m(\u001b[0m\u001b[0mmessage\u001b[0m\u001b[1;33m,\u001b[0m \u001b[0mscreen\u001b[0m\u001b[1;33m,\u001b[0m \u001b[0mstacktrace\u001b[0m\u001b[1;33m,\u001b[0m \u001b[0malert_text\u001b[0m\u001b[1;33m)\u001b[0m\u001b[1;33m\u001b[0m\u001b[1;33m\u001b[0m\u001b[0m\n\u001b[1;32m--> 242\u001b[1;33m         \u001b[1;32mraise\u001b[0m \u001b[0mexception_class\u001b[0m\u001b[1;33m(\u001b[0m\u001b[0mmessage\u001b[0m\u001b[1;33m,\u001b[0m \u001b[0mscreen\u001b[0m\u001b[1;33m,\u001b[0m \u001b[0mstacktrace\u001b[0m\u001b[1;33m)\u001b[0m\u001b[1;33m\u001b[0m\u001b[1;33m\u001b[0m\u001b[0m\n\u001b[0m\u001b[0;32m    243\u001b[0m \u001b[1;33m\u001b[0m\u001b[0m\n\u001b[0;32m    244\u001b[0m     \u001b[1;32mdef\u001b[0m \u001b[0m_value_or_default\u001b[0m\u001b[1;33m(\u001b[0m\u001b[0mself\u001b[0m\u001b[1;33m,\u001b[0m \u001b[0mobj\u001b[0m\u001b[1;33m,\u001b[0m \u001b[0mkey\u001b[0m\u001b[1;33m,\u001b[0m \u001b[0mdefault\u001b[0m\u001b[1;33m)\u001b[0m\u001b[1;33m:\u001b[0m\u001b[1;33m\u001b[0m\u001b[1;33m\u001b[0m\u001b[0m\n",
      "\u001b[1;31mNoSuchElementException\u001b[0m: Message: no such element: Unable to locate element: {\"method\":\"css selector\",\"selector\":\"[id=\"review-0\"]\"}\n  (Session info: chrome=91.0.4472.124)\n"
     ]
    }
   ],
   "source": [
    "for k in range(1,pages+1):\n",
    "    html = driver.page_source\n",
    "    soup = bs(html, 'html.parser')\n",
    "    \n",
    "    # 리뷰 텍스트만 긁어오기\n",
    "    text = driver.find_element_by_css_selector('#review-0 > div.Review-comment-right > div.Review-comment-bubble > div.Review-comment-body > p.Review-comment-bodyText').text\n",
    "    time.sleep(5)\n",
    "    \n",
    "    # 다시 파싱\n",
    "    html = driver.page_source\n",
    "    soup = bs(html, 'html.parser')\n",
    "    \n",
    "    for k in range(0,9):\n",
    "        date_ = soup.select(f'#review-{k} > div.Review-comment-right > div.Review-comment-bubble > div.Review-statusBar > div > div > span')\n",
    "     \n",
    "        year = date_[0].text.split(\" \")[1][:-1]\n",
    "        if int(year) >= 2018:\n",
    "            score = soup.select(f'#review-{k} > div.Review-comment-left > div > div.Review-comment-leftHeader > div.Review-comment-leftScore')\n",
    "            text = soup.select(f'#review-{k} > div.Review-comment-right > div.Review-comment-bubble > div.Review-comment-body > p.Review-comment-bodyText')\n",
    "            \n",
    "            \n",
    "            reviews['score'].append(score[0].text)\n",
    "            reviews['text'].append(text[0].text)\n",
    "        else:\n",
    "            break\n",
    "            "
   ]
  },
  {
   "cell_type": "code",
   "execution_count": 16,
   "metadata": {},
   "outputs": [
    {
     "output_type": "execute_result",
     "data": {
      "text/plain": [
       "[<h1 class=\"HeaderCerebrum__Name\" data-selenium=\"hotel-header-name\">글래드라이브 호텔 (Glad Live Gangnam)</h1>]"
      ]
     },
     "metadata": {},
     "execution_count": 16
    }
   ],
   "source": [
    "#호텔명\n",
    "hotel = soup.select('.HeaderCerebrum__Name')\n",
    "hotel"
   ]
  },
  {
   "cell_type": "code",
   "execution_count": 17,
   "metadata": {},
   "outputs": [],
   "source": [
    "#호텔명\n",
    "reviews['title'] = hotel[0].text"
   ]
  },
  {
   "cell_type": "code",
   "execution_count": 18,
   "metadata": {},
   "outputs": [
    {
     "output_type": "execute_result",
     "data": {
      "text/plain": [
       "{'score': ['8.0',\n",
       "  '8.8',\n",
       "  '10.0',\n",
       "  '6.4',\n",
       "  '9.2',\n",
       "  '10.0',\n",
       "  '6.8',\n",
       "  '9.6',\n",
       "  '9.2',\n",
       "  '9.2',\n",
       "  '8.4',\n",
       "  '10.0',\n",
       "  '10.0',\n",
       "  '8.4',\n",
       "  '10.0',\n",
       "  '9.2',\n",
       "  '4.4',\n",
       "  '8.4',\n",
       "  '8.8',\n",
       "  '8.0',\n",
       "  '7.6',\n",
       "  '9.2',\n",
       "  '8.8',\n",
       "  '8.4',\n",
       "  '8.8',\n",
       "  '10.0',\n",
       "  '8.8',\n",
       "  '7.2',\n",
       "  '9.2',\n",
       "  '10.0',\n",
       "  '10.0',\n",
       "  '10.0',\n",
       "  '8.4',\n",
       "  '6.4',\n",
       "  '8.4',\n",
       "  '7.2',\n",
       "  '9.2',\n",
       "  '10.0',\n",
       "  '8.4',\n",
       "  '4.8',\n",
       "  '6.8',\n",
       "  '8.0',\n",
       "  '7.6',\n",
       "  '8.4',\n",
       "  '8.8',\n",
       "  '9.2',\n",
       "  '9.6',\n",
       "  '10.0',\n",
       "  '9.2',\n",
       "  '10.0',\n",
       "  '8.4',\n",
       "  '4.8',\n",
       "  '6.8',\n",
       "  '8.0',\n",
       "  '7.6',\n",
       "  '8.4',\n",
       "  '8.8',\n",
       "  '9.2',\n",
       "  '9.6',\n",
       "  '10.0',\n",
       "  '9.2',\n",
       "  '10.0',\n",
       "  '8.4',\n",
       "  '4.8',\n",
       "  '6.8',\n",
       "  '8.0',\n",
       "  '7.6',\n",
       "  '8.4',\n",
       "  '8.8',\n",
       "  '9.2',\n",
       "  '9.6',\n",
       "  '10.0',\n",
       "  '8.0',\n",
       "  '8.0',\n",
       "  '8.0',\n",
       "  '8.8',\n",
       "  '6.8',\n",
       "  '9.2',\n",
       "  '8.0',\n",
       "  '9.2',\n",
       "  '7.6',\n",
       "  '9.2',\n",
       "  '9.2',\n",
       "  '10.0',\n",
       "  '8.0',\n",
       "  '8.0',\n",
       "  '8.0',\n",
       "  '8.8',\n",
       "  '6.8',\n",
       "  '9.2',\n",
       "  '8.0',\n",
       "  '9.2',\n",
       "  '7.6',\n",
       "  '9.2',\n",
       "  '9.2',\n",
       "  '10.0',\n",
       "  '6.0',\n",
       "  '9.2',\n",
       "  '8.4',\n",
       "  '8.0',\n",
       "  '9.2',\n",
       "  '9.6',\n",
       "  '9.2',\n",
       "  '9.2',\n",
       "  '8.8',\n",
       "  '8.4',\n",
       "  '9.6',\n",
       "  '7.6'],\n",
       " 'text': ['ㅇ',\n",
       "  '글래드 계열 호텔 침구은 언제나 편안하고, 룸 청결 상태는 항상 좋습니다~',\n",
       "  '오랜전부터 출장 때문에 자주 투숙하고 있습니다. 침대도 편안하고 모든게 좋은데 가격은 동일함에도 불구하고 점점 방문할수록 어매니티가 하나씩 사라져서 방문할 때마다 당황스럽네요^^',\n",
       "  '지하철 역이랑 가까워서 좋아요',\n",
       "  '넓은 침대와 긴 쇼파 2개로 5명까지 우리는 편하게 잤다.',\n",
       "  '방이 깔끔하고 분위기도 좋고 주변에 맛집도 많아서 좋았습니다. 특히 블루투스스피커도 있어서 더욱 호캉스기분 났습니다~',\n",
       "  '역에서 가깝고 좋아요',\n",
       "  '위치도 좋고 숙소 상태도 깨끗해서 또 오고 싶네요\\n고층 요청했더니 19층 주셨어요 감동~\\n다음에는 파티룸을 이용할까해요 ',\n",
       "  '강남에서 이 가격에 \\n작은 파티할 만한 크기와 무드 \\n분리된 거실을 가진 호텔은 여기뿐임.\\n부대시설은 이용할 만한 것이 없지만\\n주변 맛집 많고, 배달 안 되는 음식이 없다.',\n",
       "  '출장때문에 방문한 호텔이었는데, 기대 하지 않았는데 가성비 치곤 좋았습니다. 다만 주차장이 기계식 주차장이라 차를 이용해야 하는 저로써는 불편한 점이 있었네요 ',\n",
       "  '기대한것보단 별로였음 마포가 더 좋음!',\n",
       "  '위치도 좋고\\n룸서비스도 만족\\n룸컨디션도 아주 좋음\\n\\n이번이 재방문이고\\n재재방문의사도 있음',\n",
       "  '너무좋아요! ',\n",
       "  '서울에서의 시험을 위해 묵었던 호텔이였던만큼 밤에 시끄럽지는 않을까 라는 우려가 있었습니다만 우려와는 달리 너무 조용하고 좋았습니다 방도 깔끔하고 직원분들의대응도 좋았습니다 덕분에 컨디션조절도 잘되어 시험도 잘봤습니다:) 감사합니다~',\n",
       "  '저렴하게 잘 이용하다 갑니다',\n",
       "  '트윈룸예약! 룸컨디션좋고 침구좋고 디자인좋고 특히 샤워가운 재질이 너무마음에듬! 밤에 밖에 길거리나 호텔 내에 소음? 다른방 사람소리? 좀 시끄럽다 생각했고 잠자는데는 문제없을정도였음 체크아웃시간맞춰 체크아웃했는데 주차타워점검중이라고 20분정도 기다림 레스토랑 런치예약땜에 시간맞춰나왔는데 생각지도못한 딜레이에.. 레스토랑에 양해구하고 예약변경함 굳이 체크아웃시간에 점검했어야하는지의문 호텔투숙객인데 일찍가서 주차해놓는것도 추가요금내야되서 그점이 좀 별로였음 나머진매우만족! ',\n",
       "  '룸 컨디션은 좋았지만, 추워서 온도를 올리는데 전체적으로 방이 따뜻해지는 느낌은 없고 춥게 잤네요 천장에 있는 난방시스템의 필터가 오래된건지 아침에 목만 아프고, 여전히 방은 추웠습니다. \\n체크인날 조식떄문에 모닝콜 부탁했는데 전화를 안해 주시더라고요\\n느즈막히 일어나서 조식을 먹었는데 조식또한 돈내고 먹기 아까운 정도 였어요...\\n일단 돈이 아깝다는 생각이 많이 들어서 조식은 추천하지 않겟습니다. ',\n",
       "  '가격대비 룸 컨디션 아주좋습니다\\n공간도 넉넉하니 잘 쉬다왔습니다\\n다만 밤에 위쪽에 라운지에서 나는 소리인지 음악소리가 쿵쿵대는데 꽤 거슬리더라구요 12시쯤되니 꺼지긴 했지만 상당히 크게 들렸어요 베이스\\n쿵쿵대는 소리요\\n그리고 발렛 직원 아주 불친절하네요\\n체크아웃할때 기분 팍 상해서 나왔네요 ..쩝',\n",
       "  '어메니티 (칫솔 치약은 없음) 나머지는 괜찮음, 나이트가운이 너무 좋아서 가지구오고 싶음\\n침구류 좋음\\n조명 좋음! 주왕색으로 적절한 밝기라서 좋음\\n기타 하만 블루투스 스피커가 있음 노래틀어놓고있기 너무 좋음!\\n     수압, 핫워터 다 잘 나오고 좋음\\n     바로옆 편의점이 있어서 편함.\\n',\n",
       "  '일단 위치는 별로예요,,ㅠ 강남까지 걸어가기 좀 애매하긴 한데 호텔 근처에는 편의점 등등 있을거 다 있어서 좋았어요~ 위생은,, 이불에 까만 먼지?같은게 묻어있어서 별두개 뺐어요. 지난번에 묵었을 때 깔끔해서 다시 찾은거였는데😢 그리고 트리플룸은 통창이 아니고 옆건물이랑 붙어 있어서 뷰라는게 전혀 없었어요 참고하세용',\n",
       "  '모든 직원분들 서비스는  최고라고 할수 있습니다 물론 호텔상태도 깨끗하고 분위기 좋아요 위치도 너무 좋습니다          그래서 전 한국에 올때 마다 이 호텔에서만 지냅니다\\n그리고 Harry 라는 직원 정말 친절 합니다\\n개인적인 어떤일도 잘 도와주시고 감동 이었어요\\n그리고 침대 매트리스 너무 편해요 잠 정말 편하게 잘수있어요 \\n',\n",
       "  '언주역에서 가깝고 주변에 편의점있어서 좋았어요\\n근데 술집이나 이런건 신논현까지 10분정도 걸어가야해서 그것만 빼면 괜찮습니다\\n침구도 좋았고 깨끗했고 요구사항에 기재했던 것들도 반영되어있어 좋았습니다\\n다만 침대쪽에 턱이 있어서 그거에 남자친구와 제가 한번씩 발목을 박았네요..ㅋㅋㅋㅋㅋ ㅜ\\n다들 밤중에 화장실가시거나 움직이실때 조심하시길 ㅜ',\n",
       "  '가격대비 큰 룸때문에 좋았습니다.',\n",
       "  '방에서 냄새가 나서 프론트에 전화를 했더니 바로 바꿔주셨습니다. 하지만 바꿔줬던 방이 복도 제일 끝방이라서 그랬는지, 아니면 에어컨이 고장났었는지 모르지만, 저녁 내내 에어컨을 틀어놓아도 방 온도가 1도조차 떨어지지 않아 너무 더웠습니다. ㅜㅜ ',\n",
       "  '업무때문에 서울왔다가 이용했습니다.\\n역이랑도 가깝고 혼자 쉬고가기에 좋네요.\\n칫솔치약 제공안되지만 천원에 판매합니다.',\n",
       "  '-',\n",
       "  '접근성이 조금 아쉬워서 주변에 뭔가 많지는 않지만, 가격대비 룸 퀄리티가 너무 좋아요!\\nㅎㅎㅎ호캉스로 최고!\\n다만 넷플릭스나 vod 서비스가 아예 안되서 이 점은 좀 아쉬워요 ㅠㅠ',\n",
       "  '가격 대비해서는 매우 좋으나 조금 아쉬운 점이 있습니다. 좁은 편이고 럭셔리한 느낌은 별로 없지만 가격이 좋으므로 오케이',\n",
       "  '좋아요ㅋㅋㅋ가격이살짝 더저렴하면 좋겠어여',\n",
       "  '룸컨디션도 너무 좋았고 서비스도 너무 좋았어요 애용 하는 호텔입니다',\n",
       "  '다좋은데 너무시끄러워요\\n잠도 제대로못잤습니다',\n",
       "  '밝고 침구도 좋습니다 \\n적당한 가격에 일층 커피숍 커피도 맛있어요',\n",
       "  '깨끗하고 조용하고 좋았어요, 근데 주변에 딱히 먹을게없는데 호텔 내의 식당들도 일찍 닫아서 아쉬웠어요. 고층이라 클럽소음은 그닥없었고, 입실 하자마자는 좀 이상한 냄새가 났는데 금방 빠지긴했어요.',\n",
       "  '약간의 어얼리 체크인을 부탁했으나, 일언지하에 거절 당하고 근처를 한시간 넘게 배회해서 좀 아쉬웠습니다.',\n",
       "  '체크인할 때 담당자분이 지하가 클럽이라서 울릴 수 있다곧 하시며 먼저 죄송하다고 했는데 그때는 그게 무슨 의미인지 몰랐어요. 11층에서 묵었는데 진짜...새벽 6시까지 쿵쿵대는데 잠을 못잤습니다. 방음시설을 더 설치하시던지 음악소리를 줄이시던지 귀마개를 주시던지 해야할 것 같아요. ',\n",
       "  '지하 클럽때문에 개시끄러움. 아침 11시까지 시끄러움. 침대에 누워있으면 소리는 물론 울림까지 느껴질 정도임. 체크인때 불편할수도 있다고는 했지만 그게 아침 11시까지 일거라고는 상상도 못했음. 주말에만 운영한다는데 그럼 주말에 게스트를 받지 말던가, 방음 시설을 잘 해놓던가 해야지 양해를 구합니다 한마디로 끝. 위치도 좋고 깨끗한데 다시는 안갈 예정. \\n\\nClean room, nice staff, nice location(right by the subway station and walking distance to center of Gangnam) but there is a night club in the basement of the building. Staff did say something about it at check-in but we didn’t expect it to stay open until 11 am. The noise and the bounce went on all night and morning, up until to a point we could not stand it anymore and had to check out a bit early. ',\n",
       "  '역 바로 앞이고 바로옆에 편의점있고 객실깨끗하고 좋아요 그런데 사진에는 탁자가 있었는데 가보니까 없었어요',\n",
       "  '코로나로 어디 가지도 못하고 그냥 혼자 쉬다 왔는데 아주 좋았어요. 티비 채널이 많지 않고 수압이 조금 약해서 아쉬웠지만 넷플릭스랑 왓챠 보려고 아이패드도 챙겨간데다 침구가 워낙 좋아서 괜찮았습니다. 일회용품 줄이고자 어매니티가 그리  많지는 않았지만 최소한의 것들은 다 있었고, 글래드하우스엔 커피머신도 있어 좋았어요. 다음에 또 묵을거예요 ㅎㅎ',\n",
       "  '중앙 시스템이라 냉방 조절이 따로 안되서 불편함. 심지어 모니터 상 온도와 실제 냉방 온도가 달라서 더웠음(기사님 확인). 해결방안은 선풍기 1대 가져다주셨어요. 최선의 방안이었는지는 모르겠지만.. 좀 아쉽더라구요. 그 외에는 만족하였습니다. ',\n",
       "  '위치가 강남이라 차가 너무 많이 막힘. \\n여러 곳에서 머리카락 보이고 위생상태 별로. \\n전반적으로 직원분들은 친절하셨지만, 에어컨 고장과 함께 너무 불편했던 숙박이었음. (결국 방 교체하고 시원하게 쉴 수 있었음.)',\n",
       "  '클럽은 좀.. 얼마나 시끄럽길래 이어캡을 준다는건가 했는데.. 뭐 쿵쿵 진동은 계속 남. 엄청 예민하지 않는 이상 괜찮은 듯 합니다..\\n근데 화장실 물이 새어나옴..\\n연박하면서 방 정리 요청했는데 가운은 다시 안 챙겨주시더라구요..? \\n글래드 계열 호텔 넷플릭스 되게 해주세요..',\n",
       "  '새벽까지 클럽 소리에 온 방은 웅웅거리고 에어컨 소리도 너무 커서 시끄러웠네요 그래도 공기청정기 부탁드려서 미리 준비해주신것 감사합니다. ',\n",
       "  '위치, 컨디션, 편의시설, 가격 등등 \\n나쁘지 않았어요 전반적으로 만족해요\\n재방문 의사 있어요 ',\n",
       "  '일회용품 칫솔 치약 없는건 이해하는 부분 그런데 스위트룸에 와인 오프너 요즘 흔하게 있는 와인잔 등등 없는게 많아요\\n컵도 머그컵 두개 투명컵은 세면대 위에 양치컵용 2개있더군요 오프너는 내려가서 받아왔고 나무젓가락은 부탁하니 방으로 갖다 주셨어요 시설은 괜찮은데 뭔가 엉성한 느낌. 체크인시 그외 직원들은 친절합니다 그리고 온라인공연 관람하려고 거실이 있는 호텔 투숙한거였는데 스마트티비가 아니라서 결국 노트북으로 봤어요 비슷한 목적으로 가시는 분들은 미리 확인 하시길 바랍니다',\n",
       "  '비지니스호텔 많이 가봤지만\\n여기가 최고입니다. \\n서울 언주역근처여서 가깝고 좋아요 무엇보다 이불 엄청 푹신함',\n",
       "  '많은 호캉스를 다녀봤습니다. 이번년도만 해도 호캉스를 세번이나 갔었습니다. 여기 호텔방 분위기도 너무 좋고, 저랑 같이 온 친구, 언니도 너무 좋아했습니다. 그리고 방 안에 스피커가 비치되어있는데, 스피커 덕분에 호캉스의 질이 배로 좋아졌습니다. 분위기는 보장합니다. 물론 저는 개인적으로 다 만족했습니다^^',\n",
       "  '웨딩촬영 앞두고 샵이랑 가까운곳에서 자야할것같아서 묵었는데\\n룸도 넓고 좋았어요~\\n무엇보다 추가적인 주차요금이 없다는게 좋았어요\\n근처 호텔들 찾아보니까 추가적인 주차요금이 붙더라구요\\n근데 여기는 안붙어서 좋았어요',\n",
       "  '조용하고깔끔한좋더라구요',\n",
       "  '역 바로 앞이고 바로옆에 편의점있고 객실깨끗하고 좋아요 그런데 사진에는 탁자가 있었는데 가보니까 없었어요',\n",
       "  '코로나로 어디 가지도 못하고 그냥 혼자 쉬다 왔는데 아주 좋았어요. 티비 채널이 많지 않고 수압이 조금 약해서 아쉬웠지만 넷플릭스랑 왓챠 보려고 아이패드도 챙겨간데다 침구가 워낙 좋아서 괜찮았습니다. 일회용품 줄이고자 어매니티가 그리  많지는 않았지만 최소한의 것들은 다 있었고, 글래드하우스엔 커피머신도 있어 좋았어요. 다음에 또 묵을거예요 ㅎㅎ',\n",
       "  '중앙 시스템이라 냉방 조절이 따로 안되서 불편함. 심지어 모니터 상 온도와 실제 냉방 온도가 달라서 더웠음(기사님 확인). 해결방안은 선풍기 1대 가져다주셨어요. 최선의 방안이었는지는 모르겠지만.. 좀 아쉽더라구요. 그 외에는 만족하였습니다. ',\n",
       "  '위치가 강남이라 차가 너무 많이 막힘. \\n여러 곳에서 머리카락 보이고 위생상태 별로. \\n전반적으로 직원분들은 친절하셨지만, 에어컨 고장과 함께 너무 불편했던 숙박이었음. (결국 방 교체하고 시원하게 쉴 수 있었음.)',\n",
       "  '클럽은 좀.. 얼마나 시끄럽길래 이어캡을 준다는건가 했는데.. 뭐 쿵쿵 진동은 계속 남. 엄청 예민하지 않는 이상 괜찮은 듯 합니다..\\n근데 화장실 물이 새어나옴..\\n연박하면서 방 정리 요청했는데 가운은 다시 안 챙겨주시더라구요..? \\n글래드 계열 호텔 넷플릭스 되게 해주세요..',\n",
       "  '새벽까지 클럽 소리에 온 방은 웅웅거리고 에어컨 소리도 너무 커서 시끄러웠네요 그래도 공기청정기 부탁드려서 미리 준비해주신것 감사합니다. ',\n",
       "  '위치, 컨디션, 편의시설, 가격 등등 \\n나쁘지 않았어요 전반적으로 만족해요\\n재방문 의사 있어요 ',\n",
       "  '일회용품 칫솔 치약 없는건 이해하는 부분 그런데 스위트룸에 와인 오프너 요즘 흔하게 있는 와인잔 등등 없는게 많아요\\n컵도 머그컵 두개 투명컵은 세면대 위에 양치컵용 2개있더군요 오프너는 내려가서 받아왔고 나무젓가락은 부탁하니 방으로 갖다 주셨어요 시설은 괜찮은데 뭔가 엉성한 느낌. 체크인시 그외 직원들은 친절합니다 그리고 온라인공연 관람하려고 거실이 있는 호텔 투숙한거였는데 스마트티비가 아니라서 결국 노트북으로 봤어요 비슷한 목적으로 가시는 분들은 미리 확인 하시길 바랍니다',\n",
       "  '비지니스호텔 많이 가봤지만\\n여기가 최고입니다. \\n서울 언주역근처여서 가깝고 좋아요 무엇보다 이불 엄청 푹신함',\n",
       "  '많은 호캉스를 다녀봤습니다. 이번년도만 해도 호캉스를 세번이나 갔었습니다. 여기 호텔방 분위기도 너무 좋고, 저랑 같이 온 친구, 언니도 너무 좋아했습니다. 그리고 방 안에 스피커가 비치되어있는데, 스피커 덕분에 호캉스의 질이 배로 좋아졌습니다. 분위기는 보장합니다. 물론 저는 개인적으로 다 만족했습니다^^',\n",
       "  '웨딩촬영 앞두고 샵이랑 가까운곳에서 자야할것같아서 묵었는데\\n룸도 넓고 좋았어요~\\n무엇보다 추가적인 주차요금이 없다는게 좋았어요\\n근처 호텔들 찾아보니까 추가적인 주차요금이 붙더라구요\\n근데 여기는 안붙어서 좋았어요',\n",
       "  '조용하고깔끔한좋더라구요',\n",
       "  '역 바로 앞이고 바로옆에 편의점있고 객실깨끗하고 좋아요 그런데 사진에는 탁자가 있었는데 가보니까 없었어요',\n",
       "  '코로나로 어디 가지도 못하고 그냥 혼자 쉬다 왔는데 아주 좋았어요. 티비 채널이 많지 않고 수압이 조금 약해서 아쉬웠지만 넷플릭스랑 왓챠 보려고 아이패드도 챙겨간데다 침구가 워낙 좋아서 괜찮았습니다. 일회용품 줄이고자 어매니티가 그리  많지는 않았지만 최소한의 것들은 다 있었고, 글래드하우스엔 커피머신도 있어 좋았어요. 다음에 또 묵을거예요 ㅎㅎ',\n",
       "  '중앙 시스템이라 냉방 조절이 따로 안되서 불편함. 심지어 모니터 상 온도와 실제 냉방 온도가 달라서 더웠음(기사님 확인). 해결방안은 선풍기 1대 가져다주셨어요. 최선의 방안이었는지는 모르겠지만.. 좀 아쉽더라구요. 그 외에는 만족하였습니다. ',\n",
       "  '위치가 강남이라 차가 너무 많이 막힘. \\n여러 곳에서 머리카락 보이고 위생상태 별로. \\n전반적으로 직원분들은 친절하셨지만, 에어컨 고장과 함께 너무 불편했던 숙박이었음. (결국 방 교체하고 시원하게 쉴 수 있었음.)',\n",
       "  '클럽은 좀.. 얼마나 시끄럽길래 이어캡을 준다는건가 했는데.. 뭐 쿵쿵 진동은 계속 남. 엄청 예민하지 않는 이상 괜찮은 듯 합니다..\\n근데 화장실 물이 새어나옴..\\n연박하면서 방 정리 요청했는데 가운은 다시 안 챙겨주시더라구요..? \\n글래드 계열 호텔 넷플릭스 되게 해주세요..',\n",
       "  '새벽까지 클럽 소리에 온 방은 웅웅거리고 에어컨 소리도 너무 커서 시끄러웠네요 그래도 공기청정기 부탁드려서 미리 준비해주신것 감사합니다. ',\n",
       "  '위치, 컨디션, 편의시설, 가격 등등 \\n나쁘지 않았어요 전반적으로 만족해요\\n재방문 의사 있어요 ',\n",
       "  '일회용품 칫솔 치약 없는건 이해하는 부분 그런데 스위트룸에 와인 오프너 요즘 흔하게 있는 와인잔 등등 없는게 많아요\\n컵도 머그컵 두개 투명컵은 세면대 위에 양치컵용 2개있더군요 오프너는 내려가서 받아왔고 나무젓가락은 부탁하니 방으로 갖다 주셨어요 시설은 괜찮은데 뭔가 엉성한 느낌. 체크인시 그외 직원들은 친절합니다 그리고 온라인공연 관람하려고 거실이 있는 호텔 투숙한거였는데 스마트티비가 아니라서 결국 노트북으로 봤어요 비슷한 목적으로 가시는 분들은 미리 확인 하시길 바랍니다',\n",
       "  '비지니스호텔 많이 가봤지만\\n여기가 최고입니다. \\n서울 언주역근처여서 가깝고 좋아요 무엇보다 이불 엄청 푹신함',\n",
       "  '많은 호캉스를 다녀봤습니다. 이번년도만 해도 호캉스를 세번이나 갔었습니다. 여기 호텔방 분위기도 너무 좋고, 저랑 같이 온 친구, 언니도 너무 좋아했습니다. 그리고 방 안에 스피커가 비치되어있는데, 스피커 덕분에 호캉스의 질이 배로 좋아졌습니다. 분위기는 보장합니다. 물론 저는 개인적으로 다 만족했습니다^^',\n",
       "  '웨딩촬영 앞두고 샵이랑 가까운곳에서 자야할것같아서 묵었는데\\n룸도 넓고 좋았어요~\\n무엇보다 추가적인 주차요금이 없다는게 좋았어요\\n근처 호텔들 찾아보니까 추가적인 주차요금이 붙더라구요\\n근데 여기는 안붙어서 좋았어요',\n",
       "  '조용하고깔끔한좋더라구요',\n",
       "  '역이랑 가까워서 좋았구요! \\n시설도 깔끔한 편이었습니다.',\n",
       "  '욕실 넓고 욕조에 거품풀고 푸~~욱 쉬기 좋은 곳\\n블루투스 연결해서 음악도 빵빵\\n혼자 호캉스하기 괜찮음 하지만 뷰는 별기대마세요ㅋ',\n",
       "  '호캉스 하려고 강남에서 적당한 가격대의 숙소를 알아보다가 예약하게 되었는데, 방크기는 그닥 기대하지 않는게 좋아요ㅎㅎ 그냥 잠만 자기 좋은 호텔이었어요! 대신 조식이 정말 정말 맛있어서 만족했어요~ 간단한 휴식 원하시는 분들에게 추천해요! 대신 접근성이 그닥 좋지는 않습니다! 자가용 이용하신다면 괜찮을 듯 한데, 대중교통 이용해서 불편했어요ㅜㅜ 지하철역이랑 너무 멀더라구요ㅜ 그리고 주변에 저녁으로 먹을 식당이 1도 없어요ㅠㅠㅠ 저녁 다른 곳에서 드시고 호텔 방문하시는 편이 좋아요!',\n",
       "  '다만 베개가 1인당 1개씩이어서 아쉬웠어요',\n",
       "  '처음 간 객실 화장실 변기에 이상한 털이 놓여져있고...\\n세면대에도 머리카락이 있고 침대에도 먼지가 너무 많아서 \\n참다참다 결국 룸체인지 요청했습니다. \\n그래도 직원분이 친절하게 응대해주시긴 했는데\\n그 다음 바뀐 방 매트리스 커버에는 구멍이 나있고....\\n다시는 안가고 싶네요',\n",
       "  '체크인 도와주신 에일리 황 님께 깊은 감사 보냅니다. 강남에서 예끼치못하게 일정이 1,2박씩 늘어나는 바람에 글래드 라이브, 노보텔 등 여러군데에서 숙박을 나눠서 했는데. 글래드라이브가 만족도 젤 높았어요. 가격은 젤 저렴했는데말이죠.. 체크인 시간 미처 확인도 못하고 뒤뚱뒤뚱 리셉션 간 세쌍둥이 임산부에요. 컨디션이 너무 안좋아서 혹 추가비용 지불하고 얼리체크인 가능한지 확인 부탁드렸는데, 흔쾌히 여러가지 편의를 봐주셔서.. 정말 정말 진짜 너무 감사했어요. 507호! 엘리베이터 앞 객실 배정해주신 센스도 너무 감사드립니다. 노보텔에선 방값 더블 지불하고 연박해도 열받은 기억뿐이었는데, 예쁜 비즈니스 호텔이라 생각한 글래드에서 너무 편하게 잘 쉬었어요. 2시부터 체크인해서 늦은 저녁까지 푹 쉰 덕분에, 남은 일정 편히 마무리할 수 있었어요. 그리고 객관적으로 룸 정비 상태 및 위생 상태도 매우 준수했어요. 머리카락 같은 거 잘 발견하는 사람인데, 글래드에서 1박씩 총 2박하면서 머리카락과 먼지 발견 한 적 없어요. 그러고보니 먼지도 다른 호텔에 비해 적었어요. 그리고 침대를 특이하게 평상같은 데 위에 올려두셨던데, 아주 편안했어요. 트윈베드라 침대끼리 이동하기도 수월했고, 보호자가 수시로 저 케어봐줄 수 있어서 편했네요. 감사합니다. 꼭 재방문할거에요. ',\n",
       "  '크리스마스이지만 3달전에 미리 예약을 해서 아주 저렴하게 묵었습니다.\\n그러나 아래의 클럽에서 새벽까지 쿵쾅대드라 그 진동이 방까지 느껴지더군요.\\n상당히 높은 층임에도 불구하고 시끄러웠습니다.',\n",
       "  '깔끔하고 친절하고 차분했어요. 룸도 저렴한 가격대에 쾌적한 난방, 먼지도 거의 없었어요. 침구도 깨끗. 접근성도 좋고 뭐 흠잡을 게 없어요. 재방문 할거에요.',\n",
       "  '복도 쪽 방음이 잘됨. 방과 샤워실이 넓은 편이고 이동식 테이블과 하만카돈 스피커가 매우 맘에 들었음. 침대 푹신하고 베개도 매우 편함.',\n",
       "  '엄마랑 호캉스 갔는데 깨끗하고 조용하고 쉬기 좋았어요. 특히 트윈!!!!!!!',\n",
       "  '글래드라이브강남 두번째 방문인데 직원분들 너무 친절하고 룸 상태 청결도 너무 좋아요! 칫솔치약 구비 안된게 조금 아쉬워요 ㅠㅠ ',\n",
       "  '깔끔하고 무엇보다도 방안에 블루투스 스피커가 있어 음악들을때 너무 좋아요.\\n편의점도 가깝고 침대도 푹신해요.',\n",
       "  '역이랑 가까워서 좋았구요! \\n시설도 깔끔한 편이었습니다.',\n",
       "  '욕실 넓고 욕조에 거품풀고 푸~~욱 쉬기 좋은 곳\\n블루투스 연결해서 음악도 빵빵\\n혼자 호캉스하기 괜찮음 하지만 뷰는 별기대마세요ㅋ',\n",
       "  '호캉스 하려고 강남에서 적당한 가격대의 숙소를 알아보다가 예약하게 되었는데, 방크기는 그닥 기대하지 않는게 좋아요ㅎㅎ 그냥 잠만 자기 좋은 호텔이었어요! 대신 조식이 정말 정말 맛있어서 만족했어요~ 간단한 휴식 원하시는 분들에게 추천해요! 대신 접근성이 그닥 좋지는 않습니다! 자가용 이용하신다면 괜찮을 듯 한데, 대중교통 이용해서 불편했어요ㅜㅜ 지하철역이랑 너무 멀더라구요ㅜ 그리고 주변에 저녁으로 먹을 식당이 1도 없어요ㅠㅠㅠ 저녁 다른 곳에서 드시고 호텔 방문하시는 편이 좋아요!',\n",
       "  '다만 베개가 1인당 1개씩이어서 아쉬웠어요',\n",
       "  '처음 간 객실 화장실 변기에 이상한 털이 놓여져있고...\\n세면대에도 머리카락이 있고 침대에도 먼지가 너무 많아서 \\n참다참다 결국 룸체인지 요청했습니다. \\n그래도 직원분이 친절하게 응대해주시긴 했는데\\n그 다음 바뀐 방 매트리스 커버에는 구멍이 나있고....\\n다시는 안가고 싶네요',\n",
       "  '체크인 도와주신 에일리 황 님께 깊은 감사 보냅니다. 강남에서 예끼치못하게 일정이 1,2박씩 늘어나는 바람에 글래드 라이브, 노보텔 등 여러군데에서 숙박을 나눠서 했는데. 글래드라이브가 만족도 젤 높았어요. 가격은 젤 저렴했는데말이죠.. 체크인 시간 미처 확인도 못하고 뒤뚱뒤뚱 리셉션 간 세쌍둥이 임산부에요. 컨디션이 너무 안좋아서 혹 추가비용 지불하고 얼리체크인 가능한지 확인 부탁드렸는데, 흔쾌히 여러가지 편의를 봐주셔서.. 정말 정말 진짜 너무 감사했어요. 507호! 엘리베이터 앞 객실 배정해주신 센스도 너무 감사드립니다. 노보텔에선 방값 더블 지불하고 연박해도 열받은 기억뿐이었는데, 예쁜 비즈니스 호텔이라 생각한 글래드에서 너무 편하게 잘 쉬었어요. 2시부터 체크인해서 늦은 저녁까지 푹 쉰 덕분에, 남은 일정 편히 마무리할 수 있었어요. 그리고 객관적으로 룸 정비 상태 및 위생 상태도 매우 준수했어요. 머리카락 같은 거 잘 발견하는 사람인데, 글래드에서 1박씩 총 2박하면서 머리카락과 먼지 발견 한 적 없어요. 그러고보니 먼지도 다른 호텔에 비해 적었어요. 그리고 침대를 특이하게 평상같은 데 위에 올려두셨던데, 아주 편안했어요. 트윈베드라 침대끼리 이동하기도 수월했고, 보호자가 수시로 저 케어봐줄 수 있어서 편했네요. 감사합니다. 꼭 재방문할거에요. ',\n",
       "  '크리스마스이지만 3달전에 미리 예약을 해서 아주 저렴하게 묵었습니다.\\n그러나 아래의 클럽에서 새벽까지 쿵쾅대드라 그 진동이 방까지 느껴지더군요.\\n상당히 높은 층임에도 불구하고 시끄러웠습니다.',\n",
       "  '깔끔하고 친절하고 차분했어요. 룸도 저렴한 가격대에 쾌적한 난방, 먼지도 거의 없었어요. 침구도 깨끗. 접근성도 좋고 뭐 흠잡을 게 없어요. 재방문 할거에요.',\n",
       "  '복도 쪽 방음이 잘됨. 방과 샤워실이 넓은 편이고 이동식 테이블과 하만카돈 스피커가 매우 맘에 들었음. 침대 푹신하고 베개도 매우 편함.',\n",
       "  '엄마랑 호캉스 갔는데 깨끗하고 조용하고 쉬기 좋았어요. 특히 트윈!!!!!!!',\n",
       "  '글래드라이브강남 두번째 방문인데 직원분들 너무 친절하고 룸 상태 청결도 너무 좋아요! 칫솔치약 구비 안된게 조금 아쉬워요 ㅠㅠ ',\n",
       "  '깔끔하고 무엇보다도 방안에 블루투스 스피커가 있어 음악들을때 너무 좋아요.\\n편의점도 가깝고 침대도 푹신해요.',\n",
       "  '업무차 머무르는데 문제없는 컨디션입니다.\\n깔끔, 위치 좋음',\n",
       "  '대체적으로 룸컨디션은 좋았지만\\n침대 구석에 머리카락이 발견되어서 좀 그랬어요\\n그래도 화장실도 넓고 분리되어 있어서 좋았습니당',\n",
       "  '직원분들도 친절하시고 객실도 넓고 깨끗해서 좋아요! 근데 물이 정말 졸졸 흐르는 정도고 난방을 켜 있으면 배선함에서 달그락 거리는 소리가 끊ㅇㅣㅁ없이 들려서 좀 불편했어요. 여름, 겨울엔 비추고 봄 가을엔 괜찮을 거 같아요!',\n",
       "  '호텔 자체는 만족, 클럽 너무 무서움',\n",
       "  '분위기도 좋고 아늑하고 좋아요',\n",
       "  '걍 너무 좋음 ',\n",
       "  '강남이랑도 가깝고 깔끔하니 만족합니다~^^',\n",
       "  '강남까지 걸어가기는 무리가 없을듯한데 그래도 추운날에 걸어가는좀... 그래도 깨끗하고 괜찮아요',\n",
       "  '친구들이랑 이른 연말 파티 하려고 글래드 하우스로 예약했는데, 방이 우선 넓고 깨끗하고 주변에 편의점 등등 부대시설이 가까워서 편안했어요 ',\n",
       "  '나머지 시설이랑 다 만족했지만 방음이 잘 안되네요',\n",
       "  '환경친화 추구는 좋지만, 바디로션과 빗이 없습니다.\\n그리고 2박 연박하고 이튿날 객실 정돈을 요청드렸는데 커피 등 기본적으로 제공되는 서비스도 채워져 있지 않았습니다.',\n",
       "  '친구들 세명 트리풀룸 이용했는데요\\n조식포함으로 했는데 뷔페식이 아닌 한식 양식 일식중에 선택하였는데 조식이 가격대비는 완전 별로네요  방음상태는 좋았구요 기본적인 어매니티는 있지만 칫솔이 없어 구매해야 하는점 별로네요 위치도 좀 애매하고 아침에 조식먹는 시간에 인근에 클럽이 있는지 동남아 외국인들 거리에 널부러져 있는 모습은  조식 먹는 밥맛이 뚝 떨어집니다.'],\n",
       " 'title': '글래드라이브 호텔 (Glad Live Gangnam)'}"
      ]
     },
     "metadata": {},
     "execution_count": 18
    }
   ],
   "source": [
    "reviews"
   ]
  },
  {
   "cell_type": "code",
   "execution_count": 19,
   "metadata": {},
   "outputs": [],
   "source": [
    "df = pd.DataFrame(data = reviews)"
   ]
  },
  {
   "cell_type": "code",
   "execution_count": 20,
   "metadata": {},
   "outputs": [],
   "source": [
    "df[\"title\"] = df[\"title\"].map(lambda x: x.split(\"(\")[0])\n",
    "df[\"title\"]  = df[\"title\"].map(lambda x:x.strip())"
   ]
  },
  {
   "cell_type": "code",
   "execution_count": 21,
   "metadata": {},
   "outputs": [],
   "source": [
    "df = df.drop_duplicates()"
   ]
  },
  {
   "cell_type": "code",
   "execution_count": 22,
   "metadata": {},
   "outputs": [
    {
     "output_type": "execute_result",
     "data": {
      "text/plain": [
       "  score                                               text      title\n",
       "0   8.0                                                  ㅇ  글래드라이브 호텔\n",
       "1   8.8          글래드 계열 호텔 침구은 언제나 편안하고, 룸 청결 상태는 항상 좋습니다~  글래드라이브 호텔\n",
       "2  10.0  오랜전부터 출장 때문에 자주 투숙하고 있습니다. 침대도 편안하고 모든게 좋은데 가격...  글래드라이브 호텔\n",
       "3   6.4                                   지하철 역이랑 가까워서 좋아요  글래드라이브 호텔\n",
       "4   9.2                   넓은 침대와 긴 쇼파 2개로 5명까지 우리는 편하게 잤다.  글래드라이브 호텔"
      ],
      "text/html": "<div>\n<style scoped>\n    .dataframe tbody tr th:only-of-type {\n        vertical-align: middle;\n    }\n\n    .dataframe tbody tr th {\n        vertical-align: top;\n    }\n\n    .dataframe thead th {\n        text-align: right;\n    }\n</style>\n<table border=\"1\" class=\"dataframe\">\n  <thead>\n    <tr style=\"text-align: right;\">\n      <th></th>\n      <th>score</th>\n      <th>text</th>\n      <th>title</th>\n    </tr>\n  </thead>\n  <tbody>\n    <tr>\n      <th>0</th>\n      <td>8.0</td>\n      <td>ㅇ</td>\n      <td>글래드라이브 호텔</td>\n    </tr>\n    <tr>\n      <th>1</th>\n      <td>8.8</td>\n      <td>글래드 계열 호텔 침구은 언제나 편안하고, 룸 청결 상태는 항상 좋습니다~</td>\n      <td>글래드라이브 호텔</td>\n    </tr>\n    <tr>\n      <th>2</th>\n      <td>10.0</td>\n      <td>오랜전부터 출장 때문에 자주 투숙하고 있습니다. 침대도 편안하고 모든게 좋은데 가격...</td>\n      <td>글래드라이브 호텔</td>\n    </tr>\n    <tr>\n      <th>3</th>\n      <td>6.4</td>\n      <td>지하철 역이랑 가까워서 좋아요</td>\n      <td>글래드라이브 호텔</td>\n    </tr>\n    <tr>\n      <th>4</th>\n      <td>9.2</td>\n      <td>넓은 침대와 긴 쇼파 2개로 5명까지 우리는 편하게 잤다.</td>\n      <td>글래드라이브 호텔</td>\n    </tr>\n  </tbody>\n</table>\n</div>"
     },
     "metadata": {},
     "execution_count": 22
    }
   ],
   "source": [
    "df.head()"
   ]
  },
  {
   "cell_type": "code",
   "execution_count": null,
   "metadata": {},
   "outputs": [],
   "source": []
  }
 ]
}