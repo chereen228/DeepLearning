{
 "metadata": {
  "language_info": {
   "codemirror_mode": {
    "name": "ipython",
    "version": 3
   },
   "file_extension": ".py",
   "mimetype": "text/x-python",
   "name": "python",
   "nbconvert_exporter": "python",
   "pygments_lexer": "ipython3",
   "version": "3.8.5"
  },
  "orig_nbformat": 4,
  "kernelspec": {
   "name": "python3",
   "display_name": "Python 3.8.5 64-bit ('base': conda)"
  },
  "interpreter": {
   "hash": "8c1eae21719a0790335dcb83aad72b63b602cfe5cdb2bda0f60bc11d4f154e4b"
  }
 },
 "nbformat": 4,
 "nbformat_minor": 2,
 "cells": [
  {
   "source": [
    "### 필요 라이브러리"
   ],
   "cell_type": "markdown",
   "metadata": {}
  },
  {
   "cell_type": "code",
   "execution_count": 1,
   "metadata": {},
   "outputs": [],
   "source": [
    "from selenium import webdriver\n",
    "import time\n",
    "import pandas as pd\n",
    "import numpy as np \n",
    "from bs4 import BeautifulSoup\n",
    "import datetime\n",
    "from datetime import timedelta\n",
    "import urllib.request"
   ]
  },
  {
   "source": [
    "### 서울 전체 호텔들 url 뽑아오기"
   ],
   "cell_type": "markdown",
   "metadata": {}
  },
  {
   "cell_type": "code",
   "execution_count": 2,
   "metadata": {},
   "outputs": [],
   "source": [
    "#link_list = []\n",
    "#driver = webdriver.Chrome('/Users/daeun/Desktop/dev/chromedriver')\n",
    "#driver.get(\"https://www.yanolja.com/hotel/r-900582?lat=37.50681&lng=127.06624&advert=AREA&sort=133&placeListType=hotel&pathDivision=r-900582\")\n",
    "\n",
    "#last_height = 0\n",
    "#SCROLL_PAUSE_TIME = 1.5\n",
    "\n",
    "#while True:\n",
    "#Scroll down to bottom\n",
    "#driver.execute_script(\"window.scrollTo(0, document.body.scrollHeight);\")\n",
    "\n",
    "#Wait to load page\n",
    "#time.sleep(SCROLL_PAUSE_TIME)\n",
    "#driver.execute_script(\"window.scrollTo(0, document.body.scrollHeight-50);\")\n",
    "#time.sleep(SCROLL_PAUSE_TIME)\n",
    "\n",
    "#Calculate new scroll height and compare with last scroll height\n",
    "#new_height = driver.execute_script(\"return document.body.scrollHeight\")\n",
    "\n",
    "#if new_height == last_height:\n",
    "#break\n",
    "\n",
    "#last_height = new_height\n",
    "\n",
    "#for i in range(1,1000):\n",
    "#     try : \n",
    "#         box = driver.find_element_by_css_selector(f\"#__next > div.StyleComponent_container__1jS9A.list_listContainer__2kL99.list_bottomPadding__xvWzu > section.PlaceListBody_placeListBodyContainer__1u70R.PlaceListBody_hideHeader__1iioo > div > div > div:nth-child({i}) > a\")\n",
    "#         link = box.get_attribute('href')\n",
    "#         link_list.append(link)\n",
    "#     except :\n",
    "#         pass"
   ]
  },
  {
   "cell_type": "code",
   "execution_count": 5,
   "metadata": {},
   "outputs": [
    {
     "output_type": "execute_result",
     "data": {
      "text/plain": [
       "20"
      ]
     },
     "metadata": {},
     "execution_count": 5
    }
   ],
   "source": [
    "#len(link_list)"
   ]
  },
  {
   "cell_type": "code",
   "execution_count": 3,
   "metadata": {},
   "outputs": [],
   "source": [
    "link_list=['https://www.yanolja.com/hotel/3013410',\n",
    " 'https://www.yanolja.com/hotel/3008321',\n",
    " 'https://www.yanolja.com/hotel/3001564',\n",
    " 'https://www.yanolja.com/hotel/3001415',\n",
    " 'https://www.yanolja.com/hotel/3012800',\n",
    " 'https://www.yanolja.com/hotel/3015391',\n",
    " 'https://www.yanolja.com/hotel/3015974',\n",
    " 'https://www.yanolja.com/hotel/3000690',\n",
    " 'https://www.yanolja.com/hotel/3008569',\n",
    " 'https://www.yanolja.com/hotel/3009497',\n",
    " 'https://www.yanolja.com/hotel/3012039',\n",
    " 'https://www.yanolja.com/hotel/3001559',\n",
    " 'https://www.yanolja.com/hotel/3009050',\n",
    " 'https://www.yanolja.com/hotel/3001396',\n",
    " 'https://www.yanolja.com/hotel/3000586',\n",
    " 'https://www.yanolja.com/hotel/3001348',\n",
    " 'https://www.yanolja.com/hotel/3011807',\n",
    " 'https://www.yanolja.com/hotel/3000969',\n",
    " 'https://www.yanolja.com/hotel/3001075',\n",
    " 'https://www.yanolja.com/hotel/3001395',\n",
    " 'https://www.yanolja.com/hotel/3015395',\n",
    " 'https://www.yanolja.com/hotel/3012216',\n",
    " 'https://www.yanolja.com/hotel/3008549',\n",
    " 'https://www.yanolja.com/hotel/1000099647',\n",
    " 'https://www.yanolja.com/hotel/3001680',\n",
    " 'https://www.yanolja.com/hotel/3000643',\n",
    " 'https://www.yanolja.com/hotel/1000101862',\n",
    " 'https://www.yanolja.com/hotel/3012015',\n",
    " 'https://www.yanolja.com/hotel/3001542',\n",
    " 'https://www.yanolja.com/hotel/1000104461',\n",
    " 'https://www.yanolja.com/hotel/3016365',\n",
    " 'https://www.yanolja.com/hotel/3016868',\n",
    " 'https://www.yanolja.com/hotel/3001558',\n",
    " 'https://www.yanolja.com/hotel/3001032',\n",
    " 'https://www.yanolja.com/hotel/1000102261',\n",
    " 'https://www.yanolja.com/hotel/3011846',\n",
    " 'https://www.yanolja.com/hotel/1000100245',\n",
    " 'https://www.yanolja.com/hotel/3000605',\n",
    " 'https://www.yanolja.com/hotel/3001414',\n",
    " 'https://www.yanolja.com/hotel/3008298',\n",
    " 'https://www.yanolja.com/hotel/3009495',\n",
    " 'https://www.yanolja.com/hotel/3000742',\n",
    " 'https://www.yanolja.com/hotel/3001027',\n",
    " 'https://www.yanolja.com/hotel/3018171',\n",
    " 'https://www.yanolja.com/hotel/3012553',\n",
    " 'https://www.yanolja.com/hotel/3016266',\n",
    " 'https://www.yanolja.com/hotel/3007173',\n",
    " 'https://www.yanolja.com/hotel/3012201',\n",
    " 'https://www.yanolja.com/hotel/3012441',\n",
    " 'https://www.yanolja.com/hotel/3009564',\n",
    " 'https://www.yanolja.com/hotel/3001047',\n",
    " 'https://www.yanolja.com/hotel/3015823',\n",
    " 'https://www.yanolja.com/hotel/3001104',\n",
    " 'https://www.yanolja.com/hotel/3011034',\n",
    " 'https://www.yanolja.com/hotel/3000597',\n",
    " 'https://www.yanolja.com/hotel/3020614',\n",
    " 'https://www.yanolja.com/hotel/3000729',\n",
    " 'https://www.yanolja.com/hotel/3007571',\n",
    " 'https://www.yanolja.com/hotel/3001877',\n",
    " 'https://www.yanolja.com/hotel/3001358',\n",
    " 'https://www.yanolja.com/hotel/3000648',\n",
    " 'https://www.yanolja.com/hotel/3009264',\n",
    " 'https://www.yanolja.com/hotel/3000717',\n",
    " 'https://www.yanolja.com/hotel/3000865',\n",
    " 'https://www.yanolja.com/hotel/3000708',\n",
    " 'https://www.yanolja.com/hotel/1000101565',\n",
    " 'https://www.yanolja.com/hotel/1000100307',\n",
    " 'https://www.yanolja.com/hotel/1000105894',\n",
    " 'https://www.yanolja.com/hotel/3001668',\n",
    " 'https://www.yanolja.com/hotel/1000105844',\n",
    " 'https://www.yanolja.com/hotel/3001387',\n",
    " 'https://www.yanolja.com/hotel/3001158',\n",
    " 'https://www.yanolja.com/hotel/3009282',\n",
    " 'https://www.yanolja.com/hotel/3000725',\n",
    " 'https://www.yanolja.com/hotel/3000588',\n",
    " 'https://www.yanolja.com/hotel/3001511',\n",
    " 'https://www.yanolja.com/hotel/3001533',\n",
    " 'https://www.yanolja.com/hotel/3000683',\n",
    " 'https://www.yanolja.com/hotel/3000750',\n",
    " 'https://www.yanolja.com/hotel/3000612',\n",
    " 'https://www.yanolja.com/hotel/3001044',\n",
    " 'https://www.yanolja.com/hotel/3017023',\n",
    " 'https://www.yanolja.com/hotel/3001110',\n",
    " 'https://www.yanolja.com/hotel/3000821',\n",
    " 'https://www.yanolja.com/hotel/3001664',\n",
    " 'https://www.yanolja.com/hotel/3001516',\n",
    " 'https://www.yanolja.com/hotel/3000598',\n",
    " 'https://www.yanolja.com/hotel/3000665',\n",
    " 'https://www.yanolja.com/hotel/3000628',\n",
    " 'https://www.yanolja.com/hotel/3001154',\n",
    " 'https://www.yanolja.com/hotel/3015390',\n",
    " 'https://www.yanolja.com/hotel/3014816',\n",
    " 'https://www.yanolja.com/hotel/3001091',\n",
    " 'https://www.yanolja.com/hotel/3009440',\n",
    " 'https://www.yanolja.com/hotel/3001749',\n",
    " 'https://www.yanolja.com/hotel/3001557',\n",
    " 'https://www.yanolja.com/hotel/3001747',\n",
    " 'https://www.yanolja.com/hotel/3014794',\n",
    " 'https://www.yanolja.com/hotel/3000677',\n",
    " 'https://www.yanolja.com/hotel/3000607',\n",
    " 'https://www.yanolja.com/hotel/3001030',\n",
    " 'https://www.yanolja.com/hotel/3000698',\n",
    " 'https://www.yanolja.com/hotel/3010580',\n",
    " 'https://www.yanolja.com/hotel/3001665',\n",
    " 'https://www.yanolja.com/hotel/3015070',\n",
    " 'https://www.yanolja.com/hotel/1000105172',\n",
    " 'https://www.yanolja.com/hotel/3001290',\n",
    " 'https://www.yanolja.com/hotel/3001615',\n",
    " 'https://www.yanolja.com/hotel/3008250',\n",
    " 'https://www.yanolja.com/hotel/3001967',\n",
    " 'https://www.yanolja.com/hotel/3000720',\n",
    " 'https://www.yanolja.com/hotel/3014284',\n",
    " 'https://www.yanolja.com/hotel/3001064',\n",
    " 'https://www.yanolja.com/hotel/3001714',\n",
    " 'https://www.yanolja.com/hotel/3009026',\n",
    " 'https://www.yanolja.com/hotel/3001106',\n",
    " 'https://www.yanolja.com/hotel/3001234',\n",
    " 'https://www.yanolja.com/hotel/3000755',\n",
    " 'https://www.yanolja.com/hotel/3001259',\n",
    " 'https://www.yanolja.com/hotel/3000638',\n",
    " 'https://www.yanolja.com/hotel/3014369',\n",
    " 'https://www.yanolja.com/hotel/3014652',\n",
    " 'https://www.yanolja.com/hotel/3006832',\n",
    " 'https://www.yanolja.com/hotel/3001507',\n",
    " 'https://www.yanolja.com/hotel/3010149',\n",
    " 'https://www.yanolja.com/hotel/3001560',\n",
    " 'https://www.yanolja.com/hotel/3000700',\n",
    " 'https://www.yanolja.com/hotel/3010242',\n",
    " 'https://www.yanolja.com/hotel/3014301',\n",
    " 'https://www.yanolja.com/hotel/3001099',\n",
    " 'https://www.yanolja.com/hotel/3001843',\n",
    " 'https://www.yanolja.com/hotel/3001437',\n",
    " 'https://www.yanolja.com/hotel/3001137',\n",
    " 'https://www.yanolja.com/hotel/3000689',\n",
    " 'https://www.yanolja.com/hotel/3000653',\n",
    " 'https://www.yanolja.com/hotel/3001005',\n",
    " 'https://www.yanolja.com/hotel/3008330',\n",
    " 'https://www.yanolja.com/hotel/1000111397',\n",
    " 'https://www.yanolja.com/hotel/3011832',\n",
    " 'https://www.yanolja.com/hotel/3001210',\n",
    " 'https://www.yanolja.com/hotel/3001117',\n",
    " 'https://www.yanolja.com/hotel/3002295',\n",
    " 'https://www.yanolja.com/hotel/3013454',\n",
    " 'https://www.yanolja.com/hotel/3000591',\n",
    " 'https://www.yanolja.com/hotel/3001771',\n",
    " 'https://www.yanolja.com/hotel/3012206',\n",
    " 'https://www.yanolja.com/hotel/3000770',\n",
    " 'https://www.yanolja.com/hotel/3001050',\n",
    " 'https://www.yanolja.com/hotel/3012599',\n",
    " 'https://www.yanolja.com/hotel/3001077',\n",
    " 'https://www.yanolja.com/hotel/3000804',\n",
    " 'https://www.yanolja.com/hotel/3013387',\n",
    " 'https://www.yanolja.com/hotel/3001307',\n",
    " 'https://www.yanolja.com/hotel/3002219',\n",
    " 'https://www.yanolja.com/hotel/3001283',\n",
    " 'https://www.yanolja.com/hotel/3000769',\n",
    " 'https://www.yanolja.com/hotel/3000794',\n",
    " 'https://www.yanolja.com/hotel/3014025',\n",
    " 'https://www.yanolja.com/hotel/3000614',\n",
    " 'https://www.yanolja.com/hotel/3001505',\n",
    " 'https://www.yanolja.com/hotel/1000104958',\n",
    " 'https://www.yanolja.com/hotel/3001824',\n",
    " 'https://www.yanolja.com/hotel/3000613',\n",
    " 'https://www.yanolja.com/hotel/1000109193',\n",
    " 'https://www.yanolja.com/hotel/3012501',\n",
    " 'https://www.yanolja.com/hotel/3001317',\n",
    " 'https://www.yanolja.com/hotel/3000624',\n",
    " 'https://www.yanolja.com/hotel/1000103404',\n",
    " 'https://www.yanolja.com/hotel/3009874',\n",
    " 'https://www.yanolja.com/hotel/3001080',\n",
    " 'https://www.yanolja.com/hotel/3012557',\n",
    " 'https://www.yanolja.com/hotel/3008267',\n",
    " 'https://www.yanolja.com/hotel/3015403',\n",
    " 'https://www.yanolja.com/hotel/1000109767',\n",
    " 'https://www.yanolja.com/hotel/3000616',\n",
    " 'https://www.yanolja.com/hotel/3000826',\n",
    " 'https://www.yanolja.com/hotel/3015389',\n",
    " 'https://www.yanolja.com/hotel/3017005',\n",
    " 'https://www.yanolja.com/hotel/3001372',\n",
    " 'https://www.yanolja.com/hotel/3001580',\n",
    " 'https://www.yanolja.com/hotel/3001373',\n",
    " 'https://www.yanolja.com/hotel/3012550',\n",
    " 'https://www.yanolja.com/hotel/3000813',\n",
    " 'https://www.yanolja.com/hotel/3000697',\n",
    " 'https://www.yanolja.com/hotel/3000692',\n",
    " 'https://www.yanolja.com/hotel/3001010',\n",
    " 'https://www.yanolja.com/hotel/3016288',\n",
    " 'https://www.yanolja.com/hotel/3001669',\n",
    " 'https://www.yanolja.com/hotel/3013608',\n",
    " 'https://www.yanolja.com/hotel/3001502',\n",
    " 'https://www.yanolja.com/hotel/1000110435',\n",
    " 'https://www.yanolja.com/hotel/3000604',\n",
    " 'https://www.yanolja.com/hotel/3001221',\n",
    " 'https://www.yanolja.com/hotel/1000095518',\n",
    " 'https://www.yanolja.com/hotel/3012752',\n",
    " 'https://www.yanolja.com/hotel/3010291',\n",
    " 'https://www.yanolja.com/hotel/3001339',\n",
    " 'https://www.yanolja.com/hotel/3001016',\n",
    " 'https://www.yanolja.com/hotel/1000101180',\n",
    " 'https://www.yanolja.com/hotel/3016041',\n",
    " 'https://www.yanolja.com/hotel/1000109016',\n",
    " 'https://www.yanolja.com/hotel/1000109813',\n",
    " 'https://www.yanolja.com/hotel/3016482',\n",
    " 'https://www.yanolja.com/hotel/3000644',\n",
    " 'https://www.yanolja.com/hotel/3008301',\n",
    " 'https://www.yanolja.com/hotel/3000815',\n",
    " 'https://www.yanolja.com/hotel/3010553',\n",
    " 'https://www.yanolja.com/hotel/3000642',\n",
    " 'https://www.yanolja.com/hotel/3001789',\n",
    " 'https://www.yanolja.com/hotel/3000905',\n",
    " 'https://www.yanolja.com/hotel/1000110881',\n",
    " 'https://www.yanolja.com/hotel/3010209',\n",
    " 'https://www.yanolja.com/hotel/3000655',\n",
    " 'https://www.yanolja.com/hotel/1000101062',\n",
    " 'https://www.yanolja.com/hotel/3001465',\n",
    " 'https://www.yanolja.com/hotel/3000775',\n",
    " 'https://www.yanolja.com/hotel/3001020',\n",
    " 'https://www.yanolja.com/hotel/3008478',\n",
    " 'https://www.yanolja.com/hotel/3000816',\n",
    " 'https://www.yanolja.com/hotel/3000783',\n",
    " 'https://www.yanolja.com/hotel/3000641',\n",
    " 'https://www.yanolja.com/hotel/3012170',\n",
    " 'https://www.yanolja.com/hotel/3001365',\n",
    " 'https://www.yanolja.com/hotel/3001187',\n",
    " 'https://www.yanolja.com/hotel/1000100675',\n",
    " 'https://www.yanolja.com/hotel/3001389',\n",
    " 'https://www.yanolja.com/hotel/3001298',\n",
    " 'https://www.yanolja.com/hotel/3000765',\n",
    " 'https://www.yanolja.com/hotel/3001049',\n",
    " 'https://www.yanolja.com/hotel/3000835',\n",
    " 'https://www.yanolja.com/hotel/3001705',\n",
    " 'https://www.yanolja.com/hotel/3001384',\n",
    " 'https://www.yanolja.com/hotel/3002330',\n",
    " 'https://www.yanolja.com/hotel/1000112780',\n",
    " 'https://www.yanolja.com/hotel/3014978',\n",
    " 'https://www.yanolja.com/hotel/3007512',\n",
    " 'https://www.yanolja.com/hotel/3006873',\n",
    " 'https://www.yanolja.com/hotel/3000662',\n",
    " 'https://www.yanolja.com/hotel/1000099895',\n",
    " 'https://www.yanolja.com/hotel/3001267',\n",
    " 'https://www.yanolja.com/hotel/3010127',\n",
    " 'https://www.yanolja.com/hotel/1000105156',\n",
    " 'https://www.yanolja.com/hotel/1000105463',\n",
    " 'https://www.yanolja.com/hotel/3012106',\n",
    " 'https://www.yanolja.com/hotel/3012209',\n",
    " 'https://www.yanolja.com/hotel/3011362',\n",
    " 'https://www.yanolja.com/hotel/1000108949',\n",
    " 'https://www.yanolja.com/hotel/3001069',\n",
    " 'https://www.yanolja.com/hotel/3000797',\n",
    " 'https://www.yanolja.com/hotel/3011734',\n",
    " 'https://www.yanolja.com/hotel/3019103',\n",
    " 'https://www.yanolja.com/hotel/3015758',\n",
    " 'https://www.yanolja.com/hotel/1000113045',\n",
    " 'https://www.yanolja.com/hotel/1000102483',\n",
    " 'https://www.yanolja.com/hotel/1000110057',\n",
    " 'https://www.yanolja.com/hotel/3009016',\n",
    " 'https://www.yanolja.com/hotel/1000103516',\n",
    " 'https://www.yanolja.com/hotel/3001270',\n",
    " 'https://www.yanolja.com/hotel/3001239',\n",
    " 'https://www.yanolja.com/hotel/1000095258',\n",
    " 'https://www.yanolja.com/hotel/1000108384',\n",
    " 'https://www.yanolja.com/hotel/3011838',\n",
    " 'https://www.yanolja.com/hotel/1000108254',\n",
    " 'https://www.yanolja.com/hotel/1000105638',\n",
    " 'https://www.yanolja.com/hotel/1000103576',\n",
    " 'https://www.yanolja.com/hotel/3001228',\n",
    " 'https://www.yanolja.com/hotel/3015424',\n",
    " 'https://www.yanolja.com/hotel/1000109874',\n",
    " 'https://www.yanolja.com/hotel/1000101592',\n",
    " 'https://www.yanolja.com/hotel/1000110953',\n",
    " 'https://www.yanolja.com/hotel/3002406',\n",
    " 'https://www.yanolja.com/hotel/3001333',\n",
    " 'https://www.yanolja.com/hotel/3001086',\n",
    " 'https://www.yanolja.com/hotel/3001140',\n",
    " 'https://www.yanolja.com/hotel/3012098',\n",
    " 'https://www.yanolja.com/hotel/3001211',\n",
    " 'https://www.yanolja.com/hotel/3020165',\n",
    " 'https://www.yanolja.com/hotel/3017944',\n",
    " 'https://www.yanolja.com/hotel/1000109372',\n",
    " 'https://www.yanolja.com/hotel/1000110157',\n",
    " 'https://www.yanolja.com/hotel/1000110194',\n",
    " 'https://www.yanolja.com/hotel/1000102154',\n",
    " 'https://www.yanolja.com/hotel/3000975',\n",
    " 'https://www.yanolja.com/hotel/3001596',\n",
    " 'https://www.yanolja.com/hotel/3000779',\n",
    " 'https://www.yanolja.com/hotel/1000111685',\n",
    " 'https://www.yanolja.com/hotel/3009658',\n",
    " 'https://www.yanolja.com/hotel/3009604',\n",
    " 'https://www.yanolja.com/hotel/3001046',\n",
    " 'https://www.yanolja.com/hotel/1000113414',\n",
    " 'https://www.yanolja.com/hotel/1000099624',\n",
    " 'https://www.yanolja.com/hotel/1000099454',\n",
    " 'https://www.yanolja.com/hotel/3014261',\n",
    " 'https://www.yanolja.com/hotel/3001934',\n",
    " 'https://www.yanolja.com/hotel/3010885',\n",
    " 'https://www.yanolja.com/hotel/1000114102',\n",
    " 'https://www.yanolja.com/hotel/1000111601',\n",
    " 'https://www.yanolja.com/hotel/3001073',\n",
    " 'https://www.yanolja.com/hotel/3001001',\n",
    " 'https://www.yanolja.com/hotel/3017630',\n",
    " 'https://www.yanolja.com/hotel/3011147',\n",
    " 'https://www.yanolja.com/hotel/3017048',\n",
    " 'https://www.yanolja.com/hotel/3002229',\n",
    " 'https://www.yanolja.com/hotel/1000111974',\n",
    " 'https://www.yanolja.com/hotel/3001626',\n",
    " 'https://www.yanolja.com/hotel/3000619',\n",
    " 'https://www.yanolja.com/hotel/3001177',\n",
    " 'https://www.yanolja.com/hotel/1000100528',\n",
    " 'https://www.yanolja.com/hotel/1000099457',\n",
    " 'https://www.yanolja.com/hotel/1000113633',\n",
    " 'https://www.yanolja.com/hotel/3001006',\n",
    " 'https://www.yanolja.com/hotel/1000110234',\n",
    " 'https://www.yanolja.com/hotel/1000111960',\n",
    " 'https://www.yanolja.com/hotel/3001305',\n",
    " 'https://www.yanolja.com/hotel/3000840',\n",
    " 'https://www.yanolja.com/hotel/1000100865',\n",
    " 'https://www.yanolja.com/hotel/1000110398',\n",
    " 'https://www.yanolja.com/hotel/1000112890',\n",
    " 'https://www.yanolja.com/hotel/1000109920',\n",
    " 'https://www.yanolja.com/hotel/1000105525']"
   ]
  },
  {
   "cell_type": "code",
   "execution_count": 31,
   "metadata": {},
   "outputs": [
    {
     "output_type": "execute_result",
     "data": {
      "text/plain": [
       "320"
      ]
     },
     "metadata": {},
     "execution_count": 31
    }
   ],
   "source": [
    "len(link_list)"
   ]
  },
  {
   "cell_type": "code",
   "execution_count": 5,
   "metadata": {},
   "outputs": [],
   "source": [
    "my_link = link_list[222:] #맡은 부분 인덱스로 바꿔서 새로운 리스트 만들기!"
   ]
  },
  {
   "cell_type": "code",
   "execution_count": 39,
   "metadata": {},
   "outputs": [
    {
     "output_type": "execute_result",
     "data": {
      "text/plain": [
       "98"
      ]
     },
     "metadata": {},
     "execution_count": 39
    }
   ],
   "source": [
    "len(my_link)"
   ]
  },
  {
   "cell_type": "code",
   "execution_count": 45,
   "metadata": {},
   "outputs": [
    {
     "output_type": "execute_result",
     "data": {
      "text/plain": [
       "15"
      ]
     },
     "metadata": {},
     "execution_count": 45
    }
   ],
   "source": [
    "#없어진 페이지 인덱스 찾기\n",
    "#my_link.index('https://www.yanolja.com/hotel/3014301')\n",
    "#my_link.index('https://www.yanolja.com/hotel/1000111397')"
   ]
  },
  {
   "cell_type": "code",
   "execution_count": 46,
   "metadata": {},
   "outputs": [],
   "source": [
    "#del my_link[7]\n",
    "#del my_link[15]"
   ]
  },
  {
   "source": [
    "### 리뷰 크롤링 코드"
   ],
   "cell_type": "markdown",
   "metadata": {}
  },
  {
   "cell_type": "code",
   "execution_count": 8,
   "metadata": {},
   "outputs": [],
   "source": [
    "def yanolja_crawl(my_link):\n",
    "    global df # 전역 변수를 지역 범위에서 적용\n",
    "    driver.get(my_link)\n",
    "\n",
    "    hotel = driver.find_element_by_css_selector('section.PlaceDetailTitle_titleContainer__3sGdf h1').text\n",
    "\n",
    "    # 리뷰 페이지 클릭 (Click review page)\n",
    "    driver.find_element_by_css_selector('section.PlaceDetailTitle_titleContainer__3sGdf > a').click()\n",
    "\n",
    "    # 무한 스크롤\n",
    "    import time\n",
    "    time.sleep(1)\n",
    "\n",
    "    SCROLL_PAUSE_TIME = 1.5\n",
    "\n",
    "    # Get scroll height\n",
    "    last_height = driver.execute_script(\"return document.body.scrollHeight\")\n",
    "\n",
    "    while True:\n",
    "        # Scroll down to bottom\n",
    "        driver.execute_script(\"window.scrollTo(0, document.body.scrollHeight);\")\n",
    "\n",
    "        # Wait to load page\n",
    "        time.sleep(SCROLL_PAUSE_TIME)\n",
    "        driver.execute_script(\"window.scrollTo(0, document.body.scrollHeight-50);\")\n",
    "        time.sleep(SCROLL_PAUSE_TIME)\n",
    "\n",
    "        # Calculate new scroll height and compare with last scroll height\n",
    "        new_height = driver.execute_script(\"return document.body.scrollHeight\")\n",
    "\n",
    "        if new_height == last_height:\n",
    "            break\n",
    "\n",
    "        last_height = new_height\n",
    "\n",
    "    # 스크롤 끝나고 페이지 elements 가져오기\n",
    "    raw = driver.page_source # 페이지의 elements 모두 가져오기\n",
    "    html = BeautifulSoup(raw, \"html.parser\")\n",
    "\n",
    "    # 리뷰 텍스트 선택자: div.item-wrap\n",
    "    reviews = html.select(\"div.item-wrap\")\n",
    "\n",
    "    columns = ['hotel', 'star', 'review']\n",
    "\n",
    "    for r in reviews:\n",
    "        review = r.select_one(\"p\")\n",
    "        stars = r.select('.container.score')\n",
    "        for s in stars:\n",
    "            star_count = 5 - len(s.select(\".ico.gray\"))\n",
    "\n",
    "        df = df.append(pd.DataFrame([[hotel, star_count, review.text]], columns = columns),\n",
    "                       ignore_index=True)"
   ]
  },
  {
   "cell_type": "code",
   "execution_count": 9,
   "metadata": {},
   "outputs": [],
   "source": [
    "columns = ['hotel', 'star', 'review']\n",
    "df = pd.DataFrame(columns = columns) # 데이터프레임 생성"
   ]
  },
  {
   "cell_type": "code",
   "execution_count": 12,
   "metadata": {},
   "outputs": [],
   "source": [
    "driver = webdriver.Chrome('/Temp/chromedriver')\n",
    "a = 0\n",
    "retry=[]\n",
    "for url in my_link:\n",
    "    try:\n",
    "        yanolja_crawl(url)\n",
    "        \n",
    "        if a % 10 == 0:\n",
    "            df.to_csv(f'hotel_review_{a}th.csv',index=False, encoding='utf-8-sig')\n",
    "        a += 1\n",
    "    except:\n",
    "        retry.append(url)\n",
    "\n",
    "driver.close()"
   ]
  },
  {
   "source": [
    "### csv파일 합치기"
   ],
   "cell_type": "markdown",
   "metadata": {}
  },
  {
   "cell_type": "code",
   "execution_count": 41,
   "metadata": {},
   "outputs": [
    {
     "output_type": "execute_result",
     "data": {
      "text/plain": [
       "['hotel_review_0th.csv',\n",
       " 'hotel_review_10th.csv',\n",
       " 'hotel_review_20th.csv',\n",
       " 'hotel_review_30th.csv',\n",
       " 'hotel_review_40th.csv',\n",
       " 'hotel_review_50th.csv',\n",
       " 'hotel_review_60th.csv',\n",
       " 'hotel_review_70th.csv',\n",
       " 'hotel_review_80th.csv',\n",
       " 'hotel_review_90th.csv']"
      ]
     },
     "metadata": {},
     "execution_count": 41
    }
   ],
   "source": [
    "import os\n",
    "os.listdir('C:/workspace/DeepLearning/05_Project/data')"
   ]
  },
  {
   "source": [
    "-------------------------------------"
   ],
   "cell_type": "markdown",
   "metadata": {}
  },
  {
   "cell_type": "code",
   "execution_count": 42,
   "metadata": {},
   "outputs": [
    {
     "output_type": "stream",
     "name": "stdout",
     "text": [
      "['C:/workspace/DeepLearning/05_Project/data\\\\hotel_review_0th.csv', 'C:/workspace/DeepLearning/05_Project/data\\\\hotel_review_10th.csv', 'C:/workspace/DeepLearning/05_Project/data\\\\hotel_review_20th.csv', 'C:/workspace/DeepLearning/05_Project/data\\\\hotel_review_30th.csv', 'C:/workspace/DeepLearning/05_Project/data\\\\hotel_review_40th.csv', 'C:/workspace/DeepLearning/05_Project/data\\\\hotel_review_50th.csv', 'C:/workspace/DeepLearning/05_Project/data\\\\hotel_review_60th.csv', 'C:/workspace/DeepLearning/05_Project/data\\\\hotel_review_70th.csv', 'C:/workspace/DeepLearning/05_Project/data\\\\hotel_review_80th.csv', 'C:/workspace/DeepLearning/05_Project/data\\\\hotel_review_90th.csv']\n"
     ]
    }
   ],
   "source": [
    "import pandas as pd\n",
    "import glob\n",
    "import os\n",
    "\n",
    "input_file = r'C:/workspace/DeepLearning/05_Project/data' # csv파일들이 있는 디렉토리 위치\n",
    "output_file = r'C:/workspace/DeepLearning/05_Project/data/result.csv' # 병합하고 저장하려는 파일명\n",
    "\n",
    "allFile_list = glob.glob(os.path.join(input_file, 'hotel_*')) # glob함수로 sales_로 시작하는 파일들을 모은다\n",
    "print(allFile_list)\n",
    "allData = [] # 읽어 들인 csv파일 내용을 저장할 빈 리스트를 하나 만든다\n",
    "for file in allFile_list:\n",
    "    df = pd.read_csv(file) # for구문으로 csv파일들을 읽어 들인다\n",
    "    allData.append(df) # 빈 리스트에 읽어 들인 내용을 추가한다\n",
    "\n",
    "dataCombine = pd.concat(allData, axis=0, ignore_index=True) # concat함수를 이용해서 리스트의 내용을 병합\n",
    "# axis=0은 수직으로 병합함. axis=1은 수평. ignore_index=True는 인데스 값이 기존 순서를 무시하고 순서대로 정렬되도록 한다.\n",
    "dataCombine.to_csv(output_file, index=False,encoding ='utf-8-sig') # to_csv함수로 저장한다. 인데스를 빼려면 False로 설정"
   ]
  },
  {
   "source": [
    "## 전처리 "
   ],
   "cell_type": "markdown",
   "metadata": {}
  },
  {
   "cell_type": "code",
   "execution_count": 43,
   "metadata": {},
   "outputs": [],
   "source": [
    "import pandas as pd"
   ]
  },
  {
   "cell_type": "code",
   "execution_count": 2,
   "metadata": {},
   "outputs": [],
   "source": [
    "df1 = pd.read_csv('data/result.csv')"
   ]
  },
  {
   "cell_type": "code",
   "execution_count": 3,
   "metadata": {},
   "outputs": [
    {
     "output_type": "stream",
     "name": "stdout",
     "text": [
      "<class 'pandas.core.frame.DataFrame'>\nRangeIndex: 44934 entries, 0 to 44933\nData columns (total 3 columns):\n #   Column  Non-Null Count  Dtype \n---  ------  --------------  ----- \n 0   hotel   44934 non-null  object\n 1   star    44934 non-null  int64 \n 2   review  44925 non-null  object\ndtypes: int64(1), object(2)\nmemory usage: 1.0+ MB\n"
     ]
    }
   ],
   "source": [
    "df1.info()"
   ]
  },
  {
   "cell_type": "code",
   "execution_count": 4,
   "metadata": {},
   "outputs": [],
   "source": [
    "df2 = pd.read_csv('data/result2.csv')"
   ]
  },
  {
   "cell_type": "code",
   "execution_count": 5,
   "metadata": {},
   "outputs": [
    {
     "output_type": "stream",
     "name": "stdout",
     "text": [
      "<class 'pandas.core.frame.DataFrame'>\nRangeIndex: 48781 entries, 0 to 48780\nData columns (total 3 columns):\n #   Column  Non-Null Count  Dtype \n---  ------  --------------  ----- \n 0   hotel   48781 non-null  object\n 1   star    48781 non-null  int64 \n 2   review  48781 non-null  object\ndtypes: int64(1), object(2)\nmemory usage: 1.1+ MB\n"
     ]
    }
   ],
   "source": [
    "df2.info()"
   ]
  },
  {
   "cell_type": "code",
   "execution_count": 6,
   "metadata": {},
   "outputs": [
    {
     "output_type": "stream",
     "name": "stdout",
     "text": [
      "<class 'pandas.core.frame.DataFrame'>\nInt64Index: 93715 entries, 0 to 48780\nData columns (total 3 columns):\n #   Column  Non-Null Count  Dtype \n---  ------  --------------  ----- \n 0   hotel   93715 non-null  object\n 1   star    93715 non-null  int64 \n 2   review  93706 non-null  object\ndtypes: int64(1), object(2)\nmemory usage: 2.9+ MB\n"
     ]
    }
   ],
   "source": [
    "df = pd.concat([df1, df2])\n",
    "df.info()"
   ]
  },
  {
   "cell_type": "code",
   "execution_count": 7,
   "metadata": {},
   "outputs": [
    {
     "output_type": "execute_result",
     "data": {
      "text/plain": [
       "hotel     0\n",
       "star      0\n",
       "review    9\n",
       "dtype: int64"
      ]
     },
     "metadata": {},
     "execution_count": 7
    }
   ],
   "source": [
    "# 결측치 확인\n",
    "df.isnull().sum()"
   ]
  },
  {
   "cell_type": "code",
   "execution_count": 8,
   "metadata": {},
   "outputs": [],
   "source": [
    "# 결측치 삭제\n",
    "df = df.dropna(axis=0)"
   ]
  },
  {
   "cell_type": "code",
   "execution_count": 9,
   "metadata": {},
   "outputs": [
    {
     "output_type": "stream",
     "name": "stdout",
     "text": [
      "<class 'pandas.core.frame.DataFrame'>\nInt64Index: 93706 entries, 0 to 48780\nData columns (total 3 columns):\n #   Column  Non-Null Count  Dtype \n---  ------  --------------  ----- \n 0   hotel   93706 non-null  object\n 1   star    93706 non-null  int64 \n 2   review  93706 non-null  object\ndtypes: int64(1), object(2)\nmemory usage: 2.9+ MB\n"
     ]
    }
   ],
   "source": [
    "df.info()"
   ]
  },
  {
   "cell_type": "code",
   "execution_count": 10,
   "metadata": {},
   "outputs": [
    {
     "output_type": "execute_result",
     "data": {
      "text/plain": [
       "10675"
      ]
     },
     "metadata": {},
     "execution_count": 10
    }
   ],
   "source": [
    "# 데이터 중복 여부 확인\n",
    "df.review.nunique()"
   ]
  },
  {
   "cell_type": "code",
   "execution_count": 11,
   "metadata": {},
   "outputs": [],
   "source": [
    "df = df.drop_duplicates('review', keep='first')"
   ]
  },
  {
   "cell_type": "code",
   "execution_count": 12,
   "metadata": {},
   "outputs": [
    {
     "output_type": "execute_result",
     "data": {
      "text/plain": [
       "10675"
      ]
     },
     "metadata": {},
     "execution_count": 12
    }
   ],
   "source": [
    "len(df.review.values)"
   ]
  },
  {
   "cell_type": "code",
   "execution_count": 40,
   "metadata": {},
   "outputs": [
    {
     "output_type": "stream",
     "name": "stderr",
     "text": [
      "<ipython-input-40-1787b7411387>:2: FutureWarning: The default value of regex will change from True to False in a future version.\n  df['review'] = df.review.str.replace('[^ㄱ-ㅎㅏ-ㅣ가-힣0-9 ]', '')\n"
     ]
    }
   ],
   "source": [
    "# 한글과 공백 이외는 제거\n",
    "df['review'] = df.review.str.replace('[^ㄱ-ㅎㅏ-ㅣ가-힣0-9 ]', '')"
   ]
  },
  {
   "cell_type": "code",
   "execution_count": 41,
   "metadata": {},
   "outputs": [
    {
     "output_type": "execute_result",
     "data": {
      "text/plain": [
       "10"
      ]
     },
     "metadata": {},
     "execution_count": 41
    }
   ],
   "source": [
    "df['review'].replace('', np.nan, inplace=True)\n",
    "df.review.isnull().sum()"
   ]
  },
  {
   "cell_type": "code",
   "execution_count": 42,
   "metadata": {},
   "outputs": [
    {
     "output_type": "execute_result",
     "data": {
      "text/plain": [
       "(7636, 4)"
      ]
     },
     "metadata": {},
     "execution_count": 42
    }
   ],
   "source": [
    "df = df.dropna(how='any')\n",
    "df.shape"
   ]
  },
  {
   "cell_type": "code",
   "execution_count": 13,
   "metadata": {},
   "outputs": [
    {
     "output_type": "execute_result",
     "data": {
      "text/plain": [
       "        hotel  star                                             review  length\n",
       "0  호텔 8 Hours     5  깨끗하고 위치도 좋고 가성비 좋았습니다.\\n다만 비품이 거의 없다고 보면되서 챙겨가...      49\n",
       "1  호텔 8 Hours     4                                  너무 좋아요! 잘 머물다 갑니다      17\n",
       "2  호텔 8 Hours     5                                         적당히 잘쉬다 가요      10"
      ],
      "text/html": "<div>\n<style scoped>\n    .dataframe tbody tr th:only-of-type {\n        vertical-align: middle;\n    }\n\n    .dataframe tbody tr th {\n        vertical-align: top;\n    }\n\n    .dataframe thead th {\n        text-align: right;\n    }\n</style>\n<table border=\"1\" class=\"dataframe\">\n  <thead>\n    <tr style=\"text-align: right;\">\n      <th></th>\n      <th>hotel</th>\n      <th>star</th>\n      <th>review</th>\n      <th>length</th>\n    </tr>\n  </thead>\n  <tbody>\n    <tr>\n      <th>0</th>\n      <td>호텔 8 Hours</td>\n      <td>5</td>\n      <td>깨끗하고 위치도 좋고 가성비 좋았습니다.\\n다만 비품이 거의 없다고 보면되서 챙겨가...</td>\n      <td>49</td>\n    </tr>\n    <tr>\n      <th>1</th>\n      <td>호텔 8 Hours</td>\n      <td>4</td>\n      <td>너무 좋아요! 잘 머물다 갑니다</td>\n      <td>17</td>\n    </tr>\n    <tr>\n      <th>2</th>\n      <td>호텔 8 Hours</td>\n      <td>5</td>\n      <td>적당히 잘쉬다 가요</td>\n      <td>10</td>\n    </tr>\n  </tbody>\n</table>\n</div>"
     },
     "metadata": {},
     "execution_count": 13
    }
   ],
   "source": [
    "# length 컬럼 추가\n",
    "df['length'] = df['review'].apply(lambda x: len(str(x)))\n",
    "df['review'] = df['review'].astype('str')\n",
    "df.head(3)"
   ]
  },
  {
   "cell_type": "code",
   "execution_count": 14,
   "metadata": {},
   "outputs": [],
   "source": [
    "import matplotlib.pyplot as plt \n",
    "%matplotlib inline"
   ]
  },
  {
   "cell_type": "code",
   "execution_count": 15,
   "metadata": {},
   "outputs": [
    {
     "output_type": "display_data",
     "data": {
      "text/plain": "<Figure size 432x288 with 1 Axes>",
      "image/svg+xml": "<?xml version=\"1.0\" encoding=\"utf-8\" standalone=\"no\"?>\r\n<!DOCTYPE svg PUBLIC \"-//W3C//DTD SVG 1.1//EN\"\r\n  \"http://www.w3.org/Graphics/SVG/1.1/DTD/svg11.dtd\">\r\n<!-- Created with matplotlib (https://matplotlib.org/) -->\r\n<svg height=\"248.518125pt\" version=\"1.1\" viewBox=\"0 0 395.598776 248.518125\" width=\"395.598776pt\" xmlns=\"http://www.w3.org/2000/svg\" xmlns:xlink=\"http://www.w3.org/1999/xlink\">\r\n <metadata>\r\n  <rdf:RDF xmlns:cc=\"http://creativecommons.org/ns#\" xmlns:dc=\"http://purl.org/dc/elements/1.1/\" xmlns:rdf=\"http://www.w3.org/1999/02/22-rdf-syntax-ns#\">\r\n   <cc:Work>\r\n    <dc:type rdf:resource=\"http://purl.org/dc/dcmitype/StillImage\"/>\r\n    <dc:date>2021-07-12T16:58:44.586055</dc:date>\r\n    <dc:format>image/svg+xml</dc:format>\r\n    <dc:creator>\r\n     <cc:Agent>\r\n      <dc:title>Matplotlib v3.3.4, https://matplotlib.org/</dc:title>\r\n     </cc:Agent>\r\n    </dc:creator>\r\n   </cc:Work>\r\n  </rdf:RDF>\r\n </metadata>\r\n <defs>\r\n  <style type=\"text/css\">*{stroke-linecap:butt;stroke-linejoin:round;}</style>\r\n </defs>\r\n <g id=\"figure_1\">\r\n  <g id=\"patch_1\">\r\n   <path d=\"M 0 248.518125 \r\nL 395.598776 248.518125 \r\nL 395.598776 0 \r\nL 0 0 \r\nz\r\n\" style=\"fill:none;\"/>\r\n  </g>\r\n  <g id=\"axes_1\">\r\n   <g id=\"patch_2\">\r\n    <path d=\"M 46.0125 224.64 \r\nL 380.8125 224.64 \r\nL 380.8125 7.2 \r\nL 46.0125 7.2 \r\nz\r\n\" style=\"fill:#ffffff;\"/>\r\n   </g>\r\n   <g id=\"patch_3\">\r\n    <path clip-path=\"url(#p0f4fb808cb)\" d=\"M 61.230682 224.64 \r\nL 91.667045 224.64 \r\nL 91.667045 17.554286 \r\nL 61.230682 17.554286 \r\nz\r\n\" style=\"fill:#1f77b4;\"/>\r\n   </g>\r\n   <g id=\"patch_4\">\r\n    <path clip-path=\"url(#p0f4fb808cb)\" d=\"M 91.667045 224.64 \r\nL 122.103409 224.64 \r\nL 122.103409 219.431304 \r\nL 91.667045 219.431304 \r\nz\r\n\" style=\"fill:#1f77b4;\"/>\r\n   </g>\r\n   <g id=\"patch_5\">\r\n    <path clip-path=\"url(#p0f4fb808cb)\" d=\"M 122.103409 224.64 \r\nL 152.539773 224.64 \r\nL 152.539773 223.558194 \r\nL 122.103409 223.558194 \r\nz\r\n\" style=\"fill:#1f77b4;\"/>\r\n   </g>\r\n   <g id=\"patch_6\">\r\n    <path clip-path=\"url(#p0f4fb808cb)\" d=\"M 152.539773 224.64 \r\nL 182.976136 224.64 \r\nL 182.976136 224.379565 \r\nL 152.539773 224.379565 \r\nz\r\n\" style=\"fill:#1f77b4;\"/>\r\n   </g>\r\n   <g id=\"patch_7\">\r\n    <path clip-path=\"url(#p0f4fb808cb)\" d=\"M 182.976136 224.64 \r\nL 213.4125 224.64 \r\nL 213.4125 224.559866 \r\nL 182.976136 224.559866 \r\nz\r\n\" style=\"fill:#1f77b4;\"/>\r\n   </g>\r\n   <g id=\"patch_8\">\r\n    <path clip-path=\"url(#p0f4fb808cb)\" d=\"M 213.4125 224.64 \r\nL 243.848864 224.64 \r\nL 243.848864 224.5799 \r\nL 213.4125 224.5799 \r\nz\r\n\" style=\"fill:#1f77b4;\"/>\r\n   </g>\r\n   <g id=\"patch_9\">\r\n    <path clip-path=\"url(#p0f4fb808cb)\" d=\"M 243.848864 224.64 \r\nL 274.285227 224.64 \r\nL 274.285227 224.64 \r\nL 243.848864 224.64 \r\nz\r\n\" style=\"fill:#1f77b4;\"/>\r\n   </g>\r\n   <g id=\"patch_10\">\r\n    <path clip-path=\"url(#p0f4fb808cb)\" d=\"M 274.285227 224.64 \r\nL 304.721591 224.64 \r\nL 304.721591 224.619967 \r\nL 274.285227 224.619967 \r\nz\r\n\" style=\"fill:#1f77b4;\"/>\r\n   </g>\r\n   <g id=\"patch_11\">\r\n    <path clip-path=\"url(#p0f4fb808cb)\" d=\"M 304.721591 224.64 \r\nL 335.157955 224.64 \r\nL 335.157955 224.619967 \r\nL 304.721591 224.619967 \r\nz\r\n\" style=\"fill:#1f77b4;\"/>\r\n   </g>\r\n   <g id=\"patch_12\">\r\n    <path clip-path=\"url(#p0f4fb808cb)\" d=\"M 335.157955 224.64 \r\nL 365.594318 224.64 \r\nL 365.594318 224.599933 \r\nL 335.157955 224.599933 \r\nz\r\n\" style=\"fill:#1f77b4;\"/>\r\n   </g>\r\n   <g id=\"matplotlib.axis_1\">\r\n    <g id=\"xtick_1\">\r\n     <g id=\"line2d_1\">\r\n      <defs>\r\n       <path d=\"M 0 0 \r\nL 0 3.5 \r\n\" id=\"mbb8df11a4b\" style=\"stroke:#000000;stroke-width:0.8;\"/>\r\n      </defs>\r\n      <g>\r\n       <use style=\"stroke:#000000;stroke-width:0.8;\" x=\"60.690711\" xlink:href=\"#mbb8df11a4b\" y=\"224.64\"/>\r\n      </g>\r\n     </g>\r\n     <g id=\"text_1\">\r\n      <!-- 0 -->\r\n      <g transform=\"translate(57.509461 239.238438)scale(0.1 -0.1)\">\r\n       <defs>\r\n        <path d=\"M 31.78125 66.40625 \r\nQ 24.171875 66.40625 20.328125 58.90625 \r\nQ 16.5 51.421875 16.5 36.375 \r\nQ 16.5 21.390625 20.328125 13.890625 \r\nQ 24.171875 6.390625 31.78125 6.390625 \r\nQ 39.453125 6.390625 43.28125 13.890625 \r\nQ 47.125 21.390625 47.125 36.375 \r\nQ 47.125 51.421875 43.28125 58.90625 \r\nQ 39.453125 66.40625 31.78125 66.40625 \r\nz\r\nM 31.78125 74.21875 \r\nQ 44.046875 74.21875 50.515625 64.515625 \r\nQ 56.984375 54.828125 56.984375 36.375 \r\nQ 56.984375 17.96875 50.515625 8.265625 \r\nQ 44.046875 -1.421875 31.78125 -1.421875 \r\nQ 19.53125 -1.421875 13.0625 8.265625 \r\nQ 6.59375 17.96875 6.59375 36.375 \r\nQ 6.59375 54.828125 13.0625 64.515625 \r\nQ 19.53125 74.21875 31.78125 74.21875 \r\nz\r\n\" id=\"DejaVuSans-48\"/>\r\n       </defs>\r\n       <use xlink:href=\"#DejaVuSans-48\"/>\r\n      </g>\r\n     </g>\r\n    </g>\r\n    <g id=\"xtick_2\">\r\n     <g id=\"line2d_2\">\r\n      <g>\r\n       <use style=\"stroke:#000000;stroke-width:0.8;\" x=\"105.688292\" xlink:href=\"#mbb8df11a4b\" y=\"224.64\"/>\r\n      </g>\r\n     </g>\r\n     <g id=\"text_2\">\r\n      <!-- 250 -->\r\n      <g transform=\"translate(96.144542 239.238438)scale(0.1 -0.1)\">\r\n       <defs>\r\n        <path d=\"M 19.1875 8.296875 \r\nL 53.609375 8.296875 \r\nL 53.609375 0 \r\nL 7.328125 0 \r\nL 7.328125 8.296875 \r\nQ 12.9375 14.109375 22.625 23.890625 \r\nQ 32.328125 33.6875 34.8125 36.53125 \r\nQ 39.546875 41.84375 41.421875 45.53125 \r\nQ 43.3125 49.21875 43.3125 52.78125 \r\nQ 43.3125 58.59375 39.234375 62.25 \r\nQ 35.15625 65.921875 28.609375 65.921875 \r\nQ 23.96875 65.921875 18.8125 64.3125 \r\nQ 13.671875 62.703125 7.8125 59.421875 \r\nL 7.8125 69.390625 \r\nQ 13.765625 71.78125 18.9375 73 \r\nQ 24.125 74.21875 28.421875 74.21875 \r\nQ 39.75 74.21875 46.484375 68.546875 \r\nQ 53.21875 62.890625 53.21875 53.421875 \r\nQ 53.21875 48.921875 51.53125 44.890625 \r\nQ 49.859375 40.875 45.40625 35.40625 \r\nQ 44.1875 33.984375 37.640625 27.21875 \r\nQ 31.109375 20.453125 19.1875 8.296875 \r\nz\r\n\" id=\"DejaVuSans-50\"/>\r\n        <path d=\"M 10.796875 72.90625 \r\nL 49.515625 72.90625 \r\nL 49.515625 64.59375 \r\nL 19.828125 64.59375 \r\nL 19.828125 46.734375 \r\nQ 21.96875 47.46875 24.109375 47.828125 \r\nQ 26.265625 48.1875 28.421875 48.1875 \r\nQ 40.625 48.1875 47.75 41.5 \r\nQ 54.890625 34.8125 54.890625 23.390625 \r\nQ 54.890625 11.625 47.5625 5.09375 \r\nQ 40.234375 -1.421875 26.90625 -1.421875 \r\nQ 22.3125 -1.421875 17.546875 -0.640625 \r\nQ 12.796875 0.140625 7.71875 1.703125 \r\nL 7.71875 11.625 \r\nQ 12.109375 9.234375 16.796875 8.0625 \r\nQ 21.484375 6.890625 26.703125 6.890625 \r\nQ 35.15625 6.890625 40.078125 11.328125 \r\nQ 45.015625 15.765625 45.015625 23.390625 \r\nQ 45.015625 31 40.078125 35.4375 \r\nQ 35.15625 39.890625 26.703125 39.890625 \r\nQ 22.75 39.890625 18.8125 39.015625 \r\nQ 14.890625 38.140625 10.796875 36.28125 \r\nz\r\n\" id=\"DejaVuSans-53\"/>\r\n       </defs>\r\n       <use xlink:href=\"#DejaVuSans-50\"/>\r\n       <use x=\"63.623047\" xlink:href=\"#DejaVuSans-53\"/>\r\n       <use x=\"127.246094\" xlink:href=\"#DejaVuSans-48\"/>\r\n      </g>\r\n     </g>\r\n    </g>\r\n    <g id=\"xtick_3\">\r\n     <g id=\"line2d_3\">\r\n      <g>\r\n       <use style=\"stroke:#000000;stroke-width:0.8;\" x=\"150.685872\" xlink:href=\"#mbb8df11a4b\" y=\"224.64\"/>\r\n      </g>\r\n     </g>\r\n     <g id=\"text_3\">\r\n      <!-- 500 -->\r\n      <g transform=\"translate(141.142122 239.238438)scale(0.1 -0.1)\">\r\n       <use xlink:href=\"#DejaVuSans-53\"/>\r\n       <use x=\"63.623047\" xlink:href=\"#DejaVuSans-48\"/>\r\n       <use x=\"127.246094\" xlink:href=\"#DejaVuSans-48\"/>\r\n      </g>\r\n     </g>\r\n    </g>\r\n    <g id=\"xtick_4\">\r\n     <g id=\"line2d_4\">\r\n      <g>\r\n       <use style=\"stroke:#000000;stroke-width:0.8;\" x=\"195.683453\" xlink:href=\"#mbb8df11a4b\" y=\"224.64\"/>\r\n      </g>\r\n     </g>\r\n     <g id=\"text_4\">\r\n      <!-- 750 -->\r\n      <g transform=\"translate(186.139703 239.238438)scale(0.1 -0.1)\">\r\n       <defs>\r\n        <path d=\"M 8.203125 72.90625 \r\nL 55.078125 72.90625 \r\nL 55.078125 68.703125 \r\nL 28.609375 0 \r\nL 18.3125 0 \r\nL 43.21875 64.59375 \r\nL 8.203125 64.59375 \r\nz\r\n\" id=\"DejaVuSans-55\"/>\r\n       </defs>\r\n       <use xlink:href=\"#DejaVuSans-55\"/>\r\n       <use x=\"63.623047\" xlink:href=\"#DejaVuSans-53\"/>\r\n       <use x=\"127.246094\" xlink:href=\"#DejaVuSans-48\"/>\r\n      </g>\r\n     </g>\r\n    </g>\r\n    <g id=\"xtick_5\">\r\n     <g id=\"line2d_5\">\r\n      <g>\r\n       <use style=\"stroke:#000000;stroke-width:0.8;\" x=\"240.681034\" xlink:href=\"#mbb8df11a4b\" y=\"224.64\"/>\r\n      </g>\r\n     </g>\r\n     <g id=\"text_5\">\r\n      <!-- 1000 -->\r\n      <g transform=\"translate(227.956034 239.238438)scale(0.1 -0.1)\">\r\n       <defs>\r\n        <path d=\"M 12.40625 8.296875 \r\nL 28.515625 8.296875 \r\nL 28.515625 63.921875 \r\nL 10.984375 60.40625 \r\nL 10.984375 69.390625 \r\nL 28.421875 72.90625 \r\nL 38.28125 72.90625 \r\nL 38.28125 8.296875 \r\nL 54.390625 8.296875 \r\nL 54.390625 0 \r\nL 12.40625 0 \r\nz\r\n\" id=\"DejaVuSans-49\"/>\r\n       </defs>\r\n       <use xlink:href=\"#DejaVuSans-49\"/>\r\n       <use x=\"63.623047\" xlink:href=\"#DejaVuSans-48\"/>\r\n       <use x=\"127.246094\" xlink:href=\"#DejaVuSans-48\"/>\r\n       <use x=\"190.869141\" xlink:href=\"#DejaVuSans-48\"/>\r\n      </g>\r\n     </g>\r\n    </g>\r\n    <g id=\"xtick_6\">\r\n     <g id=\"line2d_6\">\r\n      <g>\r\n       <use style=\"stroke:#000000;stroke-width:0.8;\" x=\"285.678615\" xlink:href=\"#mbb8df11a4b\" y=\"224.64\"/>\r\n      </g>\r\n     </g>\r\n     <g id=\"text_6\">\r\n      <!-- 1250 -->\r\n      <g transform=\"translate(272.953615 239.238438)scale(0.1 -0.1)\">\r\n       <use xlink:href=\"#DejaVuSans-49\"/>\r\n       <use x=\"63.623047\" xlink:href=\"#DejaVuSans-50\"/>\r\n       <use x=\"127.246094\" xlink:href=\"#DejaVuSans-53\"/>\r\n       <use x=\"190.869141\" xlink:href=\"#DejaVuSans-48\"/>\r\n      </g>\r\n     </g>\r\n    </g>\r\n    <g id=\"xtick_7\">\r\n     <g id=\"line2d_7\">\r\n      <g>\r\n       <use style=\"stroke:#000000;stroke-width:0.8;\" x=\"330.676196\" xlink:href=\"#mbb8df11a4b\" y=\"224.64\"/>\r\n      </g>\r\n     </g>\r\n     <g id=\"text_7\">\r\n      <!-- 1500 -->\r\n      <g transform=\"translate(317.951196 239.238438)scale(0.1 -0.1)\">\r\n       <use xlink:href=\"#DejaVuSans-49\"/>\r\n       <use x=\"63.623047\" xlink:href=\"#DejaVuSans-53\"/>\r\n       <use x=\"127.246094\" xlink:href=\"#DejaVuSans-48\"/>\r\n       <use x=\"190.869141\" xlink:href=\"#DejaVuSans-48\"/>\r\n      </g>\r\n     </g>\r\n    </g>\r\n    <g id=\"xtick_8\">\r\n     <g id=\"line2d_8\">\r\n      <g>\r\n       <use style=\"stroke:#000000;stroke-width:0.8;\" x=\"375.673776\" xlink:href=\"#mbb8df11a4b\" y=\"224.64\"/>\r\n      </g>\r\n     </g>\r\n     <g id=\"text_8\">\r\n      <!-- 1750 -->\r\n      <g transform=\"translate(362.948776 239.238438)scale(0.1 -0.1)\">\r\n       <use xlink:href=\"#DejaVuSans-49\"/>\r\n       <use x=\"63.623047\" xlink:href=\"#DejaVuSans-55\"/>\r\n       <use x=\"127.246094\" xlink:href=\"#DejaVuSans-53\"/>\r\n       <use x=\"190.869141\" xlink:href=\"#DejaVuSans-48\"/>\r\n      </g>\r\n     </g>\r\n    </g>\r\n   </g>\r\n   <g id=\"matplotlib.axis_2\">\r\n    <g id=\"ytick_1\">\r\n     <g id=\"line2d_9\">\r\n      <defs>\r\n       <path d=\"M 0 0 \r\nL -3.5 0 \r\n\" id=\"m9eb6dbf891\" style=\"stroke:#000000;stroke-width:0.8;\"/>\r\n      </defs>\r\n      <g>\r\n       <use style=\"stroke:#000000;stroke-width:0.8;\" x=\"46.0125\" xlink:href=\"#m9eb6dbf891\" y=\"224.64\"/>\r\n      </g>\r\n     </g>\r\n     <g id=\"text_9\">\r\n      <!-- 0 -->\r\n      <g transform=\"translate(32.65 228.439219)scale(0.1 -0.1)\">\r\n       <use xlink:href=\"#DejaVuSans-48\"/>\r\n      </g>\r\n     </g>\r\n    </g>\r\n    <g id=\"ytick_2\">\r\n     <g id=\"line2d_10\">\r\n      <g>\r\n       <use style=\"stroke:#000000;stroke-width:0.8;\" x=\"46.0125\" xlink:href=\"#m9eb6dbf891\" y=\"184.573111\"/>\r\n      </g>\r\n     </g>\r\n     <g id=\"text_10\">\r\n      <!-- 2000 -->\r\n      <g transform=\"translate(13.5625 188.37233)scale(0.1 -0.1)\">\r\n       <use xlink:href=\"#DejaVuSans-50\"/>\r\n       <use x=\"63.623047\" xlink:href=\"#DejaVuSans-48\"/>\r\n       <use x=\"127.246094\" xlink:href=\"#DejaVuSans-48\"/>\r\n       <use x=\"190.869141\" xlink:href=\"#DejaVuSans-48\"/>\r\n      </g>\r\n     </g>\r\n    </g>\r\n    <g id=\"ytick_3\">\r\n     <g id=\"line2d_11\">\r\n      <g>\r\n       <use style=\"stroke:#000000;stroke-width:0.8;\" x=\"46.0125\" xlink:href=\"#m9eb6dbf891\" y=\"144.506223\"/>\r\n      </g>\r\n     </g>\r\n     <g id=\"text_11\">\r\n      <!-- 4000 -->\r\n      <g transform=\"translate(13.5625 148.305441)scale(0.1 -0.1)\">\r\n       <defs>\r\n        <path d=\"M 37.796875 64.3125 \r\nL 12.890625 25.390625 \r\nL 37.796875 25.390625 \r\nz\r\nM 35.203125 72.90625 \r\nL 47.609375 72.90625 \r\nL 47.609375 25.390625 \r\nL 58.015625 25.390625 \r\nL 58.015625 17.1875 \r\nL 47.609375 17.1875 \r\nL 47.609375 0 \r\nL 37.796875 0 \r\nL 37.796875 17.1875 \r\nL 4.890625 17.1875 \r\nL 4.890625 26.703125 \r\nz\r\n\" id=\"DejaVuSans-52\"/>\r\n       </defs>\r\n       <use xlink:href=\"#DejaVuSans-52\"/>\r\n       <use x=\"63.623047\" xlink:href=\"#DejaVuSans-48\"/>\r\n       <use x=\"127.246094\" xlink:href=\"#DejaVuSans-48\"/>\r\n       <use x=\"190.869141\" xlink:href=\"#DejaVuSans-48\"/>\r\n      </g>\r\n     </g>\r\n    </g>\r\n    <g id=\"ytick_4\">\r\n     <g id=\"line2d_12\">\r\n      <g>\r\n       <use style=\"stroke:#000000;stroke-width:0.8;\" x=\"46.0125\" xlink:href=\"#m9eb6dbf891\" y=\"104.439334\"/>\r\n      </g>\r\n     </g>\r\n     <g id=\"text_12\">\r\n      <!-- 6000 -->\r\n      <g transform=\"translate(13.5625 108.238553)scale(0.1 -0.1)\">\r\n       <defs>\r\n        <path d=\"M 33.015625 40.375 \r\nQ 26.375 40.375 22.484375 35.828125 \r\nQ 18.609375 31.296875 18.609375 23.390625 \r\nQ 18.609375 15.53125 22.484375 10.953125 \r\nQ 26.375 6.390625 33.015625 6.390625 \r\nQ 39.65625 6.390625 43.53125 10.953125 \r\nQ 47.40625 15.53125 47.40625 23.390625 \r\nQ 47.40625 31.296875 43.53125 35.828125 \r\nQ 39.65625 40.375 33.015625 40.375 \r\nz\r\nM 52.59375 71.296875 \r\nL 52.59375 62.3125 \r\nQ 48.875 64.0625 45.09375 64.984375 \r\nQ 41.3125 65.921875 37.59375 65.921875 \r\nQ 27.828125 65.921875 22.671875 59.328125 \r\nQ 17.53125 52.734375 16.796875 39.40625 \r\nQ 19.671875 43.65625 24.015625 45.921875 \r\nQ 28.375 48.1875 33.59375 48.1875 \r\nQ 44.578125 48.1875 50.953125 41.515625 \r\nQ 57.328125 34.859375 57.328125 23.390625 \r\nQ 57.328125 12.15625 50.6875 5.359375 \r\nQ 44.046875 -1.421875 33.015625 -1.421875 \r\nQ 20.359375 -1.421875 13.671875 8.265625 \r\nQ 6.984375 17.96875 6.984375 36.375 \r\nQ 6.984375 53.65625 15.1875 63.9375 \r\nQ 23.390625 74.21875 37.203125 74.21875 \r\nQ 40.921875 74.21875 44.703125 73.484375 \r\nQ 48.484375 72.75 52.59375 71.296875 \r\nz\r\n\" id=\"DejaVuSans-54\"/>\r\n       </defs>\r\n       <use xlink:href=\"#DejaVuSans-54\"/>\r\n       <use x=\"63.623047\" xlink:href=\"#DejaVuSans-48\"/>\r\n       <use x=\"127.246094\" xlink:href=\"#DejaVuSans-48\"/>\r\n       <use x=\"190.869141\" xlink:href=\"#DejaVuSans-48\"/>\r\n      </g>\r\n     </g>\r\n    </g>\r\n    <g id=\"ytick_5\">\r\n     <g id=\"line2d_13\">\r\n      <g>\r\n       <use style=\"stroke:#000000;stroke-width:0.8;\" x=\"46.0125\" xlink:href=\"#m9eb6dbf891\" y=\"64.372445\"/>\r\n      </g>\r\n     </g>\r\n     <g id=\"text_13\">\r\n      <!-- 8000 -->\r\n      <g transform=\"translate(13.5625 68.171664)scale(0.1 -0.1)\">\r\n       <defs>\r\n        <path d=\"M 31.78125 34.625 \r\nQ 24.75 34.625 20.71875 30.859375 \r\nQ 16.703125 27.09375 16.703125 20.515625 \r\nQ 16.703125 13.921875 20.71875 10.15625 \r\nQ 24.75 6.390625 31.78125 6.390625 \r\nQ 38.8125 6.390625 42.859375 10.171875 \r\nQ 46.921875 13.96875 46.921875 20.515625 \r\nQ 46.921875 27.09375 42.890625 30.859375 \r\nQ 38.875 34.625 31.78125 34.625 \r\nz\r\nM 21.921875 38.8125 \r\nQ 15.578125 40.375 12.03125 44.71875 \r\nQ 8.5 49.078125 8.5 55.328125 \r\nQ 8.5 64.0625 14.71875 69.140625 \r\nQ 20.953125 74.21875 31.78125 74.21875 \r\nQ 42.671875 74.21875 48.875 69.140625 \r\nQ 55.078125 64.0625 55.078125 55.328125 \r\nQ 55.078125 49.078125 51.53125 44.71875 \r\nQ 48 40.375 41.703125 38.8125 \r\nQ 48.828125 37.15625 52.796875 32.3125 \r\nQ 56.78125 27.484375 56.78125 20.515625 \r\nQ 56.78125 9.90625 50.3125 4.234375 \r\nQ 43.84375 -1.421875 31.78125 -1.421875 \r\nQ 19.734375 -1.421875 13.25 4.234375 \r\nQ 6.78125 9.90625 6.78125 20.515625 \r\nQ 6.78125 27.484375 10.78125 32.3125 \r\nQ 14.796875 37.15625 21.921875 38.8125 \r\nz\r\nM 18.3125 54.390625 \r\nQ 18.3125 48.734375 21.84375 45.5625 \r\nQ 25.390625 42.390625 31.78125 42.390625 \r\nQ 38.140625 42.390625 41.71875 45.5625 \r\nQ 45.3125 48.734375 45.3125 54.390625 \r\nQ 45.3125 60.0625 41.71875 63.234375 \r\nQ 38.140625 66.40625 31.78125 66.40625 \r\nQ 25.390625 66.40625 21.84375 63.234375 \r\nQ 18.3125 60.0625 18.3125 54.390625 \r\nz\r\n\" id=\"DejaVuSans-56\"/>\r\n       </defs>\r\n       <use xlink:href=\"#DejaVuSans-56\"/>\r\n       <use x=\"63.623047\" xlink:href=\"#DejaVuSans-48\"/>\r\n       <use x=\"127.246094\" xlink:href=\"#DejaVuSans-48\"/>\r\n       <use x=\"190.869141\" xlink:href=\"#DejaVuSans-48\"/>\r\n      </g>\r\n     </g>\r\n    </g>\r\n    <g id=\"ytick_6\">\r\n     <g id=\"line2d_14\">\r\n      <g>\r\n       <use style=\"stroke:#000000;stroke-width:0.8;\" x=\"46.0125\" xlink:href=\"#m9eb6dbf891\" y=\"24.305556\"/>\r\n      </g>\r\n     </g>\r\n     <g id=\"text_14\">\r\n      <!-- 10000 -->\r\n      <g transform=\"translate(7.2 28.104775)scale(0.1 -0.1)\">\r\n       <use xlink:href=\"#DejaVuSans-49\"/>\r\n       <use x=\"63.623047\" xlink:href=\"#DejaVuSans-48\"/>\r\n       <use x=\"127.246094\" xlink:href=\"#DejaVuSans-48\"/>\r\n       <use x=\"190.869141\" xlink:href=\"#DejaVuSans-48\"/>\r\n       <use x=\"254.492188\" xlink:href=\"#DejaVuSans-48\"/>\r\n      </g>\r\n     </g>\r\n    </g>\r\n   </g>\r\n   <g id=\"patch_13\">\r\n    <path d=\"M 46.0125 224.64 \r\nL 46.0125 7.2 \r\n\" style=\"fill:none;stroke:#000000;stroke-linecap:square;stroke-linejoin:miter;stroke-width:0.8;\"/>\r\n   </g>\r\n   <g id=\"patch_14\">\r\n    <path d=\"M 380.8125 224.64 \r\nL 380.8125 7.2 \r\n\" style=\"fill:none;stroke:#000000;stroke-linecap:square;stroke-linejoin:miter;stroke-width:0.8;\"/>\r\n   </g>\r\n   <g id=\"patch_15\">\r\n    <path d=\"M 46.0125 224.64 \r\nL 380.8125 224.64 \r\n\" style=\"fill:none;stroke:#000000;stroke-linecap:square;stroke-linejoin:miter;stroke-width:0.8;\"/>\r\n   </g>\r\n   <g id=\"patch_16\">\r\n    <path d=\"M 46.0125 7.2 \r\nL 380.8125 7.2 \r\n\" style=\"fill:none;stroke:#000000;stroke-linecap:square;stroke-linejoin:miter;stroke-width:0.8;\"/>\r\n   </g>\r\n  </g>\r\n </g>\r\n <defs>\r\n  <clipPath id=\"p0f4fb808cb\">\r\n   <rect height=\"217.44\" width=\"334.8\" x=\"46.0125\" y=\"7.2\"/>\r\n  </clipPath>\r\n </defs>\r\n</svg>\r\n",
      "image/png": "[encoded data removed]"
     },
     "metadata": {
      "needs_background": "light"
     }
    }
   ],
   "source": [
    "# 히스토그램으로 글자 길이 수 분포 확인\n",
    "plt.hist(df['length'])\n",
    "plt.show()"
   ]
  },
  {
   "source": [
    "### 특수문자 제거"
   ],
   "cell_type": "markdown",
   "metadata": {}
  },
  {
   "cell_type": "code",
   "execution_count": 16,
   "metadata": {},
   "outputs": [],
   "source": [
    "# 각 전처리 후, 10글자 미만의 리뷰 갯수 비율 확인하는 함수 \n",
    "def del_percent():\n",
    "    under_10 = df.loc[df['length'] < 10,'review'].count()\n",
    "    all_count = df['review'].count()\n",
    "    print('10글자 미만 리뷰갯수:', under_10)\n",
    "    print(under_10 / all_count * 100)"
   ]
  },
  {
   "cell_type": "code",
   "execution_count": 17,
   "metadata": {},
   "outputs": [
    {
     "output_type": "execute_result",
     "data": {
      "text/plain": [
       "        hotel  star                                             review  length\n",
       "0  호텔 8 Hours     5  깨끗하고 위치도 좋고 가성비 좋았습니다.\\n다만 비품이 거의 없다고 보면되서 챙겨가...      49\n",
       "1  호텔 8 Hours     4                                  너무 좋아요! 잘 머물다 갑니다      17\n",
       "2  호텔 8 Hours     5                                         적당히 잘쉬다 가요      10\n",
       "3  호텔 8 Hours     5                              매번욜때마다 매우 만족합니다 번창하세요      21\n",
       "4  호텔 8 Hours     5                                              ㅇㅇㅇㅇㅇ       5"
      ],
      "text/html": "<div>\n<style scoped>\n    .dataframe tbody tr th:only-of-type {\n        vertical-align: middle;\n    }\n\n    .dataframe tbody tr th {\n        vertical-align: top;\n    }\n\n    .dataframe thead th {\n        text-align: right;\n    }\n</style>\n<table border=\"1\" class=\"dataframe\">\n  <thead>\n    <tr style=\"text-align: right;\">\n      <th></th>\n      <th>hotel</th>\n      <th>star</th>\n      <th>review</th>\n      <th>length</th>\n    </tr>\n  </thead>\n  <tbody>\n    <tr>\n      <th>0</th>\n      <td>호텔 8 Hours</td>\n      <td>5</td>\n      <td>깨끗하고 위치도 좋고 가성비 좋았습니다.\\n다만 비품이 거의 없다고 보면되서 챙겨가...</td>\n      <td>49</td>\n    </tr>\n    <tr>\n      <th>1</th>\n      <td>호텔 8 Hours</td>\n      <td>4</td>\n      <td>너무 좋아요! 잘 머물다 갑니다</td>\n      <td>17</td>\n    </tr>\n    <tr>\n      <th>2</th>\n      <td>호텔 8 Hours</td>\n      <td>5</td>\n      <td>적당히 잘쉬다 가요</td>\n      <td>10</td>\n    </tr>\n    <tr>\n      <th>3</th>\n      <td>호텔 8 Hours</td>\n      <td>5</td>\n      <td>매번욜때마다 매우 만족합니다 번창하세요</td>\n      <td>21</td>\n    </tr>\n    <tr>\n      <th>4</th>\n      <td>호텔 8 Hours</td>\n      <td>5</td>\n      <td>ㅇㅇㅇㅇㅇ</td>\n      <td>5</td>\n    </tr>\n  </tbody>\n</table>\n</div>"
     },
     "metadata": {},
     "execution_count": 17
    }
   ],
   "source": [
    "df.head()"
   ]
  },
  {
   "source": [
    "### \\n (개행문자) 제거"
   ],
   "cell_type": "markdown",
   "metadata": {}
  },
  {
   "cell_type": "code",
   "execution_count": 18,
   "metadata": {},
   "outputs": [
    {
     "output_type": "stream",
     "name": "stdout",
     "text": [
      "10글자 미만 리뷰갯수: 2724\n25.517564402810304\n"
     ]
    }
   ],
   "source": [
    "#1.'\\n' -> ''\n",
    "df['review'] = df['review'].apply(lambda x: x.replace('\\n',''))\n",
    "df['length'] = df['review'].apply(lambda x: len(x))\n",
    "del_percent()"
   ]
  },
  {
   "source": [
    "### 텍스트에 포함되어 있는 특수문자 제거"
   ],
   "cell_type": "markdown",
   "metadata": {}
  },
  {
   "cell_type": "code",
   "execution_count": 19,
   "metadata": {},
   "outputs": [
    {
     "output_type": "stream",
     "name": "stdout",
     "text": [
      "10글자 미만 리뷰갯수: 2967\n27.793911007025763\n"
     ]
    }
   ],
   "source": [
    "import re\n",
    "# 2. ~, !, ., >\n",
    "def cleanText(readData):\n",
    " \n",
    "    \n",
    "    text = re.sub('[-=+,#/\\?:;^$.@*\\\"※~&%ㆍ!』\\\\‘|\\(\\)\\[\\]\\<\\>`\\'…》❤]', '', readData)\n",
    "    return text\n",
    "\n",
    "df['review'] = df['review'].apply(cleanText)\n",
    "df['length'] = df['review'].apply(lambda x: len(x))\n",
    "del_percent()"
   ]
  },
  {
   "source": [
    "### 의미없는 자음, 모음만 쓴 것 처리"
   ],
   "cell_type": "markdown",
   "metadata": {}
  },
  {
   "cell_type": "code",
   "execution_count": 20,
   "metadata": {},
   "outputs": [
    {
     "output_type": "stream",
     "name": "stdout",
     "text": [
      "10글자 미만 리뷰갯수: 3023\n28.318501170960186\n"
     ]
    }
   ],
   "source": [
    "def cleanText2(readData):\n",
    " \n",
    "    text = re.sub('[ㄱㄴㄷㄹㅁㅂㅅㅇㅈㅊㅋㅌㅍㅎㅃㅉㄸㄲㅆㅛㅕㅑㅐㅔㅗㅓㅏㅣㅜㅠㅡ]', '', readData)\n",
    "    return text\n",
    "df['review'] = df['review'].apply(cleanText2)\n",
    "df['length'] = df['review'].apply(lambda x: len(x))\n",
    "del_percent()"
   ]
  },
  {
   "source": [
    "### 이모티콘 제거"
   ],
   "cell_type": "markdown",
   "metadata": {}
  },
  {
   "cell_type": "code",
   "execution_count": 21,
   "metadata": {},
   "outputs": [
    {
     "output_type": "stream",
     "name": "stdout",
     "text": [
      "10글자 미만 리뷰갯수: 3029\n28.374707259953162\n"
     ]
    }
   ],
   "source": [
    "def cleanText3(readData):\n",
    "    \n",
    "    emoji_pattern = re.compile(\"[\"\n",
    "        u\"\\U0001F600-\\U0001F64F\"  # emoticons\n",
    "        u\"\\U0001F300-\\U0001F5FF\"  # symbols & pictographs\n",
    "        u\"\\U0001F680-\\U0001F6FF\"  # transport & map symbols\n",
    "        u\"\\U0001F1E0-\\U0001F1FF\"  # flags (iOS)\n",
    "                           \"]+\", flags=re.UNICODE)\n",
    "\n",
    "    text = emoji_pattern.sub(r'', readData)\n",
    "    return text\n",
    "\n",
    "df['review'] = df['review'].apply(cleanText3)\n",
    "df['length'] = df['review'].apply(lambda x: len(x))\n",
    "del_percent()"
   ]
  },
  {
   "source": [
    "### 글자수 cut"
   ],
   "cell_type": "markdown",
   "metadata": {}
  },
  {
   "cell_type": "code",
   "execution_count": 22,
   "metadata": {},
   "outputs": [
    {
     "output_type": "execute_result",
     "data": {
      "text/plain": [
       "(3029, 4)"
      ]
     },
     "metadata": {},
     "execution_count": 22
    }
   ],
   "source": [
    "df[df['length'] < 10].shape"
   ]
  },
  {
   "cell_type": "code",
   "execution_count": 23,
   "metadata": {},
   "outputs": [
    {
     "output_type": "execute_result",
     "data": {
      "text/plain": [
       "(7646, 4)"
      ]
     },
     "metadata": {},
     "execution_count": 23
    }
   ],
   "source": [
    "df = df[df['length'] >= 10]\n",
    "df.shape"
   ]
  },
  {
   "cell_type": "code",
   "execution_count": 24,
   "metadata": {},
   "outputs": [
    {
     "output_type": "execute_result",
     "data": {
      "text/plain": [
       "            hotel  star                                             review  \\\n",
       "39264  그랜드 워커힐 서울     3                 준비해달란게 준비되어있지않아 별로였어요 키즈어메니티 부탁했는데   \n",
       "39266  그랜드 워커힐 서울     5                                         깨끗하고 넘 좋아요   \n",
       "39267  그랜드 워커힐 서울     5  호캉스 만족하고갑니다  서비스랑 뷰가 최고네요 코로나때문에 배달음식이 안되는게 슬펐...   \n",
       "39268  그랜드 워커힐 서울     5                                    역시 친절하시고 좋았습니다    \n",
       "39269  그랜드 워커힐 서울     5                                         좋은추억남기고갑니다   \n",
       "\n",
       "       length  \n",
       "39264      34  \n",
       "39266      10  \n",
       "39267      86  \n",
       "39268      15  \n",
       "39269      10  "
      ],
      "text/html": "<div>\n<style scoped>\n    .dataframe tbody tr th:only-of-type {\n        vertical-align: middle;\n    }\n\n    .dataframe tbody tr th {\n        vertical-align: top;\n    }\n\n    .dataframe thead th {\n        text-align: right;\n    }\n</style>\n<table border=\"1\" class=\"dataframe\">\n  <thead>\n    <tr style=\"text-align: right;\">\n      <th></th>\n      <th>hotel</th>\n      <th>star</th>\n      <th>review</th>\n      <th>length</th>\n    </tr>\n  </thead>\n  <tbody>\n    <tr>\n      <th>39264</th>\n      <td>그랜드 워커힐 서울</td>\n      <td>3</td>\n      <td>준비해달란게 준비되어있지않아 별로였어요 키즈어메니티 부탁했는데</td>\n      <td>34</td>\n    </tr>\n    <tr>\n      <th>39266</th>\n      <td>그랜드 워커힐 서울</td>\n      <td>5</td>\n      <td>깨끗하고 넘 좋아요</td>\n      <td>10</td>\n    </tr>\n    <tr>\n      <th>39267</th>\n      <td>그랜드 워커힐 서울</td>\n      <td>5</td>\n      <td>호캉스 만족하고갑니다  서비스랑 뷰가 최고네요 코로나때문에 배달음식이 안되는게 슬펐...</td>\n      <td>86</td>\n    </tr>\n    <tr>\n      <th>39268</th>\n      <td>그랜드 워커힐 서울</td>\n      <td>5</td>\n      <td>역시 친절하시고 좋았습니다</td>\n      <td>15</td>\n    </tr>\n    <tr>\n      <th>39269</th>\n      <td>그랜드 워커힐 서울</td>\n      <td>5</td>\n      <td>좋은추억남기고갑니다</td>\n      <td>10</td>\n    </tr>\n  </tbody>\n</table>\n</div>"
     },
     "metadata": {},
     "execution_count": 24
    }
   ],
   "source": [
    "df.tail()"
   ]
  },
  {
   "cell_type": "code",
   "execution_count": 25,
   "metadata": {},
   "outputs": [],
   "source": [
    "# 500자 이상 리뷰는 500자까지만 가져오기\n",
    "df['review'] = df['review'].str[:500]"
   ]
  },
  {
   "cell_type": "code",
   "execution_count": 26,
   "metadata": {},
   "outputs": [
    {
     "output_type": "execute_result",
     "data": {
      "text/plain": [
       "10     400\n",
       "11     388\n",
       "12     326\n",
       "13     321\n",
       "14     275\n",
       "      ... \n",
       "297      1\n",
       "305      1\n",
       "321      1\n",
       "329      1\n",
       "483      1\n",
       "Name: length, Length: 323, dtype: int64"
      ]
     },
     "metadata": {},
     "execution_count": 26
    }
   ],
   "source": [
    "df['length'] = df['review'].apply(lambda x: len(str(x)))\n",
    "#df['review'] = df['review'].astype('str')\n",
    "df['length'].value_counts()"
   ]
  },
  {
   "cell_type": "code",
   "execution_count": 27,
   "metadata": {},
   "outputs": [
    {
     "output_type": "execute_result",
     "data": {
      "text/plain": [
       "                    hotel  star  \\\n",
       "39269          그랜드 워커힐 서울     5   \n",
       "746             호텔 엔트라 강남     5   \n",
       "665             호텔 엔트라 강남     3   \n",
       "655             호텔 엔트라 강남     1   \n",
       "649             호텔 엔트라 강남     5   \n",
       "...                   ...   ...   \n",
       "7764              신림 호텔어반     1   \n",
       "860             호텔 엔트라 강남     4   \n",
       "3214          이비스 앰배서더 명동     3   \n",
       "613    그랜드 인터컨티넨탈 서울 파르나스     1   \n",
       "1630            호텔 페이토 삼성     1   \n",
       "\n",
       "                                                  review  length  \n",
       "39269                                         좋은추억남기고갑니다      10  \n",
       "746                                           킹사이즈침대 최고       10  \n",
       "665                                           바닥이 차가웠습니다      10  \n",
       "655                                           뷰 최악            10  \n",
       "649                                           자주이용해요 좋아요      10  \n",
       "...                                                  ...     ...  \n",
       "7764   너무 황당했네요여자 세명이서 경기도 강남 등 멀리서 모이는거라 신경써서 숙소 잡는다...     500  \n",
       "860    금액 비교했을때 정말 괜찮은 숙소였어요부산이나 더 비싸고 좋은숙소에 비교하면 별5점...     500  \n",
       "3214   원래 2시인데 저희가 3시 체크인을 해서 체크아웃 시간도 3시로 변경해주신 점에 대...     500  \n",
       "613    이런일이 처음이라 다소 긴글 죄송합니다당일에는 괜찮았는데 그 다음날아침 6시즘 남자...     500  \n",
       "1630   저번 주말에 1박 했어요바로 앞에 현대백화점과 코엑스가 있고 지하철 역도 그다지 멀...     500  \n",
       "\n",
       "[7646 rows x 4 columns]"
      ],
      "text/html": "<div>\n<style scoped>\n    .dataframe tbody tr th:only-of-type {\n        vertical-align: middle;\n    }\n\n    .dataframe tbody tr th {\n        vertical-align: top;\n    }\n\n    .dataframe thead th {\n        text-align: right;\n    }\n</style>\n<table border=\"1\" class=\"dataframe\">\n  <thead>\n    <tr style=\"text-align: right;\">\n      <th></th>\n      <th>hotel</th>\n      <th>star</th>\n      <th>review</th>\n      <th>length</th>\n    </tr>\n  </thead>\n  <tbody>\n    <tr>\n      <th>39269</th>\n      <td>그랜드 워커힐 서울</td>\n      <td>5</td>\n      <td>좋은추억남기고갑니다</td>\n      <td>10</td>\n    </tr>\n    <tr>\n      <th>746</th>\n      <td>호텔 엔트라 강남</td>\n      <td>5</td>\n      <td>킹사이즈침대 최고</td>\n      <td>10</td>\n    </tr>\n    <tr>\n      <th>665</th>\n      <td>호텔 엔트라 강남</td>\n      <td>3</td>\n      <td>바닥이 차가웠습니다</td>\n      <td>10</td>\n    </tr>\n    <tr>\n      <th>655</th>\n      <td>호텔 엔트라 강남</td>\n      <td>1</td>\n      <td>뷰 최악</td>\n      <td>10</td>\n    </tr>\n    <tr>\n      <th>649</th>\n      <td>호텔 엔트라 강남</td>\n      <td>5</td>\n      <td>자주이용해요 좋아요</td>\n      <td>10</td>\n    </tr>\n    <tr>\n      <th>...</th>\n      <td>...</td>\n      <td>...</td>\n      <td>...</td>\n      <td>...</td>\n    </tr>\n    <tr>\n      <th>7764</th>\n      <td>신림 호텔어반</td>\n      <td>1</td>\n      <td>너무 황당했네요여자 세명이서 경기도 강남 등 멀리서 모이는거라 신경써서 숙소 잡는다...</td>\n      <td>500</td>\n    </tr>\n    <tr>\n      <th>860</th>\n      <td>호텔 엔트라 강남</td>\n      <td>4</td>\n      <td>금액 비교했을때 정말 괜찮은 숙소였어요부산이나 더 비싸고 좋은숙소에 비교하면 별5점...</td>\n      <td>500</td>\n    </tr>\n    <tr>\n      <th>3214</th>\n      <td>이비스 앰배서더 명동</td>\n      <td>3</td>\n      <td>원래 2시인데 저희가 3시 체크인을 해서 체크아웃 시간도 3시로 변경해주신 점에 대...</td>\n      <td>500</td>\n    </tr>\n    <tr>\n      <th>613</th>\n      <td>그랜드 인터컨티넨탈 서울 파르나스</td>\n      <td>1</td>\n      <td>이런일이 처음이라 다소 긴글 죄송합니다당일에는 괜찮았는데 그 다음날아침 6시즘 남자...</td>\n      <td>500</td>\n    </tr>\n    <tr>\n      <th>1630</th>\n      <td>호텔 페이토 삼성</td>\n      <td>1</td>\n      <td>저번 주말에 1박 했어요바로 앞에 현대백화점과 코엑스가 있고 지하철 역도 그다지 멀...</td>\n      <td>500</td>\n    </tr>\n  </tbody>\n</table>\n<p>7646 rows × 4 columns</p>\n</div>"
     },
     "metadata": {},
     "execution_count": 27
    }
   ],
   "source": [
    "df.sort_values(by=['length'], axis=0)"
   ]
  },
  {
   "source": [
    "### 맞춤법 검사 돌리기"
   ],
   "cell_type": "markdown",
   "metadata": {}
  },
  {
   "cell_type": "code",
   "execution_count": 28,
   "metadata": {},
   "outputs": [],
   "source": [
    "#맞춤법검사기 \n",
    "from hanspell import spell_checker"
   ]
  },
  {
   "cell_type": "code",
   "execution_count": 29,
   "metadata": {},
   "outputs": [
    {
     "output_type": "stream",
     "name": "stdout",
     "text": [
      "Checked(result=True, original='외않되', checked='왜 안돼', errors=1, words=OrderedDict([('왜', 1), ('안돼', 1)]), time=0.05448508262634277)\n"
     ]
    }
   ],
   "source": [
    "sent = '외않되'\n",
    "\n",
    "spelled_sent = spell_checker.check(sent)\n",
    "print(spelled_sent)"
   ]
  },
  {
   "cell_type": "code",
   "execution_count": 30,
   "metadata": {},
   "outputs": [],
   "source": [
    "def spell_check(review):\n",
    "    result = spell_checker.check(review)\n",
    "    return result.checked"
   ]
  },
  {
   "cell_type": "code",
   "execution_count": 31,
   "metadata": {},
   "outputs": [],
   "source": [
    "df['review']=df['review'].astype('str')"
   ]
  },
  {
   "cell_type": "code",
   "execution_count": 32,
   "metadata": {},
   "outputs": [],
   "source": [
    "df['review_spell_check'] = df['review'].apply(spell_check)"
   ]
  },
  {
   "cell_type": "code",
   "execution_count": 33,
   "metadata": {},
   "outputs": [],
   "source": [
    "import json"
   ]
  },
  {
   "cell_type": "code",
   "execution_count": 34,
   "metadata": {},
   "outputs": [
    {
     "output_type": "error",
     "ename": "NameError",
     "evalue": "name 'CURRENT_WORKING_DIRECTORY' is not defined",
     "traceback": [
      "\u001b[1;31m---------------------------------------------------------------------------\u001b[0m",
      "\u001b[1;31mNameError\u001b[0m                                 Traceback (most recent call last)",
      "\u001b[1;32m<ipython-input-34-b01fe7f4f444>\u001b[0m in \u001b[0;36m<module>\u001b[1;34m\u001b[0m\n\u001b[1;32m----> 1\u001b[1;33m \u001b[0mf\u001b[0m \u001b[1;33m=\u001b[0m \u001b[0mopen\u001b[0m\u001b[1;33m(\u001b[0m\u001b[1;34mf\"{CURRENT_WORKING_DIRECTORY}result_year_nation.json\"\u001b[0m\u001b[1;33m,\u001b[0m \u001b[0mencoding\u001b[0m\u001b[1;33m=\u001b[0m\u001b[1;34m\"UTF-8\"\u001b[0m\u001b[1;33m)\u001b[0m\u001b[1;33m\u001b[0m\u001b[1;33m\u001b[0m\u001b[0m\n\u001b[0m\u001b[0;32m      2\u001b[0m \u001b[0mraw_data\u001b[0m \u001b[1;33m=\u001b[0m \u001b[0mjson\u001b[0m\u001b[1;33m.\u001b[0m\u001b[0mloads\u001b[0m\u001b[1;33m(\u001b[0m\u001b[0mf\u001b[0m\u001b[1;33m.\u001b[0m\u001b[0mread\u001b[0m\u001b[1;33m(\u001b[0m\u001b[1;33m)\u001b[0m\u001b[1;33m)\u001b[0m\u001b[1;33m\u001b[0m\u001b[1;33m\u001b[0m\u001b[0m\n",
      "\u001b[1;31mNameError\u001b[0m: name 'CURRENT_WORKING_DIRECTORY' is not defined"
     ]
    }
   ],
   "source": [
    "f = open(f\"{CURRENT_WORKING_DIRECTORY}result_year_nation.json\", encoding=\"UTF-8\")\n",
    "raw_data = json.loads(f.read())"
   ]
  },
  {
   "cell_type": "code",
   "execution_count": 35,
   "metadata": {},
   "outputs": [
    {
     "output_type": "execute_result",
     "data": {
      "text/plain": [
       "        hotel  star                                           review  length  \\\n",
       "0  호텔 8 Hours     5  깨끗하고 위치도 좋고 가성비 좋았습니다다만 비품이 거의 없다고 보면되서 챙겨가야합니다      47   \n",
       "1  호텔 8 Hours     4                                 너무 좋아요 잘 머물다 갑니다      16   \n",
       "2  호텔 8 Hours     5                                       적당히 잘쉬다 가요      10   \n",
       "3  호텔 8 Hours     5                            매번욜때마다 매우 만족합니다 번창하세요      21   \n",
       "5  호텔 8 Hours     5                                      너무 편하고 좋았어요      11   \n",
       "\n",
       "                                  review_spell_check  \n",
       "0  깨끗하고 위치도 좋고 구성비 좋았습니다 다만 비품이 거의 없다고 보면 돼서 챙겨가야...  \n",
       "1                                   너무 좋아요 잘 머물다 갑니다  \n",
       "2                                        적당히 잘 쉬다 가요  \n",
       "3                             매번 요때마다 매우 만족합니다 번창하세요  \n",
       "5                                        너무 편하고 좋았어요  "
      ],
      "text/html": "<div>\n<style scoped>\n    .dataframe tbody tr th:only-of-type {\n        vertical-align: middle;\n    }\n\n    .dataframe tbody tr th {\n        vertical-align: top;\n    }\n\n    .dataframe thead th {\n        text-align: right;\n    }\n</style>\n<table border=\"1\" class=\"dataframe\">\n  <thead>\n    <tr style=\"text-align: right;\">\n      <th></th>\n      <th>hotel</th>\n      <th>star</th>\n      <th>review</th>\n      <th>length</th>\n      <th>review_spell_check</th>\n    </tr>\n  </thead>\n  <tbody>\n    <tr>\n      <th>0</th>\n      <td>호텔 8 Hours</td>\n      <td>5</td>\n      <td>깨끗하고 위치도 좋고 가성비 좋았습니다다만 비품이 거의 없다고 보면되서 챙겨가야합니다</td>\n      <td>47</td>\n      <td>깨끗하고 위치도 좋고 구성비 좋았습니다 다만 비품이 거의 없다고 보면 돼서 챙겨가야...</td>\n    </tr>\n    <tr>\n      <th>1</th>\n      <td>호텔 8 Hours</td>\n      <td>4</td>\n      <td>너무 좋아요 잘 머물다 갑니다</td>\n      <td>16</td>\n      <td>너무 좋아요 잘 머물다 갑니다</td>\n    </tr>\n    <tr>\n      <th>2</th>\n      <td>호텔 8 Hours</td>\n      <td>5</td>\n      <td>적당히 잘쉬다 가요</td>\n      <td>10</td>\n      <td>적당히 잘 쉬다 가요</td>\n    </tr>\n    <tr>\n      <th>3</th>\n      <td>호텔 8 Hours</td>\n      <td>5</td>\n      <td>매번욜때마다 매우 만족합니다 번창하세요</td>\n      <td>21</td>\n      <td>매번 요때마다 매우 만족합니다 번창하세요</td>\n    </tr>\n    <tr>\n      <th>5</th>\n      <td>호텔 8 Hours</td>\n      <td>5</td>\n      <td>너무 편하고 좋았어요</td>\n      <td>11</td>\n      <td>너무 편하고 좋았어요</td>\n    </tr>\n  </tbody>\n</table>\n</div>"
     },
     "metadata": {},
     "execution_count": 35
    }
   ],
   "source": [
    "df.head()"
   ]
  },
  {
   "cell_type": "code",
   "execution_count": 36,
   "metadata": {},
   "outputs": [],
   "source": [
    "df.to_csv('data/야놀자_스펠체크.csv', index=False, encoding='utf-8-sig')"
   ]
  },
  {
   "cell_type": "code",
   "execution_count": 37,
   "metadata": {},
   "outputs": [
    {
     "output_type": "execute_result",
     "data": {
      "text/plain": [
       "        hotel  star  length                                 review_spell_check\n",
       "0  호텔 8 Hours     5      47  깨끗하고 위치도 좋고 구성비 좋았습니다 다만 비품이 거의 없다고 보면 돼서 챙겨가야...\n",
       "1  호텔 8 Hours     4      16                                   너무 좋아요 잘 머물다 갑니다\n",
       "2  호텔 8 Hours     5      10                                        적당히 잘 쉬다 가요\n",
       "3  호텔 8 Hours     5      21                             매번 요때마다 매우 만족합니다 번창하세요\n",
       "5  호텔 8 Hours     5      11                                        너무 편하고 좋았어요"
      ],
      "text/html": "<div>\n<style scoped>\n    .dataframe tbody tr th:only-of-type {\n        vertical-align: middle;\n    }\n\n    .dataframe tbody tr th {\n        vertical-align: top;\n    }\n\n    .dataframe thead th {\n        text-align: right;\n    }\n</style>\n<table border=\"1\" class=\"dataframe\">\n  <thead>\n    <tr style=\"text-align: right;\">\n      <th></th>\n      <th>hotel</th>\n      <th>star</th>\n      <th>length</th>\n      <th>review_spell_check</th>\n    </tr>\n  </thead>\n  <tbody>\n    <tr>\n      <th>0</th>\n      <td>호텔 8 Hours</td>\n      <td>5</td>\n      <td>47</td>\n      <td>깨끗하고 위치도 좋고 구성비 좋았습니다 다만 비품이 거의 없다고 보면 돼서 챙겨가야...</td>\n    </tr>\n    <tr>\n      <th>1</th>\n      <td>호텔 8 Hours</td>\n      <td>4</td>\n      <td>16</td>\n      <td>너무 좋아요 잘 머물다 갑니다</td>\n    </tr>\n    <tr>\n      <th>2</th>\n      <td>호텔 8 Hours</td>\n      <td>5</td>\n      <td>10</td>\n      <td>적당히 잘 쉬다 가요</td>\n    </tr>\n    <tr>\n      <th>3</th>\n      <td>호텔 8 Hours</td>\n      <td>5</td>\n      <td>21</td>\n      <td>매번 요때마다 매우 만족합니다 번창하세요</td>\n    </tr>\n    <tr>\n      <th>5</th>\n      <td>호텔 8 Hours</td>\n      <td>5</td>\n      <td>11</td>\n      <td>너무 편하고 좋았어요</td>\n    </tr>\n  </tbody>\n</table>\n</div>"
     },
     "metadata": {},
     "execution_count": 37
    }
   ],
   "source": [
    "del df['review']\n",
    "df.head()"
   ]
  },
  {
   "cell_type": "code",
   "execution_count": 38,
   "metadata": {},
   "outputs": [
    {
     "output_type": "execute_result",
     "data": {
      "text/plain": [
       "        hotel  star  length                                             review\n",
       "0  호텔 8 Hours     5      47  깨끗하고 위치도 좋고 구성비 좋았습니다 다만 비품이 거의 없다고 보면 돼서 챙겨가야...\n",
       "1  호텔 8 Hours     4      16                                   너무 좋아요 잘 머물다 갑니다\n",
       "2  호텔 8 Hours     5      10                                        적당히 잘 쉬다 가요\n",
       "3  호텔 8 Hours     5      21                             매번 요때마다 매우 만족합니다 번창하세요\n",
       "5  호텔 8 Hours     5      11                                        너무 편하고 좋았어요"
      ],
      "text/html": "<div>\n<style scoped>\n    .dataframe tbody tr th:only-of-type {\n        vertical-align: middle;\n    }\n\n    .dataframe tbody tr th {\n        vertical-align: top;\n    }\n\n    .dataframe thead th {\n        text-align: right;\n    }\n</style>\n<table border=\"1\" class=\"dataframe\">\n  <thead>\n    <tr style=\"text-align: right;\">\n      <th></th>\n      <th>hotel</th>\n      <th>star</th>\n      <th>length</th>\n      <th>review</th>\n    </tr>\n  </thead>\n  <tbody>\n    <tr>\n      <th>0</th>\n      <td>호텔 8 Hours</td>\n      <td>5</td>\n      <td>47</td>\n      <td>깨끗하고 위치도 좋고 구성비 좋았습니다 다만 비품이 거의 없다고 보면 돼서 챙겨가야...</td>\n    </tr>\n    <tr>\n      <th>1</th>\n      <td>호텔 8 Hours</td>\n      <td>4</td>\n      <td>16</td>\n      <td>너무 좋아요 잘 머물다 갑니다</td>\n    </tr>\n    <tr>\n      <th>2</th>\n      <td>호텔 8 Hours</td>\n      <td>5</td>\n      <td>10</td>\n      <td>적당히 잘 쉬다 가요</td>\n    </tr>\n    <tr>\n      <th>3</th>\n      <td>호텔 8 Hours</td>\n      <td>5</td>\n      <td>21</td>\n      <td>매번 요때마다 매우 만족합니다 번창하세요</td>\n    </tr>\n    <tr>\n      <th>5</th>\n      <td>호텔 8 Hours</td>\n      <td>5</td>\n      <td>11</td>\n      <td>너무 편하고 좋았어요</td>\n    </tr>\n  </tbody>\n</table>\n</div>"
     },
     "metadata": {},
     "execution_count": 38
    }
   ],
   "source": [
    "df.rename(columns = {'review_spell_check' : 'review'}, inplace = True)\n",
    "df.head()"
   ]
  },
  {
   "cell_type": "code",
   "execution_count": 43,
   "metadata": {},
   "outputs": [],
   "source": [
    "df.to_csv('data/야놀자_전처리완료.csv', index=False, encoding='utf-8-sig')"
   ]
  },
  {
   "cell_type": "code",
   "execution_count": null,
   "metadata": {},
   "outputs": [],
   "source": [
    "\"\"\"# 특수문자 제거 다시\n",
    "import re\n",
    "# 2. ~, !, ., >\n",
    "def cleanText(readData):\n",
    " \n",
    "    \n",
    "    text = re.sub('[-=+ㄴ,#/\\?:;^$.@*\\\"※~&%ㆍ!』\\\\‘|\\(\\)\\[\\]\\<\\>`\\'…》❤☆♡♥◾❌⭕‼️❣]', '', readData)\n",
    "    return text\n",
    "\n",
    "df['review'] = df['review'].apply(cleanText)\n",
    "df['length'] = df['review'].apply(lambda x: len(x))\n",
    "del_percent()"
   ]
  }
 ]
}