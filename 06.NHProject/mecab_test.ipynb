{
 "cells": [
  {
   "cell_type": "code",
   "execution_count": 1,
   "metadata": {},
   "outputs": [],
   "source": [
    "import MeCab"
   ]
  },
  {
   "cell_type": "code",
   "execution_count": 2,
   "metadata": {},
   "outputs": [
    {
     "name": "stdout",
     "output_type": "stream",
     "text": [
      "미\tNNP,인명,F,미,*,*,*,*\n",
      "캅\tNNP,인명,T,캅,*,*,*,*\n",
      "이\tJKS,*,F,이,*,*,*,*\n",
      "잘\tMAG,*,T,잘,*,*,*,*\n",
      "설치\tNNG,행위,F,설치,*,*,*,*\n",
      "되\tXSV,*,F,되,*,*,*,*\n",
      "었\tEP,*,T,었,*,*,*,*\n",
      "는지\tEC,*,F,는지,*,*,*,*\n",
      "확인\tNNG,행위,T,확인,*,*,*,*\n",
      "중\tNNB,*,T,중,*,*,*,*\n",
      "입니다\tVCP+EF,*,F,입니다,Inflect,VCP,EF,이/VCP/*+ᄇ니다/EF/*\n",
      ".\tSF,*,*,*,*,*,*,*\n",
      "EOS\n",
      "\n"
     ]
    }
   ],
   "source": [
    "m = MeCab.Tagger()\n",
    "out = m.parse(\"미캅이 잘 설치되었는지 확인중입니다.\")\n",
    "print(out)"
   ]
  },
  {
   "cell_type": "code",
   "execution_count": 6,
   "metadata": {},
   "outputs": [
    {
     "name": "stdout",
     "output_type": "stream",
     "text": [
      "이것\tNP,*,T,이것,Inflect,NP,NP,이거/NP/*\n",
      "은\tJX,*,T,은,*,*,*,*\n",
      "메캅\tNNP,*,T,메캅,*,*,*,*,*\n",
      "테스트\tNNG,행위,F,테스트,*,*,*,*\n",
      "입니다\tVCP+EF,*,F,입니다,Inflect,VCP,EF,이/VCP/*+ᄇ니다/EF/*\n",
      ".\tSF,*,*,*,*,*,*,*\n",
      "사용자\tNNG,*,F,사용자,Compound,*,*,사용/NNG/행위+자/NNG/*\n",
      "사전\tNNG,*,T,사전,*,*,*,*\n",
      "을\tJKO,*,T,을,*,*,*,*\n",
      "등록\tNNG,행위,T,등록,*,*,*,*\n",
      "한\tXSV+ETM,*,T,한,Inflect,XSV,ETM,하/XSV/*+ᆫ/ETM/*\n",
      "후\tNNG,*,F,후,*,*,*,*\n",
      "입니다\tVCP+EF,*,F,입니다,Inflect,VCP,EF,이/VCP/*+ᄇ니다/EF/*\n",
      ".\tSF,*,*,*,*,*,*,*\n",
      "비타500\tNNP,*,T,비타500,*,*,*,*,*\n",
      "EOS\n",
      "\n"
     ]
    }
   ],
   "source": [
    "m = MeCab.Tagger()\n",
    "out = m.parse(\"이것은 메캅 테스트입니다. 사용자 사전을 등록한 후입니다. 비타500\")\n",
    "print(out)"
   ]
  },
  {
   "cell_type": "code",
   "execution_count": 13,
   "metadata": {},
   "outputs": [
    {
     "ename": "TypeError",
     "evalue": "mro() takes no arguments (1 given)",
     "output_type": "error",
     "traceback": [
      "\u001b[1;31m---------------------------------------------------------------------------\u001b[0m",
      "\u001b[1;31mTypeError\u001b[0m                                 Traceback (most recent call last)",
      "\u001b[1;32m<ipython-input-13-e77d50b9f47f>\u001b[0m in \u001b[0;36m<module>\u001b[1;34m\u001b[0m\n\u001b[1;32m----> 1\u001b[1;33m \u001b[0mMeCab\u001b[0m\u001b[1;33m.\u001b[0m\u001b[0mTagger\u001b[0m\u001b[1;33m.\u001b[0m\u001b[0mmro\u001b[0m\u001b[1;33m(\u001b[0m\u001b[1;34m\"이것은 메캅 테스트입니다. 사용자 사전을 추가한 후입니다.\"\u001b[0m\u001b[1;33m)\u001b[0m\u001b[1;33m\u001b[0m\u001b[1;33m\u001b[0m\u001b[0m\n\u001b[0m",
      "\u001b[1;31mTypeError\u001b[0m: mro() takes no arguments (1 given)"
     ]
    }
   ],
   "source": [
    "MeCab.Tagger.mro(\"이것은 메캅 테스트입니다. 사용자 사전을 추가한 후입니다.\")"
   ]
  },
  {
   "cell_type": "code",
   "execution_count": 1,
   "metadata": {},
   "outputs": [
    {
     "name": "stdout",
     "output_type": "stream",
     "text": [
      "Collecting eunjeon\n",
      "  Using cached eunjeon-0.4.0.tar.gz (34.7 MB)\n",
      "Building wheels for collected packages: eunjeon\n",
      "  Building wheel for eunjeon (setup.py): started\n",
      "  Building wheel for eunjeon (setup.py): finished with status 'error'\n",
      "  Running setup.py clean for eunjeon\n",
      "Failed to build eunjeon\n",
      "Installing collected packages: eunjeon\n",
      "    Running setup.py install for eunjeon: started\n",
      "    Running setup.py install for eunjeon: finished with status 'error'\n",
      "Note: you may need to restart the kernel to use updated packages.\n"
     ]
    },
    {
     "name": "stderr",
     "output_type": "stream",
     "text": [
      "  ERROR: Command errored out with exit status 1:\n",
      "   command: 'C:\\Users\\CPB06GameN\\miniconda3\\python.exe' -u -c 'import sys, setuptools, tokenize; sys.argv[0] = '\"'\"'C:\\\\Users\\\\CPB06GameN\\\\AppData\\\\Local\\\\Temp\\\\pip-install-muu28uaa\\\\eunjeon\\\\setup.py'\"'\"'; __file__='\"'\"'C:\\\\Users\\\\CPB06GameN\\\\AppData\\\\Local\\\\Temp\\\\pip-install-muu28uaa\\\\eunjeon\\\\setup.py'\"'\"';f=getattr(tokenize, '\"'\"'open'\"'\"', open)(__file__);code=f.read().replace('\"'\"'\\r\\n'\"'\"', '\"'\"'\\n'\"'\"');f.close();exec(compile(code, __file__, '\"'\"'exec'\"'\"'))' bdist_wheel -d 'C:\\Users\\CPB06GameN\\AppData\\Local\\Temp\\pip-wheel-mpa6hd7w'\n",
      "       cwd: C:\\Users\\CPB06GameN\\AppData\\Local\\Temp\\pip-install-muu28uaa\\eunjeon\\\n",
      "  Complete output (64 lines):\n",
      "  running bdist_wheel\n",
      "  running build\n",
      "  running build_py\n",
      "  creating build\n",
      "  creating build\\lib.win-amd64-3.8\n",
      "  creating build\\lib.win-amd64-3.8\\eunjeon\n",
      "  copying eunjeon\\constants.py -> build\\lib.win-amd64-3.8\\eunjeon\n",
      "  copying eunjeon\\mecab.py -> build\\lib.win-amd64-3.8\\eunjeon\n",
      "  copying eunjeon\\_mecab.py -> build\\lib.win-amd64-3.8\\eunjeon\n",
      "  copying eunjeon\\__init__.py -> build\\lib.win-amd64-3.8\\eunjeon\n",
      "  creating build\\lib.win-amd64-3.8\\eunjeon\\data\n",
      "  copying eunjeon\\data\\char.bin -> build\\lib.win-amd64-3.8\\eunjeon\\data\n",
      "  copying eunjeon\\data\\matrix.bin -> build\\lib.win-amd64-3.8\\eunjeon\\data\n",
      "  copying eunjeon\\data\\model.bin -> build\\lib.win-amd64-3.8\\eunjeon\\data\n",
      "  copying eunjeon\\data\\char.def -> build\\lib.win-amd64-3.8\\eunjeon\\data\n",
      "  copying eunjeon\\data\\feature.def -> build\\lib.win-amd64-3.8\\eunjeon\\data\n",
      "  copying eunjeon\\data\\left-id.def -> build\\lib.win-amd64-3.8\\eunjeon\\data\n",
      "  copying eunjeon\\data\\pos-id.def -> build\\lib.win-amd64-3.8\\eunjeon\\data\n",
      "  copying eunjeon\\data\\rewrite.def -> build\\lib.win-amd64-3.8\\eunjeon\\data\n",
      "  copying eunjeon\\data\\right-id.def -> build\\lib.win-amd64-3.8\\eunjeon\\data\n",
      "  copying eunjeon\\data\\unk.def -> build\\lib.win-amd64-3.8\\eunjeon\\data\n",
      "  copying eunjeon\\data\\sys.dic -> build\\lib.win-amd64-3.8\\eunjeon\\data\n",
      "  copying eunjeon\\data\\unk.dic -> build\\lib.win-amd64-3.8\\eunjeon\\data\n",
      "  copying eunjeon\\data\\dicrc -> build\\lib.win-amd64-3.8\\eunjeon\\data\n",
      "  copying eunjeon\\data\\mecabrc -> build\\lib.win-amd64-3.8\\eunjeon\\data\n",
      "  copying eunjeon\\data\\libmecab.dll -> build\\lib.win-amd64-3.8\\eunjeon\\data\n",
      "  copying eunjeon\\data\\mecab-cost-train.exe -> build\\lib.win-amd64-3.8\\eunjeon\\data\n",
      "  copying eunjeon\\data\\mecab-dict-gen.exe -> build\\lib.win-amd64-3.8\\eunjeon\\data\n",
      "  copying eunjeon\\data\\mecab-dict-index.exe -> build\\lib.win-amd64-3.8\\eunjeon\\data\n",
      "  copying eunjeon\\data\\mecab-system-eval.exe -> build\\lib.win-amd64-3.8\\eunjeon\\data\n",
      "  copying eunjeon\\data\\mecab-test-gen.exe -> build\\lib.win-amd64-3.8\\eunjeon\\data\n",
      "  copying eunjeon\\data\\mecab.exe -> build\\lib.win-amd64-3.8\\eunjeon\\data\n",
      "  creating build\\lib.win-amd64-3.8\\eunjeon\\data\\sdk\n",
      "  copying eunjeon\\data\\sdk\\libmecab.lib -> build\\lib.win-amd64-3.8\\eunjeon\\data\\sdk\n",
      "  copying eunjeon\\data\\sdk\\mecab-cost-train.lib -> build\\lib.win-amd64-3.8\\eunjeon\\data\\sdk\n",
      "  copying eunjeon\\data\\sdk\\mecab-dict-gen.lib -> build\\lib.win-amd64-3.8\\eunjeon\\data\\sdk\n",
      "  copying eunjeon\\data\\sdk\\mecab-dict-index.lib -> build\\lib.win-amd64-3.8\\eunjeon\\data\\sdk\n",
      "  copying eunjeon\\data\\sdk\\mecab-system-eval.lib -> build\\lib.win-amd64-3.8\\eunjeon\\data\\sdk\n",
      "  copying eunjeon\\data\\sdk\\mecab-test-gen.lib -> build\\lib.win-amd64-3.8\\eunjeon\\data\\sdk\n",
      "  copying eunjeon\\data\\sdk\\mecab.h -> build\\lib.win-amd64-3.8\\eunjeon\\data\\sdk\n",
      "  copying eunjeon\\data\\sdk\\mecab.lib -> build\\lib.win-amd64-3.8\\eunjeon\\data\\sdk\n",
      "  running build_ext\n",
      "  building '_MeCab' extension\n",
      "  creating build\\temp.win-amd64-3.8\n",
      "  creating build\\temp.win-amd64-3.8\\Release\n",
      "  creating build\\temp.win-amd64-3.8\\Release\\eunjeon\n",
      "  C:\\Users\\CPB06GameN\\miniconda3\\Library\\mingw-w64\\bin\\gcc.exe -mdll -O -Wall -DMS_WIN64 -Ieunjeon/data/sdk -IC:\\Users\\CPB06GameN\\miniconda3\\include -IC:\\Users\\CPB06GameN\\miniconda3\\include -c eunjeon/MeCab_wrap.cxx -o build\\temp.win-amd64-3.8\\Release\\eunjeon\\mecab_wrap.o\n",
      "  writing build\\temp.win-amd64-3.8\\Release\\eunjeon\\_MeCab.cp38-win_amd64.def\n",
      "  C:\\Users\\CPB06GameN\\miniconda3\\Library\\mingw-w64\\bin\\g++.exe -shared -s build\\temp.win-amd64-3.8\\Release\\eunjeon\\mecab_wrap.o build\\temp.win-amd64-3.8\\Release\\eunjeon\\_MeCab.cp38-win_amd64.def -Leunjeon/data/sdk -LC:\\Users\\CPB06GameN\\miniconda3\\libs -LC:\\Users\\CPB06GameN\\miniconda3\\PCbuild\\amd64 -llibmecab -lpython38 -lmsvcr140 -o build\\lib.win-amd64-3.8\\_MeCab.cp38-win_amd64.pyd\n",
      "  build\\temp.win-amd64-3.8\\Release\\eunjeon\\mecab_wrap.o:MeCab_wrap.cxx:(.text+0x1a29): undefined reference to `__imp__ZN5MeCab13createLatticeEv'\n",
      "  build\\temp.win-amd64-3.8\\Release\\eunjeon\\mecab_wrap.o:MeCab_wrap.cxx:(.text+0x2fef): undefined reference to `MeCab::Model::version()'\n",
      "  build\\temp.win-amd64-3.8\\Release\\eunjeon\\mecab_wrap.o:MeCab_wrap.cxx:(.text+0x3949): undefined reference to `MeCab::Tagger::version()'\n",
      "  build\\temp.win-amd64-3.8\\Release\\eunjeon\\mecab_wrap.o:MeCab_wrap.cxx:(.text+0x96cb): undefined reference to `MeCab::Tagger::parse(MeCab::Model const&, MeCab::Lattice*)'\n",
      "  build\\temp.win-amd64-3.8\\Release\\eunjeon\\mecab_wrap.o:MeCab_wrap.cxx:(.text+0xa606): undefined reference to `__imp__ZN5MeCab12createTaggerEPKc'\n",
      "  build\\temp.win-amd64-3.8\\Release\\eunjeon\\mecab_wrap.o:MeCab_wrap.cxx:(.text+0xa62e): undefined reference to `__imp__ZN5MeCab12getLastErrorEv'\n",
      "  build\\temp.win-amd64-3.8\\Release\\eunjeon\\mecab_wrap.o:MeCab_wrap.cxx:(.text+0xa677): undefined reference to `__imp__ZN5MeCab12createTaggerEPKc'\n",
      "  build\\temp.win-amd64-3.8\\Release\\eunjeon\\mecab_wrap.o:MeCab_wrap.cxx:(.text+0xa68f): undefined reference to `__imp__ZN5MeCab12getLastErrorEv'\n",
      "  build\\temp.win-amd64-3.8\\Release\\eunjeon\\mecab_wrap.o:MeCab_wrap.cxx:(.text+0xaa1e): undefined reference to `__imp__ZN5MeCab11createModelEPKc'\n",
      "  build\\temp.win-amd64-3.8\\Release\\eunjeon\\mecab_wrap.o:MeCab_wrap.cxx:(.text+0xaa46): undefined reference to `__imp__ZN5MeCab12getLastErrorEv'\n",
      "  build\\temp.win-amd64-3.8\\Release\\eunjeon\\mecab_wrap.o:MeCab_wrap.cxx:(.text+0xaa8f): undefined reference to `__imp__ZN5MeCab11createModelEPKc'\n",
      "  build\\temp.win-amd64-3.8\\Release\\eunjeon\\mecab_wrap.o:MeCab_wrap.cxx:(.text+0xaaa7): undefined reference to `__imp__ZN5MeCab12getLastErrorEv'\n",
      "  build\\temp.win-amd64-3.8\\Release\\eunjeon\\mecab_wrap.o:MeCab_wrap.cxx:(.text+0xadf9): undefined reference to `__imp__ZN5MeCab13createLatticeEv'\n",
      "  collect2.exe: error: ld returned 1 exit status\n",
      "  error: command 'C:\\\\Users\\\\CPB06GameN\\\\miniconda3\\\\Library\\\\mingw-w64\\\\bin\\\\g++.exe' failed with exit status 1\n",
      "  ----------------------------------------\n",
      "  ERROR: Failed building wheel for eunjeon\n",
      "    ERROR: Command errored out with exit status 1:\n",
      "     command: 'C:\\Users\\CPB06GameN\\miniconda3\\python.exe' -u -c 'import sys, setuptools, tokenize; sys.argv[0] = '\"'\"'C:\\\\Users\\\\CPB06GameN\\\\AppData\\\\Local\\\\Temp\\\\pip-install-muu28uaa\\\\eunjeon\\\\setup.py'\"'\"'; __file__='\"'\"'C:\\\\Users\\\\CPB06GameN\\\\AppData\\\\Local\\\\Temp\\\\pip-install-muu28uaa\\\\eunjeon\\\\setup.py'\"'\"';f=getattr(tokenize, '\"'\"'open'\"'\"', open)(__file__);code=f.read().replace('\"'\"'\\r\\n'\"'\"', '\"'\"'\\n'\"'\"');f.close();exec(compile(code, __file__, '\"'\"'exec'\"'\"'))' install --record 'C:\\Users\\CPB06GameN\\AppData\\Local\\Temp\\pip-record-8eq1qbw5\\install-record.txt' --single-version-externally-managed --compile --install-headers 'C:\\Users\\CPB06GameN\\miniconda3\\Include\\eunjeon'\n",
      "         cwd: C:\\Users\\CPB06GameN\\AppData\\Local\\Temp\\pip-install-muu28uaa\\eunjeon\\\n",
      "    Complete output (64 lines):\n",
      "    running install\n",
      "    running build\n",
      "    running build_py\n",
      "    creating build\n",
      "    creating build\\lib.win-amd64-3.8\n",
      "    creating build\\lib.win-amd64-3.8\\eunjeon\n",
      "    copying eunjeon\\constants.py -> build\\lib.win-amd64-3.8\\eunjeon\n",
      "    copying eunjeon\\mecab.py -> build\\lib.win-amd64-3.8\\eunjeon\n",
      "    copying eunjeon\\_mecab.py -> build\\lib.win-amd64-3.8\\eunjeon\n",
      "    copying eunjeon\\__init__.py -> build\\lib.win-amd64-3.8\\eunjeon\n",
      "    creating build\\lib.win-amd64-3.8\\eunjeon\\data\n",
      "    copying eunjeon\\data\\char.bin -> build\\lib.win-amd64-3.8\\eunjeon\\data\n",
      "    copying eunjeon\\data\\matrix.bin -> build\\lib.win-amd64-3.8\\eunjeon\\data\n",
      "    copying eunjeon\\data\\model.bin -> build\\lib.win-amd64-3.8\\eunjeon\\data\n",
      "    copying eunjeon\\data\\char.def -> build\\lib.win-amd64-3.8\\eunjeon\\data\n",
      "    copying eunjeon\\data\\feature.def -> build\\lib.win-amd64-3.8\\eunjeon\\data\n",
      "    copying eunjeon\\data\\left-id.def -> build\\lib.win-amd64-3.8\\eunjeon\\data\n",
      "    copying eunjeon\\data\\pos-id.def -> build\\lib.win-amd64-3.8\\eunjeon\\data\n",
      "    copying eunjeon\\data\\rewrite.def -> build\\lib.win-amd64-3.8\\eunjeon\\data\n",
      "    copying eunjeon\\data\\right-id.def -> build\\lib.win-amd64-3.8\\eunjeon\\data\n",
      "    copying eunjeon\\data\\unk.def -> build\\lib.win-amd64-3.8\\eunjeon\\data\n",
      "    copying eunjeon\\data\\sys.dic -> build\\lib.win-amd64-3.8\\eunjeon\\data\n",
      "    copying eunjeon\\data\\unk.dic -> build\\lib.win-amd64-3.8\\eunjeon\\data\n",
      "    copying eunjeon\\data\\dicrc -> build\\lib.win-amd64-3.8\\eunjeon\\data\n",
      "    copying eunjeon\\data\\mecabrc -> build\\lib.win-amd64-3.8\\eunjeon\\data\n",
      "    copying eunjeon\\data\\libmecab.dll -> build\\lib.win-amd64-3.8\\eunjeon\\data\n",
      "    copying eunjeon\\data\\mecab-cost-train.exe -> build\\lib.win-amd64-3.8\\eunjeon\\data\n",
      "    copying eunjeon\\data\\mecab-dict-gen.exe -> build\\lib.win-amd64-3.8\\eunjeon\\data\n",
      "    copying eunjeon\\data\\mecab-dict-index.exe -> build\\lib.win-amd64-3.8\\eunjeon\\data\n",
      "    copying eunjeon\\data\\mecab-system-eval.exe -> build\\lib.win-amd64-3.8\\eunjeon\\data\n",
      "    copying eunjeon\\data\\mecab-test-gen.exe -> build\\lib.win-amd64-3.8\\eunjeon\\data\n",
      "    copying eunjeon\\data\\mecab.exe -> build\\lib.win-amd64-3.8\\eunjeon\\data\n",
      "    creating build\\lib.win-amd64-3.8\\eunjeon\\data\\sdk\n",
      "    copying eunjeon\\data\\sdk\\libmecab.lib -> build\\lib.win-amd64-3.8\\eunjeon\\data\\sdk\n",
      "    copying eunjeon\\data\\sdk\\mecab-cost-train.lib -> build\\lib.win-amd64-3.8\\eunjeon\\data\\sdk\n",
      "    copying eunjeon\\data\\sdk\\mecab-dict-gen.lib -> build\\lib.win-amd64-3.8\\eunjeon\\data\\sdk\n",
      "    copying eunjeon\\data\\sdk\\mecab-dict-index.lib -> build\\lib.win-amd64-3.8\\eunjeon\\data\\sdk\n",
      "    copying eunjeon\\data\\sdk\\mecab-system-eval.lib -> build\\lib.win-amd64-3.8\\eunjeon\\data\\sdk\n",
      "    copying eunjeon\\data\\sdk\\mecab-test-gen.lib -> build\\lib.win-amd64-3.8\\eunjeon\\data\\sdk\n",
      "    copying eunjeon\\data\\sdk\\mecab.h -> build\\lib.win-amd64-3.8\\eunjeon\\data\\sdk\n",
      "    copying eunjeon\\data\\sdk\\mecab.lib -> build\\lib.win-amd64-3.8\\eunjeon\\data\\sdk\n",
      "    running build_ext\n",
      "    building '_MeCab' extension\n",
      "    creating build\\temp.win-amd64-3.8\n",
      "    creating build\\temp.win-amd64-3.8\\Release\n",
      "    creating build\\temp.win-amd64-3.8\\Release\\eunjeon\n",
      "    C:\\Users\\CPB06GameN\\miniconda3\\Library\\mingw-w64\\bin\\gcc.exe -mdll -O -Wall -DMS_WIN64 -Ieunjeon/data/sdk -IC:\\Users\\CPB06GameN\\miniconda3\\include -IC:\\Users\\CPB06GameN\\miniconda3\\include -c eunjeon/MeCab_wrap.cxx -o build\\temp.win-amd64-3.8\\Release\\eunjeon\\mecab_wrap.o\n",
      "    writing build\\temp.win-amd64-3.8\\Release\\eunjeon\\_MeCab.cp38-win_amd64.def\n",
      "    C:\\Users\\CPB06GameN\\miniconda3\\Library\\mingw-w64\\bin\\g++.exe -shared -s build\\temp.win-amd64-3.8\\Release\\eunjeon\\mecab_wrap.o build\\temp.win-amd64-3.8\\Release\\eunjeon\\_MeCab.cp38-win_amd64.def -Leunjeon/data/sdk -LC:\\Users\\CPB06GameN\\miniconda3\\libs -LC:\\Users\\CPB06GameN\\miniconda3\\PCbuild\\amd64 -llibmecab -lpython38 -lmsvcr140 -o build\\lib.win-amd64-3.8\\_MeCab.cp38-win_amd64.pyd\n",
      "    build\\temp.win-amd64-3.8\\Release\\eunjeon\\mecab_wrap.o:MeCab_wrap.cxx:(.text+0x1a29): undefined reference to `__imp__ZN5MeCab13createLatticeEv'\n",
      "    build\\temp.win-amd64-3.8\\Release\\eunjeon\\mecab_wrap.o:MeCab_wrap.cxx:(.text+0x2fef): undefined reference to `MeCab::Model::version()'\n",
      "    build\\temp.win-amd64-3.8\\Release\\eunjeon\\mecab_wrap.o:MeCab_wrap.cxx:(.text+0x3949): undefined reference to `MeCab::Tagger::version()'\n",
      "    build\\temp.win-amd64-3.8\\Release\\eunjeon\\mecab_wrap.o:MeCab_wrap.cxx:(.text+0x96cb): undefined reference to `MeCab::Tagger::parse(MeCab::Model const&, MeCab::Lattice*)'\n",
      "    build\\temp.win-amd64-3.8\\Release\\eunjeon\\mecab_wrap.o:MeCab_wrap.cxx:(.text+0xa606): undefined reference to `__imp__ZN5MeCab12createTaggerEPKc'\n",
      "    build\\temp.win-amd64-3.8\\Release\\eunjeon\\mecab_wrap.o:MeCab_wrap.cxx:(.text+0xa62e): undefined reference to `__imp__ZN5MeCab12getLastErrorEv'\n",
      "    build\\temp.win-amd64-3.8\\Release\\eunjeon\\mecab_wrap.o:MeCab_wrap.cxx:(.text+0xa677): undefined reference to `__imp__ZN5MeCab12createTaggerEPKc'\n",
      "    build\\temp.win-amd64-3.8\\Release\\eunjeon\\mecab_wrap.o:MeCab_wrap.cxx:(.text+0xa68f): undefined reference to `__imp__ZN5MeCab12getLastErrorEv'\n",
      "    build\\temp.win-amd64-3.8\\Release\\eunjeon\\mecab_wrap.o:MeCab_wrap.cxx:(.text+0xaa1e): undefined reference to `__imp__ZN5MeCab11createModelEPKc'\n",
      "    build\\temp.win-amd64-3.8\\Release\\eunjeon\\mecab_wrap.o:MeCab_wrap.cxx:(.text+0xaa46): undefined reference to `__imp__ZN5MeCab12getLastErrorEv'\n",
      "    build\\temp.win-amd64-3.8\\Release\\eunjeon\\mecab_wrap.o:MeCab_wrap.cxx:(.text+0xaa8f): undefined reference to `__imp__ZN5MeCab11createModelEPKc'\n",
      "    build\\temp.win-amd64-3.8\\Release\\eunjeon\\mecab_wrap.o:MeCab_wrap.cxx:(.text+0xaaa7): undefined reference to `__imp__ZN5MeCab12getLastErrorEv'\n",
      "    build\\temp.win-amd64-3.8\\Release\\eunjeon\\mecab_wrap.o:MeCab_wrap.cxx:(.text+0xadf9): undefined reference to `__imp__ZN5MeCab13createLatticeEv'\n",
      "    collect2.exe: error: ld returned 1 exit status\n",
      "    error: command 'C:\\\\Users\\\\CPB06GameN\\\\miniconda3\\\\Library\\\\mingw-w64\\\\bin\\\\g++.exe' failed with exit status 1\n",
      "    ----------------------------------------\n",
      "ERROR: Command errored out with exit status 1: 'C:\\Users\\CPB06GameN\\miniconda3\\python.exe' -u -c 'import sys, setuptools, tokenize; sys.argv[0] = '\"'\"'C:\\\\Users\\\\CPB06GameN\\\\AppData\\\\Local\\\\Temp\\\\pip-install-muu28uaa\\\\eunjeon\\\\setup.py'\"'\"'; __file__='\"'\"'C:\\\\Users\\\\CPB06GameN\\\\AppData\\\\Local\\\\Temp\\\\pip-install-muu28uaa\\\\eunjeon\\\\setup.py'\"'\"';f=getattr(tokenize, '\"'\"'open'\"'\"', open)(__file__);code=f.read().replace('\"'\"'\\r\\n'\"'\"', '\"'\"'\\n'\"'\"');f.close();exec(compile(code, __file__, '\"'\"'exec'\"'\"'))' install --record 'C:\\Users\\CPB06GameN\\AppData\\Local\\Temp\\pip-record-8eq1qbw5\\install-record.txt' --single-version-externally-managed --compile --install-headers 'C:\\Users\\CPB06GameN\\miniconda3\\Include\\eunjeon' Check the logs for full command output.\n"
     ]
    }
   ],
   "source": [
    "pip install eunjeon"
   ]
  },
  {
   "cell_type": "code",
   "execution_count": 1,
   "metadata": {},
   "outputs": [
    {
     "ename": "ModuleNotFoundError",
     "evalue": "No module named 'eunjeon'",
     "output_type": "error",
     "traceback": [
      "\u001b[1;31m---------------------------------------------------------------------------\u001b[0m",
      "\u001b[1;31mModuleNotFoundError\u001b[0m                       Traceback (most recent call last)",
      "\u001b[1;32m<ipython-input-1-3264ea7dc88d>\u001b[0m in \u001b[0;36m<module>\u001b[1;34m\u001b[0m\n\u001b[1;32m----> 1\u001b[1;33m \u001b[1;32mfrom\u001b[0m \u001b[0meunjeon\u001b[0m \u001b[1;32mimport\u001b[0m \u001b[0mMecab\u001b[0m\u001b[1;33m\u001b[0m\u001b[1;33m\u001b[0m\u001b[0m\n\u001b[0m\u001b[0;32m      2\u001b[0m \u001b[0mm\u001b[0m \u001b[1;33m=\u001b[0m \u001b[0mMecab\u001b[0m\u001b[1;33m(\u001b[0m\u001b[1;33m)\u001b[0m\u001b[1;33m\u001b[0m\u001b[1;33m\u001b[0m\u001b[0m\n\u001b[0;32m      3\u001b[0m \u001b[0mm\u001b[0m\u001b[1;33m.\u001b[0m\u001b[0mpos\u001b[0m\u001b[1;33m(\u001b[0m\u001b[1;34m\"밀키트사고싶다\"\u001b[0m\u001b[1;33m)\u001b[0m\u001b[1;33m\u001b[0m\u001b[1;33m\u001b[0m\u001b[0m\n",
      "\u001b[1;31mModuleNotFoundError\u001b[0m: No module named 'eunjeon'"
     ]
    }
   ],
   "source": [
    "from eunjeon import Mecab\n",
    "m = Mecab()\n",
    "m.pos(\"밀키트사고싶다\")"
   ]
  },
  {
   "cell_type": "code",
   "execution_count": 2,
   "metadata": {},
   "outputs": [
    {
     "ename": "ModuleNotFoundError",
     "evalue": "No module named 'eunjeon'",
     "output_type": "error",
     "traceback": [
      "\u001b[1;31m---------------------------------------------------------------------------\u001b[0m",
      "\u001b[1;31mModuleNotFoundError\u001b[0m                       Traceback (most recent call last)",
      "\u001b[1;32m<ipython-input-2-a93c849355f9>\u001b[0m in \u001b[0;36m<module>\u001b[1;34m\u001b[0m\n\u001b[1;32m----> 1\u001b[1;33m \u001b[1;32mfrom\u001b[0m \u001b[0meunjeon\u001b[0m \u001b[1;32mimport\u001b[0m \u001b[0mMecab\u001b[0m\u001b[1;33m\u001b[0m\u001b[1;33m\u001b[0m\u001b[0m\n\u001b[0m\u001b[0;32m      2\u001b[0m \u001b[0mm\u001b[0m \u001b[1;33m=\u001b[0m \u001b[0mMecab\u001b[0m\u001b[1;33m(\u001b[0m\u001b[1;33m)\u001b[0m\u001b[1;33m\u001b[0m\u001b[1;33m\u001b[0m\u001b[0m\n",
      "\u001b[1;31mModuleNotFoundError\u001b[0m: No module named 'eunjeon'"
     ]
    }
   ],
   "source": [
    "from eunjeon import Mecab\n",
    "m = Mecab()"
   ]
  },
  {
   "cell_type": "code",
   "execution_count": 3,
   "metadata": {},
   "outputs": [
    {
     "name": "stdout",
     "output_type": "stream",
     "text": [
      "Requirement already up-to-date: setuptools in c:\\users\\cpb06gamen\\miniconda3\\lib\\site-packages (57.4.0)\n",
      "Note: you may need to restart the kernel to use updated packages.\n"
     ]
    }
   ],
   "source": [
    "pip install --upgrade setuptools"
   ]
  },
  {
   "cell_type": "code",
   "execution_count": 5,
   "metadata": {},
   "outputs": [
    {
     "name": "stdout",
     "output_type": "stream",
     "text": [
      "Note: you may need to restart the kernel to use updated packages.\n"
     ]
    },
    {
     "name": "stderr",
     "output_type": "stream",
     "text": [
      "WARNING: Skipping eunjeon as it is not installed.\n"
     ]
    }
   ],
   "source": [
    "pip uninstall eunjeon"
   ]
  },
  {
   "cell_type": "code",
   "execution_count": 4,
   "metadata": {},
   "outputs": [
    {
     "ename": "SyntaxError",
     "evalue": "invalid syntax (<ipython-input-4-93a9fe38e7e9>, line 1)",
     "output_type": "error",
     "traceback": [
      "\u001b[1;36m  File \u001b[1;32m\"<ipython-input-4-93a9fe38e7e9>\"\u001b[1;36m, line \u001b[1;32m1\u001b[0m\n\u001b[1;33m    pip3 install eunjeon\u001b[0m\n\u001b[1;37m         ^\u001b[0m\n\u001b[1;31mSyntaxError\u001b[0m\u001b[1;31m:\u001b[0m invalid syntax\n"
     ]
    }
   ],
   "source": [
    "pip3 install eunjeon"
   ]
  },
  {
   "cell_type": "code",
   "execution_count": null,
   "metadata": {},
   "outputs": [],
   "source": []
  }
 ],
 "metadata": {
  "interpreter": {
   "hash": "8c1eae21719a0790335dcb83aad72b63b602cfe5cdb2bda0f60bc11d4f154e4b"
  },
  "kernelspec": {
   "display_name": "Python 3.8.5 64-bit ('base': conda)",
   "name": "python3"
  },
  "language_info": {
   "codemirror_mode": {
    "name": "ipython",
    "version": 3
   },
   "file_extension": ".py",
   "mimetype": "text/x-python",
   "name": "python",
   "nbconvert_exporter": "python",
   "pygments_lexer": "ipython3",
   "version": "3.8.5"
  },
  "orig_nbformat": 4
 },
 "nbformat": 4,
 "nbformat_minor": 2
}
