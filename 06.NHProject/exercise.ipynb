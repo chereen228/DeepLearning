{
 "metadata": {
  "language_info": {
   "codemirror_mode": {
    "name": "ipython",
    "version": 3
   },
   "file_extension": ".py",
   "mimetype": "text/x-python",
   "name": "python",
   "nbconvert_exporter": "python",
   "pygments_lexer": "ipython3",
   "version": "3.8.5"
  },
  "orig_nbformat": 4,
  "kernelspec": {
   "name": "python3",
   "display_name": "Python 3.8.5 64-bit ('base': conda)"
  },
  "interpreter": {
   "hash": "8c1eae21719a0790335dcb83aad72b63b602cfe5cdb2bda0f60bc11d4f154e4b"
  }
 },
 "nbformat": 4,
 "nbformat_minor": 2,
 "cells": [
  {
   "cell_type": "code",
   "execution_count": 1,
   "metadata": {},
   "outputs": [],
   "source": [
    "import pandas as pd \n",
    "import numpy as np "
   ]
  },
  {
   "cell_type": "code",
   "execution_count": 3,
   "metadata": {},
   "outputs": [
    {
     "output_type": "execute_result",
     "data": {
      "text/plain": [
       "  사업장         매출일  매출번호 정정취소구분      매출처명          품목명  생산년도   규격명 양곡분류구분  \\\n",
       "0  본사  2021-01-04     1     정상  일등라이스(주)   맑은물이슬미20Kg  2020  20Kg     미곡   \n",
       "1  본사  2021-01-04     2     정상     대상(주)     초정약수참드림쌀  2020  20kg     미곡   \n",
       "2  본사  2021-01-04     3     정상    (주)김가네  한토래정성드림20kg  2020  20kg     미곡   \n",
       "3  본사  2021-01-04     4     정상     대상(주)    옥토진미 20kg  2020  20kg     미곡   \n",
       "4  본사  2021-01-04     5     정상    (주)후니드         황토맥쌀  2020  20KG     미곡   \n",
       "\n",
       "    매출수량     매출단가      공급금액  \n",
       "0  720.0  52000.0  37440000  \n",
       "1  100.0  56700.0   5670000  \n",
       "2  298.0  52000.0  15496000  \n",
       "3  200.0  58000.0  11600000  \n",
       "4   35.0  52500.0   1837500  "
      ],
      "text/html": "<div>\n<style scoped>\n    .dataframe tbody tr th:only-of-type {\n        vertical-align: middle;\n    }\n\n    .dataframe tbody tr th {\n        vertical-align: top;\n    }\n\n    .dataframe thead th {\n        text-align: right;\n    }\n</style>\n<table border=\"1\" class=\"dataframe\">\n  <thead>\n    <tr style=\"text-align: right;\">\n      <th></th>\n      <th>사업장</th>\n      <th>매출일</th>\n      <th>매출번호</th>\n      <th>정정취소구분</th>\n      <th>매출처명</th>\n      <th>품목명</th>\n      <th>생산년도</th>\n      <th>규격명</th>\n      <th>양곡분류구분</th>\n      <th>매출수량</th>\n      <th>매출단가</th>\n      <th>공급금액</th>\n    </tr>\n  </thead>\n  <tbody>\n    <tr>\n      <th>0</th>\n      <td>본사</td>\n      <td>2021-01-04</td>\n      <td>1</td>\n      <td>정상</td>\n      <td>일등라이스(주)</td>\n      <td>맑은물이슬미20Kg</td>\n      <td>2020</td>\n      <td>20Kg</td>\n      <td>미곡</td>\n      <td>720.0</td>\n      <td>52000.0</td>\n      <td>37440000</td>\n    </tr>\n    <tr>\n      <th>1</th>\n      <td>본사</td>\n      <td>2021-01-04</td>\n      <td>2</td>\n      <td>정상</td>\n      <td>대상(주)</td>\n      <td>초정약수참드림쌀</td>\n      <td>2020</td>\n      <td>20kg</td>\n      <td>미곡</td>\n      <td>100.0</td>\n      <td>56700.0</td>\n      <td>5670000</td>\n    </tr>\n    <tr>\n      <th>2</th>\n      <td>본사</td>\n      <td>2021-01-04</td>\n      <td>3</td>\n      <td>정상</td>\n      <td>(주)김가네</td>\n      <td>한토래정성드림20kg</td>\n      <td>2020</td>\n      <td>20kg</td>\n      <td>미곡</td>\n      <td>298.0</td>\n      <td>52000.0</td>\n      <td>15496000</td>\n    </tr>\n    <tr>\n      <th>3</th>\n      <td>본사</td>\n      <td>2021-01-04</td>\n      <td>4</td>\n      <td>정상</td>\n      <td>대상(주)</td>\n      <td>옥토진미 20kg</td>\n      <td>2020</td>\n      <td>20kg</td>\n      <td>미곡</td>\n      <td>200.0</td>\n      <td>58000.0</td>\n      <td>11600000</td>\n    </tr>\n    <tr>\n      <th>4</th>\n      <td>본사</td>\n      <td>2021-01-04</td>\n      <td>5</td>\n      <td>정상</td>\n      <td>(주)후니드</td>\n      <td>황토맥쌀</td>\n      <td>2020</td>\n      <td>20KG</td>\n      <td>미곡</td>\n      <td>35.0</td>\n      <td>52500.0</td>\n      <td>1837500</td>\n    </tr>\n  </tbody>\n</table>\n</div>"
     },
     "metadata": {},
     "execution_count": 3
    }
   ],
   "source": [
    "nh = pd.read_csv('data/농협양곡 매출데이터(2021년).csv')\n",
    "nh.head()"
   ]
  },
  {
   "cell_type": "code",
   "execution_count": 11,
   "metadata": {},
   "outputs": [
    {
     "output_type": "execute_result",
     "data": {
      "text/plain": [
       "(주)농협유통양재점                     7787\n",
       "(주)농협하나로유통 성남점(식자재)            7623\n",
       "(주)부산경남유통부산점(도매)               7009\n",
       "(주)농협유통창동유통센터(소매)              6986\n",
       "(주)농협하나로유통 수원점(식자재)            5668\n",
       "(주)농협하나로유통 고양점(소매)             4649\n",
       "(주)부산경남유통부산점                   4156\n",
       "(주)농협대전유통(도매)                  3545\n",
       "(주)충북유통(도매)                    2806\n",
       "(주)농협하나로유통 삼송점(소매)             2740\n",
       "울산유통센터(소매)                     2656\n",
       "(주)농협하나로달성유통센터(도매)             2479\n",
       "(주)농협하나로유통 목포점(식자재)            2377\n",
       "(주)농협하나로유통 성서점                 2272\n",
       "소매매출                           2148\n",
       "(주)농협하나로유통 광주점(소매)             2018\n",
       "(주)농협하나로유통 김해점(소매)             1879\n",
       "(주)농협하나로유통 동탄점(식자재)            1775\n",
       "(주)농협유통전주유통센터(도매)              1675\n",
       "(주)농협하나로유통 삼송점(식자재)            1652\n",
       "(주)농협하나로유통 양산점                 1634\n",
       "(주)농협하나로유통 신촌점(소매)             1490\n",
       "양주유통센터(소매)                     1368\n",
       "울산유통센터(식자재)                    1338\n",
       "주식회사 여주농산                      1205\n",
       "(주)농협유통상계점                     1183\n",
       "(주)충북유통(소매)                    1134\n",
       "농협양곡(주) 본사                     1134\n",
       "예찬                             1121\n",
       "(주)농협유통용인점                     1108\n",
       "(주)농협유통방이역점                    1066\n",
       "(주)농협유통양재식재료전문매장               1041\n",
       "(주)농협유통용산점                     1021\n",
       "(주)농협하나로유통 봉담점                  990\n",
       "농협양곡(주) 통합구매(구 안성양곡유통-통합구매)     959\n",
       "(주)농협하나로유통 광주점(식자재)             920\n",
       "(주)농협유통창동유통센터(식자재)              903\n",
       "(주)농협유통성내점                      897\n",
       "(주)농협유통 흑석점                     860\n",
       "(주)농협유통청담점                      836\n",
       "(주)농협하나로유통 창원점(소매)              816\n",
       "고양유통센터(급식)                      784\n",
       "(주)농협유통대치점                      766\n",
       "(주)농협하나로유통 김해점(식자재)             732\n",
       "(주)농협하나로유통 옥동점                  719\n",
       "(주)농협유통 고덕점(소매)                 705\n",
       "롯데상사(주)마트                       699\n",
       "(주)농협하나로유통 반림점                  668\n",
       "(주)농협하나로유통 군위점(소매)              648\n",
       "(주)농협하나로유통 서대문점                 647\n",
       "(주)농협유통미아점                      632\n",
       "(주)농협유통수서점                      598\n",
       "(주)농협유통성산점                      591\n",
       "(주)농협유통가좌점                      566\n",
       "(주)농협하나로유통 사파점                  564\n",
       "(주)농협하나로유통 남양점                  560\n",
       "롯데상사(주) 온라인몰                    554\n",
       "(주)농협유통소사점                      548\n",
       "(주)농협유통교하점                      546\n",
       "(주)농협유통광교점                      534\n",
       "Name: 매출처명, dtype: int64"
      ]
     },
     "metadata": {},
     "execution_count": 11
    }
   ],
   "source": [
    "nh.매출처명.value_counts().head(60)"
   ]
  },
  {
   "cell_type": "code",
   "execution_count": null,
   "metadata": {},
   "outputs": [],
   "source": []
  }
 ]
}