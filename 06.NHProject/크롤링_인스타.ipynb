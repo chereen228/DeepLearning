{
 "cells": [
  {
   "cell_type": "code",
   "execution_count": 1,
   "source": [
    "from selenium import webdriver\r\n",
    "from bs4 import BeautifulSoup\r\n",
    "import re\r\n",
    "import pandas as pd\r\n",
    "import time\r\n",
    "import sys\r\n",
    "\r\n",
    "def PAGE_DOWN():\r\n",
    "    driver.execute_script(\"window.scrollTo(0, document.body.scrollHeight);\")\r\n",
    "    time.sleep(3)\r\n",
    "    \r\n",
    "keyword = input(\"인스타그램에서 원하는 검색어를 입력하세요: \")\r\n",
    "#count_down = int(input('스크롤 다운 횟수를 입력하세요(정수입력):'))\r\n",
    "\r\n",
    "driver = webdriver.Chrome(\"./chromedriver\")\r\n",
    "driver.get(\"https://www.instagram.com/\")\r\n",
    "time.sleep(3)\r\n",
    "id_ = 'chaerin1295'\r\n",
    "pw = 'greeny26'\r\n",
    "# 로그인 \r\n",
    "id_input = driver.find_element_by_css_selector('#loginForm > div > div:nth-child(1) > div > label > input')\r\n",
    "id_input.send_keys(id_)\r\n",
    "password_input = driver.find_element_by_css_selector('#loginForm > div > div:nth-child(2) > div > label > input')\r\n",
    "password_input.send_keys(pw)\r\n",
    "driver.find_element_by_css_selector(\"#loginForm > div > div:nth-child(3)\").click()\r\n",
    "time.sleep(3)\r\n",
    "state = input('로그인이 잘 되었나요?[y/n]:')\r\n",
    "if state == 'n' or state == 'N' or state == 'ㅜ':\r\n",
    "    print('종료합니다.')\r\n",
    "    driver.close()\r\n",
    "    sys.exit()\r\n",
    "else:\r\n",
    "    pass"
   ],
   "outputs": [],
   "metadata": {}
  },
  {
   "cell_type": "code",
   "execution_count": 9,
   "source": [
    "#driver.find_element_by_css_selector('body > div.RnEpo.Yx5HN > div > div > div > div.mt3GC > button.aOOlW.HoLwm').click()"
   ],
   "outputs": [],
   "metadata": {}
  },
  {
   "cell_type": "code",
   "execution_count": 2,
   "source": [
    "# 검색결과 페이지로 이동\r\n",
    "url = 'https://www.instagram.com/explore/tags/'\r\n",
    "keyword='밥'\r\n",
    "driver.get(url+keyword)\r\n",
    "time.sleep(3)\r\n",
    "body = driver.find_element_by_tag_name('body')"
   ],
   "outputs": [],
   "metadata": {}
  },
  {
   "cell_type": "code",
   "execution_count": 3,
   "source": [
    "## 첫 번째 게시물 클릭 \r\n",
    "first_post = driver.find_element_by_css_selector('#react-root > section > main > article > div.EZdmt > div > div > div:nth-child(1) > div:nth-child(1) > a > div > div._9AhH0')\r\n",
    "first_post.click()"
   ],
   "outputs": [],
   "metadata": {}
  },
  {
   "cell_type": "markdown",
   "source": [
    "## 본문 내용\r\n",
    "content = soup.select('div.C4VMK > span')[0].text except: content = ' '\r\n",
    "\r\n",
    "## 해시태그\r\n",
    "tags = re.findall(r'#[^\\s#,\\\\]+', content) \r\n",
    "\r\n",
    "## 날짜\r\n",
    "dtime = str(soup.select('time._1o9PC.Nzb55')[0]['datetime'])\r\n",
    "date = dtime[:10]"
   ],
   "metadata": {}
  },
  {
   "cell_type": "code",
   "execution_count": 4,
   "source": [
    "#본문 내용 가져오기\r\n",
    "\r\n",
    "def get_content(driver):\r\n",
    "\r\n",
    "    html = driver.page_source\r\n",
    "    soup = BeautifulSoup(html,'html.parser')\r\n",
    "    \r\n",
    "    #본문내용\r\n",
    "    try:\r\n",
    "        content = soup.select('div.C4VMK > span')[0].text\r\n",
    "    except:\r\n",
    "        content = ' '\r\n",
    "\r\n",
    "    #날짜\r\n",
    "    try:\r\n",
    "        dtime = str(soup.select('time._1o9PC.Nzb55')[0]['datetime'])\r\n",
    "        date = dtime[:10]\r\n",
    "    except:\r\n",
    "        date = ' '\r\n",
    "\r\n",
    "    # 해시태그 \r\n",
    "    try: \r\n",
    "        tags = re.findall(r'#[^\\s#,\\\\]+', content) \r\n",
    "        \r\n",
    "    except:\r\n",
    "        tags=' '\r\n",
    "\r\n",
    "    data = [date, tags]\r\n",
    "    return data\r\n",
    "\r\n",
    "#get_content(driver)"
   ],
   "outputs": [],
   "metadata": {}
  },
  {
   "cell_type": "code",
   "execution_count": 5,
   "source": [
    "def next_page(driver):\r\n",
    "    next_page = driver.find_element_by_css_selector('body > div._2dDPU.CkGkG > div.EfHg9 > div > div > a._65Bje.coreSpriteRightPaginationArrow')\r\n",
    "    next_page.click()\r\n",
    "    time.sleep(3)\r\n",
    "    \r\n",
    "#next_page(driver)"
   ],
   "outputs": [],
   "metadata": {}
  },
  {
   "cell_type": "code",
   "execution_count": 6,
   "source": [
    "#크롤링 결과를담을 리스트 생성\r\n",
    "result = []\r\n",
    "\r\n",
    "# 여러 게시글 수집하기\r\n",
    "target = 1200     # 크롤링할 게시글 수\r\n",
    "for i in range(target):\r\n",
    "    # 게시글 수집에 오류 발생시 5초 대기후, 다음 게시글로 넘어가도록 예외처리 구문 활용\r\n",
    "    try: \r\n",
    "        try:\r\n",
    "            data = get_content(driver)    # 게시글 정보 가져오기\r\n",
    "            result.append(data)\r\n",
    "            next_page(driver)\r\n",
    "        except:\r\n",
    "            driver.implicitly_wait(10)\r\n",
    "            next_page(driver)\r\n",
    "\r\n",
    "    except:\r\n",
    "        break\r\n",
    "        \r\n",
    "    if i % 10 == 0:\r\n",
    "        df = pd.DataFrame({'결과' : result})\r\n",
    "        df.to_csv(f'data/insta_밥_{i}th.csv',encoding='utf-8-sig',index=False)"
   ],
   "outputs": [],
   "metadata": {}
  },
  {
   "cell_type": "code",
   "execution_count": 10,
   "source": [
    "result[:2]"
   ],
   "outputs": [
    {
     "output_type": "execute_result",
     "data": {
      "text/plain": [
       "[['2021-08-04', []],\n",
       " ['2021-07-13', ['#아침식사', '#피마자', '#나물남편은']]]"
      ]
     },
     "metadata": {},
     "execution_count": 10
    }
   ],
   "metadata": {}
  },
  {
   "cell_type": "code",
   "execution_count": 19,
   "source": [
    "df = pd.DataFrame(result)\r\n",
    "df.columns = ['dates','tags']\r\n",
    "df.to_csv('인스타해시태그_밥.csv', index=False, encoding='utf-8-sig')"
   ],
   "outputs": [],
   "metadata": {}
  }
 ],
 "metadata": {
  "orig_nbformat": 4,
  "language_info": {
   "name": "python",
   "version": "3.8.5",
   "mimetype": "text/x-python",
   "codemirror_mode": {
    "name": "ipython",
    "version": 3
   },
   "pygments_lexer": "ipython3",
   "nbconvert_exporter": "python",
   "file_extension": ".py"
  },
  "kernelspec": {
   "name": "python3",
   "display_name": "Python 3.8.5 64-bit ('base': conda)"
  },
  "interpreter": {
   "hash": "8c1eae21719a0790335dcb83aad72b63b602cfe5cdb2bda0f60bc11d4f154e4b"
  }
 },
 "nbformat": 4,
 "nbformat_minor": 2
}