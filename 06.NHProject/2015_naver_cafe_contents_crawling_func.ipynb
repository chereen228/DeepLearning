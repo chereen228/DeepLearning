{
 "cells": [
  {
   "cell_type": "markdown",
   "metadata": {},
   "source": [
    "# 네이버 카페 contents 크롤링 _함수이용\n",
    "제목/ 닉네임/ 날짜 / 내용/ 댓글 데이터 여러 페이지 한번에 가져오기"
   ]
  },
  {
   "cell_type": "code",
   "execution_count": 1,
   "metadata": {},
   "outputs": [],
   "source": [
    "import requests\n",
    "import pandas as pd\n",
    "\n",
    "import time\n",
    "from selenium import webdriver\n",
    "from selenium.webdriver.common.keys import Keys\n",
    "\n",
    "import urllib.request\n",
    "from bs4 import BeautifulSoup"
   ]
  },
  {
   "cell_type": "markdown",
   "metadata": {},
   "source": [
    "### 2019 네이버 키워드 '쌀'\n",
    "1차 바이럴제거를 위해 검색 설정\n",
    "\n",
    ": 쌀 -업체, -제공받, -지원받, -원고료, -무상, -협찬, -소정의, -사료, -고래밥, -길냥이, -고양이, -강아지\n",
    "\n",
    "https://search.naver.com/search.naver?sm=tab_hty.top&where=article&query=%EC%8C%80&oquery=Tkf&tqi=hdzB%2Fdp0YihssA3p2MGssssss3s-479049&nso=so%3Ar%2Cp%3Afrom20150101to20151231\n",
    "\n",
    "## 01월\n",
    "https://search.naver.com/search.naver?where=article&query=%EC%8C%80%20-%EC%97%85%EC%B2%B4%2C%20-%EC%A0%9C%EA%B3%B5%EB%B0%9B%2C%20-%EC%A7%80%EC%9B%90%EB%B0%9B%2C%20-%EC%9B%90%EA%B3%A0%EB%A3%8C%2C%20-%EB%AC%B4%EC%83%81%2C%20-%ED%98%91%EC%B0%AC%2C%20-%EC%86%8C%EC%A0%95%EC%9D%98%2C%20-%EC%82%AC%EB%A3%8C%2C%20-%EA%B3%A0%EB%9E%98%EB%B0%A5%2C%20-%EA%B8%B8%EB%83%A5%EC%9D%B4%2C%20-%EA%B3%A0%EC%96%91%EC%9D%B4%2C%20-%EA%B0%95%EC%95%84%EC%A7%80&ie=utf8&st=rel&date_option=99&date_from=2019.01.01&date_to=2019.01.31&board=&srchby=text&dup_remove=1&cafe_url=&without_cafe_url=&sm=tab_opt&nso=so%3Ar%2Cp%3Afrom20190101to20190131&nso_open=1&t=0&mson=0&prdtype=0\n",
    "\n",
    "## 02월\n",
    "https://search.naver.com/search.naver?where=article&query=%EC%8C%80%20-%EC%97%85%EC%B2%B4%2C%20-%EC%A0%9C%EA%B3%B5%EB%B0%9B%2C%20-%EC%A7%80%EC%9B%90%EB%B0%9B%2C%20-%EC%9B%90%EA%B3%A0%EB%A3%8C%2C%20-%EB%AC%B4%EC%83%81%2C%20-%ED%98%91%EC%B0%AC%2C%20-%EC%86%8C%EC%A0%95%EC%9D%98%2C%20-%EC%82%AC%EB%A3%8C%2C%20-%EA%B3%A0%EB%9E%98%EB%B0%A5%2C%20-%EA%B8%B8%EB%83%A5%EC%9D%B4%2C%20-%EA%B3%A0%EC%96%91%EC%9D%B4%2C%20-%EA%B0%95%EC%95%84%EC%A7%80&ie=utf8&st=rel&date_option=99&date_from=2019.02.01&date_to=2019.02.28&board=&srchby=text&dup_remove=1&cafe_url=&without_cafe_url=&sm=tab_opt&nso=so%3Ar%2Cp%3Afrom20190201to20190228&nso_open=1&t=0&mson=0&prdtype=0\n",
    "\n",
    "## 03월\n",
    "https://search.naver.com/search.naver?where=article&query=%EC%8C%80%20-%EC%97%85%EC%B2%B4%2C%20-%EC%A0%9C%EA%B3%B5%EB%B0%9B%2C%20-%EC%A7%80%EC%9B%90%EB%B0%9B%2C%20-%EC%9B%90%EA%B3%A0%EB%A3%8C%2C%20-%EB%AC%B4%EC%83%81%2C%20-%ED%98%91%EC%B0%AC%2C%20-%EC%86%8C%EC%A0%95%EC%9D%98%2C%20-%EC%82%AC%EB%A3%8C%2C%20-%EA%B3%A0%EB%9E%98%EB%B0%A5%2C%20-%EA%B8%B8%EB%83%A5%EC%9D%B4%2C%20-%EA%B3%A0%EC%96%91%EC%9D%B4%2C%20-%EA%B0%95%EC%95%84%EC%A7%80&ie=utf8&st=rel&date_option=99&date_from=2019.03.01&date_to=2019.03.31&board=&srchby=text&dup_remove=1&cafe_url=&without_cafe_url=&sm=tab_opt&nso=so%3Ar%2Cp%3Afrom20190301to20190331&nso_open=1&t=0&mson=0&prdtype=0\n",
    "\n",
    "## 04월\n",
    "https://search.naver.com/search.naver?where=article&query=%EC%8C%80%20-%EC%97%85%EC%B2%B4%2C%20-%EC%A0%9C%EA%B3%B5%EB%B0%9B%2C%20-%EC%A7%80%EC%9B%90%EB%B0%9B%2C%20-%EC%9B%90%EA%B3%A0%EB%A3%8C%2C%20-%EB%AC%B4%EC%83%81%2C%20-%ED%98%91%EC%B0%AC%2C%20-%EC%86%8C%EC%A0%95%EC%9D%98%2C%20-%EC%82%AC%EB%A3%8C%2C%20-%EA%B3%A0%EB%9E%98%EB%B0%A5%2C%20-%EA%B8%B8%EB%83%A5%EC%9D%B4%2C%20-%EA%B3%A0%EC%96%91%EC%9D%B4%2C%20-%EA%B0%95%EC%95%84%EC%A7%80&ie=utf8&st=rel&date_option=99&date_from=2019.04.01&date_to=2019.04.30&board=&srchby=text&dup_remove=1&cafe_url=&without_cafe_url=&sm=tab_opt&nso=so%3Ar%2Cp%3Afrom20190401to20190430&nso_open=1&t=0&mson=0&prdtype=0\n",
    "\n",
    "## 05월\n",
    "https://search.naver.com/search.naver?where=article&query=%EC%8C%80%20-%EC%97%85%EC%B2%B4%2C%20-%EC%A0%9C%EA%B3%B5%EB%B0%9B%2C%20-%EC%A7%80%EC%9B%90%EB%B0%9B%2C%20-%EC%9B%90%EA%B3%A0%EB%A3%8C%2C%20-%EB%AC%B4%EC%83%81%2C%20-%ED%98%91%EC%B0%AC%2C%20-%EC%86%8C%EC%A0%95%EC%9D%98%2C%20-%EC%82%AC%EB%A3%8C%2C%20-%EA%B3%A0%EB%9E%98%EB%B0%A5%2C%20-%EA%B8%B8%EB%83%A5%EC%9D%B4%2C%20-%EA%B3%A0%EC%96%91%EC%9D%B4%2C%20-%EA%B0%95%EC%95%84%EC%A7%80&ie=utf8&st=rel&date_option=99&date_from=2019.05.01&date_to=2019.05.31&board=&srchby=text&dup_remove=1&cafe_url=&without_cafe_url=&sm=tab_opt&nso=so%3Ar%2Cp%3Afrom20190501to20190531&nso_open=1&t=0&mson=0&prdtype=0\n",
    "\n",
    "## 06월\n",
    "https://search.naver.com/search.naver?where=article&query=%EC%8C%80%20-%EC%97%85%EC%B2%B4%2C%20-%EC%A0%9C%EA%B3%B5%EB%B0%9B%2C%20-%EC%A7%80%EC%9B%90%EB%B0%9B%2C%20-%EC%9B%90%EA%B3%A0%EB%A3%8C%2C%20-%EB%AC%B4%EC%83%81%2C%20-%ED%98%91%EC%B0%AC%2C%20-%EC%86%8C%EC%A0%95%EC%9D%98%2C%20-%EC%82%AC%EB%A3%8C%2C%20-%EA%B3%A0%EB%9E%98%EB%B0%A5%2C%20-%EA%B8%B8%EB%83%A5%EC%9D%B4%2C%20-%EA%B3%A0%EC%96%91%EC%9D%B4%2C%20-%EA%B0%95%EC%95%84%EC%A7%80&ie=utf8&st=rel&date_option=99&date_from=2019.06.01&date_to=2019.06.30&board=&srchby=text&dup_remove=1&cafe_url=&without_cafe_url=&sm=tab_opt&nso=so%3Ar%2Cp%3Afrom20190601to20190630&nso_open=1&t=0&mson=0&prdtype=0\n",
    "\n",
    "## 07월\n",
    "https://search.naver.com/search.naver?where=article&query=%EC%8C%80%20-%EC%97%85%EC%B2%B4%2C%20-%EC%A0%9C%EA%B3%B5%EB%B0%9B%2C%20-%EC%A7%80%EC%9B%90%EB%B0%9B%2C%20-%EC%9B%90%EA%B3%A0%EB%A3%8C%2C%20-%EB%AC%B4%EC%83%81%2C%20-%ED%98%91%EC%B0%AC%2C%20-%EC%86%8C%EC%A0%95%EC%9D%98%2C%20-%EC%82%AC%EB%A3%8C%2C%20-%EA%B3%A0%EB%9E%98%EB%B0%A5%2C%20-%EA%B8%B8%EB%83%A5%EC%9D%B4%2C%20-%EA%B3%A0%EC%96%91%EC%9D%B4%2C%20-%EA%B0%95%EC%95%84%EC%A7%80&ie=utf8&st=rel&date_option=99&date_from=2019.07.01&date_to=2019.07.31&board=&srchby=text&dup_remove=1&cafe_url=&without_cafe_url=&sm=tab_opt&nso=so%3Ar%2Cp%3Afrom20190701to20190731&nso_open=1&t=0&mson=0&prdtype=0\n",
    "\n",
    "## 08월\n",
    "https://search.naver.com/search.naver?where=article&query=%EC%8C%80%20-%EC%97%85%EC%B2%B4%2C%20-%EC%A0%9C%EA%B3%B5%EB%B0%9B%2C%20-%EC%A7%80%EC%9B%90%EB%B0%9B%2C%20-%EC%9B%90%EA%B3%A0%EB%A3%8C%2C%20-%EB%AC%B4%EC%83%81%2C%20-%ED%98%91%EC%B0%AC%2C%20-%EC%86%8C%EC%A0%95%EC%9D%98%2C%20-%EC%82%AC%EB%A3%8C%2C%20-%EA%B3%A0%EB%9E%98%EB%B0%A5%2C%20-%EA%B8%B8%EB%83%A5%EC%9D%B4%2C%20-%EA%B3%A0%EC%96%91%EC%9D%B4%2C%20-%EA%B0%95%EC%95%84%EC%A7%80&ie=utf8&st=rel&date_option=99&date_from=2019.08.01&date_to=2019.08.31&board=&srchby=text&dup_remove=1&cafe_url=&without_cafe_url=&sm=tab_opt&nso=so%3Ar%2Cp%3Afrom20190801to20190831&nso_open=1&t=0&mson=0&prdtype=0\n",
    "\n",
    "## 09월\n",
    "https://search.naver.com/search.naver?where=article&query=%EC%8C%80%20-%EC%97%85%EC%B2%B4%2C%20-%EC%A0%9C%EA%B3%B5%EB%B0%9B%2C%20-%EC%A7%80%EC%9B%90%EB%B0%9B%2C%20-%EC%9B%90%EA%B3%A0%EB%A3%8C%2C%20-%EB%AC%B4%EC%83%81%2C%20-%ED%98%91%EC%B0%AC%2C%20-%EC%86%8C%EC%A0%95%EC%9D%98%2C%20-%EC%82%AC%EB%A3%8C%2C%20-%EA%B3%A0%EB%9E%98%EB%B0%A5%2C%20-%EA%B8%B8%EB%83%A5%EC%9D%B4%2C%20-%EA%B3%A0%EC%96%91%EC%9D%B4%2C%20-%EA%B0%95%EC%95%84%EC%A7%80&ie=utf8&st=rel&date_option=99&date_from=2019.09.01&date_to=2019.09.30&board=&srchby=text&dup_remove=1&cafe_url=&without_cafe_url=&sm=tab_opt&nso=so%3Ar%2Cp%3Afrom20190901to20190930&nso_open=1&t=0&mson=0&prdtype=0\n",
    "\n",
    "## 10월\n",
    "https://search.naver.com/search.naver?where=article&query=%EC%8C%80%20-%EC%97%85%EC%B2%B4%2C%20-%EC%A0%9C%EA%B3%B5%EB%B0%9B%2C%20-%EC%A7%80%EC%9B%90%EB%B0%9B%2C%20-%EC%9B%90%EA%B3%A0%EB%A3%8C%2C%20-%EB%AC%B4%EC%83%81%2C%20-%ED%98%91%EC%B0%AC%2C%20-%EC%86%8C%EC%A0%95%EC%9D%98%2C%20-%EC%82%AC%EB%A3%8C%2C%20-%EA%B3%A0%EB%9E%98%EB%B0%A5%2C%20-%EA%B8%B8%EB%83%A5%EC%9D%B4%2C%20-%EA%B3%A0%EC%96%91%EC%9D%B4%2C%20-%EA%B0%95%EC%95%84%EC%A7%80&ie=utf8&st=rel&date_option=99&date_from=2019.10.01&date_to=2019.10.31&board=&srchby=text&dup_remove=1&cafe_url=&without_cafe_url=&sm=tab_opt&nso=so%3Ar%2Cp%3Afrom20191001to20191031&nso_open=1&t=0&mson=0&prdtype=0\n",
    "\n",
    "## 11월\n",
    "https://search.naver.com/search.naver?where=article&query=%EC%8C%80%20-%EC%97%85%EC%B2%B4%2C%20-%EC%A0%9C%EA%B3%B5%EB%B0%9B%2C%20-%EC%A7%80%EC%9B%90%EB%B0%9B%2C%20-%EC%9B%90%EA%B3%A0%EB%A3%8C%2C%20-%EB%AC%B4%EC%83%81%2C%20-%ED%98%91%EC%B0%AC%2C%20-%EC%86%8C%EC%A0%95%EC%9D%98%2C%20-%EC%82%AC%EB%A3%8C%2C%20-%EA%B3%A0%EB%9E%98%EB%B0%A5%2C%20-%EA%B8%B8%EB%83%A5%EC%9D%B4%2C%20-%EA%B3%A0%EC%96%91%EC%9D%B4%2C%20-%EA%B0%95%EC%95%84%EC%A7%80&ie=utf8&st=rel&date_option=99&date_from=2019.11.01&date_to=2019.11.30&board=&srchby=text&dup_remove=1&cafe_url=&without_cafe_url=&sm=tab_opt&nso=so%3Ar%2Cp%3Afrom20191101to20191130&nso_open=1&t=0&mson=0&prdtype=0\n",
    "\n",
    "## 12월\n",
    "https://search.naver.com/search.naver?where=article&query=%EC%8C%80%20-%EC%97%85%EC%B2%B4%2C%20-%EC%A0%9C%EA%B3%B5%EB%B0%9B%2C%20-%EC%A7%80%EC%9B%90%EB%B0%9B%2C%20-%EC%9B%90%EA%B3%A0%EB%A3%8C%2C%20-%EB%AC%B4%EC%83%81%2C%20-%ED%98%91%EC%B0%AC%2C%20-%EC%86%8C%EC%A0%95%EC%9D%98%2C%20-%EC%82%AC%EB%A3%8C%2C%20-%EA%B3%A0%EB%9E%98%EB%B0%A5%2C%20-%EA%B8%B8%EB%83%A5%EC%9D%B4%2C%20-%EA%B3%A0%EC%96%91%EC%9D%B4%2C%20-%EA%B0%95%EC%95%84%EC%A7%80&ie=utf8&st=rel&date_option=99&date_from=2019.12.01&date_to=2019.12.31&board=&srchby=text&dup_remove=1&cafe_url=&without_cafe_url=&sm=tab_opt&nso=so%3Ar%2Cp%3Afrom20191201to20191231&nso_open=1&t=0&mson=0&prdtype=0"
   ]
  },
  {
   "cell_type": "code",
   "execution_count": 12,
   "metadata": {},
   "outputs": [],
   "source": [
    "#쌀\n",
    "driver = webdriver.Chrome('./chromedriver') \n",
    "driver.implicitly_wait(4) # 바로 에러넘기지 말고 기다리는 시간 4초 설정\n",
    "driver.get('https://search.naver.com/search.naver?where=article&query=%EC%8C%80%20-%EC%97%85%EC%B2%B4%2C%20-%EC%A0%9C%EA%B3%B5%EB%B0%9B%2C%20-%EC%A7%80%EC%9B%90%EB%B0%9B%2C%20-%EC%9B%90%EA%B3%A0%EB%A3%8C%2C%20-%EB%AC%B4%EC%83%81%2C%20-%ED%98%91%EC%B0%AC%2C%20-%EC%86%8C%EC%A0%95%EC%9D%98%2C%20-%EC%82%AC%EB%A3%8C%2C%20-%EA%B3%A0%EB%9E%98%EB%B0%A5%2C%20-%EA%B8%B8%EB%83%A5%EC%9D%B4%2C%20-%EA%B3%A0%EC%96%91%EC%9D%B4%2C%20-%EA%B0%95%EC%95%84%EC%A7%80&ie=utf8&st=rel&date_option=99&date_from=2019.03.01&date_to=2019.03.31&board=&srchby=text&dup_remove=1&cafe_url=&without_cafe_url=&sm=tab_opt&nso=so%3Ar%2Cp%3Afrom20190301to20190331&nso_open=1&t=0&mson=0&prdtype=0')\n",
    "time.sleep(0.5)"
   ]
  },
  {
   "cell_type": "code",
   "execution_count": 13,
   "metadata": {},
   "outputs": [],
   "source": [
    "# second 동안 스크롤다운 함수\n",
    "import datetime\n",
    "\n",
    "def doScrollDown(whileSeconds):\n",
    "    start = datetime.datetime.now()\n",
    "    end = start + datetime.timedelta(seconds=whileSeconds)\n",
    "    while True:\n",
    "        driver.execute_script('window.scrollTo(0, document.body.scrollHeight);')\n",
    "        time.sleep(1)\n",
    "        if datetime.datetime.now() > end:\n",
    "            break\n",
    "        "
   ]
  },
  {
   "cell_type": "code",
   "execution_count": 14,
   "metadata": {},
   "outputs": [],
   "source": [
    "doScrollDown(100)"
   ]
  },
  {
   "cell_type": "code",
   "execution_count": 15,
   "metadata": {},
   "outputs": [
    {
     "data": {
      "text/plain": [
       "990"
      ]
     },
     "execution_count": 15,
     "metadata": {},
     "output_type": "execute_result"
    }
   ],
   "source": [
    "# 크롤링할 주소 동적가져오기\n",
    "article_list = driver.find_elements_by_css_selector('.api_txt_lines.total_tit')\n",
    "len(article_list)"
   ]
  },
  {
   "cell_type": "markdown",
   "metadata": {},
   "source": [
    "## 1. 데이터 수집 함수 정의, 한번에 가져오기"
   ]
  },
  {
   "cell_type": "code",
   "execution_count": 16,
   "metadata": {},
   "outputs": [],
   "source": [
    "def get_Data(driver):\n",
    "    driver.switch_to.frame('cafe_main') # 프레임 변경\n",
    "    soup = BeautifulSoup(driver.page_source, 'html.parser') # 페이지 준비\n",
    "\n",
    "    #제목/ 닉네임/ 날짜 \n",
    "    title = soup.select('h3.title_text')[0].text.strip() #h3태그에 title_text클래스\n",
    "    nickname = soup.select('a.nickname')[0].text.strip() #a테그에 nickname클래스\n",
    "    date = soup.select('span.date')[0].text[:10] #시간제외 날짜까지만 인덱싱하여 가져옴\n",
    "    \n",
    "    #내용\n",
    "    try:\n",
    "        content = soup.select('div.ContentRenderer')[0].text #div태그에 ContentRenderer클래스\n",
    "    except:\n",
    "        pass\n",
    "\n",
    "    # 댓글 : 여러개 존재하므로 모두가져온다음 text만 뽑음 \n",
    "    comments_all = soup.select('span.text_comment')\n",
    "    comment_list =[]\n",
    "    for comment in comments_all:\n",
    "        comment = comment.text.strip()\n",
    "        comment_list.append(comment)\n",
    "\n",
    "    # 댓글 : 리스트-> 문자열로 저장\n",
    "    seperator = '||'\n",
    "    comments = seperator.join(comment_list)\n",
    "\n",
    "    # 제목/ 닉네임/ 날짜 / 내용/ 댓글 데이터-> 리스트로 저장\n",
    "    post = [title , nickname, date, content,comments]\n",
    "\n",
    "    return post\n"
   ]
  },
  {
   "cell_type": "code",
   "execution_count": 17,
   "metadata": {},
   "outputs": [],
   "source": [
    "total_data=[] # 총데이터 저장할 리스트\n",
    "\n",
    "# 카페 개별 페이지 접속\n",
    "for article in article_list:\n",
    "    article.click()  # 한페이지에 접속완료\n",
    "    time.sleep(6)\n",
    "\n",
    "    # 드라이버 윈도우 설정\n",
    "    change_tab = driver.window_handles[-1]\n",
    "    driver.switch_to.window(change_tab) \n",
    "\n",
    "    try:\n",
    "        data = get_Data(driver) # 수집\n",
    "        total_data.append(data)\n",
    "    except:\n",
    "        pass\n",
    "\n",
    "    driver.close() # 한페이지 수집완료\n",
    "\n",
    "    # 다른 게시글 들어갈 준비 (必)\n",
    "    change_tab = driver.window_handles[-1]\n",
    "    driver.switch_to.window(change_tab)\n"
   ]
  },
  {
   "cell_type": "markdown",
   "metadata": {},
   "source": [
    "## 2.데이터 엑셀파일에 저장"
   ]
  },
  {
   "cell_type": "code",
   "execution_count": 18,
   "metadata": {},
   "outputs": [
    {
     "data": {
      "text/html": [
       "<div>\n",
       "<style scoped>\n",
       "    .dataframe tbody tr th:only-of-type {\n",
       "        vertical-align: middle;\n",
       "    }\n",
       "\n",
       "    .dataframe tbody tr th {\n",
       "        vertical-align: top;\n",
       "    }\n",
       "\n",
       "    .dataframe thead th {\n",
       "        text-align: right;\n",
       "    }\n",
       "</style>\n",
       "<table border=\"1\" class=\"dataframe\">\n",
       "  <thead>\n",
       "    <tr style=\"text-align: right;\">\n",
       "      <th></th>\n",
       "      <th>title</th>\n",
       "      <th>nickname</th>\n",
       "      <th>date</th>\n",
       "      <th>content</th>\n",
       "      <th>comments</th>\n",
       "    </tr>\n",
       "  </thead>\n",
       "  <tbody>\n",
       "    <tr>\n",
       "      <th>0</th>\n",
       "      <td>동네 정미소 토종 우리쌀 강의 듣고 왔어요</td>\n",
       "      <td>푸른천사</td>\n",
       "      <td>2019.03.29</td>\n",
       "      <td>오늘 김영사 '몸과 마음의 양식당 ' 에서 토종 우리쌀에 대한 강의 듣고 왔어요 강...</td>\n",
       "      <td>쌀 구매도되나요\\n\\n보관법은 어떤방식인가요\\n\\n지금 현미글보고 충격받고\\n쌀찾아...</td>\n",
       "    </tr>\n",
       "    <tr>\n",
       "      <th>1</th>\n",
       "      <td>쌀생크림케이크 입니다</td>\n",
       "      <td>웬디KM479</td>\n",
       "      <td>2019.03.13</td>\n",
       "      <td>안녕하세요? 웬디입니다^^비건버거는 빵크기를 고민하느라 여러가지 크기로 만들어 보고...</td>\n",
       "      <td>전역하는 자제분들에 놀라고 갑니다... 목소리는 엄청 앳되어서 몰랐어요||^^;;부...</td>\n",
       "    </tr>\n",
       "    <tr>\n",
       "      <th>2</th>\n",
       "      <td>조심스레 쌀 추천합니다🍚</td>\n",
       "      <td>표가라</td>\n",
       "      <td>2019.03.18</td>\n",
       "      <td>지역 방송에 재미삼아 문자보냈는데당첨되서 받은 제품이에요저랑 아~~~무 관련 없다는...</td>\n",
       "      <td>백세미  맛나 보여용\\n배부른 정보 감시합니다||품종은 골든퀸이에요^^ 저도 검색하...</td>\n",
       "    </tr>\n",
       "    <tr>\n",
       "      <th>3</th>\n",
       "      <td>북해도 쌀과 다시마에 대해 알아봅시다.</td>\n",
       "      <td>바리스타</td>\n",
       "      <td>2019.03.15</td>\n",
       "      <td>일반 여행후기는 많으니 북해도에서 구할 수 있는 쌀과 다시마에 대해 한번 알아보지요...</td>\n",
       "      <td>이쪽이 밥이 참 맛있던데 원래 쌀이 좋은가 보네요\\n그런데 방사능이 조금 신경쓰이는...</td>\n",
       "    </tr>\n",
       "    <tr>\n",
       "      <th>4</th>\n",
       "      <td>쌀 옮겨담기</td>\n",
       "      <td>롯데맘</td>\n",
       "      <td>2019.03.21</td>\n",
       "      <td>아침 일찍부터 아기 이유식 준비해서 먹이고, 출근하는 남편은 국만 데워줘서..찬밥 ...</td>\n",
       "      <td>앗..저도 어젯밤에 보리쌀이랑 현미 페트병에 넣어놨는데..ㅋㅋ\\n두개 합쳐 거의 1...</td>\n",
       "    </tr>\n",
       "    <tr>\n",
       "      <th>...</th>\n",
       "      <td>...</td>\n",
       "      <td>...</td>\n",
       "      <td>...</td>\n",
       "      <td>...</td>\n",
       "      <td>...</td>\n",
       "    </tr>\n",
       "    <tr>\n",
       "      <th>974</th>\n",
       "      <td>20kg쌀</td>\n",
       "      <td>은이맘진85</td>\n",
       "      <td>2019.03.01</td>\n",
       "      <td>시골서 쌀을 넘 많이 가지고와서요ㅎㅎ20키로 하나 판매해요^^</td>\n",
       "      <td>어디실까요?||챗드립니다~||저용^^||불발되믄 연락드릴께요^^||저도줄이용~~^^...</td>\n",
       "    </tr>\n",
       "    <tr>\n",
       "      <th>975</th>\n",
       "      <td>(초코송이 두개 님께 드림 완료)묵은현미쌀 필요하신분 계실까요??</td>\n",
       "      <td>듀라에이스맘</td>\n",
       "      <td>2019.03.28</td>\n",
       "      <td>삼년정도 묵은 현미쌀이 있는데 필요하신분 계실까요?? 벌레는 없는 것 같은데아무래도...</td>\n",
       "      <td>저요~~||먼저 채팅주신분이 계셔서요\\n혹시 그분 불발되면 연락드리겠습니다||네 ^...</td>\n",
       "    </tr>\n",
       "    <tr>\n",
       "      <th>976</th>\n",
       "      <td>아기 쌀과자 언제부터 주셨나요</td>\n",
       "      <td>삼남매맘첨단</td>\n",
       "      <td>2019.03.15</td>\n",
       "      <td>막둥이 쌀과자 줘볼까하는데간만에 아기 키우니 기억이잘 안나네요 ㅋㅋ6갤 다되가는데 ...</td>\n",
       "      <td>전 6갤되기전부터 줬어요..먹성좋아서 뭐든 먹고싶어해서요 ㅎ||저도 줘봐야겠네요^^...</td>\n",
       "    </tr>\n",
       "    <tr>\n",
       "      <th>977</th>\n",
       "      <td>메리어트 리조트 조식 쌀이나 음식 원산지 아시나요?</td>\n",
       "      <td>115준서맘</td>\n",
       "      <td>2019.03.12</td>\n",
       "      <td>이곳 오키나와달인 카페는오키나와 여행에 관한 정보를 공유하는 커뮤니티 사...</td>\n",
       "      <td>115준서맘님 ~ 모든 호텔 후쿠시마 원산지 재료쓰고 있는곳은 아마 없지 싶습니다 ...</td>\n",
       "    </tr>\n",
       "    <tr>\n",
       "      <th>978</th>\n",
       "      <td>닭모이쌀 많이구해요!!</td>\n",
       "      <td>연이93</td>\n",
       "      <td>2019.03.25</td>\n",
       "      <td>닭모이쌀 구해욤 많으면 많을수록 좋아요</td>\n",
       "      <td>3키로 있는데 괜찮으심 가져가세요~~^^||쳇드릴게요 ~||저 있어요. 사남이예요....</td>\n",
       "    </tr>\n",
       "  </tbody>\n",
       "</table>\n",
       "<p>979 rows × 5 columns</p>\n",
       "</div>"
      ],
      "text/plain": [
       "                                    title nickname        date  \\\n",
       "0                 동네 정미소 토종 우리쌀 강의 듣고 왔어요     푸른천사  2019.03.29   \n",
       "1                             쌀생크림케이크 입니다  웬디KM479  2019.03.13   \n",
       "2                           조심스레 쌀 추천합니다🍚      표가라  2019.03.18   \n",
       "3                   북해도 쌀과 다시마에 대해 알아봅시다.     바리스타  2019.03.15   \n",
       "4                                  쌀 옮겨담기      롯데맘  2019.03.21   \n",
       "..                                    ...      ...         ...   \n",
       "974                                 20kg쌀   은이맘진85  2019.03.01   \n",
       "975  (초코송이 두개 님께 드림 완료)묵은현미쌀 필요하신분 계실까요??   듀라에이스맘  2019.03.28   \n",
       "976                      아기 쌀과자 언제부터 주셨나요   삼남매맘첨단  2019.03.15   \n",
       "977          메리어트 리조트 조식 쌀이나 음식 원산지 아시나요?   115준서맘  2019.03.12   \n",
       "978                          닭모이쌀 많이구해요!!     연이93  2019.03.25   \n",
       "\n",
       "                                               content  \\\n",
       "0    오늘 김영사 '몸과 마음의 양식당 ' 에서 토종 우리쌀에 대한 강의 듣고 왔어요 강...   \n",
       "1    안녕하세요? 웬디입니다^^비건버거는 빵크기를 고민하느라 여러가지 크기로 만들어 보고...   \n",
       "2    지역 방송에 재미삼아 문자보냈는데당첨되서 받은 제품이에요저랑 아~~~무 관련 없다는...   \n",
       "3    일반 여행후기는 많으니 북해도에서 구할 수 있는 쌀과 다시마에 대해 한번 알아보지요...   \n",
       "4    아침 일찍부터 아기 이유식 준비해서 먹이고, 출근하는 남편은 국만 데워줘서..찬밥 ...   \n",
       "..                                                 ...   \n",
       "974                 시골서 쌀을 넘 많이 가지고와서요ㅎㅎ20키로 하나 판매해요^^   \n",
       "975  삼년정도 묵은 현미쌀이 있는데 필요하신분 계실까요?? 벌레는 없는 것 같은데아무래도...   \n",
       "976  막둥이 쌀과자 줘볼까하는데간만에 아기 키우니 기억이잘 안나네요 ㅋㅋ6갤 다되가는데 ...   \n",
       "977        이곳 오키나와달인 카페는오키나와 여행에 관한 정보를 공유하는 커뮤니티 사...   \n",
       "978                              닭모이쌀 구해욤 많으면 많을수록 좋아요   \n",
       "\n",
       "                                              comments  \n",
       "0    쌀 구매도되나요\\n\\n보관법은 어떤방식인가요\\n\\n지금 현미글보고 충격받고\\n쌀찾아...  \n",
       "1    전역하는 자제분들에 놀라고 갑니다... 목소리는 엄청 앳되어서 몰랐어요||^^;;부...  \n",
       "2    백세미  맛나 보여용\\n배부른 정보 감시합니다||품종은 골든퀸이에요^^ 저도 검색하...  \n",
       "3    이쪽이 밥이 참 맛있던데 원래 쌀이 좋은가 보네요\\n그런데 방사능이 조금 신경쓰이는...  \n",
       "4    앗..저도 어젯밤에 보리쌀이랑 현미 페트병에 넣어놨는데..ㅋㅋ\\n두개 합쳐 거의 1...  \n",
       "..                                                 ...  \n",
       "974  어디실까요?||챗드립니다~||저용^^||불발되믄 연락드릴께요^^||저도줄이용~~^^...  \n",
       "975  저요~~||먼저 채팅주신분이 계셔서요\\n혹시 그분 불발되면 연락드리겠습니다||네 ^...  \n",
       "976  전 6갤되기전부터 줬어요..먹성좋아서 뭐든 먹고싶어해서요 ㅎ||저도 줘봐야겠네요^^...  \n",
       "977  115준서맘님 ~ 모든 호텔 후쿠시마 원산지 재료쓰고 있는곳은 아마 없지 싶습니다 ...  \n",
       "978  3키로 있는데 괜찮으심 가져가세요~~^^||쳇드릴게요 ~||저 있어요. 사남이예요....  \n",
       "\n",
       "[979 rows x 5 columns]"
      ]
     },
     "execution_count": 18,
     "metadata": {},
     "output_type": "execute_result"
    }
   ],
   "source": [
    "# title , nickname, date, content,comments 데이터프레임으로 저장\n",
    "jun = pd.DataFrame(total_data,columns=['title','nickname','date','content','comments'])\n",
    "jun"
   ]
  },
  {
   "cell_type": "code",
   "execution_count": 19,
   "metadata": {},
   "outputs": [],
   "source": [
    "# 엑셀 파일로 저장\n",
    "writer = pd.ExcelWriter('naver_cafe_ssal_contents_2019_3_2.xlsx')\n",
    "jun.to_excel(writer,index =False)\n",
    "writer.save()"
   ]
  },
  {
   "cell_type": "code",
   "execution_count": 20,
   "metadata": {},
   "outputs": [],
   "source": [
    "driver.close()"
   ]
  },
  {
   "cell_type": "markdown",
   "metadata": {},
   "source": [
    "## 3월"
   ]
  },
  {
   "cell_type": "code",
   "execution_count": null,
   "metadata": {},
   "outputs": [],
   "source": []
  }
 ],
 "metadata": {
  "interpreter": {
   "hash": "8c1eae21719a0790335dcb83aad72b63b602cfe5cdb2bda0f60bc11d4f154e4b"
  },
  "kernelspec": {
   "display_name": "Python 3.8.5 64-bit ('base': conda)",
   "name": "python3"
  },
  "language_info": {
   "codemirror_mode": {
    "name": "ipython",
    "version": 3
   },
   "file_extension": ".py",
   "mimetype": "text/x-python",
   "name": "python",
   "nbconvert_exporter": "python",
   "pygments_lexer": "ipython3",
   "version": "3.8.5"
  },
  "orig_nbformat": 4
 },
 "nbformat": 4,
 "nbformat_minor": 2
}
