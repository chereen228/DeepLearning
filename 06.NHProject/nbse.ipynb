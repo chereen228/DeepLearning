{
 "cells": [
  {
   "cell_type": "code",
   "execution_count": 1,
   "source": [
    "from selenium import webdriver\r\n",
    "import requests\r\n",
    "from bs4 import BeautifulSoup\r\n",
    "import time\r\n",
    "import numpy as np\r\n",
    "import pandas as pd\r\n",
    "from selenium.webdriver.common.keys import Keys\r\n"
   ],
   "outputs": [],
   "metadata": {}
  },
  {
   "cell_type": "code",
   "execution_count": null,
   "source": [
    "import pandas as pd\r\n",
    "import numpy as np\r\n",
    "from selenium.webdriver.chrome.options import Options\r\n",
    "from tqdm import tqdm\r\n",
    "import time\r\n",
    "from selenium import webdriver\r\n",
    "bd5 = []\r\n",
    "bi5 = []\r\n",
    "bc5 = []\r\n",
    "\r\n",
    "chrome_options = Options()\r\n",
    "chrome_options.add_argument(\"--no-sandbox\")\r\n",
    "chrome_options.add_argument(\"--disable-setuid-sandbox\")\r\n",
    "chrome_options.add_argument('--disable-gpu')\r\n",
    "\r\n",
    "\r\n",
    "driver = webdriver.Chrome('chromedriver.exe', options=Options())\r\n",
    "driver.implicitly_wait(1)\r\n",
    "\r\n",
    "for i in tqdm(range(1, 201)):\r\n",
    "    baseurl = \"https://www.coupang.com/vp/product/reviews?productId=587101&page={}&size=5&sortBy=ORDER_SCORE_ASC&ratings=1&q=&viRoleCode=3&ratingSummary=true\".format(\r\n",
    "        i)\r\n",
    "    driver.get(baseurl)\r\n",
    "    driver.implicitly_wait(2)\r\n",
    "\r\n",
    "   \r\n",
    "    for j in driver.find_elements_by_css_selector('div.sdp-review__article__list__info__product-info__reg-date'):\r\n",
    "        bd5.append(j.text)\r\n",
    "\r\n",
    "       \r\n",
    "    for k in driver.find_elements_by_css_selector(\r\n",
    "            'article.sdp-review__article__list.js_reviewArticleReviewList'):\r\n",
    "        try:\r\n",
    "            bi5.append(k.find_element_by_css_selector(\r\n",
    "                'div.sdp-review__article__list__survey').text)\r\n",
    "        except:\r\n",
    "            bi5.append(np.nan)\r\n",
    "\r\n",
    "        try:\r\n",
    "            bc5.append(k.find_element_by_css_selector(\r\n",
    "                'div.sdp-review__article__list__review.js_reviewArticleContentContainer').text)\r\n",
    "        except:\r\n",
    "            bc5.append(np.nan)\r\n"
   ],
   "outputs": [],
   "metadata": {}
  },
  {
   "cell_type": "code",
   "execution_count": null,
   "source": [
    "a = pd.DataFrame(bd5)\r\n",
    "a.to_excel(\"메뚜기베스트시간1.xlsx\")\r\n"
   ],
   "outputs": [],
   "metadata": {}
  },
  {
   "cell_type": "code",
   "execution_count": null,
   "source": [
    "b = pd.DataFrame(bc5)\r\n",
    "b.to_excel(\"메뚜기베스트내용1.xlsx\")\r\n"
   ],
   "outputs": [],
   "metadata": {}
  },
  {
   "cell_type": "code",
   "execution_count": null,
   "source": [
    "c = []\r\n",
    "for elem in bi5:\r\n",
    "    try:\r\n",
    "        c.append(str(elem).split('\\n'))\r\n",
    "    except:\r\n",
    "        c.append(\"\")\r\n",
    "\r\n",
    "c\r\n",
    "c = pd.DataFrame(c)\r\n",
    "c.to_excel(\"메뚜기베스트정보1.xlsx\")\r\n",
    "c"
   ],
   "outputs": [],
   "metadata": {}
  }
 ],
 "metadata": {
  "orig_nbformat": 4,
  "language_info": {
   "name": "python",
   "version": "3.8.5",
   "mimetype": "text/x-python",
   "codemirror_mode": {
    "name": "ipython",
    "version": 3
   },
   "pygments_lexer": "ipython3",
   "nbconvert_exporter": "python",
   "file_extension": ".py"
  },
  "kernelspec": {
   "name": "python3",
   "display_name": "Python 3.8.5 64-bit ('base': conda)"
  },
  "interpreter": {
   "hash": "edac6d70547350b1641a4f9d1c98752fa2ed91b49bd9d0833857674241cbf83e"
  }
 },
 "nbformat": 4,
 "nbformat_minor": 2
}