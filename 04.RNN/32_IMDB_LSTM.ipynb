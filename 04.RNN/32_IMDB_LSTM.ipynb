{
  "nbformat": 4,
  "nbformat_minor": 0,
  "metadata": {
    "colab": {
      "name": "32_IMDB_LSTM.ipynb",
      "provenance": [],
      "collapsed_sections": []
    },
    "kernelspec": {
      "name": "python3",
      "display_name": "Python 3"
    },
    "language_info": {
      "name": "python"
    },
    "accelerator": "GPU"
  },
  "cells": [
    {
      "cell_type": "markdown",
      "metadata": {
        "id": "Ndw6KImZHBo2"
      },
      "source": [
        "# IMDB 영화 리뷰 감성 분석"
      ]
    },
    {
      "cell_type": "code",
      "metadata": {
        "id": "8REDeM2vG_Fp"
      },
      "source": [
        "import numpy as np \n",
        "import tensorflow as tf\n",
        "seed = 2021\n",
        "np.random.seed(seed)\n",
        "tf.random.set_seed(seed)"
      ],
      "execution_count": 1,
      "outputs": []
    },
    {
      "cell_type": "code",
      "metadata": {
        "id": "JhL3q20vHOWk"
      },
      "source": [
        "import pandas as pd\n",
        "import seaborn as sns \n",
        "import warnings\n",
        "import matplotlib.pyplot as plt \n",
        "%matplotlib inline\n",
        "warnings.filterwarnings('ignore')"
      ],
      "execution_count": 2,
      "outputs": []
    },
    {
      "cell_type": "code",
      "metadata": {
        "colab": {
          "base_uri": "https://localhost:8080/"
        },
        "id": "jNANiLtjHVs8",
        "outputId": "b1ef6db8-1266-4710-bfe1-4260eff39931"
      },
      "source": [
        "from tensorflow.keras.datasets import imdb\n",
        "(X_train, y_train), (X_test, y_test) = imdb.load_data(num_words=None)\n",
        "X_train.shape, X_test.shape"
      ],
      "execution_count": 3,
      "outputs": [
        {
          "output_type": "stream",
          "text": [
            "Downloading data from https://storage.googleapis.com/tensorflow/tf-keras-datasets/imdb.npz\n",
            "17465344/17464789 [==============================] - 0s 0us/step\n"
          ],
          "name": "stdout"
        },
        {
          "output_type": "execute_result",
          "data": {
            "text/plain": [
              "((25000,), (25000,))"
            ]
          },
          "metadata": {
            "tags": []
          },
          "execution_count": 3
        }
      ]
    },
    {
      "cell_type": "code",
      "metadata": {
        "colab": {
          "base_uri": "https://localhost:8080/"
        },
        "id": "6CcXrZVFHW7U",
        "outputId": "df15f4ba-1b0a-4455-8fb3-a6196644570b"
      },
      "source": [
        "index_dict = {}\n",
        "for key, value in imdb.get_word_index().items():\n",
        "    index_dict[value] = key\n",
        "len(index_dict)"
      ],
      "execution_count": 4,
      "outputs": [
        {
          "output_type": "stream",
          "text": [
            "Downloading data from https://storage.googleapis.com/tensorflow/tf-keras-datasets/imdb_word_index.json\n",
            "1646592/1641221 [==============================] - 0s 0us/step\n"
          ],
          "name": "stdout"
        },
        {
          "output_type": "execute_result",
          "data": {
            "text/plain": [
              "88584"
            ]
          },
          "metadata": {
            "tags": []
          },
          "execution_count": 4
        }
      ]
    },
    {
      "cell_type": "code",
      "metadata": {
        "colab": {
          "base_uri": "https://localhost:8080/",
          "height": 71
        },
        "id": "yQlTCTwaHdS7",
        "outputId": "05d45c11-27b5-4c82-b983-233acf095df7"
      },
      "source": [
        "' '.join(index_dict[s] for s in X_train[2])"
      ],
      "execution_count": 5,
      "outputs": [
        {
          "output_type": "execute_result",
          "data": {
            "application/vnd.google.colaboratory.intrinsic+json": {
              "type": "string"
            },
            "text/plain": [
              "\"the as there in at by br of sure many br of proving no only women was than doesn't as you never of hat night that with ignored they bad out superman plays of how star so stories film comes defense date of wide they don't do that had with of hollywood br of my seeing fan this of pop out body shots in having because cause it's stick passing first were enjoys for from look seven sense from me superimposition die in character as cuban issues but is you that isn't one song just is him less are strongly not are you that different just even by this of you there is eight when it part are film's love film's 80's was big also light don't wrangling as it in character looked cinematography so stories is far br man acting\""
            ]
          },
          "metadata": {
            "tags": []
          },
          "execution_count": 5
        }
      ]
    },
    {
      "cell_type": "code",
      "metadata": {
        "colab": {
          "base_uri": "https://localhost:8080/"
        },
        "id": "PMolXWGMHyoz",
        "outputId": "b13a0b82-a76f-4474-a4bd-df5cae567ead"
      },
      "source": [
        "print('영화평 최대 길이:', max(len(l) for l in X_train))\n",
        "print('영화평 평균 길이:', sum(map(len, X_train))/len(X_train))"
      ],
      "execution_count": 6,
      "outputs": [
        {
          "output_type": "stream",
          "text": [
            "영화평 최대 길이: 2494\n",
            "영화평 평균 길이: 238.71364\n"
          ],
          "name": "stdout"
        }
      ]
    },
    {
      "cell_type": "markdown",
      "metadata": {
        "id": "3RUaGN2BId9q"
      },
      "source": [
        "### Conv1D와 LSTM으로 IMDB 리뷰 감성 분류\n",
        "- 단어 빈도수: 5,000 (총 단어 수: 88,584)\n",
        "- 문장의 단어수: 500 단어 (최대: 2,494)\n",
        "- Test data 중 10,000개는 검증 데이터로"
      ]
    },
    {
      "cell_type": "code",
      "metadata": {
        "id": "rUKpS0L_H23b"
      },
      "source": [
        "from tensorflow.keras.models import Sequential, load_model\n",
        "from tensorflow.keras.layers import Embedding, LSTM, Dense\n",
        "from tensorflow.keras.callbacks import ModelCheckpoint, EarlyStopping\n",
        "from tensorflow.keras.preprocessing.sequence import pad_sequences"
      ],
      "execution_count": 7,
      "outputs": []
    },
    {
      "cell_type": "code",
      "metadata": {
        "id": "y7HNTORSH6c8"
      },
      "source": [
        "# 단어 빈도수: 5,000\n",
        "(X_train, y_train), (X_test, y_test) = imdb.load_data(num_words=5000)"
      ],
      "execution_count": 8,
      "outputs": []
    },
    {
      "cell_type": "code",
      "metadata": {
        "id": "5WTK9hHoH7T0"
      },
      "source": [
        "# 문장의 단어수: 500 단어\n",
        "max_len = 500\n",
        "X_train = pad_sequences(X_train, maxlen=max_len)\n",
        "X_test = pad_sequences(X_test, maxlen=max_len)"
      ],
      "execution_count": 9,
      "outputs": []
    },
    {
      "cell_type": "code",
      "metadata": {
        "colab": {
          "base_uri": "https://localhost:8080/"
        },
        "id": "J1j7buOtH9d7",
        "outputId": "a3892c5f-8308-4669-da33-32616ebc0787"
      },
      "source": [
        "# Test data 중 10,000개는 검증 데이터로\n",
        "from sklearn.model_selection import train_test_split\n",
        "X_test, X_val, y_test, y_val = train_test_split(\n",
        "    X_test, y_test, stratify=y_test, test_size=0.4, random_state=seed\n",
        ")\n",
        "X_test.shape, X_val.shape, y_test.shape, y_val.shape"
      ],
      "execution_count": 10,
      "outputs": [
        {
          "output_type": "execute_result",
          "data": {
            "text/plain": [
              "((15000, 500), (10000, 500), (15000,), (10000,))"
            ]
          },
          "metadata": {
            "tags": []
          },
          "execution_count": 10
        }
      ]
    },
    {
      "cell_type": "markdown",
      "metadata": {
        "id": "quI1yBqoIEHO"
      },
      "source": [
        "### 모델 정의/설정/학습/평가"
      ]
    },
    {
      "cell_type": "code",
      "metadata": {
        "colab": {
          "base_uri": "https://localhost:8080/"
        },
        "id": "L1Unxxh9H_vS",
        "outputId": "456a194c-60f9-42ed-9aea-ddc711b8200e"
      },
      "source": [
        "model = Sequential([\n",
        "    Embedding(5000, 120),\n",
        "    LSTM(120),\n",
        "    Dense(1, activation='sigmoid')\n",
        "])\n",
        "model.summary()"
      ],
      "execution_count": 11,
      "outputs": [
        {
          "output_type": "stream",
          "text": [
            "Model: \"sequential\"\n",
            "_________________________________________________________________\n",
            "Layer (type)                 Output Shape              Param #   \n",
            "=================================================================\n",
            "embedding (Embedding)        (None, None, 120)         600000    \n",
            "_________________________________________________________________\n",
            "lstm (LSTM)                  (None, 120)               115680    \n",
            "_________________________________________________________________\n",
            "dense (Dense)                (None, 1)                 121       \n",
            "=================================================================\n",
            "Total params: 715,801\n",
            "Trainable params: 715,801\n",
            "Non-trainable params: 0\n",
            "_________________________________________________________________\n"
          ],
          "name": "stdout"
        }
      ]
    },
    {
      "cell_type": "code",
      "metadata": {
        "id": "Vj_vYszHIR7-"
      },
      "source": [
        "model.compile(\n",
        "    optimizer='adam', loss='binary_crossentropy', metrics=['accuracy']\n",
        ")"
      ],
      "execution_count": 12,
      "outputs": []
    },
    {
      "cell_type": "code",
      "metadata": {
        "id": "-BEZqA6gIWDX"
      },
      "source": [
        "# Callback 함수\n",
        "import os\n",
        "if not os.path.exists('model'):\n",
        "  os.mkdir('model')\n",
        "model_file = 'model/best_imdb_lstm.h5'\n",
        "mc = ModelCheckpoint(model_file, save_best_only=True, verbose=1)\n",
        "es = EarlyStopping(patience=5)"
      ],
      "execution_count": 13,
      "outputs": []
    },
    {
      "cell_type": "code",
      "metadata": {
        "colab": {
          "base_uri": "https://localhost:8080/"
        },
        "id": "wVdyqwEqIqVz",
        "outputId": "6f306bfb-5b7b-467e-8030-a73fbaef8b77"
      },
      "source": [
        "history = model.fit(\n",
        "    X_train, y_train, batch_size=100, epochs=50,\n",
        "    validation_data=(X_val, y_val), verbose=0, callbacks=[mc, es]\n",
        ")"
      ],
      "execution_count": 14,
      "outputs": [
        {
          "output_type": "stream",
          "text": [
            "\n",
            "Epoch 00001: val_loss improved from inf to 0.32636, saving model to model/best_imdb_lstm.h5\n",
            "\n",
            "Epoch 00002: val_loss did not improve from 0.32636\n",
            "\n",
            "Epoch 00003: val_loss improved from 0.32636 to 0.30859, saving model to model/best_imdb_lstm.h5\n",
            "\n",
            "Epoch 00004: val_loss did not improve from 0.30859\n",
            "\n",
            "Epoch 00005: val_loss did not improve from 0.30859\n",
            "\n",
            "Epoch 00006: val_loss did not improve from 0.30859\n",
            "\n",
            "Epoch 00007: val_loss did not improve from 0.30859\n",
            "\n",
            "Epoch 00008: val_loss did not improve from 0.30859\n"
          ],
          "name": "stdout"
        }
      ]
    },
    {
      "cell_type": "code",
      "metadata": {
        "colab": {
          "base_uri": "https://localhost:8080/"
        },
        "id": "P9g4tidlIs6q",
        "outputId": "aa1fd3d4-f365-4af2-c180-2f72102faec0"
      },
      "source": [
        "best_model = load_model(model_file)\n",
        "best_model.evaluate(X_test, y_test)"
      ],
      "execution_count": 15,
      "outputs": [
        {
          "output_type": "stream",
          "text": [
            "469/469 [==============================] - 5s 10ms/step - loss: 0.3063 - accuracy: 0.8755\n"
          ],
          "name": "stdout"
        },
        {
          "output_type": "execute_result",
          "data": {
            "text/plain": [
              "[0.30631887912750244, 0.8754666447639465]"
            ]
          },
          "metadata": {
            "tags": []
          },
          "execution_count": 15
        }
      ]
    }
  ]
}